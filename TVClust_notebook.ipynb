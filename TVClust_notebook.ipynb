{
 "cells": [
  {
   "cell_type": "code",
   "execution_count": 4,
   "id": "b5db1f74",
   "metadata": {},
   "outputs": [],
   "source": [
    "import numpy as np\n",
    "import math as m\n",
    "import scipy as sc\n"
   ]
  },
  {
   "cell_type": "code",
   "execution_count": 5,
   "id": "7a3f0f21",
   "metadata": {},
   "outputs": [],
   "source": [
    "array = (0.5 * (10 - np.arange(10, dtype=np.float64)))"
   ]
  },
  {
   "cell_type": "code",
   "execution_count": 6,
   "id": "55528863-62f0-42f7-b112-48e3ab2eb590",
   "metadata": {},
   "outputs": [
    {
     "data": {
      "text/plain": [
       "array([5. , 4.5, 4. , 3.5, 3. , 2.5, 2. , 1.5, 1. , 0.5])"
      ]
     },
     "execution_count": 6,
     "metadata": {},
     "output_type": "execute_result"
    }
   ],
   "source": [
    "array"
   ]
  },
  {
   "cell_type": "code",
   "execution_count": 4,
   "id": "795be831-a210-48fe-bdee-ad265bacd7eb",
   "metadata": {},
   "outputs": [
    {
     "data": {
      "text/plain": [
       "4.79875249776617"
      ]
     },
     "execution_count": 4,
     "metadata": {},
     "output_type": "execute_result"
    }
   ],
   "source": [
    "np.sum(sc.special.digamma(array))"
   ]
  },
  {
   "cell_type": "code",
   "execution_count": 5,
   "id": "046eb18e-d419-434d-8bda-604c4f096a0c",
   "metadata": {},
   "outputs": [],
   "source": [
    "phi = np.matrix(np.random.uniform(size=(50,100)))\n",
    "phi = np.divide(phi, np.sum(phi, axis = 0))"
   ]
  },
  {
   "cell_type": "code",
   "execution_count": 6,
   "id": "46ee390f-b65b-4f51-a1b2-eb94167953be",
   "metadata": {},
   "outputs": [
    {
     "data": {
      "text/plain": [
       "matrix([[0.03380841, 0.01985705, 0.02667818, ..., 0.03329468, 0.03882084,\n",
       "         0.031086  ],\n",
       "        [0.03417638, 0.0217681 , 0.01183568, ..., 0.00480964, 0.00548508,\n",
       "         0.01328251],\n",
       "        [0.02884706, 0.03448621, 0.012288  , ..., 0.01015911, 0.02891352,\n",
       "         0.02069041],\n",
       "        ...,\n",
       "        [0.0322619 , 0.00893905, 0.01431854, ..., 0.02490075, 0.03562628,\n",
       "         0.0395865 ],\n",
       "        [0.03304226, 0.00728677, 0.02021011, ..., 0.03190196, 0.00282319,\n",
       "         0.00493919],\n",
       "        [0.01632996, 0.03340011, 0.03066431, ..., 0.0176675 , 0.004087  ,\n",
       "         0.01806497]])"
      ]
     },
     "execution_count": 6,
     "metadata": {},
     "output_type": "execute_result"
    }
   ],
   "source": [
    "phi"
   ]
  },
  {
   "cell_type": "code",
   "execution_count": 7,
   "id": "08be5dee-e8f9-41e1-be1f-0261da4713b0",
   "metadata": {},
   "outputs": [
    {
     "data": {
      "text/plain": [
       "matrix([[0.01632996, 0.03340011, 0.03066431, ..., 0.0176675 , 0.004087  ,\n",
       "         0.01806497],\n",
       "        [0.03304226, 0.00728677, 0.02021011, ..., 0.03190196, 0.00282319,\n",
       "         0.00493919],\n",
       "        [0.0322619 , 0.00893905, 0.01431854, ..., 0.02490075, 0.03562628,\n",
       "         0.0395865 ],\n",
       "        ...,\n",
       "        [0.03275372, 0.04045235, 0.02297701, ..., 0.02454229, 0.02713834,\n",
       "         0.00102112],\n",
       "        [0.02884706, 0.03448621, 0.012288  , ..., 0.01015911, 0.02891352,\n",
       "         0.02069041],\n",
       "        [0.03417638, 0.0217681 , 0.01183568, ..., 0.00480964, 0.00548508,\n",
       "         0.01328251]])"
      ]
     },
     "execution_count": 7,
     "metadata": {},
     "output_type": "execute_result"
    }
   ],
   "source": [
    "phi[:0:-1,:]"
   ]
  },
  {
   "cell_type": "code",
   "execution_count": 8,
   "id": "8f080a92-39c2-479d-b4b7-c9ca872b2f30",
   "metadata": {},
   "outputs": [
    {
     "data": {
      "text/plain": [
       "array([5. , 4.5, 4. , 3.5, 3. , 2.5, 2. , 1.5, 1. , 0.5])"
      ]
     },
     "execution_count": 8,
     "metadata": {},
     "output_type": "execute_result"
    }
   ],
   "source": [
    "array"
   ]
  },
  {
   "cell_type": "code",
   "execution_count": 9,
   "id": "2ce998ac-a1c5-4d4a-adca-26ef3edf39fa",
   "metadata": {},
   "outputs": [],
   "source": [
    "from scipy.special import digamma as phi"
   ]
  },
  {
   "cell_type": "code",
   "execution_count": 10,
   "id": "4b0553ff-e35e-400f-80a0-cf5f8a5c210c",
   "metadata": {},
   "outputs": [
    {
     "ename": "TypeError",
     "evalue": "psi() got an unexpected keyword argument 'axis'",
     "output_type": "error",
     "traceback": [
      "\u001b[0;31m---------------------------------------------------------------------------\u001b[0m",
      "\u001b[0;31mTypeError\u001b[0m                                 Traceback (most recent call last)",
      "Cell \u001b[0;32mIn[10], line 1\u001b[0m\n\u001b[0;32m----> 1\u001b[0m \u001b[43mphi\u001b[49m\u001b[43m(\u001b[49m\u001b[43marray\u001b[49m\u001b[43m,\u001b[49m\u001b[43m \u001b[49m\u001b[43maxis\u001b[49m\u001b[38;5;241;43m=\u001b[39;49m\u001b[38;5;241;43m1\u001b[39;49m\u001b[43m)\u001b[49m\n",
      "\u001b[0;31mTypeError\u001b[0m: psi() got an unexpected keyword argument 'axis'"
     ]
    }
   ],
   "source": [
    "phi(array, axis=1)"
   ]
  },
  {
   "cell_type": "code",
   "execution_count": 11,
   "id": "4d849cb7-c19c-437d-880e-caae7ee2fddc",
   "metadata": {},
   "outputs": [
    {
     "data": {
      "text/plain": [
       "27.5"
      ]
     },
     "execution_count": 11,
     "metadata": {},
     "output_type": "execute_result"
    }
   ],
   "source": [
    "np.sum(array)"
   ]
  },
  {
   "cell_type": "code",
   "execution_count": 13,
   "id": "45508b24-7a59-4eb7-a90a-c3e92189ccb8",
   "metadata": {},
   "outputs": [],
   "source": [
    "repeat_sum = np.repeat(np.sum(array), len(array))"
   ]
  },
  {
   "cell_type": "code",
   "execution_count": 15,
   "id": "ecad2608-cb72-4921-9364-e062d837ec32",
   "metadata": {},
   "outputs": [
    {
     "data": {
      "text/plain": [
       "array([22.5, 18. , 14. , 10.5,  7.5,  5. ,  3. ,  1.5,  0.5,  0. ])"
      ]
     },
     "execution_count": 15,
     "metadata": {},
     "output_type": "execute_result"
    }
   ],
   "source": [
    "repeat_sum - np.cumsum(array)"
   ]
  },
  {
   "cell_type": "code",
   "execution_count": 19,
   "id": "cc19ac39-d6d5-426a-8024-855df5dd15bb",
   "metadata": {},
   "outputs": [
    {
     "data": {
      "text/plain": [
       "array([[0.84439705, 0.38778243, 0.42689679, 0.35740161, 0.67980562],\n",
       "       [0.76659096, 0.10011691, 0.79020835, 0.89251612, 0.00710118],\n",
       "       [0.83669766, 0.773433  , 0.95235018, 0.75230648, 0.09181021],\n",
       "       [0.15195502, 0.09481039, 0.47489339, 0.50416878, 0.03561488],\n",
       "       [0.25409397, 0.6586972 , 0.47039741, 0.21896894, 0.19576507],\n",
       "       [0.80080737, 0.58798079, 0.23593032, 0.09387201, 0.34933186],\n",
       "       [0.26966292, 0.44648145, 0.37169918, 0.32846439, 0.84559686],\n",
       "       [0.85385464, 0.45186639, 0.88229042, 0.44694426, 0.74786551],\n",
       "       [0.13056233, 0.19079372, 0.66144406, 0.89357733, 0.20599031],\n",
       "       [0.37416886, 0.43442381, 0.06467301, 0.60350625, 0.77132793],\n",
       "       [0.07479667, 0.92561547, 0.50590249, 0.49408603, 0.425596  ],\n",
       "       [0.13870208, 0.13093168, 0.7925777 , 0.40490857, 0.57417594],\n",
       "       [0.62083328, 0.73336459, 0.76774331, 0.97420708, 0.0920523 ],\n",
       "       [0.72108354, 0.5813294 , 0.06733748, 0.74393585, 0.98582829],\n",
       "       [0.27298665, 0.52656181, 0.55224256, 0.92064214, 0.94678326],\n",
       "       [0.40551017, 0.5172838 , 0.76040799, 0.26422734, 0.79356229],\n",
       "       [0.48829966, 0.60979169, 0.68025554, 0.69599008, 0.94811067],\n",
       "       [0.18087178, 0.53156263, 0.01059609, 0.33788249, 0.8366143 ],\n",
       "       [0.480664  , 0.20946575, 0.82517436, 0.57852682, 0.90254595],\n",
       "       [0.03511654, 0.13782097, 0.306294  , 0.98211622, 0.12407549],\n",
       "       [0.30853741, 0.36321487, 0.48059386, 0.73329832, 0.98530529],\n",
       "       [0.51286131, 0.2122738 , 0.12517012, 0.59692964, 0.38303604],\n",
       "       [0.37963076, 0.48690955, 0.99011429, 0.61360368, 0.56596964],\n",
       "       [0.36624053, 0.62107078, 0.35893977, 0.70711447, 0.35092231],\n",
       "       [0.89230059, 0.74622456, 0.59571348, 0.29820798, 0.43957915],\n",
       "       [0.11140246, 0.00443216, 0.24261052, 0.18114644, 0.81049688],\n",
       "       [0.51037872, 0.70950212, 0.91663564, 0.29478593, 0.07246832],\n",
       "       [0.20217279, 0.98821538, 0.574826  , 0.48747417, 0.7344071 ],\n",
       "       [0.48747716, 0.47982973, 0.9237787 , 0.03499462, 0.61910951],\n",
       "       [0.67446553, 0.34871179, 0.93452089, 0.05865663, 0.12997757],\n",
       "       [0.46678512, 0.63477553, 0.53115156, 0.85268833, 0.88640185],\n",
       "       [0.26866793, 0.67238004, 0.85051585, 0.35638678, 0.66890188],\n",
       "       [0.53861678, 0.31227483, 0.72046361, 0.28548147, 0.28088969],\n",
       "       [0.81597368, 0.36113568, 0.11717398, 0.97051478, 0.72479246],\n",
       "       [0.52031831, 0.51311119, 0.27856512, 0.11407977, 0.35588606],\n",
       "       [0.29653195, 0.9929382 , 0.43923298, 0.06683556, 0.66974901],\n",
       "       [0.22122114, 0.63657124, 0.70976241, 0.49359492, 0.14496468],\n",
       "       [0.87282217, 0.34751068, 0.60187134, 0.51596465, 0.29138902],\n",
       "       [0.60796045, 0.70110268, 0.59627872, 0.33618051, 0.50907194],\n",
       "       [0.88134218, 0.1077213 , 0.73442767, 0.86501377, 0.23075236],\n",
       "       [0.50044645, 0.81895601, 0.29892669, 0.13904337, 0.61304302],\n",
       "       [0.69442625, 0.2003764 , 0.43095389, 0.84156812, 0.72425527],\n",
       "       [0.67984093, 0.88685187, 0.9640016 , 0.24128734, 0.57003371],\n",
       "       [0.89337459, 0.27030801, 0.37757217, 0.66830668, 0.93827362],\n",
       "       [0.44445847, 0.8576742 , 0.93013159, 0.64477288, 0.13342814],\n",
       "       [0.28686343, 0.61905259, 0.0191434 , 0.75824615, 0.87605422],\n",
       "       [0.06270673, 0.14985234, 0.16200988, 0.8657077 , 0.02199984],\n",
       "       [0.96989238, 0.99355685, 0.61615927, 0.29402207, 0.23481882],\n",
       "       [0.01715039, 0.66729856, 0.01925927, 0.10319882, 0.13496841],\n",
       "       [0.46454812, 0.10979172, 0.21991926, 0.65593554, 0.77944569],\n",
       "       [0.95770854, 0.75671662, 0.64916518, 0.09735779, 0.22386597],\n",
       "       [0.18053579, 0.96300722, 0.8308262 , 0.56223821, 0.87049407],\n",
       "       [0.44776762, 0.07049269, 0.30960732, 0.06136714, 0.55207272],\n",
       "       [0.41233018, 0.05697508, 0.52573128, 0.22587012, 0.34844241],\n",
       "       [0.93025758, 0.51205999, 0.8632279 , 0.18734257, 0.91232004],\n",
       "       [0.28399937, 0.1448001 , 0.78727275, 0.82400528, 0.51227522],\n",
       "       [0.65250156, 0.69635304, 0.64017359, 0.69477611, 0.0470359 ],\n",
       "       [0.04040393, 0.5742875 , 0.64360068, 0.02906518, 0.21550313],\n",
       "       [0.91382132, 0.66013854, 0.38886476, 0.13103246, 0.89773081],\n",
       "       [0.07908562, 0.96278798, 0.05986691, 0.84933058, 0.22608544],\n",
       "       [0.10577524, 0.64688329, 0.45558861, 0.44322657, 0.19016685],\n",
       "       [0.33659419, 0.07101608, 0.02321585, 0.4104073 , 0.07925763],\n",
       "       [0.15397358, 0.62696264, 0.48834961, 0.43372384, 0.49543959],\n",
       "       [0.79261274, 0.97937532, 0.9622995 , 0.88685522, 0.83446431],\n",
       "       [0.3157361 , 0.58426033, 0.74112986, 0.36140825, 0.46705552],\n",
       "       [0.06503252, 0.05403228, 0.37554535, 0.01127021, 0.37583322],\n",
       "       [0.58758587, 0.64972249, 0.55740493, 0.28244314, 0.83513201],\n",
       "       [0.4977488 , 0.90246196, 0.04382209, 0.86696134, 0.1029103 ],\n",
       "       [0.35421999, 0.78706594, 0.17279512, 0.80364335, 0.82531175],\n",
       "       [0.33576225, 0.85383941, 0.00528164, 0.59440375, 0.88802694],\n",
       "       [0.91441116, 0.04356726, 0.7366425 , 0.15484936, 0.71173189],\n",
       "       [0.95263849, 0.5938825 , 0.54426301, 0.71337043, 0.49286517],\n",
       "       [0.04182871, 0.48311203, 0.20224217, 0.33654427, 0.38011377],\n",
       "       [0.08529004, 0.58381449, 0.62055856, 0.59569625, 0.30881132],\n",
       "       [0.80023994, 0.0845882 , 0.8144486 , 0.44927295, 0.80590352],\n",
       "       [0.8709162 , 0.96332799, 0.55159707, 0.46285014, 0.92256424],\n",
       "       [0.16542255, 0.68802061, 0.4145239 , 0.79229139, 0.25346387],\n",
       "       [0.5448316 , 0.13099909, 0.4090433 , 0.03773492, 0.3573856 ],\n",
       "       [0.30667192, 0.26792837, 0.7336869 , 0.43921013, 0.85392229],\n",
       "       [0.52327064, 0.50037385, 0.15589437, 0.7561722 , 0.39116204],\n",
       "       [0.33116859, 0.56515217, 0.6914344 , 0.09064945, 0.6107943 ],\n",
       "       [0.69641971, 0.86371798, 0.76852027, 0.3127056 , 0.3783116 ],\n",
       "       [0.91693185, 0.27752195, 0.4133703 , 0.11850769, 0.66729219],\n",
       "       [0.134156  , 0.66948335, 0.46782063, 0.40763531, 0.02750614],\n",
       "       [0.95681565, 0.43916019, 0.63833626, 0.79072898, 0.09367221],\n",
       "       [0.16741822, 0.98748692, 0.03588827, 0.01884554, 0.28099537],\n",
       "       [0.10076511, 0.91207881, 0.73537387, 0.87888242, 0.15500111],\n",
       "       [0.39134169, 0.18601513, 0.7492559 , 0.0368951 , 0.54982978],\n",
       "       [0.20840723, 0.05805484, 0.11432816, 0.69359856, 0.45889734],\n",
       "       [0.93167714, 0.58032252, 0.4125548 , 0.29598558, 0.31511175],\n",
       "       [0.00409123, 0.78639537, 0.82326536, 0.34167002, 0.47704147],\n",
       "       [0.96020245, 0.20246683, 0.1596254 , 0.68139525, 0.57479092],\n",
       "       [0.79005183, 0.51774411, 0.07038744, 0.81520641, 0.30859979],\n",
       "       [0.09508324, 0.49005666, 0.13753673, 0.13636508, 0.65045227],\n",
       "       [0.5492058 , 0.58311243, 0.73125192, 0.0506308 , 0.40613101],\n",
       "       [0.90918532, 0.13860263, 0.88726184, 0.73245109, 0.06003447],\n",
       "       [0.37468715, 0.74169879, 0.53772375, 0.17661163, 0.46172155],\n",
       "       [0.59872138, 0.97875505, 0.84757535, 0.63749455, 0.22638239],\n",
       "       [0.53327537, 0.791236  , 0.5479277 , 0.6723554 , 0.74094669],\n",
       "       [0.1328708 , 0.74821324, 0.12482418, 0.86535782, 0.18523428]])"
      ]
     },
     "execution_count": 19,
     "metadata": {},
     "output_type": "execute_result"
    }
   ],
   "source": [
    "n = 100\n",
    "k = 5\n",
    "res = np.random.random_sample((n,k))\n",
    "res"
   ]
  },
  {
   "cell_type": "code",
   "execution_count": 20,
   "id": "beffc65d-de7e-42fe-ba32-50f6c690c48a",
   "metadata": {},
   "outputs": [],
   "source": [
    "gamma = np.zeros((k, 2))"
   ]
  },
  {
   "cell_type": "code",
   "execution_count": 46,
   "id": "e294eddb-c5a0-4922-aeb0-88901a077e48",
   "metadata": {},
   "outputs": [],
   "source": [
    "cumulative = np.cumsum(np.sum(res, 0))\n",
    "aggregate = np.sum(res, 0)"
   ]
  },
  {
   "cell_type": "code",
   "execution_count": 48,
   "id": "72854894-0fb1-4a81-ac9e-7121c042360f",
   "metadata": {},
   "outputs": [],
   "source": [
    "gamma[:-1, 0] = aggregate[:-1] + 1"
   ]
  },
  {
   "cell_type": "code",
   "execution_count": 52,
   "id": "7a882483-5ea6-43fc-98e8-3a35b6776d5c",
   "metadata": {},
   "outputs": [],
   "source": [
    "gamma[:-1, 1] = np.sum(cumulative[-1:] - cumulative, initial = 1.2)"
   ]
  },
  {
   "cell_type": "code",
   "execution_count": 60,
   "id": "15d41ba4-389c-4a13-987d-7e5a3882540e",
   "metadata": {},
   "outputs": [
    {
     "data": {
      "text/plain": [
       "array([200.67255886, 148.41869245,  97.45802224,  49.6460396 ,\n",
       "         1.2       ])"
      ]
     },
     "execution_count": 60,
     "metadata": {},
     "output_type": "execute_result"
    }
   ],
   "source": [
    "(cumulative[-1:] - cumulative) + 1.2"
   ]
  },
  {
   "cell_type": "code",
   "execution_count": 59,
   "id": "0aacbb1b-33c5-4774-8bc0-6a2ec54e5dec",
   "metadata": {},
   "outputs": [
    {
     "data": {
      "text/plain": [
       "array([492.59531314, 492.59531314, 492.59531314, 492.59531314,\n",
       "         0.        ])"
      ]
     },
     "execution_count": 59,
     "metadata": {},
     "output_type": "execute_result"
    }
   ],
   "source": [
    "gamma[:, 1]"
   ]
  },
  {
   "cell_type": "code",
   "execution_count": 34,
   "id": "169c497d-b621-40c9-9347-cc141a43d995",
   "metadata": {},
   "outputs": [
    {
     "data": {
      "text/plain": [
       "array([0.84439705, 0.38778243, 0.42689679, 0.35740161, 0.67980562])"
      ]
     },
     "execution_count": 34,
     "metadata": {},
     "output_type": "execute_result"
    }
   ],
   "source": [
    "res[0,:]"
   ]
  },
  {
   "cell_type": "code",
   "execution_count": 38,
   "id": "44dc62ea-1b08-46bd-8c3d-8779edae62b1",
   "metadata": {},
   "outputs": [
    {
     "data": {
      "text/plain": [
       "array([47.08251968, 52.2538664 , 50.96067021, 47.81198264, 48.4460396 ])"
      ]
     },
     "execution_count": 38,
     "metadata": {},
     "output_type": "execute_result"
    }
   ],
   "source": [
    "np.sum(np.array(res), 0)"
   ]
  },
  {
   "cell_type": "code",
   "execution_count": 40,
   "id": "807bd5b8-0eb3-4322-8cc1-532e51b76925",
   "metadata": {},
   "outputs": [
    {
     "data": {
      "text/plain": [
       "array([ 47.08251968,  99.33638609, 150.2970563 , 198.10903894,\n",
       "       246.55507854])"
      ]
     },
     "execution_count": 40,
     "metadata": {},
     "output_type": "execute_result"
    }
   ],
   "source": [
    "np.cumsum(np.sum(res, 0))"
   ]
  },
  {
   "cell_type": "code",
   "execution_count": 61,
   "id": "faa8ff83-77db-4d7a-be22-07b93535a587",
   "metadata": {},
   "outputs": [
    {
     "data": {
      "text/plain": [
       "2.220446049250313e-16"
      ]
     },
     "execution_count": 61,
     "metadata": {},
     "output_type": "execute_result"
    }
   ],
   "source": [
    "np.finfo(float).eps"
   ]
  },
  {
   "cell_type": "markdown",
   "id": "78180a23-210d-4918-b7e5-5b28e8c7e6d8",
   "metadata": {},
   "source": [
    "## Verosimilitud de los datos"
   ]
  },
  {
   "cell_type": "code",
   "execution_count": 2,
   "id": "f1c5ede0-e328-4a08-bd65-264b4f9a0810",
   "metadata": {},
   "outputs": [],
   "source": [
    "def concentration(self, cluster, p, __nu, __cov_inverse):\n",
    "    \"\"\"\n",
    "    This measure is used to determine how \"concentrated\" a Gaussian component (cluster) is around its mean.\n",
    "    It is calculated as the sum of the squared Mahalanobis distances between each data point and the mean of the \n",
    "    cluster, weighted by the probability of each data point belonging to that cluster.\n",
    "    \"\"\"\n",
    "    sum_phi = np.sum(phi((__nu[cluster] + 1 - np.arange(1, p + 1)) / 2))\n",
    "    determinant = np.linalg.det(__cov_inverse[cluster])\n",
    "\n",
    "    return sum_phi + p * m.log(2) + m.log(determinant)\n",
    "\n",
    "def verosimilitude(cluster, instance, dataset, __responsabilities):\n",
    "    x = dataset[instance]\n",
    "    p = dataset.shape[1]\n",
    "    distance = np.dot(__responsabilities, __responsabilities.T)\n",
    "\n",
    "    if distance[cluster] < 1e-20:\n",
    "        return 0\n",
    "\n",
    "    concentration = concentration(cluster)\n",
    "    x_bar_k = np.sum(np.multiply(x, __responsabilities[:, cluster]), 0) / distance[cluster]\n",
    "    diff = x - x_bar_k\n",
    "\n",
    "    S_k = np.dot(diff.T, np.multiply(diff, __responsabilities[:, cluster])) / distance[cluster]\n",
    "    return 0.5 * distance[cluster] * (concentration - expected_distance(x, cluster))"
   ]
  },
  {
   "cell_type": "code",
   "execution_count": 3,
   "id": "8126cac1-7fd8-410f-998e-f3a61e9ce5e8",
   "metadata": {},
   "outputs": [],
   "source": [
    "\n",
    "        if (is_keep_l == 1) & (iter <= max_iter):\n",
    "            term71 = 0\n",
    "            term72 = 0\n",
    "            term73 = 0\n",
    "            term74 = 0\n",
    "            term76 = 0\n",
    "            term77 = 0\n",
    "\n",
    "            for k in range(K):\n",
    "                if N[k] > 10**(-10):\n",
    "                    E_ln_lambda_k = np.sum(\n",
    "                        sps.digamma((nuQ[k] + 1 - np.array(range(1, p + 1), dtype=np.float)) / 2)) \n",
    "                    + m.log(np.linalg.det(WQ[k, :, :]))\n",
    "                    x_bar_k = np.sum(np.multiply(X, rQ[:, k]), 0) / N[k]\n",
    "                    S_k = np.dot((X - x_bar_k).T, np.multiply(X - x_bar_k, rQ[:, k])) / N[k]\n",
    "                    term71 = \n",
    "                        term71 + \n",
    "                        0.5 * N[k] * \n",
    "                    (E_ln_lambda_k - \n",
    "                     p / betaQ[k] - \n",
    "                     nuQ[k] * np.sum(np.diag(np.dot(S_k, WQ[k, :, :]) ) ) - \n",
    "                     nuQ[k] * np.dot(np.dot((x_bar_k - muQ[k, :, :].T), WQ[k, :, :]), ((x_bar_k - muQ[k, :, :].T)).T)\n",
    "                    )\n",
    "\n",
    "                if k < K - 1:\n",
    "                    tmp = N[k] * (sps.digamma(gammaQ[k, 0]) - sps.digamma(np.sum(gammaQ[k, :])))\n",
    "                    for j in range(k+1, K):\n",
    "                        tmp = tmp + N[j] * (sps.digamma(gammaQ[k, 1]) - sps.digamma(np.sum(gammaQ[k, :])))\n",
    "\n",
    "                    term72 = term72 + tmp\n",
    "                    term73 = term73 + (alpha0 - 1) * (sps.digamma(gammaQ[k, 1]) - sps.digamma(np.sum(gammaQ[k, :])))\n",
    "\n",
    "                tmp2 = (-p * beta0 / betaQ[k] - beta0 * nuQ[k] * np.dot(np.dot((muQ[k, :, :].T - mu0), WQ[k, :, :]), (((muQ[k, :,:].T - mu0).T) ))) / 2\n",
    "                tmp3 = nuQ[k] * sum(np.diag(np.dot(np.linalg.inv(W0), WQ[k, :, :]))) / 2\n",
    "                term74 = term74 + E_ln_lambda_k * (nu0 - p) / 2 + tmp2 - tmp3\n",
    "\n",
    "                if k < K - 1:\n",
    "                    term76 = term76 + (gammaQ[k, 0] - 1) * (sps.digamma(gammaQ[k, 0]) - sps.digamma(np.sum(gammaQ[k, :]))) + (gammaQ[k, 1] - 1) * (sps.digamma(gammaQ[k, 1]) - sps.digamma(np.sum(gammaQ[k, :]))) - sps.betaln(gammaQ[k, 0], gammaQ[k, 1])\n",
    "\n",
    "                term77 = term77 + E_ln_lambda_k / 2 + p / 2 * m.log(betaQ[k]) - H(WQ[k, :, :], nuQ[k])\n",
    "\n",
    "            ElnP = sps.digamma(alpha_p) - sps.digamma(alpha_p + beta_p)\n",
    "            ElnMinusP = sps.digamma(beta_p) - sps.digamma(alpha_p + beta_p)\n",
    "            ElnQ = sps.digamma(alpha_q) - sps.digamma(alpha_q + beta_q)\n",
    "            ElnMinusQ = sps.digamma(beta_q) - sps.digamma(alpha_q + beta_q)\n",
    "            tmpRQ = np.dot(rQ, rQ.T)\n",
    "            termE_lnPez = np.sum(np.multiply(np.multiply(constraints, checked), tmpRQ)) * ElnP + np.sum(np.multiply(np.multiply(1 - constraints, checked), tmpRQ)) * ElnMinusP + np.sum(np.multiply(np.multiply(constraints, checked), 1 - tmpRQ)) * ElnMinusQ + np.sum(np.multiply(np.multiply(1 - constraints, checked), 1 - tmpRQ)) * ElnQ\n",
    "            termE_ln_pq = (alpha_p_0 - alpha_p) * ElnP + (beta_p_0 - beta_p) * ElnMinusP + (alpha_q_0 - alpha_q) * ElnQ + (beta_q_0 - beta_q) * ElnMinusQ + sps.betaln(alpha_p, beta_p) + sps.betaln(alpha_q, beta_q)\n",
    "\n",
    "            L[iter] = term71 + term72 + term73 + term74 - term75 - term76 - term77 + termE_lnPez + termE_ln_pq\n",
    "\n",
    "            pImprove = 1\n",
    "            if iter > 0:\n",
    "                pImprove = (L[iter] - L[iter - 1]) / np.absolute(L[iter - 1])\n",
    "\n",
    "        if pImprove < stop_thr:\n",
    "            nRun = iter\n",
    "            iter = max_iter + 1\n",
    "\n",
    "        iter += 1\n",
    "\n",
    "    membership_vector = np.array([np.argmax(rQ[i, :]) for i in range(np.shape(rQ)[0])], dtype=np.uint8)\n",
    "\n",
    "    return membership_vector"
   ]
  },
  {
   "cell_type": "code",
   "execution_count": 7,
   "id": "4635c49c-b0a1-4814-a8a1-125baa941dda",
   "metadata": {},
   "outputs": [
    {
     "data": {
      "text/plain": [
       "96.25"
      ]
     },
     "execution_count": 7,
     "metadata": {},
     "output_type": "execute_result"
    }
   ],
   "source": [
    "np.dot(array.T, array)"
   ]
  },
  {
   "cell_type": "code",
   "execution_count": 8,
   "id": "584f70ea-9318-43ac-94b4-9a1907da88f6",
   "metadata": {},
   "outputs": [
    {
     "data": {
      "text/plain": [
       "array([5. , 4.5, 4. , 3.5, 3. , 2.5, 2. , 1.5, 1. , 0.5])"
      ]
     },
     "execution_count": 8,
     "metadata": {},
     "output_type": "execute_result"
    }
   ],
   "source": [
    "array"
   ]
  },
  {
   "cell_type": "code",
   "execution_count": 10,
   "id": "1eeb838d-5d4c-4f55-b937-0040f2378e1f",
   "metadata": {},
   "outputs": [
    {
     "data": {
      "text/plain": [
       "96.25"
      ]
     },
     "execution_count": 10,
     "metadata": {},
     "output_type": "execute_result"
    }
   ],
   "source": [
    "np.sum(array * array)"
   ]
  },
  {
   "cell_type": "code",
   "execution_count": null,
   "id": "e92e235d-d34d-472a-bf00-e6dbc08f9497",
   "metadata": {},
   "outputs": [],
   "source": []
  }
 ],
 "metadata": {
  "kernelspec": {
   "display_name": "Python 3 (ipykernel)",
   "language": "python",
   "name": "python3"
  },
  "language_info": {
   "codemirror_mode": {
    "name": "ipython",
    "version": 3
   },
   "file_extension": ".py",
   "mimetype": "text/x-python",
   "name": "python",
   "nbconvert_exporter": "python",
   "pygments_lexer": "ipython3",
   "version": "3.13.2"
  }
 },
 "nbformat": 4,
 "nbformat_minor": 5
}
