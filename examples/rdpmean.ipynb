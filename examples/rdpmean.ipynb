{
 "cells": [
  {
   "cell_type": "code",
   "execution_count": 38,
   "id": "1e2ea0a0",
   "metadata": {},
   "outputs": [],
   "source": [
    "import numpy as np\n",
    "import math as m\n",
    "import scipy as sc\n",
    "import pandas as pd\n",
    "from sklearn.datasets import make_blobs\n",
    "import plotly.express as px\n",
    "\n",
    "import logging\n",
    "import sys\n",
    "\n",
    "logging.basicConfig(\n",
    "    level=logging.DEBUG,\n",
    "    format='%(asctime)s - %(levelname)s - %(message)s',\n",
    "    handlers=[\n",
    "        logging.StreamHandler(sys.stdout)\n",
    "    ]\n",
    ")"
   ]
  },
  {
   "cell_type": "code",
   "execution_count": 39,
   "id": "4c1fd241",
   "metadata": {},
   "outputs": [],
   "source": [
    "COLORS = [\n",
    "    \"#f7dc6f\",\n",
    "    \"#82e0aa\",\n",
    "    \"#f1948a\",\n",
    "    \"#499cef\",\n",
    "    \"#f5b041\",\n",
    "    \"#a569bd\",\n",
    "    \"#e74c3c\",\n",
    "    \"#2ecc71\",\n",
    "    \"#3498db\",\n",
    "    \"#e67e22\",\n",
    "    \"#9b59b6\",\n",
    "    \"#1abc9c\",\n",
    "    \"#34495e\",\n",
    "    \"#d35400\",\n",
    "    \"#c0392b\",\n",
    "    \"#16a085\",\n",
    "    \"#2980b9\",\n",
    "    \"#8e44ad\",\n",
    "]\n",
    "\n",
    "def twospirals(n_points, noise=.5):\n",
    "    n = np.sqrt(np.random.rand(n_points,1)) * 780 * (2*np.pi)/360\n",
    "    d1x = -np.cos(n)*n + np.random.rand(n_points,1) * noise\n",
    "    d1y = np.sin(n)*n + np.random.rand(n_points,1) * noise\n",
    "    return (np.vstack((np.hstack((d1x,d1y)),np.hstack((-d1x,-d1y)))), np.hstack((np.zeros(n_points, dtype=int),np.ones(n_points, dtype=int))))\n",
    "\n",
    "def plot_dataframe(df, title='', x='x', y='y', label='label'):\n",
    "    df[label] = df[label].astype(str)\n",
    "    fig = px.scatter(\n",
    "        df, \n",
    "        x=x, \n",
    "        y=y, \n",
    "        symbol=label,\n",
    "        color=label,\n",
    "        color_discrete_sequence= COLORS, \n",
    "        title=title\n",
    "    )\n",
    "    fig.update_traces(marker=dict(size=5, symbol='circle'))\n",
    "\n",
    "    return fig\n",
    "\n",
    "def plot_centroid(fig, centroid, colors = ['#a569bd'], marker_size=10, symbol = 'star', name = 'Centroid'):\n",
    "    fig.add_scatter(\n",
    "        x=[centroid[0]], \n",
    "        y=[centroid[1]], \n",
    "        mode='markers',\n",
    "        marker=dict(\n",
    "            size = marker_size,\n",
    "            color = colors,\n",
    "            symbol = symbol,\n",
    "        ), \n",
    "        name=name\n",
    "    )\n",
    "    return fig\n",
    "\n",
    "def create_constraints(labels, probability=0.01, seed=0):\n",
    "    n_points = len(labels)\n",
    "    constraints = np.zeros((n_points, n_points), dtype=int)\n",
    "    state = np.random.RandomState(seed=seed)\n",
    "    for i in range(n_points):\n",
    "        for j in range(i +1, n_points):\n",
    "            if state.rand() < probability:\n",
    "                if labels[i] == labels[j]:\n",
    "                    constraints[i, j] = 1\n",
    "                    constraints[j, i] = 1\n",
    "                elif labels[i] != labels[j]:\n",
    "                    constraints[i, j] = -1\n",
    "                    constraints[j, i] = -1\n",
    "    return constraints"
   ]
  },
  {
   "cell_type": "code",
   "execution_count": 62,
   "id": "b3cae0cf",
   "metadata": {},
   "outputs": [],
   "source": [
    "X, y = make_blobs(n_samples=300, centers=5, cluster_std=0.5, random_state=42)\n",
    "constraints = create_constraints(y, probability=0.01, seed=42)\n",
    "# df = pd.DataFrame(X, columns=['x', 'y'])\n",
    "# df['label'] = y\n",
    "# fig = plot_dataframe(df, title='Data with Constraints', x='x', y='y', label='label')\n",
    "# fig = plot_centroid(fig, np.mean(X, axis=0), colors=['#a569bd'], marker_size=10, symbol='star', name='Centroid')\n",
    "# fig.show()"
   ]
  },
  {
   "cell_type": "code",
   "execution_count": 63,
   "id": "0104b705",
   "metadata": {},
   "outputs": [
    {
     "name": "stdout",
     "output_type": "stream",
     "text": [
      "2025-07-15 13:14:16,094 - DEBUG - Fitting RDPM model\n",
      "2025-07-15 13:14:16,095 - DEBUG - Delta is None, convergence cannot be checked.\n",
      "2025-07-15 13:14:16,099 - DEBUG - Instance 0 exceeds limit, creating new cluster\n",
      "2025-07-15 13:14:16,101 - DEBUG - Instance 1 exceeds limit, creating new cluster\n",
      "2025-07-15 13:14:16,105 - DEBUG - Instance 5 exceeds limit, creating new cluster\n",
      "2025-07-15 13:14:16,109 - DEBUG - Instance 7 exceeds limit, creating new cluster\n",
      "2025-07-15 13:14:16,153 - DEBUG - Instance 92 exceeds limit, creating new cluster\n",
      "2025-07-15 13:14:16,233 - DEBUG - Iteration 1 completed with clusters: 9\n",
      "2025-07-15 13:14:16,234 - DEBUG - Centroid 2 is empty, marking for removal\n",
      "2025-07-15 13:14:16,234 - DEBUG - Centroid 3 is empty, marking for removal\n",
      "2025-07-15 13:14:16,234 - DEBUG - Checking convergence with delta: [0. 0.]\n",
      "2025-07-15 13:14:16,235 - DEBUG - Tolerance: 1e-10\n",
      "2025-07-15 13:14:16,235 - DEBUG - Convergence reached, stopping criteria met.\n"
     ]
    }
   ],
   "source": [
    "from clustlib.kmean.rdpmean import RDPM\n",
    "from clustlib.utils.simpleconstraints import SimpleConstraints\n",
    "\n",
    "rdpm = RDPM(constraints=SimpleConstraints(constraints), n_clusters = 4, max_iter = 1000, tol = 1e-10, limit=2, rate = 2)\n",
    "rdpm.fit(X)\n"
   ]
  },
  {
   "cell_type": "code",
   "execution_count": 66,
   "id": "1ff13b58",
   "metadata": {},
   "outputs": [
    {
     "data": {
      "text/plain": [
       "array([[ 4.60012508,  0.64132159],\n",
       "       [ 3.88827482,  2.41811828],\n",
       "       [-1.56610467,  9.10157503],\n",
       "       [ 1.28300711,  4.73332858],\n",
       "       [-8.89449178,  7.21303812],\n",
       "       [-6.84172491, -7.21869045],\n",
       "       [-3.81907018,  9.42523738]])"
      ]
     },
     "execution_count": 66,
     "metadata": {},
     "output_type": "execute_result"
    }
   ],
   "source": [
    "rdpm_centroids = rdpm.centroids\n",
    "labels = rdpm._labels\n",
    "rdpm_centroids = np.array([rdpm_centroids[i] for i in np.unique(labels)])\n",
    "rdpm_centroids"
   ]
  },
  {
   "cell_type": "code",
   "execution_count": 67,
   "id": "de029c00",
   "metadata": {},
   "outputs": [
    {
     "data": {
      "application/vnd.plotly.v1+json": {
       "config": {
        "plotlyServerURL": "https://plot.ly"
       },
       "data": [
        {
         "hovertemplate": "label=4<br>x=%{x}<br>y=%{y}<extra></extra>",
         "legendgroup": "4",
         "marker": {
          "color": "#f7dc6f",
          "size": 5,
          "symbol": "circle"
         },
         "mode": "markers",
         "name": "4",
         "orientation": "v",
         "showlegend": true,
         "type": "scatter",
         "x": {
          "bdata": "VmXkxcMO+b/kN3rd9TwDwPLJ/TTmYgnAdAt9a6ggBMBBvKo1veEGwL7OYEe5fwjAhH3KAFukBcC2rnceLAH/v3MW88HGcQXAZrvkPhEbA8Dtj5qQqL8LwGX92siFNwTAe4FP87tOB8D/cZlbJQkIwBqvAbv4sgLAMACrDJzjAsDn8kb7+3oGwLETQ0SntAfA7ig/fYWgAsCXOdTagv0FwIUyA+htrwPASoTfLsDs/L9pvoB7n78CwK7dCon5xgLAYNLYB3dpAMBrzW39jMgAwEmCLCPluQHA+ueoui/m/78B/Rk3KdUDwJgm6t7H8wTA6cT9XmDtBcAJmZiq37QDwMTfU1gGbPy/I4HNvZkNBMB5hDRWs7kDwGm/5HnQ1wTAuCK37NHoAMBb7vYWsM0DwPd77LRCiQTAwl+GOZNcBMCZZIeDxKACwNBe9Uj+twTAep/InqUeAcCWYYCvYTYEwHxYKG/P0gDAecvs6RoLA8DIdDpL8lL8vw==",
          "dtype": "f8"
         },
         "xaxis": "x",
         "y": {
          "bdata": "OISXpAE0IkDdyPWRoxEgQF60ZAK2OSJAJU8yXor4IECfBU/YbrMhQIocAeoV1SBAqFyDmKeQIEDk99Ixz8ciQF0q4XfuOSFAjej7xoMdIEAX2ublhgAiQFxpfv/clyNANBCeXN2GIUCDWpafV3YhQJT6aen5QyBA7UGbByVKIkBOWxxqf+EjQKyKqcbDnSBAlMNy8SliIUAN0SkqydchQMyRJqFJ/yJApz3WzHCgIEApjzvWDQEjQKwjUsK7pCFA/05Li3lbIkBHpExNx84gQFb9FjYSOCRAytCh4rj1IkAADeaL530kQBBuqj28YiJAKXA+chaQIUAbCuwxfwogQLf+JwmEzSFATOPom0LLIUAySAPExLohQKtQ0LeCVCJAeQ8p5YIeIUBz+dk2lJogQCmJLWE7uiFA8LMbCzgII0Dr0ZtGDZEjQFq8amPAbiJARRSWTS8zIkDMqgsHItwgQMkI0w6DYiNAlEK1n0H0IUAI0oQno4IhQA==",
          "dtype": "f8"
         },
         "yaxis": "y"
        },
        {
         "hovertemplate": "label=5<br>x=%{x}<br>y=%{y}<extra></extra>",
         "legendgroup": "5",
         "marker": {
          "color": "#82e0aa",
          "size": 5,
          "symbol": "circle"
         },
         "mode": "markers",
         "name": "5",
         "orientation": "v",
         "showlegend": true,
         "type": "scatter",
         "x": {
          "bdata": "+G8ndzKH9D/UUB93Hp77Px4swr2XfAJA5jEOTaMy/j8hioO89WPxP6BDchWSrvw/AtoXYuV8AEDnFMHl+XH+P98A350cVARAFXivFjd5+T9tfDuMSogBQM7uIL1WhgBAOxPI3W3N/D//9Yw5B9UBQL8x53CgNwFAATENt6O1AkARoTGw8B4BQOo4+8TTNANAti3MaLmpAUAiN2rOetkEQKRiG9yzqQNAiClT7Za7AkB2hki4JagDQBJBmMS2+wRA9w5MpGEk+z9NfwgdY5MAQDAGRqUC1P8/6tc4QUMN8D/nxXUZnyr6P5LnZM1N7QZAqUsyYZ5CAUD2J0XOSQ77P0Z5eoUiVvM/I2kmWRNa+T8/aoXLcXwBQE/FUXxmVgFApRn+QWCHAUCMm/TDgSUAQNaPgEsTK/U/wyzZ3y9A+j+Ak9duJRgCQII3KWa5dPw/8l2i5ObnAEDGOu+hE+IDQMTYWGbTJvs/0OFGLpwuAkCowPfg0yrpPwMzYbswTAJALYlcA4hAAEC8FYHHDw/4P/6UIl4dNARAv+IIApfBAUA2KjBmW18AQH1/PkzvfwNAsvhplVlFBkDgd8VVZgDzP5zbJmtrhQNA+OW8Z/R2AEAGdyY0Hb77Pw==",
          "dtype": "f8"
         },
         "xaxis": "x",
         "y": {
          "bdata": "78HGr+3uEkAqRPUd7dUNQDL16P1dPRBA+lztE2ZgDUCmTmz2s+IPQIhizoJp5A1AxnuvoLLYDUC4haa+TqkNQJiH3l9lQA9A27JML97AD0B2CeLgZaEPQAvLTKGeVRBAIg8/FoFmEUASsPrvPmYUQMBWnO+hrA1A+FWZz+svFUBQAz1mAjASQAsosQFbmg1Ah7JDBSzgDkDKEmUBlycRQPb/IgDO/A9APS0gmUGlCkAT2du4aVsTQKTTTprIqA9AVKEAMpi9EEAnT6VeCSYSQNjskHuScgxAjM7gVV9CDUCUaM5ZIFAMQFMtyNe5aBJApxRIv5qLEECjxbsQeckRQKD0lCXyvRBASunudarCC0DWu7acJTUQQMjSen3uyxRAham2CeSkD0BRJ3vLDpsTQDHBeg+RxRFA5JaWGXQSCkC2hO5QKVARQP1Wa5S2jw9AdvtKU2okEUAPylSd8nYUQAVE4x3WVw9A28YK36JhDUBHN7LNoRoOQAObw9ZohxNAtU5OjKn/E0BkNUd830MQQP7TAF/q+w5ADpC/jpCbD0CDLaqGwvcNQHvl+N8F3g1AYX/skj+5EUD1tiLdhrsRQFRDWT3VxQxAYFxiFIhhD0AKfQcyFigSQA==",
          "dtype": "f8"
         },
         "yaxis": "y"
        },
        {
         "hovertemplate": "label=1<br>x=%{x}<br>y=%{y}<extra></extra>",
         "legendgroup": "1",
         "marker": {
          "color": "#f1948a",
          "size": 5,
          "symbol": "circle"
         },
         "mode": "markers",
         "name": "1",
         "orientation": "v",
         "showlegend": true,
         "type": "scatter",
         "x": {
          "bdata": "UlD2rtIcEkBuY45vs8oQQN01u4XCZxJAhB3A5kHCEkARp2WR5+cSQPgMiXchNBRAJbz46zKcEEBoMFjBSxQTQA/H3bhmPBFAkuelGe+WE0BmyNK1aLAOQDm2nQh8fBRAEaTZn324EECFDp4oiLMTQD3Rm91JLRBAOqsWF8K5FEDqtIQyEDMRQEj/GFibnRFACrZXCb2bD0AhY6AlrygQQLHiWvbNxxBAH2FRyEkZEUD7z+SU5JUSQPdbpl0QnBFAnLA0cft+A0C6PnNNbEYTQGE+HP98DxNAG4+0BrIDE0A833XSNf4QQHYRGVGvdxRA9koq0bkEDUCe40mul+oOQBGBkVJ4mhNARysVTLsHEkA9PhwXypETQDQVsKaMAxFARnZo0OYcE0DvN/Rv79gWQLqZSmDwahBAxinCMYNKFkCzkX2ZiIETQFRDEiBWbxBAiRGSHnf5EECKI1268JYTQDlnM8qeqhFA3dCi07qWEUADDSAcACERQNutXW3R7RFA",
          "dtype": "f8"
         },
         "xaxis": "x",
         "y": {
          "bdata": "sq/9ITCkAkBCUCpNd2YAQAQWayFkJgFAxKd5IfyK+z+V75HTnVMBQC7/PhZeXwdAmuiQsQbvAkDyELZco+kCQLjAq3jxMQNAIR9xFyvXAUAcZXDYHYYAQMdKBju9bwFA4tohMS/8BUBNBQzo3lMEQDJ8xMZcaQJAx6mHEiUABEBlmbYZ4bYAQGKccw0jJARAhk3B9W8R+D9bevxjC+X8P91o8tRSC/k/76T8gbSmAEDy66NseJkFQL5YpLIVWPo/jKtHQnNyCEBcSnN8SwcCQNcPtoHQKwFAJUJD0ZADBUBnhORihf78P5Lo1H4TZAJAaGcwEfuHAED/50mPQg8AQAOs++8p+QBAljuYNoGqCkCCFYW3lT8DQBB8hzgZrf0//oEZUBYYA0Cgi2RBL1ICQKajom8atwFAvjX8pEGuAUDDOq8M8/z+P8O39JkCrgFA6Kphbx+n/j/yZZKhPzIPQHWvJ/4ANgNAGRVsAOQcAEC4T9io9YACQCyhImo80gJA",
          "dtype": "f8"
         },
         "yaxis": "y"
        },
        {
         "hovertemplate": "label=6<br>x=%{x}<br>y=%{y}<extra></extra>",
         "legendgroup": "6",
         "marker": {
          "color": "#499cef",
          "size": 5,
          "symbol": "circle"
         },
         "mode": "markers",
         "name": "6",
         "orientation": "v",
         "showlegend": true,
         "type": "scatter",
         "x": {
          "bdata": "ywGo0/rJIcCMcbUu50ohwNYgr4YPMh3AmSr2/yAgIMA+nG3Hi8ohwKL8Sj1YOx/AhyfEgPjNIcDr/H/WkakiwJCyD7EcCCDASMZaUyPcIsDnfm/bHDEjwKQqsYFaYCLAxMXRKkphI8Brwf9o9ewhwJIQbk4xhCLAqBSwQfU6IsBOQbxHyWMjwKdXHuBSfyDAZYXutGVFI8CQdUcCK/siwGj84Pm7VSHAFM2DAPU1I8B2dod/2W4iwGbZs8w3kyLA3OHyJbs5IMABncq9RPkewH5ynFx5SCPAFCNwFaPzIcBvG+iZbY4hwHoR/+8BCCHAF0uz/jeUIcDftL7DJlghwPrR9ePozSDAhWhjGTT/IsCwLwjt8MwjwETQrVHquSDAbZ74E8YwIsDDLlFE/w8hwJyjCzgINSLAvRIKgkl/IMBp2Cujn8ghwARQiSOCbB/AW9t3Y0SeIMAhqA2pBAwfwO8s6lhMDCDArhd1CEW9IcCihk1C+DQiwKZ2pBi/UiLAKNxW0I9vIsCNZ77pX08hwHBrWyQx8iHAS47/DqAZIcCeXAWl4ashwD45VclwICLAMGwv5wz3IMDNTDf/8qYhwHh+7tKeLCDAAn8GhT6kIsDNNGIufb4jwLHmQN6IviLA",
          "dtype": "f8"
         },
         "xaxis": "x",
         "y": {
          "bdata": "snvvqSbaHEDxqaI5jDodQHhckoOCiB9AvNL8S4OGHUCEDpumDMUfQA7GItACZyBAhoaZ/gxiG0D16t35W00eQDl0e/DHyxxA227lWTM3GUCwkH9EkAMgQMOAs13YuB1AMwna19guHUCqer5WuzwfQAcBk/9lGBxAxMALV/nlGkA0Je0sPAAgQKdboV/bbR1A6ArjTmgYHEBNzVbpKKIeQMJJF4fxhSBA3B1gP3XZH0DhnvPzF3MaQPIVumsmRx5AN2EKI282H0B7RHxRcK0bQHQ+Evp1sx1AXkYlLrSwGECDcTYerlIeQKEF724DBCBA3/8bp4G/G0DVR772D8wbQHONM5goqR1Ax3b6Rn96IEAHpDbUGT4cQK5E2qzpIxxAU04+W/gsG0A7iUikIc8eQJRGVvF3JBxAP47SzBFbHEBm1zlPPjkbQHc2y6dXXR1AQo3VFtDGGUBLwbfPZ8IbQH7nze6siBpAZHNhAVI0H0D+Ys0pVrUbQF8jZe6IIRtA+CprAUqYHUArZvWqEWobQNSTKkqruh5AqJJ7xaXqHUCT03luV2MdQGjKCccvih5AJf+9gHgLG0ArBSM5Q0oeQF+1m1c5cR1APG1muouqHkDuCghzqB0dQOy3lqBjAh1A",
          "dtype": "f8"
         },
         "yaxis": "y"
        },
        {
         "hovertemplate": "label=7<br>x=%{x}<br>y=%{y}<extra></extra>",
         "legendgroup": "7",
         "marker": {
          "color": "#f5b041",
          "size": 5,
          "symbol": "circle"
         },
         "mode": "markers",
         "name": "7",
         "orientation": "v",
         "showlegend": true,
         "type": "scatter",
         "x": {
          "bdata": "NQKmIu1dG8CNsckEIN4ZwM3K5A+3KR3AL4Jykk8KHsC1O7iwgKEawPw3OuT/YBvAXdE3CqBAF8DG/hiPZCsdwHkQMcRz0hvA6IbZho3kGcBg1BtNKGoewFa9jZ+B3xrA/AXGto3lGsAhpjM1frIcwG4qXLPRhx3A4ioimLJYGMCPQVbs6HUcwKe5saIkuBnACXxJX9P8F8DBPcEYepEZwMQE/RTJMxnAbadyk/FAGMCQR4lpFPwYwEeVQwYvLR3AjPaq159sGsClbPAMlCcawIVgcP1L7xvAe72Ye3mOG8DkyYXW0R4bwPkgjGZsvBvALkO/2aeOHsDiYgwzAosbwCr3WIAKZhzAXLEHiRNTG8BkKGeaDQYcwL9k+GrOohjADXYjPVGxGsCE702LN44bwCSeY7tQBxvAuOWxQfLNGsDZKQnUnc0ZwBt30c+qJx3AfFK8uzFGF8C1oxW5HwYawIHdtdvD3hrA41mt5ZL2GMDZwD401XoawIKelFswRRrAlluZvQASG8BBTKzmMPQbwNXO5m9iIxrAD4YMMSIAIcBm+K1FVegYwAnnfwueShvAUrCnmnCPG8AL2wSfU18dwC3fg8oyMRnAHDpP6ZT0HMC68AXT3vQawPmm1EpFex3A",
          "dtype": "f8"
         },
         "xaxis": "x",
         "y": {
          "bdata": "9yiaY/DfHMBk2zwdt+QZwBtxCOF2CBvAv2C2ckmvGcDRXlSdnvgZwNaD4kWDShzAwM1TgLNsH8CGqF4iyCkcwHcDTYkDWBrAJLTWvNxCGsB6kYKK2lUewDiocUPGLB3AJ5Ekj9mRGMB1bTVnPNIZwBVDPpTl8h3AYfP7Zv7+HcCcFSgzbA4bwMmUHxbl5xrAD/S3r+G1GsA5cOiNhtAbwP/+96Lm7xnADQ+e8HZhHsAxfPYZj+8cwOIIn38LpBzAUHSbPsHsG8AkRsm7FiQcwBWUVhGmgRzAwNxk+oaGHcBt32MTi7gcwAZlVkqOtxrA/DNF+ih9HMB5g8tfoFAdwAeoMAVLQhvAg5cPB4NUGsDQI+7iGAQewPLS6cVkZB7ACI4s9NulHMDPzauDBhkcwO5cToHJiBzAvYXlfgDoHMDQMIfpHtcbwATLcBDuVRfA6WqfKZx0GcDNFm//uEwawIuvRI/dxxvAn6nw5B20HMBGwl5LeHQYwJ9OVvKEQxrACv4k8Mh+G8BjStaRqFIZwPCICjioUhzAmvpz/LeRHcASQgZvenobwFOSTqg4MhrAXZdLHSlJG8BZM4OOtaMbwOI6cy7+fxvAIB7wZITyG8D9yrHrDcQcwCFoZZ+imBrA",
          "dtype": "f8"
         },
         "yaxis": "y"
        },
        {
         "hovertemplate": "label=0<br>x=%{x}<br>y=%{y}<extra></extra>",
         "legendgroup": "0",
         "marker": {
          "color": "#a569bd",
          "size": 5,
          "symbol": "circle"
         },
         "mode": "markers",
         "name": "0",
         "orientation": "v",
         "showlegend": true,
         "type": "scatter",
         "x": {
          "bdata": "huKQc63dEEDPCUjL6hUQQP6LRlNXMBdAJa7yucEvFEBja7Dkme4TQDtcLP5JJRNA7CRI7gmtEkDPpMYX2vwSQBSpRd6TzxNAEQUAl5GmEkBOQ17Wb+AUQOPj8eKYERJAipxTtSWwEkA=",
          "dtype": "f8"
         },
         "xaxis": "x",
         "y": {
          "bdata": "YwwcJ7Jz8z/d31fRzgH1P7ieJqTxofA/WJHY+0q59T98v7vLQqvyP8CMjX8c2/k/7uNTw0xt9j9xVFB71Jr1P8AgHfSktvg/C4OnIaBb+j/p77F7WAH5PyTsYYxzivk/zJ1quOHy9j8=",
          "dtype": "f8"
         },
         "yaxis": "y"
        },
        {
         "hovertemplate": "label=8<br>x=%{x}<br>y=%{y}<extra></extra>",
         "legendgroup": "8",
         "marker": {
          "color": "#e74c3c",
          "size": 5,
          "symbol": "circle"
         },
         "mode": "markers",
         "name": "8",
         "orientation": "v",
         "showlegend": true,
         "type": "scatter",
         "x": {
          "bdata": "4mL5qXSNDsCQTompTzEGwDZsTRAn+QrAdxJL3khABsCQh/rN+R8IwCDes+SH6gXAs/y0Ji28CcB3cIVDdK0IwDThPd/X/AnA3JWzCjJuB8AbTckYlPMFwFy6hj4ByAbArFo5COR5BsA=",
          "dtype": "f8"
         },
         "xaxis": "x",
         "y": {
          "bdata": "r5bDtrjZIkDJHoIBtooiQAbClW9edyFA7/wp77UjIkABJksGw1ciQA9I2BLwFSNAz016GaGbIUBhw7hBfmciQLiGJc0ITyFAQv8Y+Ce4IUBVHfa5NZIiQFEbI1TnoyJAnvzeEaS8IUA=",
          "dtype": "f8"
         },
         "yaxis": "y"
        },
        {
         "marker": {
          "color": [
           "#34495e"
          ],
          "size": 10,
          "symbol": "star"
         },
         "mode": "markers",
         "name": "Centroid 1",
         "type": "scatter",
         "x": [
          4.600125081391623
         ],
         "y": [
          0.6413215911899489
         ]
        },
        {
         "marker": {
          "color": [
           "#34495e"
          ],
          "size": 10,
          "symbol": "star"
         },
         "mode": "markers",
         "name": "Centroid 2",
         "type": "scatter",
         "x": [
          3.8882748183287243
         ],
         "y": [
          2.4181182770224647
         ]
        },
        {
         "marker": {
          "color": [
           "#34495e"
          ],
          "size": 10,
          "symbol": "star"
         },
         "mode": "markers",
         "name": "Centroid 3",
         "type": "scatter",
         "x": [
          3.2186807073146575
         ],
         "y": [
          -7.17857111827882
         ]
        },
        {
         "marker": {
          "color": [
           "#34495e"
          ],
          "size": 10,
          "symbol": "star"
         },
         "mode": "markers",
         "name": "Centroid 4",
         "type": "scatter",
         "x": [
          4.215587081842363
         ],
         "y": [
          6.224565497654572
         ]
        },
        {
         "marker": {
          "color": [
           "#34495e"
          ],
          "size": 10,
          "symbol": "star"
         },
         "mode": "markers",
         "name": "Centroid 5",
         "type": "scatter",
         "x": [
          -1.566104672447485
         ],
         "y": [
          9.101575034614243
         ]
        },
        {
         "marker": {
          "color": [
           "#34495e"
          ],
          "size": 10,
          "symbol": "star"
         },
         "mode": "markers",
         "name": "Centroid 6",
         "type": "scatter",
         "x": [
          1.2830071119742552
         ],
         "y": [
          4.733328577524374
         ]
        },
        {
         "marker": {
          "color": [
           "#34495e"
          ],
          "size": 10,
          "symbol": "star"
         },
         "mode": "markers",
         "name": "Centroid 7",
         "type": "scatter",
         "x": [
          -8.894491781481426
         ],
         "y": [
          7.2130381157320915
         ]
        },
        {
         "marker": {
          "color": [
           "#34495e"
          ],
          "size": 10,
          "symbol": "star"
         },
         "mode": "markers",
         "name": "Centroid 8",
         "type": "scatter",
         "x": [
          -6.841724912054407
         ],
         "y": [
          -7.218690449032002
         ]
        },
        {
         "marker": {
          "color": [
           "#34495e"
          ],
          "size": 10,
          "symbol": "star"
         },
         "mode": "markers",
         "name": "Centroid 9",
         "type": "scatter",
         "x": [
          -3.8190701750976226
         ],
         "y": [
          9.425237380385935
         ]
        }
       ],
       "layout": {
        "legend": {
         "title": {
          "text": "label"
         },
         "tracegroupgap": 0
        },
        "showlegend": false,
        "template": {
         "data": {
          "bar": [
           {
            "error_x": {
             "color": "#2a3f5f"
            },
            "error_y": {
             "color": "#2a3f5f"
            },
            "marker": {
             "line": {
              "color": "#E5ECF6",
              "width": 0.5
             },
             "pattern": {
              "fillmode": "overlay",
              "size": 10,
              "solidity": 0.2
             }
            },
            "type": "bar"
           }
          ],
          "barpolar": [
           {
            "marker": {
             "line": {
              "color": "#E5ECF6",
              "width": 0.5
             },
             "pattern": {
              "fillmode": "overlay",
              "size": 10,
              "solidity": 0.2
             }
            },
            "type": "barpolar"
           }
          ],
          "carpet": [
           {
            "aaxis": {
             "endlinecolor": "#2a3f5f",
             "gridcolor": "white",
             "linecolor": "white",
             "minorgridcolor": "white",
             "startlinecolor": "#2a3f5f"
            },
            "baxis": {
             "endlinecolor": "#2a3f5f",
             "gridcolor": "white",
             "linecolor": "white",
             "minorgridcolor": "white",
             "startlinecolor": "#2a3f5f"
            },
            "type": "carpet"
           }
          ],
          "choropleth": [
           {
            "colorbar": {
             "outlinewidth": 0,
             "ticks": ""
            },
            "type": "choropleth"
           }
          ],
          "contour": [
           {
            "colorbar": {
             "outlinewidth": 0,
             "ticks": ""
            },
            "colorscale": [
             [
              0,
              "#0d0887"
             ],
             [
              0.1111111111111111,
              "#46039f"
             ],
             [
              0.2222222222222222,
              "#7201a8"
             ],
             [
              0.3333333333333333,
              "#9c179e"
             ],
             [
              0.4444444444444444,
              "#bd3786"
             ],
             [
              0.5555555555555556,
              "#d8576b"
             ],
             [
              0.6666666666666666,
              "#ed7953"
             ],
             [
              0.7777777777777778,
              "#fb9f3a"
             ],
             [
              0.8888888888888888,
              "#fdca26"
             ],
             [
              1,
              "#f0f921"
             ]
            ],
            "type": "contour"
           }
          ],
          "contourcarpet": [
           {
            "colorbar": {
             "outlinewidth": 0,
             "ticks": ""
            },
            "type": "contourcarpet"
           }
          ],
          "heatmap": [
           {
            "colorbar": {
             "outlinewidth": 0,
             "ticks": ""
            },
            "colorscale": [
             [
              0,
              "#0d0887"
             ],
             [
              0.1111111111111111,
              "#46039f"
             ],
             [
              0.2222222222222222,
              "#7201a8"
             ],
             [
              0.3333333333333333,
              "#9c179e"
             ],
             [
              0.4444444444444444,
              "#bd3786"
             ],
             [
              0.5555555555555556,
              "#d8576b"
             ],
             [
              0.6666666666666666,
              "#ed7953"
             ],
             [
              0.7777777777777778,
              "#fb9f3a"
             ],
             [
              0.8888888888888888,
              "#fdca26"
             ],
             [
              1,
              "#f0f921"
             ]
            ],
            "type": "heatmap"
           }
          ],
          "histogram": [
           {
            "marker": {
             "pattern": {
              "fillmode": "overlay",
              "size": 10,
              "solidity": 0.2
             }
            },
            "type": "histogram"
           }
          ],
          "histogram2d": [
           {
            "colorbar": {
             "outlinewidth": 0,
             "ticks": ""
            },
            "colorscale": [
             [
              0,
              "#0d0887"
             ],
             [
              0.1111111111111111,
              "#46039f"
             ],
             [
              0.2222222222222222,
              "#7201a8"
             ],
             [
              0.3333333333333333,
              "#9c179e"
             ],
             [
              0.4444444444444444,
              "#bd3786"
             ],
             [
              0.5555555555555556,
              "#d8576b"
             ],
             [
              0.6666666666666666,
              "#ed7953"
             ],
             [
              0.7777777777777778,
              "#fb9f3a"
             ],
             [
              0.8888888888888888,
              "#fdca26"
             ],
             [
              1,
              "#f0f921"
             ]
            ],
            "type": "histogram2d"
           }
          ],
          "histogram2dcontour": [
           {
            "colorbar": {
             "outlinewidth": 0,
             "ticks": ""
            },
            "colorscale": [
             [
              0,
              "#0d0887"
             ],
             [
              0.1111111111111111,
              "#46039f"
             ],
             [
              0.2222222222222222,
              "#7201a8"
             ],
             [
              0.3333333333333333,
              "#9c179e"
             ],
             [
              0.4444444444444444,
              "#bd3786"
             ],
             [
              0.5555555555555556,
              "#d8576b"
             ],
             [
              0.6666666666666666,
              "#ed7953"
             ],
             [
              0.7777777777777778,
              "#fb9f3a"
             ],
             [
              0.8888888888888888,
              "#fdca26"
             ],
             [
              1,
              "#f0f921"
             ]
            ],
            "type": "histogram2dcontour"
           }
          ],
          "mesh3d": [
           {
            "colorbar": {
             "outlinewidth": 0,
             "ticks": ""
            },
            "type": "mesh3d"
           }
          ],
          "parcoords": [
           {
            "line": {
             "colorbar": {
              "outlinewidth": 0,
              "ticks": ""
             }
            },
            "type": "parcoords"
           }
          ],
          "pie": [
           {
            "automargin": true,
            "type": "pie"
           }
          ],
          "scatter": [
           {
            "fillpattern": {
             "fillmode": "overlay",
             "size": 10,
             "solidity": 0.2
            },
            "type": "scatter"
           }
          ],
          "scatter3d": [
           {
            "line": {
             "colorbar": {
              "outlinewidth": 0,
              "ticks": ""
             }
            },
            "marker": {
             "colorbar": {
              "outlinewidth": 0,
              "ticks": ""
             }
            },
            "type": "scatter3d"
           }
          ],
          "scattercarpet": [
           {
            "marker": {
             "colorbar": {
              "outlinewidth": 0,
              "ticks": ""
             }
            },
            "type": "scattercarpet"
           }
          ],
          "scattergeo": [
           {
            "marker": {
             "colorbar": {
              "outlinewidth": 0,
              "ticks": ""
             }
            },
            "type": "scattergeo"
           }
          ],
          "scattergl": [
           {
            "marker": {
             "colorbar": {
              "outlinewidth": 0,
              "ticks": ""
             }
            },
            "type": "scattergl"
           }
          ],
          "scattermap": [
           {
            "marker": {
             "colorbar": {
              "outlinewidth": 0,
              "ticks": ""
             }
            },
            "type": "scattermap"
           }
          ],
          "scattermapbox": [
           {
            "marker": {
             "colorbar": {
              "outlinewidth": 0,
              "ticks": ""
             }
            },
            "type": "scattermapbox"
           }
          ],
          "scatterpolar": [
           {
            "marker": {
             "colorbar": {
              "outlinewidth": 0,
              "ticks": ""
             }
            },
            "type": "scatterpolar"
           }
          ],
          "scatterpolargl": [
           {
            "marker": {
             "colorbar": {
              "outlinewidth": 0,
              "ticks": ""
             }
            },
            "type": "scatterpolargl"
           }
          ],
          "scatterternary": [
           {
            "marker": {
             "colorbar": {
              "outlinewidth": 0,
              "ticks": ""
             }
            },
            "type": "scatterternary"
           }
          ],
          "surface": [
           {
            "colorbar": {
             "outlinewidth": 0,
             "ticks": ""
            },
            "colorscale": [
             [
              0,
              "#0d0887"
             ],
             [
              0.1111111111111111,
              "#46039f"
             ],
             [
              0.2222222222222222,
              "#7201a8"
             ],
             [
              0.3333333333333333,
              "#9c179e"
             ],
             [
              0.4444444444444444,
              "#bd3786"
             ],
             [
              0.5555555555555556,
              "#d8576b"
             ],
             [
              0.6666666666666666,
              "#ed7953"
             ],
             [
              0.7777777777777778,
              "#fb9f3a"
             ],
             [
              0.8888888888888888,
              "#fdca26"
             ],
             [
              1,
              "#f0f921"
             ]
            ],
            "type": "surface"
           }
          ],
          "table": [
           {
            "cells": {
             "fill": {
              "color": "#EBF0F8"
             },
             "line": {
              "color": "white"
             }
            },
            "header": {
             "fill": {
              "color": "#C8D4E3"
             },
             "line": {
              "color": "white"
             }
            },
            "type": "table"
           }
          ]
         },
         "layout": {
          "annotationdefaults": {
           "arrowcolor": "#2a3f5f",
           "arrowhead": 0,
           "arrowwidth": 1
          },
          "autotypenumbers": "strict",
          "coloraxis": {
           "colorbar": {
            "outlinewidth": 0,
            "ticks": ""
           }
          },
          "colorscale": {
           "diverging": [
            [
             0,
             "#8e0152"
            ],
            [
             0.1,
             "#c51b7d"
            ],
            [
             0.2,
             "#de77ae"
            ],
            [
             0.3,
             "#f1b6da"
            ],
            [
             0.4,
             "#fde0ef"
            ],
            [
             0.5,
             "#f7f7f7"
            ],
            [
             0.6,
             "#e6f5d0"
            ],
            [
             0.7,
             "#b8e186"
            ],
            [
             0.8,
             "#7fbc41"
            ],
            [
             0.9,
             "#4d9221"
            ],
            [
             1,
             "#276419"
            ]
           ],
           "sequential": [
            [
             0,
             "#0d0887"
            ],
            [
             0.1111111111111111,
             "#46039f"
            ],
            [
             0.2222222222222222,
             "#7201a8"
            ],
            [
             0.3333333333333333,
             "#9c179e"
            ],
            [
             0.4444444444444444,
             "#bd3786"
            ],
            [
             0.5555555555555556,
             "#d8576b"
            ],
            [
             0.6666666666666666,
             "#ed7953"
            ],
            [
             0.7777777777777778,
             "#fb9f3a"
            ],
            [
             0.8888888888888888,
             "#fdca26"
            ],
            [
             1,
             "#f0f921"
            ]
           ],
           "sequentialminus": [
            [
             0,
             "#0d0887"
            ],
            [
             0.1111111111111111,
             "#46039f"
            ],
            [
             0.2222222222222222,
             "#7201a8"
            ],
            [
             0.3333333333333333,
             "#9c179e"
            ],
            [
             0.4444444444444444,
             "#bd3786"
            ],
            [
             0.5555555555555556,
             "#d8576b"
            ],
            [
             0.6666666666666666,
             "#ed7953"
            ],
            [
             0.7777777777777778,
             "#fb9f3a"
            ],
            [
             0.8888888888888888,
             "#fdca26"
            ],
            [
             1,
             "#f0f921"
            ]
           ]
          },
          "colorway": [
           "#636efa",
           "#EF553B",
           "#00cc96",
           "#ab63fa",
           "#FFA15A",
           "#19d3f3",
           "#FF6692",
           "#B6E880",
           "#FF97FF",
           "#FECB52"
          ],
          "font": {
           "color": "#2a3f5f"
          },
          "geo": {
           "bgcolor": "white",
           "lakecolor": "white",
           "landcolor": "#E5ECF6",
           "showlakes": true,
           "showland": true,
           "subunitcolor": "white"
          },
          "hoverlabel": {
           "align": "left"
          },
          "hovermode": "closest",
          "mapbox": {
           "style": "light"
          },
          "paper_bgcolor": "white",
          "plot_bgcolor": "#E5ECF6",
          "polar": {
           "angularaxis": {
            "gridcolor": "white",
            "linecolor": "white",
            "ticks": ""
           },
           "bgcolor": "#E5ECF6",
           "radialaxis": {
            "gridcolor": "white",
            "linecolor": "white",
            "ticks": ""
           }
          },
          "scene": {
           "xaxis": {
            "backgroundcolor": "#E5ECF6",
            "gridcolor": "white",
            "gridwidth": 2,
            "linecolor": "white",
            "showbackground": true,
            "ticks": "",
            "zerolinecolor": "white"
           },
           "yaxis": {
            "backgroundcolor": "#E5ECF6",
            "gridcolor": "white",
            "gridwidth": 2,
            "linecolor": "white",
            "showbackground": true,
            "ticks": "",
            "zerolinecolor": "white"
           },
           "zaxis": {
            "backgroundcolor": "#E5ECF6",
            "gridcolor": "white",
            "gridwidth": 2,
            "linecolor": "white",
            "showbackground": true,
            "ticks": "",
            "zerolinecolor": "white"
           }
          },
          "shapedefaults": {
           "line": {
            "color": "#2a3f5f"
           }
          },
          "ternary": {
           "aaxis": {
            "gridcolor": "white",
            "linecolor": "white",
            "ticks": ""
           },
           "baxis": {
            "gridcolor": "white",
            "linecolor": "white",
            "ticks": ""
           },
           "bgcolor": "#E5ECF6",
           "caxis": {
            "gridcolor": "white",
            "linecolor": "white",
            "ticks": ""
           }
          },
          "title": {
           "x": 0.05
          },
          "xaxis": {
           "automargin": true,
           "gridcolor": "white",
           "linecolor": "white",
           "ticks": "",
           "title": {
            "standoff": 15
           },
           "zerolinecolor": "white",
           "zerolinewidth": 2
          },
          "yaxis": {
           "automargin": true,
           "gridcolor": "white",
           "linecolor": "white",
           "ticks": "",
           "title": {
            "standoff": 15
           },
           "zerolinecolor": "white",
           "zerolinewidth": 2
          }
         }
        },
        "title": {
         "text": "RDPM Clustering with Constraints"
        },
        "xaxis": {
         "anchor": "y",
         "domain": [
          0,
          1
         ],
         "title": {
          "text": "x"
         }
        },
        "yaxis": {
         "anchor": "x",
         "domain": [
          0,
          1
         ],
         "title": {
          "text": "y"
         }
        }
       }
      }
     },
     "metadata": {},
     "output_type": "display_data"
    }
   ],
   "source": [
    "rdpm_centroids = rdpm.centroids\n",
    "df = pd.DataFrame(X, columns=['x', 'y'])\n",
    "df['label'] = rdpm._labels\n",
    "fig = plot_dataframe(df, title='RDPM Clustering with Constraints', x='x', y='y', label='label')\n",
    "for i, centroid in enumerate(rdpm_centroids):\n",
    "    fig = plot_centroid(fig, centroid, colors=[\"#34495e\"], marker_size=10, symbol='star', name=f'Centroid {i+1}')\n",
    "fig.update_layout(showlegend=False)\n",
    "fig.show()"
   ]
  }
 ],
 "metadata": {
  "kernelspec": {
   "display_name": "clustlib-5JQ_NFw--py3.13",
   "language": "python",
   "name": "python3"
  },
  "language_info": {
   "codemirror_mode": {
    "name": "ipython",
    "version": 3
   },
   "file_extension": ".py",
   "mimetype": "text/x-python",
   "name": "python",
   "nbconvert_exporter": "python",
   "pygments_lexer": "ipython3",
   "version": "3.13.2"
  }
 },
 "nbformat": 4,
 "nbformat_minor": 5
}
