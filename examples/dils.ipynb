{
 "cells": [
  {
   "cell_type": "code",
   "execution_count": 2,
   "id": "25964fde",
   "metadata": {},
   "outputs": [],
   "source": [
    "import numpy as np\n",
    "from sklearn.datasets import make_blobs\n",
    "import plotly.express as px\n",
    "\n",
    "import logging\n",
    "import sys\n",
    "\n",
    "logging.basicConfig(\n",
    "    level=logging.DEBUG,\n",
    "    format='%(asctime)s - %(levelname)s - %(message)s',\n",
    "    handlers=[\n",
    "        logging.StreamHandler(sys.stdout)\n",
    "    ]\n",
    ")\n",
    "\n",
    "COLORS = [\n",
    "    \"#f7dc6f\",\n",
    "    \"#82e0aa\",\n",
    "    \"#f1948a\",\n",
    "    \"#499cef\",\n",
    "    \"#f5b041\",\n",
    "    \"#a569bd\",\n",
    "    \"#e74c3c\",\n",
    "    \"#2ecc71\",\n",
    "    \"#3498db\",\n",
    "    \"#e67e22\",\n",
    "    \"#9b59b6\",\n",
    "    \"#1abc9c\",\n",
    "    \"#34495e\",\n",
    "    \"#d35400\",\n",
    "    \"#c0392b\",\n",
    "    \"#16a085\",\n",
    "    \"#2980b9\",\n",
    "    \"#8e44ad\",\n",
    "]\n",
    "\n",
    "def twospirals(n_points, noise=.5):\n",
    "    n = np.sqrt(np.random.rand(n_points,1)) * 780 * (2*np.pi)/360\n",
    "    d1x = -np.cos(n)*n + np.random.rand(n_points,1) * noise\n",
    "    d1y = np.sin(n)*n + np.random.rand(n_points,1) * noise\n",
    "    return (np.vstack((np.hstack((d1x,d1y)),np.hstack((-d1x,-d1y)))), np.hstack((np.zeros(n_points, dtype=int),np.ones(n_points, dtype=int))))\n",
    "\n",
    "def plot_dataframe(df, title='', x='x', y='y', label='label'):\n",
    "    df[label] = df[label].map(lambda x: str(x))\n",
    "    fig = px.scatter(\n",
    "        df.sort_values(by=label),\n",
    "        x=x,\n",
    "        y=y,\n",
    "        color=label,\n",
    "        color_discrete_map={str(i): COLORS[i] for i in range(len(COLORS))},\n",
    "        title=title,\n",
    "    )\n",
    "    fig.update_traces(marker=dict(size=5, symbol='circle', opacity = 0.6))\n",
    "\n",
    "    return fig\n",
    "\n",
    "def plot_centroid(fig, centroid, colors = ['#a569bd'], marker_size=10, symbol = 'star', name = 'Centroid'):\n",
    "    fig.add_scatter(\n",
    "        x=[centroid[0]],\n",
    "        y=[centroid[1]],\n",
    "        mode='markers',\n",
    "        marker=dict(\n",
    "            size = marker_size,\n",
    "            color = colors,\n",
    "            symbol = symbol,\n",
    "        ),\n",
    "        name=name\n",
    "    )\n",
    "    return fig\n",
    "\n",
    "def create_constraints(labels, probability=0.01, seed=0):\n",
    "    n_points = len(labels)\n",
    "    constraints = np.zeros((n_points, n_points), dtype=int)\n",
    "    state = np.random.RandomState(seed=seed)\n",
    "    for i in range(n_points):\n",
    "        for j in range(i +1, n_points):\n",
    "            if state.rand() < probability:\n",
    "                if labels[i] == labels[j]:\n",
    "                    constraints[i, j] = 1\n",
    "                    constraints[j, i] = 1\n",
    "                elif labels[i] != labels[j]:\n",
    "                    constraints[i, j] = -1\n",
    "                    constraints[j, i] = -1\n",
    "    return constraints\n",
    "\n",
    "def draw_cl_constraints(fig, constraints, points):\n",
    "    n_points = len(points)\n",
    "    for i in range(n_points):\n",
    "        for j in range(i + 1, n_points):\n",
    "            if constraints[i, j] < 0:\n",
    "                fig.add_scatter(\n",
    "                    x=[points[i, 0], points[j, 0]],\n",
    "                    y=[points[i, 1], points[j, 1]],\n",
    "                    mode='lines',\n",
    "                    line=dict(color='red', width=0.5, dash='dash'),\n",
    "                )\n",
    "    return fig\n",
    "\n",
    "def draw_ml_constraints(fig, constraints, points):\n",
    "    n_points = len(points)\n",
    "    for i in range(n_points):\n",
    "        for j in range(i + 1, n_points):\n",
    "            if constraints[i, j] > 0:\n",
    "                fig.add_scatter(\n",
    "                    x=[points[i, 0], points[j, 0]],\n",
    "                    y=[points[i, 1], points[j, 1]],\n",
    "                    mode='lines',\n",
    "                    line=dict(color='green', width=0.5),\n",
    "                )\n",
    "    return fig"
   ]
  },
  {
   "cell_type": "code",
   "execution_count": 2,
   "id": "fd41cc2b",
   "metadata": {},
   "outputs": [],
   "source": [
    "X, y = make_blobs(n_samples=300, centers=10, cluster_std=1.0, random_state=42)\n",
    "constraints = create_constraints(y, probability=0.01, seed=42)"
   ]
  },
  {
   "cell_type": "code",
   "execution_count": null,
   "id": "0b74867c",
   "metadata": {},
   "outputs": [],
   "source": [
    "from clustlib.sin.dils import DILS\n",
    "dils = DILS(\n",
    "    n_clusters=10,\n",
    "    constraints=constraints,\n",
    "    max_iter=10000,\n",
    "    tol=1e-4,\n",
    ")\n",
    "dils.fit(X)"
   ]
  },
  {
   "cell_type": "code",
   "execution_count": 3,
   "id": "6632a306",
   "metadata": {},
   "outputs": [
    {
     "name": "stdout",
     "output_type": "stream",
     "text": [
      "10.683283932922992\n",
      "11.137392153849365\n",
      "10.538894214771286\n",
      "10.84309126081509\n",
      "10.841408574633723\n",
      "8.465295620745753\n",
      "8.569982434270864\n",
      "10.370822025732691\n",
      "10.730643180191164\n",
      "10.618926586151083\n"
     ]
    }
   ],
   "source": [
    "random_labels = np.random.randint(0, 10, size=len(X))\n",
    "\n",
    "for j in range(10):\n",
    "    clust = X[random_labels == j]\n",
    "\n",
    "    if clust.shape[0] > 0:\n",
    "        tot = 0.0\n",
    "        for k in range(clust.shape[0]):\n",
    "            tot += ((((clust[k+1 :] - clust[k]) ** 2).sum(1)) ** 0.5).sum()\n",
    "\n",
    "        avg = tot / ((clust.shape[0] - 1) * (clust.shape[0]) / 2.0)\n",
    "        print(avg)"
   ]
  },
  {
   "cell_type": "code",
   "execution_count": 4,
   "id": "cb3b6fd1",
   "metadata": {},
   "outputs": [
    {
     "name": "stdout",
     "output_type": "stream",
     "text": [
      "10.683283932922992\n",
      "11.137392153849369\n",
      "10.538894214771284\n",
      "10.843091260815093\n",
      "10.841408574633725\n",
      "8.465295620745753\n",
      "8.569982434270864\n",
      "10.370822025732691\n",
      "10.730643180191162\n",
      "10.618926586151087\n"
     ]
    }
   ],
   "source": [
    "from scipy.spatial.distance import pdist\n",
    "\n",
    "for j in range(10):\n",
    "    clust = X[random_labels == j]\n",
    "    pdistances = pdist(clust)\n",
    "    print(pdistances.mean())"
   ]
  },
  {
   "cell_type": "code",
   "execution_count": 5,
   "id": "08c4d587",
   "metadata": {},
   "outputs": [
    {
     "name": "stdout",
     "output_type": "stream",
     "text": [
      "[8.60461481 3.70757689]\n"
     ]
    },
    {
     "data": {
      "text/plain": [
       "4.897037923917564"
      ]
     },
     "execution_count": 5,
     "metadata": {},
     "output_type": "execute_result"
    }
   ],
   "source": [
    "random = np.random.rand(2) * 10\n",
    "print(random)\n",
    "np.abs(np.diff(random))[0]"
   ]
  }
 ],
 "metadata": {
  "kernelspec": {
   "display_name": "clustlib-5JQ_NFw--py3.13",
   "language": "python",
   "name": "python3"
  },
  "language_info": {
   "codemirror_mode": {
    "name": "ipython",
    "version": 3
   },
   "file_extension": ".py",
   "mimetype": "text/x-python",
   "name": "python",
   "nbconvert_exporter": "python",
   "pygments_lexer": "ipython3",
   "version": "3.13.2"
  }
 },
 "nbformat": 4,
 "nbformat_minor": 5
}
