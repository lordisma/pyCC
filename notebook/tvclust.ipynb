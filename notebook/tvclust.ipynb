{
 "cells": [
  {
   "cell_type": "code",
   "execution_count": null,
   "id": "b3494bec",
   "metadata": {},
   "outputs": [],
   "source": [
    "import numpy as np\n",
    "import math as m\n",
    "import scipy as sc\n",
    "import pandas as pd\n",
    "from sklearn.datasets import make_blobs\n",
    "import plotly.express as px\n",
    "\n",
    "import logging\n",
    "import sys\n",
    "\n",
    "logging.basicConfig(\n",
    "    level=logging.DEBUG,\n",
    "    format='%(asctime)s - %(levelname)s - %(message)s',\n",
    "    handlers=[\n",
    "        logging.StreamHandler(sys.stdout)\n",
    "    ]\n",
    ")\n",
    "\n",
    "COLORS = [\n",
    "    \"#f7dc6f\",\n",
    "    \"#82e0aa\",\n",
    "    \"#f1948a\",\n",
    "    \"#499cef\",\n",
    "    \"#f5b041\",\n",
    "    \"#a569bd\",\n",
    "    \"#e74c3c\",\n",
    "    \"#2ecc71\",\n",
    "    \"#3498db\",\n",
    "    \"#e67e22\",\n",
    "    \"#9b59b6\",\n",
    "    \"#1abc9c\",\n",
    "    \"#34495e\",\n",
    "    \"#d35400\",\n",
    "    \"#c0392b\",\n",
    "    \"#16a085\",\n",
    "    \"#2980b9\",\n",
    "    \"#8e44ad\",\n",
    "]\n",
    "\n",
    "def twospirals(n_points, noise=.5):\n",
    "    n = np.sqrt(np.random.rand(n_points,1)) * 780 * (2*np.pi)/360\n",
    "    d1x = -np.cos(n)*n + np.random.rand(n_points,1) * noise\n",
    "    d1y = np.sin(n)*n + np.random.rand(n_points,1) * noise\n",
    "    return (np.vstack((np.hstack((d1x,d1y)),np.hstack((-d1x,-d1y)))), np.hstack((np.zeros(n_points, dtype=int),np.ones(n_points, dtype=int))))\n",
    "\n",
    "def plot_dataframe(df, title='', x='x', y='y', label='label'):\n",
    "    df[label] = df[label].map(lambda x: str(x))\n",
    "    fig = px.scatter(\n",
    "        df.sort_values(by=label), \n",
    "        x=x, \n",
    "        y=y,\n",
    "        color=label,\n",
    "        color_discrete_map={str(i): COLORS[i] for i in range(len(COLORS))},\n",
    "        title=title,\n",
    "    )\n",
    "    fig.update_traces(marker=dict(size=5, symbol='circle', opacity = 0.6))\n",
    "\n",
    "    return fig\n",
    "\n",
    "def plot_centroid(fig, centroid, colors = ['#a569bd'], marker_size=10, symbol = 'star', name = 'Centroid'):\n",
    "    fig.add_scatter(\n",
    "        x=[centroid[0]], \n",
    "        y=[centroid[1]], \n",
    "        mode='markers',\n",
    "        marker=dict(\n",
    "            size = marker_size,\n",
    "            color = colors,\n",
    "            symbol = symbol,\n",
    "        ), \n",
    "        name=name\n",
    "    )\n",
    "    return fig\n",
    "\n",
    "def create_constraints(labels, probability=0.01, seed=0):\n",
    "    n_points = len(labels)\n",
    "    constraints = np.zeros((n_points, n_points), dtype=int)\n",
    "    state = np.random.RandomState(seed=seed)\n",
    "    for i in range(n_points):\n",
    "        for j in range(i +1, n_points):\n",
    "            if state.rand() < probability:\n",
    "                if labels[i] == labels[j]:\n",
    "                    constraints[i, j] = 1\n",
    "                    constraints[j, i] = 1\n",
    "                elif labels[i] != labels[j]:\n",
    "                    constraints[i, j] = -1\n",
    "                    constraints[j, i] = -1\n",
    "    return constraints\n",
    "\n",
    "def draw_cl_constraints(fig, constraints, points):\n",
    "    n_points = len(points)\n",
    "    for i in range(n_points):\n",
    "        for j in range(i + 1, n_points):\n",
    "            if constraints[i, j] < 0:\n",
    "                fig.add_scatter(\n",
    "                    x=[points[i, 0], points[j, 0]], \n",
    "                    y=[points[i, 1], points[j, 1]], \n",
    "                    mode='lines',\n",
    "                    line=dict(color='red', width=0.5, dash='dash'),\n",
    "                )\n",
    "    return fig\n",
    "\n",
    "def draw_ml_constraints(fig, constraints, points):\n",
    "    n_points = len(points)\n",
    "    for i in range(n_points):\n",
    "        for j in range(i + 1, n_points):\n",
    "            if constraints[i, j] > 0:\n",
    "                fig.add_scatter(\n",
    "                    x=[points[i, 0], points[j, 0]], \n",
    "                    y=[points[i, 1], points[j, 1]], \n",
    "                    mode='lines',\n",
    "                    line=dict(color='green', width=0.5),\n",
    "                )\n",
    "    return fig"
   ]
  },
  {
   "cell_type": "code",
   "execution_count": 103,
   "id": "1ee6b482",
   "metadata": {},
   "outputs": [],
   "source": [
    "X, y = make_blobs(n_samples=300, centers=10, cluster_std=1.0, random_state=42)\n",
    "constraints = create_constraints(y, probability=0.01, seed=42)"
   ]
  },
  {
   "cell_type": "code",
   "execution_count": 104,
   "id": "a66b4c2d",
   "metadata": {},
   "outputs": [
    {
     "name": "stdout",
     "output_type": "stream",
     "text": [
      "2025-06-11 12:50:00,682 - DEBUG - Initializing parameters for TVClust, n_clusters=10, p=2\n",
      "2025-06-11 12:50:00,684 - DEBUG - Covariance inverse: (10, 2, 2)\n",
      "2025-06-11 12:50:00,685 - DEBUG - Iteration 1/100\n",
      "2025-06-11 12:50:00,685 - DEBUG - Updating responsibilities\n",
      "2025-06-11 12:50:00,686 - DEBUG - Calculating the determinant of the covariance\n",
      "2025-06-11 12:50:00,695 - DEBUG - Updating gamma\n",
      "2025-06-11 12:50:00,695 - DEBUG - Updating beta\n",
      "2025-06-11 12:50:00,696 - DEBUG - Updating mu\n",
      "2025-06-11 12:50:00,696 - DEBUG - Updating W\n",
      "2025-06-11 12:50:00,697 - DEBUG - Updating nu\n",
      "2025-06-11 12:50:00,697 - DEBUG - Updating prior\n",
      "2025-06-11 12:50:00,703 - DEBUG - Calculating the determinant of the covariance\n",
      "2025-06-11 12:50:00,704 - DEBUG - Delta: -535.3657863378954\n",
      "2025-06-11 12:50:00,705 - DEBUG - Iteration 2/100\n",
      "2025-06-11 12:50:00,706 - DEBUG - Updating responsibilities\n",
      "2025-06-11 12:50:00,706 - DEBUG - Calculating the determinant of the covariance\n",
      "2025-06-11 12:50:00,709 - DEBUG - Updating gamma\n",
      "2025-06-11 12:50:00,709 - DEBUG - Updating beta\n",
      "2025-06-11 12:50:00,710 - DEBUG - Updating mu\n",
      "2025-06-11 12:50:00,710 - DEBUG - Updating W\n",
      "2025-06-11 12:50:00,711 - DEBUG - Updating nu\n",
      "2025-06-11 12:50:00,711 - DEBUG - Updating prior\n",
      "2025-06-11 12:50:00,715 - DEBUG - Calculating the determinant of the covariance\n",
      "2025-06-11 12:50:00,716 - DEBUG - Delta: 0.47956021128393883\n",
      "2025-06-11 12:50:00,717 - DEBUG - Iteration 3/100\n",
      "2025-06-11 12:50:00,717 - DEBUG - Updating responsibilities\n",
      "2025-06-11 12:50:00,717 - DEBUG - Calculating the determinant of the covariance\n",
      "2025-06-11 12:50:00,721 - DEBUG - Updating gamma\n",
      "2025-06-11 12:50:00,722 - DEBUG - Updating beta\n",
      "2025-06-11 12:50:00,722 - DEBUG - Updating mu\n",
      "2025-06-11 12:50:00,722 - DEBUG - Updating W\n",
      "2025-06-11 12:50:00,723 - DEBUG - Updating nu\n",
      "2025-06-11 12:50:00,723 - DEBUG - Updating prior\n",
      "2025-06-11 12:50:00,727 - DEBUG - Calculating the determinant of the covariance\n",
      "2025-06-11 12:50:00,728 - DEBUG - Delta: -544.3341708776721\n",
      "2025-06-11 12:50:00,729 - DEBUG - Iteration 4/100\n",
      "2025-06-11 12:50:00,729 - DEBUG - Updating responsibilities\n",
      "2025-06-11 12:50:00,729 - DEBUG - Calculating the determinant of the covariance\n",
      "2025-06-11 12:50:00,732 - DEBUG - Updating gamma\n",
      "2025-06-11 12:50:00,733 - DEBUG - Updating beta\n",
      "2025-06-11 12:50:00,733 - DEBUG - Updating mu\n",
      "2025-06-11 12:50:00,733 - DEBUG - Updating W\n",
      "2025-06-11 12:50:00,734 - DEBUG - Updating nu\n",
      "2025-06-11 12:50:00,734 - DEBUG - Updating prior\n",
      "2025-06-11 12:50:00,748 - DEBUG - Calculating the determinant of the covariance\n",
      "2025-06-11 12:50:00,779 - DEBUG - Delta: 0.5216244663338925\n",
      "2025-06-11 12:50:00,780 - DEBUG - Iteration 5/100\n",
      "2025-06-11 12:50:00,781 - DEBUG - Updating responsibilities\n",
      "2025-06-11 12:50:00,781 - DEBUG - Calculating the determinant of the covariance\n",
      "2025-06-11 12:50:00,783 - DEBUG - Updating gamma\n",
      "2025-06-11 12:50:00,784 - DEBUG - Updating beta\n",
      "2025-06-11 12:50:00,784 - DEBUG - Updating mu\n",
      "2025-06-11 12:50:00,784 - DEBUG - Updating W\n",
      "2025-06-11 12:50:00,785 - DEBUG - Updating nu\n",
      "2025-06-11 12:50:00,786 - DEBUG - Updating prior\n",
      "2025-06-11 12:50:00,798 - DEBUG - Calculating the determinant of the covariance\n",
      "2025-06-11 12:50:00,798 - DEBUG - Delta: -516.1059030438103\n",
      "2025-06-11 12:50:00,799 - DEBUG - Iteration 6/100\n",
      "2025-06-11 12:50:00,799 - DEBUG - Updating responsibilities\n",
      "2025-06-11 12:50:00,800 - DEBUG - Calculating the determinant of the covariance\n",
      "2025-06-11 12:50:00,802 - DEBUG - Updating gamma\n",
      "2025-06-11 12:50:00,803 - DEBUG - Updating beta\n",
      "2025-06-11 12:50:00,804 - DEBUG - Updating mu\n",
      "2025-06-11 12:50:00,804 - DEBUG - Updating W\n",
      "2025-06-11 12:50:00,805 - DEBUG - Updating nu\n",
      "2025-06-11 12:50:00,805 - DEBUG - Updating prior\n",
      "2025-06-11 12:50:00,809 - DEBUG - Calculating the determinant of the covariance\n",
      "2025-06-11 12:50:00,810 - DEBUG - Delta: 0.45260082095401744\n",
      "2025-06-11 12:50:00,811 - DEBUG - Iteration 7/100\n",
      "2025-06-11 12:50:00,811 - DEBUG - Updating responsibilities\n",
      "2025-06-11 12:50:00,811 - DEBUG - Calculating the determinant of the covariance\n",
      "2025-06-11 12:50:00,814 - DEBUG - Updating gamma\n",
      "2025-06-11 12:50:00,814 - DEBUG - Updating beta\n",
      "2025-06-11 12:50:00,814 - DEBUG - Updating mu\n",
      "2025-06-11 12:50:00,815 - DEBUG - Updating W\n",
      "2025-06-11 12:50:00,816 - DEBUG - Updating nu\n",
      "2025-06-11 12:50:00,816 - DEBUG - Updating prior\n",
      "2025-06-11 12:50:00,820 - DEBUG - Calculating the determinant of the covariance\n",
      "2025-06-11 12:50:00,821 - DEBUG - Delta: -672.0693773600407\n",
      "2025-06-11 12:50:00,821 - DEBUG - Iteration 8/100\n",
      "2025-06-11 12:50:00,822 - DEBUG - Updating responsibilities\n",
      "2025-06-11 12:50:00,822 - DEBUG - Calculating the determinant of the covariance\n",
      "2025-06-11 12:50:00,825 - DEBUG - Updating gamma\n",
      "2025-06-11 12:50:00,825 - DEBUG - Updating beta\n",
      "2025-06-11 12:50:00,825 - DEBUG - Updating mu\n",
      "2025-06-11 12:50:00,826 - DEBUG - Updating W\n",
      "2025-06-11 12:50:00,827 - DEBUG - Updating nu\n",
      "2025-06-11 12:50:00,827 - DEBUG - Updating prior\n",
      "2025-06-11 12:50:00,831 - DEBUG - Calculating the determinant of the covariance\n",
      "2025-06-11 12:50:00,831 - DEBUG - Delta: 0.5102596030428426\n",
      "2025-06-11 12:50:00,832 - DEBUG - Iteration 9/100\n",
      "2025-06-11 12:50:00,832 - DEBUG - Updating responsibilities\n",
      "2025-06-11 12:50:00,833 - DEBUG - Calculating the determinant of the covariance\n",
      "2025-06-11 12:50:00,837 - DEBUG - Updating gamma\n",
      "2025-06-11 12:50:00,837 - DEBUG - Updating beta\n",
      "2025-06-11 12:50:00,837 - DEBUG - Updating mu\n",
      "2025-06-11 12:50:00,838 - DEBUG - Updating W\n",
      "2025-06-11 12:50:00,839 - DEBUG - Updating nu\n",
      "2025-06-11 12:50:00,839 - DEBUG - Updating prior\n",
      "2025-06-11 12:50:00,843 - DEBUG - Calculating the determinant of the covariance\n",
      "2025-06-11 12:50:00,843 - DEBUG - Delta: -698.4129792496612\n",
      "2025-06-11 12:50:00,844 - DEBUG - Iteration 10/100\n",
      "2025-06-11 12:50:00,844 - DEBUG - Updating responsibilities\n",
      "2025-06-11 12:50:00,844 - DEBUG - Calculating the determinant of the covariance\n",
      "2025-06-11 12:50:00,847 - DEBUG - Updating gamma\n",
      "2025-06-11 12:50:00,847 - DEBUG - Updating beta\n",
      "2025-06-11 12:50:00,848 - DEBUG - Updating mu\n",
      "2025-06-11 12:50:00,848 - DEBUG - Updating W\n",
      "2025-06-11 12:50:00,849 - DEBUG - Updating nu\n",
      "2025-06-11 12:50:00,849 - DEBUG - Updating prior\n",
      "2025-06-11 12:50:00,853 - DEBUG - Calculating the determinant of the covariance\n",
      "2025-06-11 12:50:00,854 - DEBUG - Delta: 0.45248445521156794\n",
      "2025-06-11 12:50:00,855 - DEBUG - Iteration 11/100\n",
      "2025-06-11 12:50:00,855 - DEBUG - Updating responsibilities\n",
      "2025-06-11 12:50:00,856 - DEBUG - Calculating the determinant of the covariance\n",
      "2025-06-11 12:50:00,859 - DEBUG - Updating gamma\n",
      "2025-06-11 12:50:00,859 - DEBUG - Updating beta\n",
      "2025-06-11 12:50:00,859 - DEBUG - Updating mu\n",
      "2025-06-11 12:50:00,860 - DEBUG - Updating W\n",
      "2025-06-11 12:50:00,861 - DEBUG - Updating nu\n",
      "2025-06-11 12:50:00,861 - DEBUG - Updating prior\n",
      "2025-06-11 12:50:00,865 - DEBUG - Calculating the determinant of the covariance\n",
      "2025-06-11 12:50:00,866 - DEBUG - Delta: -902.8579732034083\n",
      "2025-06-11 12:50:00,866 - DEBUG - Iteration 12/100\n",
      "2025-06-11 12:50:00,867 - DEBUG - Updating responsibilities\n",
      "2025-06-11 12:50:00,867 - DEBUG - Calculating the determinant of the covariance\n",
      "2025-06-11 12:50:00,871 - DEBUG - Updating gamma\n",
      "2025-06-11 12:50:00,872 - DEBUG - Updating beta\n",
      "2025-06-11 12:50:00,872 - DEBUG - Updating mu\n",
      "2025-06-11 12:50:00,872 - DEBUG - Updating W\n",
      "2025-06-11 12:50:00,873 - DEBUG - Updating nu\n",
      "2025-06-11 12:50:00,873 - DEBUG - Updating prior\n",
      "2025-06-11 12:50:00,877 - DEBUG - Calculating the determinant of the covariance\n",
      "2025-06-11 12:50:00,878 - DEBUG - Delta: 0.5210646399052861\n",
      "2025-06-11 12:50:00,879 - DEBUG - Iteration 13/100\n",
      "2025-06-11 12:50:00,879 - DEBUG - Updating responsibilities\n",
      "2025-06-11 12:50:00,879 - DEBUG - Calculating the determinant of the covariance\n",
      "2025-06-11 12:50:00,882 - DEBUG - Updating gamma\n",
      "2025-06-11 12:50:00,882 - DEBUG - Updating beta\n",
      "2025-06-11 12:50:00,883 - DEBUG - Updating mu\n",
      "2025-06-11 12:50:00,883 - DEBUG - Updating W\n",
      "2025-06-11 12:50:00,884 - DEBUG - Updating nu\n",
      "2025-06-11 12:50:00,884 - DEBUG - Updating prior\n",
      "2025-06-11 12:50:00,889 - DEBUG - Calculating the determinant of the covariance\n",
      "2025-06-11 12:50:00,890 - DEBUG - Delta: -862.6335494281414\n",
      "2025-06-11 12:50:00,890 - DEBUG - Iteration 14/100\n",
      "2025-06-11 12:50:00,891 - DEBUG - Updating responsibilities\n",
      "2025-06-11 12:50:00,891 - DEBUG - Calculating the determinant of the covariance\n",
      "2025-06-11 12:50:00,895 - DEBUG - Updating gamma\n",
      "2025-06-11 12:50:00,895 - DEBUG - Updating beta\n",
      "2025-06-11 12:50:00,895 - DEBUG - Updating mu\n",
      "2025-06-11 12:50:00,895 - DEBUG - Updating W\n",
      "2025-06-11 12:50:00,897 - DEBUG - Updating nu\n",
      "2025-06-11 12:50:00,897 - DEBUG - Updating prior\n",
      "2025-06-11 12:50:00,901 - DEBUG - Calculating the determinant of the covariance\n",
      "2025-06-11 12:50:00,902 - DEBUG - Delta: 0.4681103741882462\n",
      "2025-06-11 12:50:00,903 - DEBUG - Iteration 15/100\n",
      "2025-06-11 12:50:00,903 - DEBUG - Updating responsibilities\n",
      "2025-06-11 12:50:00,903 - DEBUG - Calculating the determinant of the covariance\n"
     ]
    },
    {
     "name": "stderr",
     "output_type": "stream",
     "text": [
      "/Users/ismaelmarin/Documents/Projects/clustlib/clustlib/nonparam/tvclust.py:614: RuntimeWarning:\n",
      "\n",
      "invalid value encountered in divide\n",
      "\n"
     ]
    },
    {
     "name": "stdout",
     "output_type": "stream",
     "text": [
      "2025-06-11 12:50:00,909 - DEBUG - Updating gamma\n",
      "2025-06-11 12:50:00,909 - DEBUG - Updating beta\n",
      "2025-06-11 12:50:00,909 - DEBUG - Updating mu\n",
      "2025-06-11 12:50:00,910 - DEBUG - Updating W\n",
      "2025-06-11 12:50:00,911 - DEBUG - Updating nu\n",
      "2025-06-11 12:50:00,911 - DEBUG - Updating prior\n",
      "2025-06-11 12:50:00,916 - DEBUG - Calculating the determinant of the covariance\n",
      "2025-06-11 12:50:00,916 - DEBUG - Delta: -995.4066454220367\n",
      "2025-06-11 12:50:00,917 - DEBUG - Iteration 16/100\n",
      "2025-06-11 12:50:00,918 - DEBUG - Updating responsibilities\n",
      "2025-06-11 12:50:00,918 - DEBUG - Calculating the determinant of the covariance\n",
      "2025-06-11 12:50:00,923 - DEBUG - Updating gamma\n",
      "2025-06-11 12:50:00,923 - DEBUG - Updating beta\n",
      "2025-06-11 12:50:00,923 - DEBUG - Updating mu\n",
      "2025-06-11 12:50:00,923 - DEBUG - Updating W\n",
      "2025-06-11 12:50:00,925 - DEBUG - Updating nu\n",
      "2025-06-11 12:50:00,925 - DEBUG - Updating prior\n",
      "2025-06-11 12:50:00,929 - DEBUG - Calculating the determinant of the covariance\n",
      "2025-06-11 12:50:00,930 - DEBUG - Delta: 0.5261192396928535\n",
      "2025-06-11 12:50:00,930 - DEBUG - Iteration 17/100\n",
      "2025-06-11 12:50:00,930 - DEBUG - Updating responsibilities\n",
      "2025-06-11 12:50:00,931 - DEBUG - Calculating the determinant of the covariance\n",
      "2025-06-11 12:50:00,933 - DEBUG - Updating gamma\n",
      "2025-06-11 12:50:00,933 - DEBUG - Updating beta\n",
      "2025-06-11 12:50:00,934 - DEBUG - Updating mu\n",
      "2025-06-11 12:50:00,935 - DEBUG - Updating W\n",
      "2025-06-11 12:50:00,935 - DEBUG - Updating nu\n",
      "2025-06-11 12:50:00,936 - DEBUG - Updating prior\n",
      "2025-06-11 12:50:00,971 - DEBUG - Calculating the determinant of the covariance\n",
      "2025-06-11 12:50:01,004 - DEBUG - Delta: -910.464746653563\n",
      "2025-06-11 12:50:01,013 - DEBUG - Iteration 18/100\n",
      "2025-06-11 12:50:01,015 - DEBUG - Updating responsibilities\n",
      "2025-06-11 12:50:01,016 - DEBUG - Calculating the determinant of the covariance\n",
      "2025-06-11 12:50:01,053 - DEBUG - Updating gamma\n",
      "2025-06-11 12:50:01,053 - DEBUG - Updating beta\n",
      "2025-06-11 12:50:01,053 - DEBUG - Updating mu\n",
      "2025-06-11 12:50:01,057 - DEBUG - Updating W\n",
      "2025-06-11 12:50:01,059 - DEBUG - Updating nu\n",
      "2025-06-11 12:50:01,060 - DEBUG - Updating prior\n",
      "2025-06-11 12:50:01,075 - DEBUG - Calculating the determinant of the covariance\n",
      "2025-06-11 12:50:01,076 - DEBUG - Delta: 0.46727578461072816\n",
      "2025-06-11 12:50:01,076 - DEBUG - Iteration 19/100\n",
      "2025-06-11 12:50:01,077 - DEBUG - Updating responsibilities\n",
      "2025-06-11 12:50:01,077 - DEBUG - Calculating the determinant of the covariance\n",
      "2025-06-11 12:50:01,080 - DEBUG - Updating gamma\n",
      "2025-06-11 12:50:01,080 - DEBUG - Updating beta\n",
      "2025-06-11 12:50:01,080 - DEBUG - Updating mu\n",
      "2025-06-11 12:50:01,081 - DEBUG - Updating W\n",
      "2025-06-11 12:50:01,081 - DEBUG - Updating nu\n",
      "2025-06-11 12:50:01,082 - DEBUG - Updating prior\n",
      "2025-06-11 12:50:01,086 - DEBUG - Calculating the determinant of the covariance\n",
      "2025-06-11 12:50:01,087 - DEBUG - Delta: -1048.09282215858\n",
      "2025-06-11 12:50:01,087 - DEBUG - Iteration 20/100\n",
      "2025-06-11 12:50:01,088 - DEBUG - Updating responsibilities\n",
      "2025-06-11 12:50:01,088 - DEBUG - Calculating the determinant of the covariance\n",
      "2025-06-11 12:50:01,091 - DEBUG - Updating gamma\n",
      "2025-06-11 12:50:01,092 - DEBUG - Updating beta\n",
      "2025-06-11 12:50:01,092 - DEBUG - Updating mu\n",
      "2025-06-11 12:50:01,092 - DEBUG - Updating W\n",
      "2025-06-11 12:50:01,093 - DEBUG - Updating nu\n",
      "2025-06-11 12:50:01,093 - DEBUG - Updating prior\n",
      "2025-06-11 12:50:01,097 - DEBUG - Calculating the determinant of the covariance\n",
      "2025-06-11 12:50:01,098 - DEBUG - Delta: 0.5301735310455247\n",
      "2025-06-11 12:50:01,099 - DEBUG - Iteration 21/100\n",
      "2025-06-11 12:50:01,099 - DEBUG - Updating responsibilities\n",
      "2025-06-11 12:50:01,099 - DEBUG - Calculating the determinant of the covariance\n",
      "2025-06-11 12:50:01,102 - DEBUG - Updating gamma\n",
      "2025-06-11 12:50:01,103 - DEBUG - Updating beta\n",
      "2025-06-11 12:50:01,103 - DEBUG - Updating mu\n",
      "2025-06-11 12:50:01,103 - DEBUG - Updating W\n",
      "2025-06-11 12:50:01,104 - DEBUG - Updating nu\n",
      "2025-06-11 12:50:01,105 - DEBUG - Updating prior\n",
      "2025-06-11 12:50:01,108 - DEBUG - Calculating the determinant of the covariance\n",
      "2025-06-11 12:50:01,109 - DEBUG - Delta: -937.09022819238\n",
      "2025-06-11 12:50:01,110 - DEBUG - Iteration 22/100\n",
      "2025-06-11 12:50:01,110 - DEBUG - Updating responsibilities\n",
      "2025-06-11 12:50:01,110 - DEBUG - Calculating the determinant of the covariance\n",
      "2025-06-11 12:50:01,114 - DEBUG - Updating gamma\n",
      "2025-06-11 12:50:01,114 - DEBUG - Updating beta\n",
      "2025-06-11 12:50:01,114 - DEBUG - Updating mu\n",
      "2025-06-11 12:50:01,114 - DEBUG - Updating W\n",
      "2025-06-11 12:50:01,116 - DEBUG - Updating nu\n",
      "2025-06-11 12:50:01,116 - DEBUG - Updating prior\n",
      "2025-06-11 12:50:01,120 - DEBUG - Calculating the determinant of the covariance\n",
      "2025-06-11 12:50:01,121 - DEBUG - Delta: 0.46370812227801794\n",
      "2025-06-11 12:50:01,121 - DEBUG - Iteration 23/100\n",
      "2025-06-11 12:50:01,122 - DEBUG - Updating responsibilities\n",
      "2025-06-11 12:50:01,122 - DEBUG - Calculating the determinant of the covariance\n",
      "2025-06-11 12:50:01,125 - DEBUG - Updating gamma\n",
      "2025-06-11 12:50:01,126 - DEBUG - Updating beta\n",
      "2025-06-11 12:50:01,126 - DEBUG - Updating mu\n",
      "2025-06-11 12:50:01,126 - DEBUG - Updating W\n",
      "2025-06-11 12:50:01,127 - DEBUG - Updating nu\n",
      "2025-06-11 12:50:01,127 - DEBUG - Updating prior\n",
      "2025-06-11 12:50:01,130 - DEBUG - Calculating the determinant of the covariance\n",
      "2025-06-11 12:50:01,131 - DEBUG - Delta: -1105.0630494806235\n",
      "2025-06-11 12:50:01,132 - DEBUG - Iteration 24/100\n",
      "2025-06-11 12:50:01,132 - DEBUG - Updating responsibilities\n",
      "2025-06-11 12:50:01,132 - DEBUG - Calculating the determinant of the covariance\n",
      "2025-06-11 12:50:01,136 - DEBUG - Updating gamma\n",
      "2025-06-11 12:50:01,136 - DEBUG - Updating beta\n",
      "2025-06-11 12:50:01,136 - DEBUG - Updating mu\n",
      "2025-06-11 12:50:01,137 - DEBUG - Updating W\n",
      "2025-06-11 12:50:01,138 - DEBUG - Updating nu\n",
      "2025-06-11 12:50:01,138 - DEBUG - Updating prior\n",
      "2025-06-11 12:50:01,142 - DEBUG - Calculating the determinant of the covariance\n",
      "2025-06-11 12:50:01,143 - DEBUG - Delta: 0.5266518566403926\n",
      "2025-06-11 12:50:01,143 - DEBUG - Iteration 25/100\n",
      "2025-06-11 12:50:01,143 - DEBUG - Updating responsibilities\n",
      "2025-06-11 12:50:01,144 - DEBUG - Calculating the determinant of the covariance\n",
      "2025-06-11 12:50:01,147 - DEBUG - Updating gamma\n",
      "2025-06-11 12:50:01,147 - DEBUG - Updating beta\n",
      "2025-06-11 12:50:01,148 - DEBUG - Updating mu\n",
      "2025-06-11 12:50:01,148 - DEBUG - Updating W\n",
      "2025-06-11 12:50:01,149 - DEBUG - Updating nu\n",
      "2025-06-11 12:50:01,149 - DEBUG - Updating prior\n",
      "2025-06-11 12:50:01,153 - DEBUG - Calculating the determinant of the covariance\n",
      "2025-06-11 12:50:01,154 - DEBUG - Delta: -1016.327061465509\n",
      "2025-06-11 12:50:01,155 - DEBUG - Iteration 26/100\n",
      "2025-06-11 12:50:01,155 - DEBUG - Updating responsibilities\n",
      "2025-06-11 12:50:01,155 - DEBUG - Calculating the determinant of the covariance\n",
      "2025-06-11 12:50:01,158 - DEBUG - Updating gamma\n",
      "2025-06-11 12:50:01,159 - DEBUG - Updating beta\n",
      "2025-06-11 12:50:01,159 - DEBUG - Updating mu\n",
      "2025-06-11 12:50:01,159 - DEBUG - Updating W\n",
      "2025-06-11 12:50:01,160 - DEBUG - Updating nu\n",
      "2025-06-11 12:50:01,160 - DEBUG - Updating prior\n",
      "2025-06-11 12:50:01,164 - DEBUG - Calculating the determinant of the covariance\n",
      "2025-06-11 12:50:01,165 - DEBUG - Delta: 0.4627285224671972\n",
      "2025-06-11 12:50:01,165 - DEBUG - Iteration 27/100\n",
      "2025-06-11 12:50:01,165 - DEBUG - Updating responsibilities\n",
      "2025-06-11 12:50:01,166 - DEBUG - Calculating the determinant of the covariance\n",
      "2025-06-11 12:50:01,169 - DEBUG - Updating gamma\n",
      "2025-06-11 12:50:01,170 - DEBUG - Updating beta\n",
      "2025-06-11 12:50:01,170 - DEBUG - Updating mu\n",
      "2025-06-11 12:50:01,170 - DEBUG - Updating W\n",
      "2025-06-11 12:50:01,172 - DEBUG - Updating nu\n",
      "2025-06-11 12:50:01,172 - DEBUG - Updating prior\n",
      "2025-06-11 12:50:01,176 - DEBUG - Calculating the determinant of the covariance\n",
      "2025-06-11 12:50:01,177 - DEBUG - Delta: -1195.5461062912357\n",
      "2025-06-11 12:50:01,177 - DEBUG - Iteration 28/100\n",
      "2025-06-11 12:50:01,177 - DEBUG - Updating responsibilities\n",
      "2025-06-11 12:50:01,177 - DEBUG - Calculating the determinant of the covariance\n",
      "2025-06-11 12:50:01,181 - DEBUG - Updating gamma\n",
      "2025-06-11 12:50:01,181 - DEBUG - Updating beta\n",
      "2025-06-11 12:50:01,181 - DEBUG - Updating mu\n",
      "2025-06-11 12:50:01,181 - DEBUG - Updating W\n",
      "2025-06-11 12:50:01,182 - DEBUG - Updating nu\n",
      "2025-06-11 12:50:01,183 - DEBUG - Updating prior\n",
      "2025-06-11 12:50:01,187 - DEBUG - Calculating the determinant of the covariance\n",
      "2025-06-11 12:50:01,187 - DEBUG - Delta: 0.5365365914162395\n",
      "2025-06-11 12:50:01,188 - DEBUG - Iteration 29/100\n",
      "2025-06-11 12:50:01,188 - DEBUG - Updating responsibilities\n",
      "2025-06-11 12:50:01,188 - DEBUG - Calculating the determinant of the covariance\n",
      "2025-06-11 12:50:01,191 - DEBUG - Updating gamma\n",
      "2025-06-11 12:50:01,192 - DEBUG - Updating beta\n",
      "2025-06-11 12:50:01,192 - DEBUG - Updating mu\n",
      "2025-06-11 12:50:01,192 - DEBUG - Updating W\n",
      "2025-06-11 12:50:01,193 - DEBUG - Updating nu\n",
      "2025-06-11 12:50:01,193 - DEBUG - Updating prior\n",
      "2025-06-11 12:50:01,196 - DEBUG - Calculating the determinant of the covariance\n",
      "2025-06-11 12:50:01,197 - DEBUG - Delta: -1032.669243936222\n",
      "2025-06-11 12:50:01,198 - DEBUG - Iteration 30/100\n",
      "2025-06-11 12:50:01,198 - DEBUG - Updating responsibilities\n",
      "2025-06-11 12:50:01,198 - DEBUG - Calculating the determinant of the covariance\n",
      "2025-06-11 12:50:01,236 - DEBUG - Updating gamma\n",
      "2025-06-11 12:50:01,237 - DEBUG - Updating beta\n",
      "2025-06-11 12:50:01,238 - DEBUG - Updating mu\n",
      "2025-06-11 12:50:01,238 - DEBUG - Updating W\n",
      "2025-06-11 12:50:01,240 - DEBUG - Updating nu\n",
      "2025-06-11 12:50:01,240 - DEBUG - Updating prior\n",
      "2025-06-11 12:50:01,246 - DEBUG - Calculating the determinant of the covariance\n",
      "2025-06-11 12:50:01,250 - DEBUG - Delta: 0.46546763510139355\n",
      "2025-06-11 12:50:01,253 - DEBUG - Iteration 31/100\n",
      "2025-06-11 12:50:01,253 - DEBUG - Updating responsibilities\n",
      "2025-06-11 12:50:01,254 - DEBUG - Calculating the determinant of the covariance\n",
      "2025-06-11 12:50:01,256 - DEBUG - Updating gamma\n",
      "2025-06-11 12:50:01,257 - DEBUG - Updating beta\n",
      "2025-06-11 12:50:01,257 - DEBUG - Updating mu\n",
      "2025-06-11 12:50:01,257 - DEBUG - Updating W\n",
      "2025-06-11 12:50:01,258 - DEBUG - Updating nu\n",
      "2025-06-11 12:50:01,259 - DEBUG - Updating prior\n",
      "2025-06-11 12:50:01,263 - DEBUG - Calculating the determinant of the covariance\n",
      "2025-06-11 12:50:01,263 - DEBUG - Delta: -1183.881012881493\n",
      "2025-06-11 12:50:01,264 - DEBUG - Iteration 32/100\n",
      "2025-06-11 12:50:01,264 - DEBUG - Updating responsibilities\n",
      "2025-06-11 12:50:01,264 - DEBUG - Calculating the determinant of the covariance\n",
      "2025-06-11 12:50:01,267 - DEBUG - Updating gamma\n",
      "2025-06-11 12:50:01,267 - DEBUG - Updating beta\n",
      "2025-06-11 12:50:01,267 - DEBUG - Updating mu\n",
      "2025-06-11 12:50:01,268 - DEBUG - Updating W\n",
      "2025-06-11 12:50:01,268 - DEBUG - Updating nu\n",
      "2025-06-11 12:50:01,269 - DEBUG - Updating prior\n",
      "2025-06-11 12:50:01,273 - DEBUG - Calculating the determinant of the covariance\n",
      "2025-06-11 12:50:01,273 - DEBUG - Delta: 0.5365592804246974\n",
      "2025-06-11 12:50:01,274 - DEBUG - Iteration 33/100\n",
      "2025-06-11 12:50:01,274 - DEBUG - Updating responsibilities\n",
      "2025-06-11 12:50:01,274 - DEBUG - Calculating the determinant of the covariance\n",
      "2025-06-11 12:50:01,278 - DEBUG - Updating gamma\n",
      "2025-06-11 12:50:01,278 - DEBUG - Updating beta\n",
      "2025-06-11 12:50:01,278 - DEBUG - Updating mu\n",
      "2025-06-11 12:50:01,278 - DEBUG - Updating W\n",
      "2025-06-11 12:50:01,279 - DEBUG - Updating nu\n",
      "2025-06-11 12:50:01,280 - DEBUG - Updating prior\n",
      "2025-06-11 12:50:01,283 - DEBUG - Calculating the determinant of the covariance\n",
      "2025-06-11 12:50:01,284 - DEBUG - Delta: -1021.9078518934105\n",
      "2025-06-11 12:50:01,285 - DEBUG - Iteration 34/100\n",
      "2025-06-11 12:50:01,285 - DEBUG - Updating responsibilities\n",
      "2025-06-11 12:50:01,285 - DEBUG - Calculating the determinant of the covariance\n",
      "2025-06-11 12:50:01,288 - DEBUG - Updating gamma\n",
      "2025-06-11 12:50:01,289 - DEBUG - Updating beta\n",
      "2025-06-11 12:50:01,289 - DEBUG - Updating mu\n",
      "2025-06-11 12:50:01,289 - DEBUG - Updating W\n",
      "2025-06-11 12:50:01,290 - DEBUG - Updating nu\n",
      "2025-06-11 12:50:01,290 - DEBUG - Updating prior\n",
      "2025-06-11 12:50:01,294 - DEBUG - Calculating the determinant of the covariance\n",
      "2025-06-11 12:50:01,294 - DEBUG - Delta: 0.4640946964110274\n",
      "2025-06-11 12:50:01,295 - DEBUG - Iteration 35/100\n",
      "2025-06-11 12:50:01,295 - DEBUG - Updating responsibilities\n",
      "2025-06-11 12:50:01,295 - DEBUG - Calculating the determinant of the covariance\n",
      "2025-06-11 12:50:01,299 - DEBUG - Updating gamma\n",
      "2025-06-11 12:50:01,299 - DEBUG - Updating beta\n",
      "2025-06-11 12:50:01,299 - DEBUG - Updating mu\n",
      "2025-06-11 12:50:01,300 - DEBUG - Updating W\n",
      "2025-06-11 12:50:01,301 - DEBUG - Updating nu\n",
      "2025-06-11 12:50:01,301 - DEBUG - Updating prior\n",
      "2025-06-11 12:50:01,306 - DEBUG - Calculating the determinant of the covariance\n",
      "2025-06-11 12:50:01,307 - DEBUG - Delta: -1187.987516995609\n",
      "2025-06-11 12:50:01,308 - DEBUG - Iteration 36/100\n",
      "2025-06-11 12:50:01,308 - DEBUG - Updating responsibilities\n",
      "2025-06-11 12:50:01,308 - DEBUG - Calculating the determinant of the covariance\n",
      "2025-06-11 12:50:01,311 - DEBUG - Updating gamma\n",
      "2025-06-11 12:50:01,311 - DEBUG - Updating beta\n",
      "2025-06-11 12:50:01,311 - DEBUG - Updating mu\n",
      "2025-06-11 12:50:01,312 - DEBUG - Updating W\n",
      "2025-06-11 12:50:01,312 - DEBUG - Updating nu\n",
      "2025-06-11 12:50:01,313 - DEBUG - Updating prior\n",
      "2025-06-11 12:50:01,317 - DEBUG - Calculating the determinant of the covariance\n",
      "2025-06-11 12:50:01,318 - DEBUG - Delta: 0.5307013727288178\n",
      "2025-06-11 12:50:01,318 - DEBUG - Iteration 37/100\n",
      "2025-06-11 12:50:01,319 - DEBUG - Updating responsibilities\n",
      "2025-06-11 12:50:01,319 - DEBUG - Calculating the determinant of the covariance\n",
      "2025-06-11 12:50:01,322 - DEBUG - Updating gamma\n",
      "2025-06-11 12:50:01,322 - DEBUG - Updating beta\n",
      "2025-06-11 12:50:01,323 - DEBUG - Updating mu\n",
      "2025-06-11 12:50:01,324 - DEBUG - Updating W\n",
      "2025-06-11 12:50:01,325 - DEBUG - Updating nu\n",
      "2025-06-11 12:50:01,325 - DEBUG - Updating prior\n",
      "2025-06-11 12:50:01,330 - DEBUG - Calculating the determinant of the covariance\n",
      "2025-06-11 12:50:01,331 - DEBUG - Delta: -1075.8980917231193\n",
      "2025-06-11 12:50:01,331 - DEBUG - Iteration 38/100\n",
      "2025-06-11 12:50:01,332 - DEBUG - Updating responsibilities\n",
      "2025-06-11 12:50:01,332 - DEBUG - Calculating the determinant of the covariance\n",
      "2025-06-11 12:50:01,336 - DEBUG - Updating gamma\n",
      "2025-06-11 12:50:01,336 - DEBUG - Updating beta\n",
      "2025-06-11 12:50:01,336 - DEBUG - Updating mu\n",
      "2025-06-11 12:50:01,337 - DEBUG - Updating W\n",
      "2025-06-11 12:50:01,338 - DEBUG - Updating nu\n",
      "2025-06-11 12:50:01,338 - DEBUG - Updating prior\n",
      "2025-06-11 12:50:01,344 - DEBUG - Calculating the determinant of the covariance\n",
      "2025-06-11 12:50:01,344 - DEBUG - Delta: 0.4597078180314459\n",
      "2025-06-11 12:50:01,345 - DEBUG - Iteration 39/100\n",
      "2025-06-11 12:50:01,345 - DEBUG - Updating responsibilities\n",
      "2025-06-11 12:50:01,345 - DEBUG - Calculating the determinant of the covariance\n",
      "2025-06-11 12:50:01,348 - DEBUG - Updating gamma\n",
      "2025-06-11 12:50:01,348 - DEBUG - Updating beta\n",
      "2025-06-11 12:50:01,348 - DEBUG - Updating mu\n",
      "2025-06-11 12:50:01,349 - DEBUG - Updating W\n",
      "2025-06-11 12:50:01,350 - DEBUG - Updating nu\n",
      "2025-06-11 12:50:01,350 - DEBUG - Updating prior\n",
      "2025-06-11 12:50:01,354 - DEBUG - Calculating the determinant of the covariance\n",
      "2025-06-11 12:50:01,355 - DEBUG - Delta: -1278.1935945316748\n",
      "2025-06-11 12:50:01,358 - DEBUG - Iteration 40/100\n",
      "2025-06-11 12:50:01,358 - DEBUG - Updating responsibilities\n",
      "2025-06-11 12:50:01,358 - DEBUG - Calculating the determinant of the covariance\n",
      "2025-06-11 12:50:01,361 - DEBUG - Updating gamma\n",
      "2025-06-11 12:50:01,362 - DEBUG - Updating beta\n",
      "2025-06-11 12:50:01,362 - DEBUG - Updating mu\n",
      "2025-06-11 12:50:01,362 - DEBUG - Updating W\n",
      "2025-06-11 12:50:01,364 - DEBUG - Updating nu\n",
      "2025-06-11 12:50:01,364 - DEBUG - Updating prior\n",
      "2025-06-11 12:50:01,368 - DEBUG - Calculating the determinant of the covariance\n",
      "2025-06-11 12:50:01,369 - DEBUG - Delta: 0.5385834485782683\n",
      "2025-06-11 12:50:01,370 - DEBUG - Iteration 41/100\n",
      "2025-06-11 12:50:01,370 - DEBUG - Updating responsibilities\n",
      "2025-06-11 12:50:01,370 - DEBUG - Calculating the determinant of the covariance\n",
      "2025-06-11 12:50:01,374 - DEBUG - Updating gamma\n",
      "2025-06-11 12:50:01,375 - DEBUG - Updating beta\n",
      "2025-06-11 12:50:01,375 - DEBUG - Updating mu\n",
      "2025-06-11 12:50:01,375 - DEBUG - Updating W\n",
      "2025-06-11 12:50:01,376 - DEBUG - Updating nu\n",
      "2025-06-11 12:50:01,376 - DEBUG - Updating prior\n",
      "2025-06-11 12:50:01,380 - DEBUG - Calculating the determinant of the covariance\n",
      "2025-06-11 12:50:01,380 - DEBUG - Delta: -1096.8034925826103\n",
      "2025-06-11 12:50:01,381 - DEBUG - Iteration 42/100\n",
      "2025-06-11 12:50:01,381 - DEBUG - Updating responsibilities\n",
      "2025-06-11 12:50:01,381 - DEBUG - Calculating the determinant of the covariance\n",
      "2025-06-11 12:50:01,384 - DEBUG - Updating gamma\n",
      "2025-06-11 12:50:01,384 - DEBUG - Updating beta\n",
      "2025-06-11 12:50:01,385 - DEBUG - Updating mu\n",
      "2025-06-11 12:50:01,385 - DEBUG - Updating W\n",
      "2025-06-11 12:50:01,386 - DEBUG - Updating nu\n",
      "2025-06-11 12:50:01,386 - DEBUG - Updating prior\n",
      "2025-06-11 12:50:01,434 - DEBUG - Calculating the determinant of the covariance\n",
      "2025-06-11 12:50:01,435 - DEBUG - Delta: 0.4623453640723237\n",
      "2025-06-11 12:50:01,436 - DEBUG - Iteration 43/100\n",
      "2025-06-11 12:50:01,436 - DEBUG - Updating responsibilities\n",
      "2025-06-11 12:50:01,437 - DEBUG - Calculating the determinant of the covariance\n",
      "2025-06-11 12:50:01,440 - DEBUG - Updating gamma\n",
      "2025-06-11 12:50:01,442 - DEBUG - Updating beta\n",
      "2025-06-11 12:50:01,447 - DEBUG - Updating mu\n",
      "2025-06-11 12:50:01,449 - DEBUG - Updating W\n",
      "2025-06-11 12:50:01,451 - DEBUG - Updating nu\n",
      "2025-06-11 12:50:01,453 - DEBUG - Updating prior\n",
      "2025-06-11 12:50:01,460 - DEBUG - Calculating the determinant of the covariance\n",
      "2025-06-11 12:50:01,461 - DEBUG - Delta: -1272.6077072967826\n",
      "2025-06-11 12:50:01,461 - DEBUG - Iteration 44/100\n",
      "2025-06-11 12:50:01,462 - DEBUG - Updating responsibilities\n",
      "2025-06-11 12:50:01,462 - DEBUG - Calculating the determinant of the covariance\n",
      "2025-06-11 12:50:01,465 - DEBUG - Updating gamma\n",
      "2025-06-11 12:50:01,465 - DEBUG - Updating beta\n",
      "2025-06-11 12:50:01,465 - DEBUG - Updating mu\n",
      "2025-06-11 12:50:01,465 - DEBUG - Updating W\n",
      "2025-06-11 12:50:01,467 - DEBUG - Updating nu\n",
      "2025-06-11 12:50:01,467 - DEBUG - Updating prior\n",
      "2025-06-11 12:50:01,472 - DEBUG - Calculating the determinant of the covariance\n",
      "2025-06-11 12:50:01,473 - DEBUG - Delta: 0.5401312414808946\n",
      "2025-06-11 12:50:01,473 - DEBUG - Iteration 45/100\n",
      "2025-06-11 12:50:01,474 - DEBUG - Updating responsibilities\n",
      "2025-06-11 12:50:01,475 - DEBUG - Calculating the determinant of the covariance\n",
      "2025-06-11 12:50:01,479 - DEBUG - Updating gamma\n",
      "2025-06-11 12:50:01,479 - DEBUG - Updating beta\n",
      "2025-06-11 12:50:01,479 - DEBUG - Updating mu\n",
      "2025-06-11 12:50:01,480 - DEBUG - Updating W\n",
      "2025-06-11 12:50:01,481 - DEBUG - Updating nu\n",
      "2025-06-11 12:50:01,481 - DEBUG - Updating prior\n",
      "2025-06-11 12:50:01,485 - DEBUG - Calculating the determinant of the covariance\n",
      "2025-06-11 12:50:01,487 - DEBUG - Delta: -1077.4128861363533\n",
      "2025-06-11 12:50:01,488 - DEBUG - Iteration 46/100\n",
      "2025-06-11 12:50:01,488 - DEBUG - Updating responsibilities\n",
      "2025-06-11 12:50:01,488 - DEBUG - Calculating the determinant of the covariance\n",
      "2025-06-11 12:50:01,492 - DEBUG - Updating gamma\n",
      "2025-06-11 12:50:01,492 - DEBUG - Updating beta\n",
      "2025-06-11 12:50:01,492 - DEBUG - Updating mu\n",
      "2025-06-11 12:50:01,493 - DEBUG - Updating W\n",
      "2025-06-11 12:50:01,494 - DEBUG - Updating nu\n",
      "2025-06-11 12:50:01,494 - DEBUG - Updating prior\n",
      "2025-06-11 12:50:01,498 - DEBUG - Calculating the determinant of the covariance\n",
      "2025-06-11 12:50:01,499 - DEBUG - Delta: 0.46375444696650364\n",
      "2025-06-11 12:50:01,500 - DEBUG - Iteration 47/100\n",
      "2025-06-11 12:50:01,500 - DEBUG - Updating responsibilities\n",
      "2025-06-11 12:50:01,500 - DEBUG - Calculating the determinant of the covariance\n",
      "2025-06-11 12:50:01,504 - DEBUG - Updating gamma\n",
      "2025-06-11 12:50:01,504 - DEBUG - Updating beta\n",
      "2025-06-11 12:50:01,504 - DEBUG - Updating mu\n",
      "2025-06-11 12:50:01,505 - DEBUG - Updating W\n",
      "2025-06-11 12:50:01,506 - DEBUG - Updating nu\n",
      "2025-06-11 12:50:01,506 - DEBUG - Updating prior\n",
      "2025-06-11 12:50:01,510 - DEBUG - Calculating the determinant of the covariance\n",
      "2025-06-11 12:50:01,511 - DEBUG - Delta: -1243.6739508055352\n",
      "2025-06-11 12:50:01,512 - DEBUG - Iteration 48/100\n",
      "2025-06-11 12:50:01,512 - DEBUG - Updating responsibilities\n",
      "2025-06-11 12:50:01,512 - DEBUG - Calculating the determinant of the covariance\n",
      "2025-06-11 12:50:01,516 - DEBUG - Updating gamma\n",
      "2025-06-11 12:50:01,516 - DEBUG - Updating beta\n",
      "2025-06-11 12:50:01,517 - DEBUG - Updating mu\n",
      "2025-06-11 12:50:01,518 - DEBUG - Updating W\n",
      "2025-06-11 12:50:01,520 - DEBUG - Updating nu\n",
      "2025-06-11 12:50:01,520 - DEBUG - Updating prior\n",
      "2025-06-11 12:50:01,526 - DEBUG - Calculating the determinant of the covariance\n",
      "2025-06-11 12:50:01,527 - DEBUG - Delta: 0.5344639525923792\n",
      "2025-06-11 12:50:01,528 - DEBUG - Iteration 49/100\n",
      "2025-06-11 12:50:01,528 - DEBUG - Updating responsibilities\n",
      "2025-06-11 12:50:01,528 - DEBUG - Calculating the determinant of the covariance\n",
      "2025-06-11 12:50:01,533 - DEBUG - Updating gamma\n",
      "2025-06-11 12:50:01,533 - DEBUG - Updating beta\n",
      "2025-06-11 12:50:01,533 - DEBUG - Updating mu\n",
      "2025-06-11 12:50:01,534 - DEBUG - Updating W\n",
      "2025-06-11 12:50:01,536 - DEBUG - Updating nu\n",
      "2025-06-11 12:50:01,536 - DEBUG - Updating prior\n",
      "2025-06-11 12:50:01,541 - DEBUG - Calculating the determinant of the covariance\n",
      "2025-06-11 12:50:01,543 - DEBUG - Delta: -1097.741593093542\n",
      "2025-06-11 12:50:01,544 - DEBUG - Iteration 50/100\n",
      "2025-06-11 12:50:01,544 - DEBUG - Updating responsibilities\n",
      "2025-06-11 12:50:01,545 - DEBUG - Calculating the determinant of the covariance\n",
      "2025-06-11 12:50:01,549 - DEBUG - Updating gamma\n",
      "2025-06-11 12:50:01,549 - DEBUG - Updating beta\n",
      "2025-06-11 12:50:01,549 - DEBUG - Updating mu\n",
      "2025-06-11 12:50:01,550 - DEBUG - Updating W\n",
      "2025-06-11 12:50:01,551 - DEBUG - Updating nu\n",
      "2025-06-11 12:50:01,552 - DEBUG - Updating prior\n",
      "2025-06-11 12:50:01,557 - DEBUG - Calculating the determinant of the covariance\n",
      "2025-06-11 12:50:01,558 - DEBUG - Delta: 0.4539986155866678\n",
      "2025-06-11 12:50:01,558 - DEBUG - Iteration 51/100\n",
      "2025-06-11 12:50:01,558 - DEBUG - Updating responsibilities\n",
      "2025-06-11 12:50:01,559 - DEBUG - Calculating the determinant of the covariance\n",
      "2025-06-11 12:50:01,561 - DEBUG - Updating gamma\n",
      "2025-06-11 12:50:01,561 - DEBUG - Updating beta\n",
      "2025-06-11 12:50:01,562 - DEBUG - Updating mu\n",
      "2025-06-11 12:50:01,562 - DEBUG - Updating W\n",
      "2025-06-11 12:50:01,563 - DEBUG - Updating nu\n",
      "2025-06-11 12:50:01,563 - DEBUG - Updating prior\n",
      "2025-06-11 12:50:01,567 - DEBUG - Calculating the determinant of the covariance\n",
      "2025-06-11 12:50:01,568 - DEBUG - Delta: -1353.0441920084327\n",
      "2025-06-11 12:50:01,570 - DEBUG - Iteration 52/100\n",
      "2025-06-11 12:50:01,570 - DEBUG - Updating responsibilities\n",
      "2025-06-11 12:50:01,571 - DEBUG - Calculating the determinant of the covariance\n",
      "2025-06-11 12:50:01,574 - DEBUG - Updating gamma\n",
      "2025-06-11 12:50:01,574 - DEBUG - Updating beta\n",
      "2025-06-11 12:50:01,574 - DEBUG - Updating mu\n",
      "2025-06-11 12:50:01,575 - DEBUG - Updating W\n",
      "2025-06-11 12:50:01,578 - DEBUG - Updating nu\n",
      "2025-06-11 12:50:01,592 - DEBUG - Updating prior\n",
      "2025-06-11 12:50:01,623 - DEBUG - Calculating the determinant of the covariance\n",
      "2025-06-11 12:50:01,624 - DEBUG - Delta: 0.5392041015661126\n",
      "2025-06-11 12:50:01,626 - DEBUG - Iteration 53/100\n",
      "2025-06-11 12:50:01,628 - DEBUG - Updating responsibilities\n",
      "2025-06-11 12:50:01,630 - DEBUG - Calculating the determinant of the covariance\n",
      "2025-06-11 12:50:01,633 - DEBUG - Updating gamma\n",
      "2025-06-11 12:50:01,637 - DEBUG - Updating beta\n",
      "2025-06-11 12:50:01,637 - DEBUG - Updating mu\n",
      "2025-06-11 12:50:01,638 - DEBUG - Updating W\n",
      "2025-06-11 12:50:01,639 - DEBUG - Updating nu\n",
      "2025-06-11 12:50:01,640 - DEBUG - Updating prior\n",
      "2025-06-11 12:50:01,644 - DEBUG - Calculating the determinant of the covariance\n",
      "2025-06-11 12:50:01,645 - DEBUG - Delta: -1166.9370144940438\n",
      "2025-06-11 12:50:01,646 - DEBUG - Iteration 54/100\n",
      "2025-06-11 12:50:01,646 - DEBUG - Updating responsibilities\n",
      "2025-06-11 12:50:01,646 - DEBUG - Calculating the determinant of the covariance\n",
      "2025-06-11 12:50:01,650 - DEBUG - Updating gamma\n",
      "2025-06-11 12:50:01,650 - DEBUG - Updating beta\n",
      "2025-06-11 12:50:01,651 - DEBUG - Updating mu\n",
      "2025-06-11 12:50:01,651 - DEBUG - Updating W\n",
      "2025-06-11 12:50:01,653 - DEBUG - Updating nu\n",
      "2025-06-11 12:50:01,653 - DEBUG - Updating prior\n",
      "2025-06-11 12:50:01,658 - DEBUG - Calculating the determinant of the covariance\n",
      "2025-06-11 12:50:01,659 - DEBUG - Delta: 0.45818126838454104\n",
      "2025-06-11 12:50:01,660 - DEBUG - Iteration 55/100\n",
      "2025-06-11 12:50:01,660 - DEBUG - Updating responsibilities\n",
      "2025-06-11 12:50:01,660 - DEBUG - Calculating the determinant of the covariance\n",
      "2025-06-11 12:50:01,662 - DEBUG - Updating gamma\n",
      "2025-06-11 12:50:01,663 - DEBUG - Updating beta\n",
      "2025-06-11 12:50:01,663 - DEBUG - Updating mu\n",
      "2025-06-11 12:50:01,663 - DEBUG - Updating W\n",
      "2025-06-11 12:50:01,664 - DEBUG - Updating nu\n",
      "2025-06-11 12:50:01,664 - DEBUG - Updating prior\n",
      "2025-06-11 12:50:01,668 - DEBUG - Calculating the determinant of the covariance\n",
      "2025-06-11 12:50:01,670 - DEBUG - Delta: -1385.6008885069346\n",
      "2025-06-11 12:50:01,671 - DEBUG - Iteration 56/100\n",
      "2025-06-11 12:50:01,672 - DEBUG - Updating responsibilities\n",
      "2025-06-11 12:50:01,672 - DEBUG - Calculating the determinant of the covariance\n",
      "2025-06-11 12:50:01,675 - DEBUG - Updating gamma\n",
      "2025-06-11 12:50:01,675 - DEBUG - Updating beta\n",
      "2025-06-11 12:50:01,676 - DEBUG - Updating mu\n",
      "2025-06-11 12:50:01,676 - DEBUG - Updating W\n",
      "2025-06-11 12:50:01,677 - DEBUG - Updating nu\n",
      "2025-06-11 12:50:01,677 - DEBUG - Updating prior\n",
      "2025-06-11 12:50:01,681 - DEBUG - Calculating the determinant of the covariance\n",
      "2025-06-11 12:50:01,682 - DEBUG - Delta: 0.5406320825015495\n",
      "2025-06-11 12:50:01,682 - DEBUG - Iteration 57/100\n",
      "2025-06-11 12:50:01,683 - DEBUG - Updating responsibilities\n",
      "2025-06-11 12:50:01,683 - DEBUG - Calculating the determinant of the covariance\n",
      "2025-06-11 12:50:01,688 - DEBUG - Updating gamma\n",
      "2025-06-11 12:50:01,689 - DEBUG - Updating beta\n",
      "2025-06-11 12:50:01,689 - DEBUG - Updating mu\n",
      "2025-06-11 12:50:01,690 - DEBUG - Updating W\n",
      "2025-06-11 12:50:01,691 - DEBUG - Updating nu\n",
      "2025-06-11 12:50:01,691 - DEBUG - Updating prior\n",
      "2025-06-11 12:50:01,695 - DEBUG - Calculating the determinant of the covariance\n",
      "2025-06-11 12:50:01,696 - DEBUG - Delta: -1179.2789662266323\n",
      "2025-06-11 12:50:01,697 - DEBUG - Iteration 58/100\n",
      "2025-06-11 12:50:01,697 - DEBUG - Updating responsibilities\n",
      "2025-06-11 12:50:01,697 - DEBUG - Calculating the determinant of the covariance\n",
      "2025-06-11 12:50:01,700 - DEBUG - Updating gamma\n",
      "2025-06-11 12:50:01,701 - DEBUG - Updating beta\n",
      "2025-06-11 12:50:01,701 - DEBUG - Updating mu\n",
      "2025-06-11 12:50:01,701 - DEBUG - Updating W\n",
      "2025-06-11 12:50:01,702 - DEBUG - Updating nu\n",
      "2025-06-11 12:50:01,702 - DEBUG - Updating prior\n",
      "2025-06-11 12:50:01,707 - DEBUG - Calculating the determinant of the covariance\n",
      "2025-06-11 12:50:01,708 - DEBUG - Delta: 0.461495425788308\n",
      "2025-06-11 12:50:01,708 - DEBUG - Iteration 59/100\n",
      "2025-06-11 12:50:01,709 - DEBUG - Updating responsibilities\n",
      "2025-06-11 12:50:01,709 - DEBUG - Calculating the determinant of the covariance\n",
      "2025-06-11 12:50:01,714 - DEBUG - Updating gamma\n",
      "2025-06-11 12:50:01,715 - DEBUG - Updating beta\n",
      "2025-06-11 12:50:01,715 - DEBUG - Updating mu\n",
      "2025-06-11 12:50:01,715 - DEBUG - Updating W\n",
      "2025-06-11 12:50:01,717 - DEBUG - Updating nu\n",
      "2025-06-11 12:50:01,717 - DEBUG - Updating prior\n",
      "2025-06-11 12:50:01,722 - DEBUG - Calculating the determinant of the covariance\n",
      "2025-06-11 12:50:01,723 - DEBUG - Delta: -1372.0920910764444\n",
      "2025-06-11 12:50:01,724 - DEBUG - Iteration 60/100\n",
      "2025-06-11 12:50:01,724 - DEBUG - Updating responsibilities\n",
      "2025-06-11 12:50:01,724 - DEBUG - Calculating the determinant of the covariance\n",
      "2025-06-11 12:50:01,728 - DEBUG - Updating gamma\n",
      "2025-06-11 12:50:01,728 - DEBUG - Updating beta\n",
      "2025-06-11 12:50:01,728 - DEBUG - Updating mu\n",
      "2025-06-11 12:50:01,729 - DEBUG - Updating W\n",
      "2025-06-11 12:50:01,730 - DEBUG - Updating nu\n",
      "2025-06-11 12:50:01,730 - DEBUG - Updating prior\n",
      "2025-06-11 12:50:01,734 - DEBUG - Calculating the determinant of the covariance\n",
      "2025-06-11 12:50:01,736 - DEBUG - Delta: 0.541001589014916\n",
      "2025-06-11 12:50:01,737 - DEBUG - Iteration 61/100\n",
      "2025-06-11 12:50:01,738 - DEBUG - Updating responsibilities\n",
      "2025-06-11 12:50:01,738 - DEBUG - Calculating the determinant of the covariance\n",
      "2025-06-11 12:50:01,741 - DEBUG - Updating gamma\n",
      "2025-06-11 12:50:01,741 - DEBUG - Updating beta\n",
      "2025-06-11 12:50:01,741 - DEBUG - Updating mu\n",
      "2025-06-11 12:50:01,742 - DEBUG - Updating W\n",
      "2025-06-11 12:50:01,743 - DEBUG - Updating nu\n",
      "2025-06-11 12:50:01,743 - DEBUG - Updating prior\n",
      "2025-06-11 12:50:01,746 - DEBUG - Calculating the determinant of the covariance\n",
      "2025-06-11 12:50:01,747 - DEBUG - Delta: -1157.4006042961353\n",
      "2025-06-11 12:50:01,748 - DEBUG - Iteration 62/100\n",
      "2025-06-11 12:50:01,748 - DEBUG - Updating responsibilities\n",
      "2025-06-11 12:50:01,748 - DEBUG - Calculating the determinant of the covariance\n",
      "2025-06-11 12:50:01,754 - DEBUG - Updating gamma\n",
      "2025-06-11 12:50:01,755 - DEBUG - Updating beta\n",
      "2025-06-11 12:50:01,755 - DEBUG - Updating mu\n",
      "2025-06-11 12:50:01,755 - DEBUG - Updating W\n",
      "2025-06-11 12:50:01,757 - DEBUG - Updating nu\n",
      "2025-06-11 12:50:01,757 - DEBUG - Updating prior\n",
      "2025-06-11 12:50:01,804 - DEBUG - Calculating the determinant of the covariance\n",
      "2025-06-11 12:50:01,805 - DEBUG - Delta: 0.46409806960405836\n",
      "2025-06-11 12:50:01,805 - DEBUG - Iteration 63/100\n",
      "2025-06-11 12:50:01,805 - DEBUG - Updating responsibilities\n",
      "2025-06-11 12:50:01,806 - DEBUG - Calculating the determinant of the covariance\n",
      "2025-06-11 12:50:01,816 - DEBUG - Updating gamma\n",
      "2025-06-11 12:50:01,817 - DEBUG - Updating beta\n",
      "2025-06-11 12:50:01,818 - DEBUG - Updating mu\n",
      "2025-06-11 12:50:01,818 - DEBUG - Updating W\n",
      "2025-06-11 12:50:01,819 - DEBUG - Updating nu\n",
      "2025-06-11 12:50:01,819 - DEBUG - Updating prior\n",
      "2025-06-11 12:50:01,824 - DEBUG - Calculating the determinant of the covariance\n",
      "2025-06-11 12:50:01,825 - DEBUG - Delta: -1321.640786078645\n",
      "2025-06-11 12:50:01,826 - DEBUG - Iteration 64/100\n",
      "2025-06-11 12:50:01,826 - DEBUG - Updating responsibilities\n",
      "2025-06-11 12:50:01,826 - DEBUG - Calculating the determinant of the covariance\n",
      "2025-06-11 12:50:01,829 - DEBUG - Updating gamma\n",
      "2025-06-11 12:50:01,829 - DEBUG - Updating beta\n",
      "2025-06-11 12:50:01,829 - DEBUG - Updating mu\n",
      "2025-06-11 12:50:01,830 - DEBUG - Updating W\n",
      "2025-06-11 12:50:01,830 - DEBUG - Updating nu\n",
      "2025-06-11 12:50:01,831 - DEBUG - Updating prior\n",
      "2025-06-11 12:50:01,836 - DEBUG - Calculating the determinant of the covariance\n",
      "2025-06-11 12:50:01,837 - DEBUG - Delta: 0.5425945320155959\n",
      "2025-06-11 12:50:01,838 - DEBUG - Iteration 65/100\n",
      "2025-06-11 12:50:01,838 - DEBUG - Updating responsibilities\n",
      "2025-06-11 12:50:01,838 - DEBUG - Calculating the determinant of the covariance\n",
      "2025-06-11 12:50:01,842 - DEBUG - Updating gamma\n",
      "2025-06-11 12:50:01,842 - DEBUG - Updating beta\n",
      "2025-06-11 12:50:01,842 - DEBUG - Updating mu\n",
      "2025-06-11 12:50:01,842 - DEBUG - Updating W\n",
      "2025-06-11 12:50:01,843 - DEBUG - Updating nu\n",
      "2025-06-11 12:50:01,843 - DEBUG - Updating prior\n",
      "2025-06-11 12:50:01,847 - DEBUG - Calculating the determinant of the covariance\n",
      "2025-06-11 12:50:01,848 - DEBUG - Delta: -1101.6110121430147\n",
      "2025-06-11 12:50:01,849 - DEBUG - Iteration 66/100\n",
      "2025-06-11 12:50:01,849 - DEBUG - Updating responsibilities\n",
      "2025-06-11 12:50:01,849 - DEBUG - Calculating the determinant of the covariance\n",
      "2025-06-11 12:50:01,854 - DEBUG - Updating gamma\n",
      "2025-06-11 12:50:01,855 - DEBUG - Updating beta\n",
      "2025-06-11 12:50:01,855 - DEBUG - Updating mu\n",
      "2025-06-11 12:50:01,855 - DEBUG - Updating W\n",
      "2025-06-11 12:50:01,856 - DEBUG - Updating nu\n",
      "2025-06-11 12:50:01,856 - DEBUG - Updating prior\n",
      "2025-06-11 12:50:01,860 - DEBUG - Calculating the determinant of the covariance\n",
      "2025-06-11 12:50:01,861 - DEBUG - Delta: 0.46357340904224287\n",
      "2025-06-11 12:50:01,862 - DEBUG - Iteration 67/100\n",
      "2025-06-11 12:50:01,862 - DEBUG - Updating responsibilities\n",
      "2025-06-11 12:50:01,862 - DEBUG - Calculating the determinant of the covariance\n",
      "2025-06-11 12:50:01,865 - DEBUG - Updating gamma\n",
      "2025-06-11 12:50:01,866 - DEBUG - Updating beta\n",
      "2025-06-11 12:50:01,866 - DEBUG - Updating mu\n",
      "2025-06-11 12:50:01,866 - DEBUG - Updating W\n",
      "2025-06-11 12:50:01,867 - DEBUG - Updating nu\n",
      "2025-06-11 12:50:01,868 - DEBUG - Updating prior\n",
      "2025-06-11 12:50:01,873 - DEBUG - Calculating the determinant of the covariance\n",
      "2025-06-11 12:50:01,874 - DEBUG - Delta: -1260.8716586156168\n",
      "2025-06-11 12:50:01,875 - DEBUG - Iteration 68/100\n",
      "2025-06-11 12:50:01,875 - DEBUG - Updating responsibilities\n",
      "2025-06-11 12:50:01,875 - DEBUG - Calculating the determinant of the covariance\n",
      "2025-06-11 12:50:01,878 - DEBUG - Updating gamma\n",
      "2025-06-11 12:50:01,878 - DEBUG - Updating beta\n",
      "2025-06-11 12:50:01,878 - DEBUG - Updating mu\n",
      "2025-06-11 12:50:01,878 - DEBUG - Updating W\n",
      "2025-06-11 12:50:01,880 - DEBUG - Updating nu\n",
      "2025-06-11 12:50:01,880 - DEBUG - Updating prior\n",
      "2025-06-11 12:50:01,883 - DEBUG - Calculating the determinant of the covariance\n",
      "2025-06-11 12:50:01,884 - DEBUG - Delta: 0.5415053542916004\n",
      "2025-06-11 12:50:01,885 - DEBUG - Iteration 69/100\n",
      "2025-06-11 12:50:01,886 - DEBUG - Updating responsibilities\n",
      "2025-06-11 12:50:01,887 - DEBUG - Calculating the determinant of the covariance\n",
      "2025-06-11 12:50:01,892 - DEBUG - Updating gamma\n",
      "2025-06-11 12:50:01,892 - DEBUG - Updating beta\n",
      "2025-06-11 12:50:01,892 - DEBUG - Updating mu\n",
      "2025-06-11 12:50:01,892 - DEBUG - Updating W\n",
      "2025-06-11 12:50:01,894 - DEBUG - Updating nu\n",
      "2025-06-11 12:50:01,894 - DEBUG - Updating prior\n",
      "2025-06-11 12:50:01,923 - DEBUG - Calculating the determinant of the covariance\n",
      "2025-06-11 12:50:01,927 - DEBUG - Delta: -1063.266986871678\n",
      "2025-06-11 12:50:01,928 - DEBUG - Iteration 70/100\n",
      "2025-06-11 12:50:01,929 - DEBUG - Updating responsibilities\n",
      "2025-06-11 12:50:01,930 - DEBUG - Calculating the determinant of the covariance\n",
      "2025-06-11 12:50:01,933 - DEBUG - Updating gamma\n",
      "2025-06-11 12:50:01,934 - DEBUG - Updating beta\n",
      "2025-06-11 12:50:01,935 - DEBUG - Updating mu\n",
      "2025-06-11 12:50:01,936 - DEBUG - Updating W\n",
      "2025-06-11 12:50:01,938 - DEBUG - Updating nu\n",
      "2025-06-11 12:50:01,939 - DEBUG - Updating prior\n",
      "2025-06-11 12:50:01,945 - DEBUG - Calculating the determinant of the covariance\n",
      "2025-06-11 12:50:01,946 - DEBUG - Delta: 0.4599983163935436\n",
      "2025-06-11 12:50:01,946 - DEBUG - Iteration 71/100\n",
      "2025-06-11 12:50:01,947 - DEBUG - Updating responsibilities\n",
      "2025-06-11 12:50:01,947 - DEBUG - Calculating the determinant of the covariance\n",
      "2025-06-11 12:50:01,950 - DEBUG - Updating gamma\n",
      "2025-06-11 12:50:01,950 - DEBUG - Updating beta\n",
      "2025-06-11 12:50:01,950 - DEBUG - Updating mu\n",
      "2025-06-11 12:50:01,951 - DEBUG - Updating W\n",
      "2025-06-11 12:50:01,953 - DEBUG - Updating nu\n",
      "2025-06-11 12:50:01,954 - DEBUG - Updating prior\n",
      "2025-06-11 12:50:01,958 - DEBUG - Calculating the determinant of the covariance\n",
      "2025-06-11 12:50:01,959 - DEBUG - Delta: -1248.2516730041157\n",
      "2025-06-11 12:50:01,960 - DEBUG - Iteration 72/100\n",
      "2025-06-11 12:50:01,960 - DEBUG - Updating responsibilities\n",
      "2025-06-11 12:50:01,960 - DEBUG - Calculating the determinant of the covariance\n",
      "2025-06-11 12:50:01,977 - DEBUG - Updating gamma\n",
      "2025-06-11 12:50:02,006 - DEBUG - Updating beta\n",
      "2025-06-11 12:50:02,007 - DEBUG - Updating mu\n",
      "2025-06-11 12:50:02,007 - DEBUG - Updating W\n",
      "2025-06-11 12:50:02,008 - DEBUG - Updating nu\n",
      "2025-06-11 12:50:02,008 - DEBUG - Updating prior\n",
      "2025-06-11 12:50:02,013 - DEBUG - Calculating the determinant of the covariance\n",
      "2025-06-11 12:50:02,016 - DEBUG - Delta: 0.5406005671852618\n",
      "2025-06-11 12:50:02,019 - DEBUG - Iteration 73/100\n",
      "2025-06-11 12:50:02,022 - DEBUG - Updating responsibilities\n",
      "2025-06-11 12:50:02,024 - DEBUG - Calculating the determinant of the covariance\n",
      "2025-06-11 12:50:02,027 - DEBUG - Updating gamma\n",
      "2025-06-11 12:50:02,028 - DEBUG - Updating beta\n",
      "2025-06-11 12:50:02,028 - DEBUG - Updating mu\n",
      "2025-06-11 12:50:02,028 - DEBUG - Updating W\n",
      "2025-06-11 12:50:02,030 - DEBUG - Updating nu\n",
      "2025-06-11 12:50:02,030 - DEBUG - Updating prior\n",
      "2025-06-11 12:50:02,034 - DEBUG - Calculating the determinant of the covariance\n",
      "2025-06-11 12:50:02,035 - DEBUG - Delta: -1061.1544672457228\n",
      "2025-06-11 12:50:02,036 - DEBUG - Iteration 74/100\n",
      "2025-06-11 12:50:02,036 - DEBUG - Updating responsibilities\n",
      "2025-06-11 12:50:02,037 - DEBUG - Calculating the determinant of the covariance\n",
      "2025-06-11 12:50:02,040 - DEBUG - Updating gamma\n",
      "2025-06-11 12:50:02,040 - DEBUG - Updating beta\n",
      "2025-06-11 12:50:02,041 - DEBUG - Updating mu\n",
      "2025-06-11 12:50:02,041 - DEBUG - Updating W\n",
      "2025-06-11 12:50:02,042 - DEBUG - Updating nu\n",
      "2025-06-11 12:50:02,042 - DEBUG - Updating prior\n",
      "2025-06-11 12:50:02,046 - DEBUG - Calculating the determinant of the covariance\n",
      "2025-06-11 12:50:02,047 - DEBUG - Delta: 0.46027751989931104\n",
      "2025-06-11 12:50:02,047 - DEBUG - Iteration 75/100\n",
      "2025-06-11 12:50:02,048 - DEBUG - Updating responsibilities\n",
      "2025-06-11 12:50:02,048 - DEBUG - Calculating the determinant of the covariance\n",
      "2025-06-11 12:50:02,052 - DEBUG - Updating gamma\n",
      "2025-06-11 12:50:02,053 - DEBUG - Updating beta\n",
      "2025-06-11 12:50:02,053 - DEBUG - Updating mu\n",
      "2025-06-11 12:50:02,053 - DEBUG - Updating W\n",
      "2025-06-11 12:50:02,054 - DEBUG - Updating nu\n",
      "2025-06-11 12:50:02,055 - DEBUG - Updating prior\n",
      "2025-06-11 12:50:02,059 - DEBUG - Calculating the determinant of the covariance\n",
      "2025-06-11 12:50:02,060 - DEBUG - Delta: -1244.292618585481\n",
      "2025-06-11 12:50:02,060 - DEBUG - Iteration 76/100\n",
      "2025-06-11 12:50:02,061 - DEBUG - Updating responsibilities\n",
      "2025-06-11 12:50:02,061 - DEBUG - Calculating the determinant of the covariance\n",
      "2025-06-11 12:50:02,064 - DEBUG - Updating gamma\n",
      "2025-06-11 12:50:02,069 - DEBUG - Updating beta\n",
      "2025-06-11 12:50:02,071 - DEBUG - Updating mu\n",
      "2025-06-11 12:50:02,072 - DEBUG - Updating W\n",
      "2025-06-11 12:50:02,073 - DEBUG - Updating nu\n",
      "2025-06-11 12:50:02,073 - DEBUG - Updating prior\n",
      "2025-06-11 12:50:02,077 - DEBUG - Calculating the determinant of the covariance\n",
      "2025-06-11 12:50:02,078 - DEBUG - Delta: 0.5405078315567717\n",
      "2025-06-11 12:50:02,079 - DEBUG - Iteration 77/100\n",
      "2025-06-11 12:50:02,079 - DEBUG - Updating responsibilities\n",
      "2025-06-11 12:50:02,079 - DEBUG - Calculating the determinant of the covariance\n",
      "2025-06-11 12:50:02,083 - DEBUG - Updating gamma\n",
      "2025-06-11 12:50:02,083 - DEBUG - Updating beta\n",
      "2025-06-11 12:50:02,083 - DEBUG - Updating mu\n",
      "2025-06-11 12:50:02,084 - DEBUG - Updating W\n",
      "2025-06-11 12:50:02,085 - DEBUG - Updating nu\n",
      "2025-06-11 12:50:02,086 - DEBUG - Updating prior\n",
      "2025-06-11 12:50:02,090 - DEBUG - Calculating the determinant of the covariance\n",
      "2025-06-11 12:50:02,091 - DEBUG - Delta: -1057.7873191733386\n",
      "2025-06-11 12:50:02,091 - DEBUG - Iteration 78/100\n",
      "2025-06-11 12:50:02,091 - DEBUG - Updating responsibilities\n",
      "2025-06-11 12:50:02,092 - DEBUG - Calculating the determinant of the covariance\n",
      "2025-06-11 12:50:02,095 - DEBUG - Updating gamma\n",
      "2025-06-11 12:50:02,095 - DEBUG - Updating beta\n",
      "2025-06-11 12:50:02,096 - DEBUG - Updating mu\n",
      "2025-06-11 12:50:02,096 - DEBUG - Updating W\n",
      "2025-06-11 12:50:02,097 - DEBUG - Updating nu\n",
      "2025-06-11 12:50:02,097 - DEBUG - Updating prior\n",
      "2025-06-11 12:50:02,103 - DEBUG - Calculating the determinant of the covariance\n",
      "2025-06-11 12:50:02,104 - DEBUG - Delta: 0.46049627704121415\n",
      "2025-06-11 12:50:02,104 - DEBUG - Iteration 79/100\n",
      "2025-06-11 12:50:02,104 - DEBUG - Updating responsibilities\n",
      "2025-06-11 12:50:02,105 - DEBUG - Calculating the determinant of the covariance\n",
      "2025-06-11 12:50:02,108 - DEBUG - Updating gamma\n",
      "2025-06-11 12:50:02,109 - DEBUG - Updating beta\n",
      "2025-06-11 12:50:02,109 - DEBUG - Updating mu\n",
      "2025-06-11 12:50:02,109 - DEBUG - Updating W\n",
      "2025-06-11 12:50:02,110 - DEBUG - Updating nu\n",
      "2025-06-11 12:50:02,110 - DEBUG - Updating prior\n",
      "2025-06-11 12:50:02,114 - DEBUG - Calculating the determinant of the covariance\n",
      "2025-06-11 12:50:02,115 - DEBUG - Delta: -1239.2478839866897\n",
      "2025-06-11 12:50:02,115 - DEBUG - Iteration 80/100\n",
      "2025-06-11 12:50:02,116 - DEBUG - Updating responsibilities\n",
      "2025-06-11 12:50:02,116 - DEBUG - Calculating the determinant of the covariance\n",
      "2025-06-11 12:50:02,119 - DEBUG - Updating gamma\n",
      "2025-06-11 12:50:02,120 - DEBUG - Updating beta\n",
      "2025-06-11 12:50:02,121 - DEBUG - Updating mu\n",
      "2025-06-11 12:50:02,121 - DEBUG - Updating W\n",
      "2025-06-11 12:50:02,122 - DEBUG - Updating nu\n",
      "2025-06-11 12:50:02,123 - DEBUG - Updating prior\n",
      "2025-06-11 12:50:02,126 - DEBUG - Calculating the determinant of the covariance\n",
      "2025-06-11 12:50:02,127 - DEBUG - Delta: 0.5401874672339572\n",
      "2025-06-11 12:50:02,127 - DEBUG - Iteration 81/100\n",
      "2025-06-11 12:50:02,127 - DEBUG - Updating responsibilities\n",
      "2025-06-11 12:50:02,128 - DEBUG - Calculating the determinant of the covariance\n",
      "2025-06-11 12:50:02,131 - DEBUG - Updating gamma\n",
      "2025-06-11 12:50:02,131 - DEBUG - Updating beta\n",
      "2025-06-11 12:50:02,131 - DEBUG - Updating mu\n",
      "2025-06-11 12:50:02,132 - DEBUG - Updating W\n",
      "2025-06-11 12:50:02,133 - DEBUG - Updating nu\n",
      "2025-06-11 12:50:02,133 - DEBUG - Updating prior\n",
      "2025-06-11 12:50:02,138 - DEBUG - Calculating the determinant of the covariance\n",
      "2025-06-11 12:50:02,144 - DEBUG - Delta: -1055.3379154075415\n",
      "2025-06-11 12:50:02,178 - DEBUG - Iteration 82/100\n",
      "2025-06-11 12:50:02,180 - DEBUG - Updating responsibilities\n",
      "2025-06-11 12:50:02,181 - DEBUG - Calculating the determinant of the covariance\n",
      "2025-06-11 12:50:02,184 - DEBUG - Updating gamma\n",
      "2025-06-11 12:50:02,185 - DEBUG - Updating beta\n",
      "2025-06-11 12:50:02,185 - DEBUG - Updating mu\n",
      "2025-06-11 12:50:02,185 - DEBUG - Updating W\n",
      "2025-06-11 12:50:02,186 - DEBUG - Updating nu\n",
      "2025-06-11 12:50:02,187 - DEBUG - Updating prior\n",
      "2025-06-11 12:50:02,200 - DEBUG - Calculating the determinant of the covariance\n",
      "2025-06-11 12:50:02,201 - DEBUG - Delta: 0.4604747096037653\n",
      "2025-06-11 12:50:02,201 - DEBUG - Iteration 83/100\n",
      "2025-06-11 12:50:02,202 - DEBUG - Updating responsibilities\n",
      "2025-06-11 12:50:02,202 - DEBUG - Calculating the determinant of the covariance\n",
      "2025-06-11 12:50:02,206 - DEBUG - Updating gamma\n",
      "2025-06-11 12:50:02,207 - DEBUG - Updating beta\n",
      "2025-06-11 12:50:02,207 - DEBUG - Updating mu\n",
      "2025-06-11 12:50:02,207 - DEBUG - Updating W\n",
      "2025-06-11 12:50:02,208 - DEBUG - Updating nu\n",
      "2025-06-11 12:50:02,208 - DEBUG - Updating prior\n",
      "2025-06-11 12:50:02,212 - DEBUG - Calculating the determinant of the covariance\n",
      "2025-06-11 12:50:02,213 - DEBUG - Delta: -1237.4425909722017\n",
      "2025-06-11 12:50:02,213 - DEBUG - Iteration 84/100\n",
      "2025-06-11 12:50:02,214 - DEBUG - Updating responsibilities\n",
      "2025-06-11 12:50:02,214 - DEBUG - Calculating the determinant of the covariance\n",
      "2025-06-11 12:50:02,217 - DEBUG - Updating gamma\n",
      "2025-06-11 12:50:02,218 - DEBUG - Updating beta\n",
      "2025-06-11 12:50:02,218 - DEBUG - Updating mu\n",
      "2025-06-11 12:50:02,218 - DEBUG - Updating W\n",
      "2025-06-11 12:50:02,220 - DEBUG - Updating nu\n",
      "2025-06-11 12:50:02,220 - DEBUG - Updating prior\n",
      "2025-06-11 12:50:02,225 - DEBUG - Calculating the determinant of the covariance\n",
      "2025-06-11 12:50:02,226 - DEBUG - Delta: 0.5398197850783547\n",
      "2025-06-11 12:50:02,226 - DEBUG - Iteration 85/100\n",
      "2025-06-11 12:50:02,226 - DEBUG - Updating responsibilities\n",
      "2025-06-11 12:50:02,227 - DEBUG - Calculating the determinant of the covariance\n",
      "2025-06-11 12:50:02,230 - DEBUG - Updating gamma\n",
      "2025-06-11 12:50:02,230 - DEBUG - Updating beta\n",
      "2025-06-11 12:50:02,230 - DEBUG - Updating mu\n",
      "2025-06-11 12:50:02,231 - DEBUG - Updating W\n",
      "2025-06-11 12:50:02,232 - DEBUG - Updating nu\n",
      "2025-06-11 12:50:02,232 - DEBUG - Updating prior\n",
      "2025-06-11 12:50:02,236 - DEBUG - Calculating the determinant of the covariance\n",
      "2025-06-11 12:50:02,237 - DEBUG - Delta: -1056.2755889225898\n",
      "2025-06-11 12:50:02,237 - DEBUG - Iteration 86/100\n",
      "2025-06-11 12:50:02,238 - DEBUG - Updating responsibilities\n",
      "2025-06-11 12:50:02,238 - DEBUG - Calculating the determinant of the covariance\n",
      "2025-06-11 12:50:02,242 - DEBUG - Updating gamma\n",
      "2025-06-11 12:50:02,242 - DEBUG - Updating beta\n",
      "2025-06-11 12:50:02,243 - DEBUG - Updating mu\n",
      "2025-06-11 12:50:02,243 - DEBUG - Updating W\n",
      "2025-06-11 12:50:02,244 - DEBUG - Updating nu\n",
      "2025-06-11 12:50:02,244 - DEBUG - Updating prior\n",
      "2025-06-11 12:50:02,248 - DEBUG - Calculating the determinant of the covariance\n",
      "2025-06-11 12:50:02,249 - DEBUG - Delta: 0.4603956500570735\n",
      "2025-06-11 12:50:02,249 - DEBUG - Iteration 87/100\n",
      "2025-06-11 12:50:02,249 - DEBUG - Updating responsibilities\n",
      "2025-06-11 12:50:02,250 - DEBUG - Calculating the determinant of the covariance\n",
      "2025-06-11 12:50:02,253 - DEBUG - Updating gamma\n",
      "2025-06-11 12:50:02,253 - DEBUG - Updating beta\n",
      "2025-06-11 12:50:02,254 - DEBUG - Updating mu\n",
      "2025-06-11 12:50:02,254 - DEBUG - Updating W\n",
      "2025-06-11 12:50:02,256 - DEBUG - Updating nu\n",
      "2025-06-11 12:50:02,257 - DEBUG - Updating prior\n",
      "2025-06-11 12:50:02,262 - DEBUG - Calculating the determinant of the covariance\n",
      "2025-06-11 12:50:02,262 - DEBUG - Delta: -1239.8523054820091\n",
      "2025-06-11 12:50:02,263 - DEBUG - Iteration 88/100\n",
      "2025-06-11 12:50:02,263 - DEBUG - Updating responsibilities\n",
      "2025-06-11 12:50:02,264 - DEBUG - Calculating the determinant of the covariance\n",
      "2025-06-11 12:50:02,266 - DEBUG - Updating gamma\n",
      "2025-06-11 12:50:02,266 - DEBUG - Updating beta\n",
      "2025-06-11 12:50:02,266 - DEBUG - Updating mu\n",
      "2025-06-11 12:50:02,267 - DEBUG - Updating W\n",
      "2025-06-11 12:50:02,268 - DEBUG - Updating nu\n",
      "2025-06-11 12:50:02,268 - DEBUG - Updating prior\n",
      "2025-06-11 12:50:02,274 - DEBUG - Calculating the determinant of the covariance\n",
      "2025-06-11 12:50:02,275 - DEBUG - Delta: 0.5396138640409734\n",
      "2025-06-11 12:50:02,275 - DEBUG - Iteration 89/100\n",
      "2025-06-11 12:50:02,276 - DEBUG - Updating responsibilities\n",
      "2025-06-11 12:50:02,276 - DEBUG - Calculating the determinant of the covariance\n",
      "2025-06-11 12:50:02,279 - DEBUG - Updating gamma\n",
      "2025-06-11 12:50:02,279 - DEBUG - Updating beta\n",
      "2025-06-11 12:50:02,279 - DEBUG - Updating mu\n",
      "2025-06-11 12:50:02,279 - DEBUG - Updating W\n",
      "2025-06-11 12:50:02,281 - DEBUG - Updating nu\n",
      "2025-06-11 12:50:02,281 - DEBUG - Updating prior\n",
      "2025-06-11 12:50:02,285 - DEBUG - Calculating the determinant of the covariance\n",
      "2025-06-11 12:50:02,286 - DEBUG - Delta: -1059.7122823762993\n",
      "2025-06-11 12:50:02,287 - DEBUG - Iteration 90/100\n",
      "2025-06-11 12:50:02,287 - DEBUG - Updating responsibilities\n",
      "2025-06-11 12:50:02,287 - DEBUG - Calculating the determinant of the covariance\n",
      "2025-06-11 12:50:02,291 - DEBUG - Updating gamma\n",
      "2025-06-11 12:50:02,292 - DEBUG - Updating beta\n",
      "2025-06-11 12:50:02,292 - DEBUG - Updating mu\n",
      "2025-06-11 12:50:02,292 - DEBUG - Updating W\n",
      "2025-06-11 12:50:02,293 - DEBUG - Updating nu\n",
      "2025-06-11 12:50:02,293 - DEBUG - Updating prior\n",
      "2025-06-11 12:50:02,297 - DEBUG - Calculating the determinant of the covariance\n",
      "2025-06-11 12:50:02,298 - DEBUG - Delta: 0.4604193338510546\n",
      "2025-06-11 12:50:02,299 - DEBUG - Iteration 91/100\n",
      "2025-06-11 12:50:02,299 - DEBUG - Updating responsibilities\n",
      "2025-06-11 12:50:02,299 - DEBUG - Calculating the determinant of the covariance\n",
      "2025-06-11 12:50:02,384 - DEBUG - Updating gamma\n",
      "2025-06-11 12:50:02,385 - DEBUG - Updating beta\n",
      "2025-06-11 12:50:02,386 - DEBUG - Updating mu\n",
      "2025-06-11 12:50:02,386 - DEBUG - Updating W\n",
      "2025-06-11 12:50:02,387 - DEBUG - Updating nu\n",
      "2025-06-11 12:50:02,391 - DEBUG - Updating prior\n",
      "2025-06-11 12:50:02,396 - DEBUG - Calculating the determinant of the covariance\n",
      "2025-06-11 12:50:02,400 - DEBUG - Delta: -1244.0232838201805\n",
      "2025-06-11 12:50:02,401 - DEBUG - Iteration 92/100\n",
      "2025-06-11 12:50:02,402 - DEBUG - Updating responsibilities\n",
      "2025-06-11 12:50:02,402 - DEBUG - Calculating the determinant of the covariance\n",
      "2025-06-11 12:50:02,405 - DEBUG - Updating gamma\n",
      "2025-06-11 12:50:02,406 - DEBUG - Updating beta\n",
      "2025-06-11 12:50:02,406 - DEBUG - Updating mu\n",
      "2025-06-11 12:50:02,406 - DEBUG - Updating W\n",
      "2025-06-11 12:50:02,407 - DEBUG - Updating nu\n",
      "2025-06-11 12:50:02,408 - DEBUG - Updating prior\n",
      "2025-06-11 12:50:02,411 - DEBUG - Calculating the determinant of the covariance\n",
      "2025-06-11 12:50:02,412 - DEBUG - Delta: 0.539539141728317\n",
      "2025-06-11 12:50:02,413 - DEBUG - Iteration 93/100\n",
      "2025-06-11 12:50:02,413 - DEBUG - Updating responsibilities\n",
      "2025-06-11 12:50:02,413 - DEBUG - Calculating the determinant of the covariance\n",
      "2025-06-11 12:50:02,416 - DEBUG - Updating gamma\n",
      "2025-06-11 12:50:02,416 - DEBUG - Updating beta\n",
      "2025-06-11 12:50:02,416 - DEBUG - Updating mu\n",
      "2025-06-11 12:50:02,417 - DEBUG - Updating W\n",
      "2025-06-11 12:50:02,418 - DEBUG - Updating nu\n",
      "2025-06-11 12:50:02,418 - DEBUG - Updating prior\n",
      "2025-06-11 12:50:02,423 - DEBUG - Calculating the determinant of the covariance\n",
      "2025-06-11 12:50:02,423 - DEBUG - Delta: -1063.637564763827\n",
      "2025-06-11 12:50:02,424 - DEBUG - Iteration 94/100\n",
      "2025-06-11 12:50:02,424 - DEBUG - Updating responsibilities\n",
      "2025-06-11 12:50:02,425 - DEBUG - Calculating the determinant of the covariance\n",
      "2025-06-11 12:50:02,428 - DEBUG - Updating gamma\n",
      "2025-06-11 12:50:02,428 - DEBUG - Updating beta\n",
      "2025-06-11 12:50:02,429 - DEBUG - Updating mu\n",
      "2025-06-11 12:50:02,429 - DEBUG - Updating W\n",
      "2025-06-11 12:50:02,430 - DEBUG - Updating nu\n",
      "2025-06-11 12:50:02,430 - DEBUG - Updating prior\n",
      "2025-06-11 12:50:02,434 - DEBUG - Calculating the determinant of the covariance\n",
      "2025-06-11 12:50:02,435 - DEBUG - Delta: 0.4604878449262148\n",
      "2025-06-11 12:50:02,437 - DEBUG - Iteration 95/100\n",
      "2025-06-11 12:50:02,437 - DEBUG - Updating responsibilities\n",
      "2025-06-11 12:50:02,437 - DEBUG - Calculating the determinant of the covariance\n",
      "2025-06-11 12:50:02,441 - DEBUG - Updating gamma\n",
      "2025-06-11 12:50:02,441 - DEBUG - Updating beta\n",
      "2025-06-11 12:50:02,442 - DEBUG - Updating mu\n",
      "2025-06-11 12:50:02,442 - DEBUG - Updating W\n",
      "2025-06-11 12:50:02,443 - DEBUG - Updating nu\n",
      "2025-06-11 12:50:02,443 - DEBUG - Updating prior\n",
      "2025-06-11 12:50:02,447 - DEBUG - Calculating the determinant of the covariance\n",
      "2025-06-11 12:50:02,448 - DEBUG - Delta: -1248.2889146608416\n",
      "2025-06-11 12:50:02,449 - DEBUG - Iteration 96/100\n",
      "2025-06-11 12:50:02,449 - DEBUG - Updating responsibilities\n",
      "2025-06-11 12:50:02,449 - DEBUG - Calculating the determinant of the covariance\n",
      "2025-06-11 12:50:02,454 - DEBUG - Updating gamma\n",
      "2025-06-11 12:50:02,454 - DEBUG - Updating beta\n",
      "2025-06-11 12:50:02,455 - DEBUG - Updating mu\n",
      "2025-06-11 12:50:02,455 - DEBUG - Updating W\n",
      "2025-06-11 12:50:02,456 - DEBUG - Updating nu\n",
      "2025-06-11 12:50:02,456 - DEBUG - Updating prior\n",
      "2025-06-11 12:50:02,460 - DEBUG - Calculating the determinant of the covariance\n",
      "2025-06-11 12:50:02,461 - DEBUG - Delta: 0.5394583726903995\n",
      "2025-06-11 12:50:02,462 - DEBUG - Iteration 97/100\n",
      "2025-06-11 12:50:02,462 - DEBUG - Updating responsibilities\n",
      "2025-06-11 12:50:02,462 - DEBUG - Calculating the determinant of the covariance\n",
      "2025-06-11 12:50:02,464 - DEBUG - Updating gamma\n",
      "2025-06-11 12:50:02,465 - DEBUG - Updating beta\n",
      "2025-06-11 12:50:02,465 - DEBUG - Updating mu\n",
      "2025-06-11 12:50:02,465 - DEBUG - Updating W\n",
      "2025-06-11 12:50:02,466 - DEBUG - Updating nu\n",
      "2025-06-11 12:50:02,466 - DEBUG - Updating prior\n",
      "2025-06-11 12:50:02,471 - DEBUG - Calculating the determinant of the covariance\n",
      "2025-06-11 12:50:02,472 - DEBUG - Delta: -1067.6921008432068\n",
      "2025-06-11 12:50:02,473 - DEBUG - Iteration 98/100\n",
      "2025-06-11 12:50:02,473 - DEBUG - Updating responsibilities\n",
      "2025-06-11 12:50:02,473 - DEBUG - Calculating the determinant of the covariance\n",
      "2025-06-11 12:50:02,476 - DEBUG - Updating gamma\n",
      "2025-06-11 12:50:02,477 - DEBUG - Updating beta\n",
      "2025-06-11 12:50:02,477 - DEBUG - Updating mu\n",
      "2025-06-11 12:50:02,477 - DEBUG - Updating W\n",
      "2025-06-11 12:50:02,478 - DEBUG - Updating nu\n",
      "2025-06-11 12:50:02,478 - DEBUG - Updating prior\n",
      "2025-06-11 12:50:02,482 - DEBUG - Calculating the determinant of the covariance\n",
      "2025-06-11 12:50:02,483 - DEBUG - Delta: 0.4605088765711676\n",
      "2025-06-11 12:50:02,484 - DEBUG - Iteration 99/100\n",
      "2025-06-11 12:50:02,484 - DEBUG - Updating responsibilities\n",
      "2025-06-11 12:50:02,484 - DEBUG - Calculating the determinant of the covariance\n",
      "2025-06-11 12:50:02,488 - DEBUG - Updating gamma\n",
      "2025-06-11 12:50:02,489 - DEBUG - Updating beta\n",
      "2025-06-11 12:50:02,489 - DEBUG - Updating mu\n",
      "2025-06-11 12:50:02,489 - DEBUG - Updating W\n",
      "2025-06-11 12:50:02,490 - DEBUG - Updating nu\n",
      "2025-06-11 12:50:02,491 - DEBUG - Updating prior\n",
      "2025-06-11 12:50:02,494 - DEBUG - Calculating the determinant of the covariance\n",
      "2025-06-11 12:50:02,495 - DEBUG - Delta: -1253.1385148252266\n",
      "2025-06-11 12:50:02,496 - DEBUG - Iteration 100/100\n",
      "2025-06-11 12:50:02,496 - DEBUG - Updating responsibilities\n",
      "2025-06-11 12:50:02,496 - DEBUG - Calculating the determinant of the covariance\n",
      "2025-06-11 12:50:02,499 - DEBUG - Updating gamma\n",
      "2025-06-11 12:50:02,499 - DEBUG - Updating beta\n",
      "2025-06-11 12:50:02,499 - DEBUG - Updating mu\n",
      "2025-06-11 12:50:02,500 - DEBUG - Updating W\n",
      "2025-06-11 12:50:02,501 - DEBUG - Updating nu\n",
      "2025-06-11 12:50:02,501 - DEBUG - Updating prior\n",
      "2025-06-11 12:50:02,515 - DEBUG - Calculating the determinant of the covariance\n",
      "2025-06-11 12:50:02,546 - DEBUG - Delta: 0.539335667500452\n"
     ]
    }
   ],
   "source": [
    "from clustlib.nonparam.tvclust import TVClust\n",
    "tvclust = TVClust(\n",
    "    n_clusters=10, \n",
    "    constraints=constraints, \n",
    "    max_iter=100, \n",
    "    tol=1e-4,\n",
    ")\n",
    "tvclust.fit(X)"
   ]
  },
  {
   "cell_type": "code",
   "execution_count": 105,
   "id": "569f32aa",
   "metadata": {},
   "outputs": [
    {
     "data": {
      "application/vnd.plotly.v1+json": {
       "config": {
        "plotlyServerURL": "https://plot.ly"
       },
       "data": [
        {
         "hovertemplate": "label=0<br>x=%{x}<br>y=%{y}<extra></extra>",
         "legendgroup": "0",
         "marker": {
          "color": "#f7dc6f",
          "opacity": 0.6,
          "size": 5,
          "symbol": "circle"
         },
         "mode": "markers",
         "name": "0",
         "orientation": "v",
         "showlegend": true,
         "type": "scatter",
         "x": {
          "bdata": "IgbryBi6JcCMJoAa5JUhwE40zsCMiR/Al7zihhVnAsA6wM/M200gwHPB6CcktyTA4+wMZAn2IMDAWt3duqUiwD0/c7w8GBrAFBrukv5CI8B8yN+LxhMkwJhQ1CyXbiTAps/ZU2WgIsATjyz8T4whwGgW0ArpOCPAAavxQRtTAcBg7WOaq6ogwLEGOMNrjyHA",
          "dtype": "f8"
         },
         "xaxis": "x",
         "y": {
          "bdata": "PNOWeDcKHkBZLTp4DLAaQGZUO+ZP5h9AoYsBQu03HECSS0TN3dcWQCsEzIhuWxtAMLbZ44eJH0DtgNJnIJ8dQDC7eTk10xVASEEXH8zVHEACqWQZwvQbQJcSR2L0ihlAM5i4QEeuGkC6uptDrfsYQNwpqgPJWBxAflLSn0YBHUCrwHUP6WAgQMtdEMniuBhA",
          "dtype": "f8"
         },
         "yaxis": "y"
        },
        {
         "hovertemplate": "label=1<br>x=%{x}<br>y=%{y}<extra></extra>",
         "legendgroup": "1",
         "marker": {
          "color": "#82e0aa",
          "opacity": 0.6,
          "size": 5,
          "symbol": "circle"
         },
         "mode": "markers",
         "name": "1",
         "orientation": "v",
         "showlegend": true,
         "type": "scatter",
         "x": {
          "bdata": "snbVbLxa8T90F3/V054MwP04kXlgQxLAgvL23WS0CsD1/C3xugcSwLxoAOq4KxbAuOS44jIVC8BrsxaXVygNwHvcprye+gXAI2053+agDsAjTGofzoYOwMIgNp1ZRQfAjkQ1tJHZD8DknZdamUQSwFXpZaEuGhPAZBGbRaVPEsBB56x3Uz4NwM5wKoDAKRPAdF39hkBBFcAy1ZwVbekHwP4O0TyythLAHYft/FtQC8BzHEXvMu0SQA/PkzGVXPC/b+naAZdWFsAftaWogVAVQFLv4ochWgzA+K7OyVBrIUBS9hqN3e4OwIEa/UhCzxPA3Gmqkrv3EcDsGt05zZ0QwK331H5mNgrANbV/NBWMGcCGky2DvaIIwA==",
          "dtype": "f8"
         },
         "xaxis": "x",
         "y": {
          "bdata": "zHAGAk4vEMC4/Awx+0+1PyDlnOEBZIA/Fk337X2x0j+GFtPvb5vXv3Cdu3EBYuE/zgFTQrb8/j+qO9sZFnncPwqAvS5P/Oc/QAhyWpK51T/womCBuvHzPzhlaHxv7rS/1kUMC43o5r+yaHY4YlzhPyRSj5aETrw/zFYUEjgN8T8k7WHVIjDav0JiHDjNZ+y/QjMMCPjt8D8XPW47gjwDQLh6bw3A9PS/eut63hPg3r8AAS8GWH2Nv8IW48zhXBLAWuFLdaad8D8aeoExw18PwPDCsOsF3ru/4P8+6Kb7D8D4gIRkGX7Vv05Tv7mtgdM/BxJyHCEC9D+k/b7kVWXav1UhSQ+KqfK/tuQD9CRQ07/0kcn8dk7kvw==",
          "dtype": "f8"
         },
         "yaxis": "y"
        },
        {
         "hovertemplate": "label=2<br>x=%{x}<br>y=%{y}<extra></extra>",
         "legendgroup": "2",
         "marker": {
          "color": "#f1948a",
          "opacity": 0.6,
          "size": 5,
          "symbol": "circle"
         },
         "mode": "markers",
         "name": "2",
         "orientation": "v",
         "showlegend": true,
         "type": "scatter",
         "x": {
          "bdata": "Juk8/NP8F8DscYWti1wTwBbDUShoaRrAY9lxNXWTG8D/BYhmUf8WwAyDinWXtBLAFlyeZS8OFMCWrPLh0uEZwHhleV41kxvAoCIY4lkeCcA7jCeWJKAZwIgl1bdQChzAgfUHXL5AHMCpqRd3aLQZwBLP+n5jfBnAnJDX4P8kGcBA6mzcmRMfwA3pU1g29xnAaHAZOq23BsCnxCWlbIIbwBxS46M/5xnAQ9cDq+CNGsACTkkZsDsgwJbqAOLa5x7A0U5yRp56GsCArf8jRW4ZwMckYVO6ehzABilmHFbiFsD/DjZrkGkcwCv3ycyhWBrA6UOsvbDTG8CRnQNcKasbwAVmlZmBqRrA4DLqyjuEGsAwQ+e3PaoXwIFhV6Zm0xrAQFa99OnaCcAq8TYkyqYewN3nPgMEgBzAel2XDA4EGcDORRlkFT0ewCARGRDx6hfAG4RBkdQlF8B7uMNi6cwSQC18jQhVzR/A",
          "dtype": "f8"
         },
         "xaxis": "x",
         "y": {
          "bdata": "hgmVAlAWHcAbzf4gCCwXwOJt1lIyNhjAtEjTdYOhG8Blw+4PMEwWwDdxR5cTzRXAIrrz/QagGcAOJwy69ncdwOAP5QTHfxzAYnMHDVtvBcB/Upgcz88bwByPtXthpx3AVtQYncJ4GMAT77xVz4EVwDt94a9paBPAF1AoptTFHMByu3Y4n8gewM7ITFtZJh3AtDhvnNhACMA1OQOigpAdwHbeoAQmNhrAj6QafoVEIcD5/yGdsGYgwNf0sMc3yiDA7t45RqVkGMDdQ/SyHlUawBmYmHBDBB/A7PcWZZzNHsAuQPKAGKoYwIApKWO6YB7A3NmEgeQnGsBSVGiqgB4ewNTiozJvQCDACeA5IXgiGsAZpelni94ZwEsAXs+q+hnAktFYt5MbEsCsrX3xBc8cwM75vtwOiR7AgF/hKPbyHsB7VjmJZ5cawPmBOuVadRnAi7CIzScVGMAU9OS74r4RQDpMTTMulxnA",
          "dtype": "f8"
         },
         "yaxis": "y"
        },
        {
         "hovertemplate": "label=3<br>x=%{x}<br>y=%{y}<extra></extra>",
         "legendgroup": "3",
         "marker": {
          "color": "#499cef",
          "opacity": 0.6,
          "size": 5,
          "symbol": "circle"
         },
         "mode": "markers",
         "name": "3",
         "orientation": "v",
         "showlegend": true,
         "type": "scatter",
         "x": {
          "bdata": "+OpVnFiYEcDK2FDIv1vfv335mQxhTue/xBdsNPiL8L++US+WTJT9v/xI+M8j3vK/4OMFgSJ3xL8yFYIZx98SwDi6KZ3gVOO/moUPYwT84L+l/F07owPhv/ZcZch4GPq/ppt+BaJ037+M0Zv4RFPuv0ya8abj4vy/ehrLl0AUAcCBOZ03myD9v2KlNAVQTPG/WFM9VbJDGMCE5UZOUzrsvxT1FqwztdS/PBlDxeZGCsB8PLuh/AHyv4arOnElJPG/dwgIcJwxC8Cu/uu4hfASwOIojsPtofS/i1xyj5Cd5r8MnA9Vn3v1v41rvLTG7u6/",
          "dtype": "f8"
         },
         "xaxis": "x",
         "y": {
          "bdata": "7mjpCMQvGcBCIKKteQESwCTRSTrAef6/jKhXdPyTEcA7yVkZkW4SwJhSXg7mag/AlEx2E39VEsBp7Yh341IawC34E6zsYxTAvTrMzUEgFMCsdH1r1IsZwD7D15nhnRTAI9waeOiOBsAqgJ+bk2MCwOYDjgKLYg7ApLf2UyeuFcCwvfYq3hkUwBIwKcQgNBXAmtOBktE4IMCaLdAX6rsOwKCY5k3ivRLA6hxbUW7ZFMAyM5bChTwLwE/1nmXVzADArFHkV+i7FMDfBuR6GdkewNjDYpm/nBLARXTfwIvsEMCcBVEq6f0DwCqQBR+3YhLA",
          "dtype": "f8"
         },
         "yaxis": "y"
        },
        {
         "hovertemplate": "label=4<br>x=%{x}<br>y=%{y}<extra></extra>",
         "legendgroup": "4",
         "marker": {
          "color": "#f5b041",
          "opacity": 0.6,
          "size": 5,
          "symbol": "circle"
         },
         "mode": "markers",
         "name": "4",
         "orientation": "v",
         "showlegend": true,
         "type": "scatter",
         "x": {
          "bdata": "JgJh3PHgCMBVLGdZ2p4iwCW+kLnKryLApowdCw7QIcCFD3uJsTYjwI5kovgOACPADQlWlTnCB8DjgjkxfDMjwBRBuhqSvR3Al3vGu3q6IsD9v5aBL+gHwJcOtmE0+yLASInwjwmEFMCFwftILH0JwCsIBN4cewHANQ9qitnmD8DHHkaN3tMkwGH0SEuiEibAdACc4MsyJMDuW+NnHS0MwMYA0zRnBR/AhRf/EupU/L+hye/CaGwBwCNZhEhgsvC/bkqJsUswJcC2Y+iiei4EwFfdup37hyLANiLTIGcGI8DO6hEOMdIkwKqebMY0LgHAwn0iRKROIsAdWnznDp0kwId4VeGNyQrAvC35UhJIDcC8cYSIu20IwL1ExzWv/wTAkGkuDbOm97983cV58zYjwJoeYJV1GyPAgaHLE1zdGsAYHeKI7YggwFIM+z5QpgTAsuDpNfayDsA=",
          "dtype": "f8"
         },
         "xaxis": "x",
         "y": {
          "bdata": "VC3ToPdxIUAbBG26L9MgQBDcTW1SyCFA2vLSMgUtIkAva/BqFTgiQEYWCfAWWiBANcTFoo8kJECFtdCOewAhQJWe/bP+QiFA9Dp3/lLSIkAx1mjRQaghQCndYYsYQCFAdWGc6iCsI0C5alslfkAjQG97uQEnQiFAh0FgF8GWIEB4kD3MUyciQAhPM8iC9h9AU9X0y5Z7IEAagKuJNagiQM4K97wwwSBAoVxBGA5fIkBpUowpy/ojQIYxZY+3kyFA6fVdWjZeIEDBpPNyiNMfQMaQKqtVJCFABxACiytxIUDjx5MNpUgjQD67+l8DvSBAgIbEaDwqIEDeGqyJl14iQJsyR23/aCFA2LqGAKzHIkD1LWlbG0AiQGpGcD8mbSFAq9VYQiHkI0A+XDf0lMogQMZdHwiZASBAKcsLFUS2IECQOLmnDesgQPabTJMfCSRA0pzegRtsIkA=",
          "dtype": "f8"
         },
         "yaxis": "y"
        },
        {
         "hovertemplate": "label=5<br>x=%{x}<br>y=%{y}<extra></extra>",
         "legendgroup": "5",
         "marker": {
          "color": "#a569bd",
          "opacity": 0.6,
          "size": 5,
          "symbol": "circle"
         },
         "mode": "markers",
         "name": "5",
         "orientation": "v",
         "showlegend": true,
         "type": "scatter",
         "x": {
          "bdata": "nPTlWp9KHMBxqcV8jYQZQAMSvmKqICPA1u4TbtzLIcC4gzj/tuwbQLzkHXrLnRpAHJf+zSTQJMCqrjxha00gQIlRNGp8mRlADpZQO8tZIsAiPDWwOkYgwNrgazJPIyLA5CIkDH51FEA9ct7ojssYQIK+wVmq7SHA/SXztAeOIsDAE7ym44Dzv13RNIeN+yLA+kC5ZOZkI8CW+LmNBlAfQC1bGfpXvBZAnPFj23IAF0DCXe4W9DkhwGhWLQdnZiBATQ9cfq4VHkDFJCoTQ9wgwD0MCwYsUB9AIhZ8x6hlHkBLETdOSi0dQOsUe9SMPBdAkGGD6mIeJMBc5xeDDMcawPlRQu8svhNAxulTgEDUHkCYDk9JZK0hQHnpkqabExtA2kk20hd2IcBxpnVxHnEdQIL94tk9hyLAkebXzBKPF0A85nzwIiMaQA==",
          "dtype": "f8"
         },
         "xaxis": "x",
         "y": {
          "bdata": "BoTmHf3pHkCBcFUgiCQUwHXiaB3ayiNADrCRtnP+IUB/CC7HvgEawAPxttcv0xbA+m0r3i37JkBrLXMFbLcWwNWiLQdoIBPA9qpv+j+rIUCBPlAHBrckQLh2PaOj3CVAclzqNfTmEcBaA5cmf4UUwF/qRfyWDSRA16d3X0K/JUDi4zT3tBgJQHuhjOeY/CNA+NNFpI2ZI0Dc4Gf1J74WwLC93T/HRBTARWw23ZELFcDFyLNglYAiQLHysBzYjBbAQ31DhI1HFsD/OaRLNWEkQKx7BRu74xjAzg72WgtSGcCmge740IkRwByWhLUSaRnAYiN0u69CI0B098qoa9QfQFgD9gDumBHApn3/hj4MHsAzD7IR/j4awCO1PXiC9BTALggVBf15IkDgmS6z7YIbwHOJV18+iSJAOULUsUppFsAge3RnxQ8SwA==",
          "dtype": "f8"
         },
         "yaxis": "y"
        },
        {
         "hovertemplate": "label=6<br>x=%{x}<br>y=%{y}<extra></extra>",
         "legendgroup": "6",
         "marker": {
          "color": "#e74c3c",
          "opacity": 0.6,
          "size": 5,
          "symbol": "circle"
         },
         "mode": "markers",
         "name": "6",
         "orientation": "v",
         "showlegend": true,
         "type": "scatter",
         "x": {
          "bdata": "sZUQ2vI6GMAwIWFeAKwewItGAcPHgx/AnvOniWb5IMCtD1mfbHcbwFg3MfHPah/Anj5Dr5tlHcASD2aHpNwgwDDhuzT4TR3AFVn4ML+THMBrkbm70ZsawOoUtcc54R/AlIb1BlEkIMAAMUWAPiIgwA==",
          "dtype": "f8"
         },
         "xaxis": "x",
         "y": {
          "bdata": "svCwjOruE8BAO9KFIaYWwBmTgUYy3BPAxIp/yirIGsDuA0w20LQVwEYHX/FBXxjA8f/DZLtPF8D+v29yIq8ZwGtAyKRHGBjASrRXbMejEMC7razRt0oWwPNYW2SHgxjArnMr3OvkGMB0w8uowYwZwA==",
          "dtype": "f8"
         },
         "yaxis": "y"
        },
        {
         "hovertemplate": "label=7<br>x=%{x}<br>y=%{y}<extra></extra>",
         "legendgroup": "7",
         "marker": {
          "color": "#2ecc71",
          "opacity": 0.6,
          "size": 5,
          "symbol": "circle"
         },
         "mode": "markers",
         "name": "7",
         "orientation": "v",
         "showlegend": true,
         "type": "scatter",
         "x": {
          "bdata": "hCnc+YmIA8BK6q9anOwMwJdHpF01XATAC0Tal4alIMB+yi7pKyMjwEjPk42H/Pq/nDJ8wiHjCMAxdHRUeFYLwIz7fVSRJfu/ABb90rIuAcA=",
          "dtype": "f8"
         },
         "xaxis": "x",
         "y": {
          "bdata": "+k2S1a9bHkBV2i6itkUfQM8GEnxpKCVA9YrXfmdZH0DDEGPp8CgeQEv5XC98LB9AtOpNUa67JUDgktAUbmgeQKlFu5q1vSRA7ddMCsoaJUA=",
          "dtype": "f8"
         },
         "yaxis": "y"
        },
        {
         "hovertemplate": "label=8<br>x=%{x}<br>y=%{y}<extra></extra>",
         "legendgroup": "8",
         "marker": {
          "color": "#3498db",
          "opacity": 0.6,
          "size": 5,
          "symbol": "circle"
         },
         "mode": "markers",
         "name": "8",
         "orientation": "v",
         "showlegend": true,
         "type": "scatter",
         "x": {
          "bdata": "UGVnSt0CAEDmU13qsGsSQHWKBocnFgFA4ZNEZ+tQ+T9aCOEOTlAKQP9ETp5KnwpA5I7zukquEUAzM7F2LegUQA97fVTV3QxAZGDfoR/IBkB28mXIqoAPQLJj7mgkbQJAHkuGEtTEBUDENyXynLoDQJyTJAlmtQtACZ/q10swEUAD6vCv95YTQFk0ENx4lBJAK+upNLjf/D8MSYl+3wb9P5NwE8YPnxBAvji0Z0f1EkBX822CsisYQL4IsbTfngxAAWgcTa2mDkDRguu2sBoaQA6/UB5UZgpA9wqgmWmuBkDsZlTwwnAQQLCLzrN9ww1Au48+rtYIA0BrTFpWII4EQA4K05bSUPw/HOMEkps4FkBsFWcTFafwP8SSJq1AuRVAB//uWljFAUD4NxOZt/0QQKdGHSSgvABArFboUBTqEUADMalDX+gSQCscb8BN7fY/+z8/Kg1gB0BqyYNIoe39P9505XGihvE/GHtAdJl4GED3gtqxpPISQOWp9orUewlA+oaIfNoxDUBMtTKNdr4TQBP2+B9CyhFA/KLvN8cX8z/Dl6/QICgGQOaIO2fZPA1Ap8L7kLa2CEAh3qGKfCEXQJJxUebKywlA",
          "dtype": "f8"
         },
         "xaxis": "x",
         "y": {
          "bdata": "azjrOXgdEUAiWttDZb7pP39C5SNZSxNAFhchajQrEUCE3SqBWKELQALjdZbVuhBAqvDsBWukAkBstahkjacQQMcAFU2bYwdAXbAIOlzmE0A6WiO2/1P6P1eiPTpdTwxAx6Ggj4Al/z+Eqdk5jb4TQIGCXdEBzgVAIqZFr/m78j+KKYcsLGH+Pw01we870fs/XtLVUHkKFUD0faqj/FgNQEqXtefGrAFAqJAT492D9z+MtS39PUjiPxaQ+QP4kgNAkAMU++eK9z/poVU9li4BQM0nQlUdjwxA3f7U+hAqE0BxdqokOeQDQFTWUzJRLwxAVLdu7ZK/C0AJ/Zbuj6wPQAg/TF0xTwdAIPjzclVqAkDilrc1hX4SQOL3w4NABfE/l1B1m2h9DECgldFyF0/gP/K+etGHNQ5A9mLvM4wEA0Bug2dxXsn6PzuMF6ZRCxRAkj1DSADgEUA2YOhhw/8SQHIAfFdfaBBAyCCAqURH9z+FDs4h1ogHQGHxmxfOrxBAhqiYKoyC9j+Sj3NVsd8BQH4FHNeeMgJAwaqI6mbPDECLOaR1WBYTQBaSjCa52QVAj/Cj7ndVAEBGPzGnAs0FQEPd18gj1/g/",
          "dtype": "f8"
         },
         "yaxis": "y"
        },
        {
         "hovertemplate": "label=9<br>x=%{x}<br>y=%{y}<extra></extra>",
         "legendgroup": "9",
         "marker": {
          "color": "#e67e22",
          "opacity": 0.6,
          "size": 5,
          "symbol": "circle"
         },
         "mode": "markers",
         "name": "9",
         "orientation": "v",
         "showlegend": true,
         "type": "scatter",
         "x": {
          "bdata": "brwvlS5TFkAvyPFBwnEjwBMII/eEpSDAdJgSWo4ZEkCVZa8mYvYbQBU+yMDE3BVAnkF5Ors3FEA=",
          "dtype": "f8"
         },
         "xaxis": "x",
         "y": {
          "bdata": "UCh9cxeVF8AWvJC0s+gdQONofAQ+WiZAHFA9DKsdGcBG4powMQQPwHS63wB4Kx/AWoLkFg5pGcA=",
          "dtype": "f8"
         },
         "yaxis": "y"
        },
        {
         "marker": {
          "color": [
           "#f7dc6f"
          ],
          "size": 10,
          "symbol": "star"
         },
         "mode": "markers",
         "name": "Centroid 0",
         "type": "scatter",
         "x": [
          -8.454460453361863
         ],
         "y": [
          6.996201903528282
         ]
        },
        {
         "marker": {
          "color": [
           "#82e0aa"
          ],
          "size": 10,
          "symbol": "star"
         },
         "mode": "markers",
         "name": "Centroid 1",
         "type": "scatter",
         "x": [
          -2.9027200392476145
         ],
         "y": [
          -0.41501747120393123
         ]
        },
        {
         "marker": {
          "color": [
           "#f1948a"
          ],
          "size": 10,
          "symbol": "star"
         },
         "mode": "markers",
         "name": "Centroid 2",
         "type": "scatter",
         "x": [
          -6.320846557955709
         ],
         "y": [
          -6.586080421965008
         ]
        },
        {
         "marker": {
          "color": [
           "#499cef"
          ],
          "size": 10,
          "symbol": "star"
         },
         "mode": "markers",
         "name": "Centroid 3",
         "type": "scatter",
         "x": [
          -1.6010900328814546
         ],
         "y": [
          -4.5763389278275355
         ]
        },
        {
         "marker": {
          "color": [
           "#f5b041"
          ],
          "size": 10,
          "symbol": "star"
         },
         "mode": "markers",
         "name": "Centroid 4",
         "type": "scatter",
         "x": [
          -5.817435133956051
         ],
         "y": [
          8.945163471803381
         ]
        },
        {
         "marker": {
          "color": [
           "#a569bd"
          ],
          "size": 10,
          "symbol": "star"
         },
         "mode": "markers",
         "name": "Centroid 5",
         "type": "scatter",
         "x": [
          0.15157184213075606
         ],
         "y": [
          0.8878250776226683
         ]
        },
        {
         "marker": {
          "color": [
           "#e74c3c"
          ],
          "size": 10,
          "symbol": "star"
         },
         "mode": "markers",
         "name": "Centroid 6",
         "type": "scatter",
         "x": [
          -7.627802655550231
         ],
         "y": [
          -5.745817800004746
         ]
        },
        {
         "marker": {
          "color": [
           "#2ecc71"
          ],
          "size": 10,
          "symbol": "star"
         },
         "mode": "markers",
         "name": "Centroid 7",
         "type": "scatter",
         "x": [
          -4.720985787943402
         ],
         "y": [
          8.916239169510659
         ]
        },
        {
         "marker": {
          "color": [
           "#3498db"
          ],
          "size": 10,
          "symbol": "star"
         },
         "mode": "markers",
         "name": "Centroid 8",
         "type": "scatter",
         "x": [
          3.5898086353207272
         ],
         "y": [
          2.8992507650837265
         ]
        },
        {
         "marker": {
          "color": [
           "#e67e22"
          ],
          "size": 10,
          "symbol": "star"
         },
         "mode": "markers",
         "name": "Centroid 9",
         "type": "scatter",
         "x": [
          0.3593551802051137
         ],
         "y": [
          -0.9210545790328728
         ]
        }
       ],
       "layout": {
        "legend": {
         "title": {
          "text": "label"
         },
         "tracegroupgap": 0
        },
        "template": {
         "data": {
          "bar": [
           {
            "error_x": {
             "color": "#2a3f5f"
            },
            "error_y": {
             "color": "#2a3f5f"
            },
            "marker": {
             "line": {
              "color": "#E5ECF6",
              "width": 0.5
             },
             "pattern": {
              "fillmode": "overlay",
              "size": 10,
              "solidity": 0.2
             }
            },
            "type": "bar"
           }
          ],
          "barpolar": [
           {
            "marker": {
             "line": {
              "color": "#E5ECF6",
              "width": 0.5
             },
             "pattern": {
              "fillmode": "overlay",
              "size": 10,
              "solidity": 0.2
             }
            },
            "type": "barpolar"
           }
          ],
          "carpet": [
           {
            "aaxis": {
             "endlinecolor": "#2a3f5f",
             "gridcolor": "white",
             "linecolor": "white",
             "minorgridcolor": "white",
             "startlinecolor": "#2a3f5f"
            },
            "baxis": {
             "endlinecolor": "#2a3f5f",
             "gridcolor": "white",
             "linecolor": "white",
             "minorgridcolor": "white",
             "startlinecolor": "#2a3f5f"
            },
            "type": "carpet"
           }
          ],
          "choropleth": [
           {
            "colorbar": {
             "outlinewidth": 0,
             "ticks": ""
            },
            "type": "choropleth"
           }
          ],
          "contour": [
           {
            "colorbar": {
             "outlinewidth": 0,
             "ticks": ""
            },
            "colorscale": [
             [
              0,
              "#0d0887"
             ],
             [
              0.1111111111111111,
              "#46039f"
             ],
             [
              0.2222222222222222,
              "#7201a8"
             ],
             [
              0.3333333333333333,
              "#9c179e"
             ],
             [
              0.4444444444444444,
              "#bd3786"
             ],
             [
              0.5555555555555556,
              "#d8576b"
             ],
             [
              0.6666666666666666,
              "#ed7953"
             ],
             [
              0.7777777777777778,
              "#fb9f3a"
             ],
             [
              0.8888888888888888,
              "#fdca26"
             ],
             [
              1,
              "#f0f921"
             ]
            ],
            "type": "contour"
           }
          ],
          "contourcarpet": [
           {
            "colorbar": {
             "outlinewidth": 0,
             "ticks": ""
            },
            "type": "contourcarpet"
           }
          ],
          "heatmap": [
           {
            "colorbar": {
             "outlinewidth": 0,
             "ticks": ""
            },
            "colorscale": [
             [
              0,
              "#0d0887"
             ],
             [
              0.1111111111111111,
              "#46039f"
             ],
             [
              0.2222222222222222,
              "#7201a8"
             ],
             [
              0.3333333333333333,
              "#9c179e"
             ],
             [
              0.4444444444444444,
              "#bd3786"
             ],
             [
              0.5555555555555556,
              "#d8576b"
             ],
             [
              0.6666666666666666,
              "#ed7953"
             ],
             [
              0.7777777777777778,
              "#fb9f3a"
             ],
             [
              0.8888888888888888,
              "#fdca26"
             ],
             [
              1,
              "#f0f921"
             ]
            ],
            "type": "heatmap"
           }
          ],
          "histogram": [
           {
            "marker": {
             "pattern": {
              "fillmode": "overlay",
              "size": 10,
              "solidity": 0.2
             }
            },
            "type": "histogram"
           }
          ],
          "histogram2d": [
           {
            "colorbar": {
             "outlinewidth": 0,
             "ticks": ""
            },
            "colorscale": [
             [
              0,
              "#0d0887"
             ],
             [
              0.1111111111111111,
              "#46039f"
             ],
             [
              0.2222222222222222,
              "#7201a8"
             ],
             [
              0.3333333333333333,
              "#9c179e"
             ],
             [
              0.4444444444444444,
              "#bd3786"
             ],
             [
              0.5555555555555556,
              "#d8576b"
             ],
             [
              0.6666666666666666,
              "#ed7953"
             ],
             [
              0.7777777777777778,
              "#fb9f3a"
             ],
             [
              0.8888888888888888,
              "#fdca26"
             ],
             [
              1,
              "#f0f921"
             ]
            ],
            "type": "histogram2d"
           }
          ],
          "histogram2dcontour": [
           {
            "colorbar": {
             "outlinewidth": 0,
             "ticks": ""
            },
            "colorscale": [
             [
              0,
              "#0d0887"
             ],
             [
              0.1111111111111111,
              "#46039f"
             ],
             [
              0.2222222222222222,
              "#7201a8"
             ],
             [
              0.3333333333333333,
              "#9c179e"
             ],
             [
              0.4444444444444444,
              "#bd3786"
             ],
             [
              0.5555555555555556,
              "#d8576b"
             ],
             [
              0.6666666666666666,
              "#ed7953"
             ],
             [
              0.7777777777777778,
              "#fb9f3a"
             ],
             [
              0.8888888888888888,
              "#fdca26"
             ],
             [
              1,
              "#f0f921"
             ]
            ],
            "type": "histogram2dcontour"
           }
          ],
          "mesh3d": [
           {
            "colorbar": {
             "outlinewidth": 0,
             "ticks": ""
            },
            "type": "mesh3d"
           }
          ],
          "parcoords": [
           {
            "line": {
             "colorbar": {
              "outlinewidth": 0,
              "ticks": ""
             }
            },
            "type": "parcoords"
           }
          ],
          "pie": [
           {
            "automargin": true,
            "type": "pie"
           }
          ],
          "scatter": [
           {
            "fillpattern": {
             "fillmode": "overlay",
             "size": 10,
             "solidity": 0.2
            },
            "type": "scatter"
           }
          ],
          "scatter3d": [
           {
            "line": {
             "colorbar": {
              "outlinewidth": 0,
              "ticks": ""
             }
            },
            "marker": {
             "colorbar": {
              "outlinewidth": 0,
              "ticks": ""
             }
            },
            "type": "scatter3d"
           }
          ],
          "scattercarpet": [
           {
            "marker": {
             "colorbar": {
              "outlinewidth": 0,
              "ticks": ""
             }
            },
            "type": "scattercarpet"
           }
          ],
          "scattergeo": [
           {
            "marker": {
             "colorbar": {
              "outlinewidth": 0,
              "ticks": ""
             }
            },
            "type": "scattergeo"
           }
          ],
          "scattergl": [
           {
            "marker": {
             "colorbar": {
              "outlinewidth": 0,
              "ticks": ""
             }
            },
            "type": "scattergl"
           }
          ],
          "scattermap": [
           {
            "marker": {
             "colorbar": {
              "outlinewidth": 0,
              "ticks": ""
             }
            },
            "type": "scattermap"
           }
          ],
          "scattermapbox": [
           {
            "marker": {
             "colorbar": {
              "outlinewidth": 0,
              "ticks": ""
             }
            },
            "type": "scattermapbox"
           }
          ],
          "scatterpolar": [
           {
            "marker": {
             "colorbar": {
              "outlinewidth": 0,
              "ticks": ""
             }
            },
            "type": "scatterpolar"
           }
          ],
          "scatterpolargl": [
           {
            "marker": {
             "colorbar": {
              "outlinewidth": 0,
              "ticks": ""
             }
            },
            "type": "scatterpolargl"
           }
          ],
          "scatterternary": [
           {
            "marker": {
             "colorbar": {
              "outlinewidth": 0,
              "ticks": ""
             }
            },
            "type": "scatterternary"
           }
          ],
          "surface": [
           {
            "colorbar": {
             "outlinewidth": 0,
             "ticks": ""
            },
            "colorscale": [
             [
              0,
              "#0d0887"
             ],
             [
              0.1111111111111111,
              "#46039f"
             ],
             [
              0.2222222222222222,
              "#7201a8"
             ],
             [
              0.3333333333333333,
              "#9c179e"
             ],
             [
              0.4444444444444444,
              "#bd3786"
             ],
             [
              0.5555555555555556,
              "#d8576b"
             ],
             [
              0.6666666666666666,
              "#ed7953"
             ],
             [
              0.7777777777777778,
              "#fb9f3a"
             ],
             [
              0.8888888888888888,
              "#fdca26"
             ],
             [
              1,
              "#f0f921"
             ]
            ],
            "type": "surface"
           }
          ],
          "table": [
           {
            "cells": {
             "fill": {
              "color": "#EBF0F8"
             },
             "line": {
              "color": "white"
             }
            },
            "header": {
             "fill": {
              "color": "#C8D4E3"
             },
             "line": {
              "color": "white"
             }
            },
            "type": "table"
           }
          ]
         },
         "layout": {
          "annotationdefaults": {
           "arrowcolor": "#2a3f5f",
           "arrowhead": 0,
           "arrowwidth": 1
          },
          "autotypenumbers": "strict",
          "coloraxis": {
           "colorbar": {
            "outlinewidth": 0,
            "ticks": ""
           }
          },
          "colorscale": {
           "diverging": [
            [
             0,
             "#8e0152"
            ],
            [
             0.1,
             "#c51b7d"
            ],
            [
             0.2,
             "#de77ae"
            ],
            [
             0.3,
             "#f1b6da"
            ],
            [
             0.4,
             "#fde0ef"
            ],
            [
             0.5,
             "#f7f7f7"
            ],
            [
             0.6,
             "#e6f5d0"
            ],
            [
             0.7,
             "#b8e186"
            ],
            [
             0.8,
             "#7fbc41"
            ],
            [
             0.9,
             "#4d9221"
            ],
            [
             1,
             "#276419"
            ]
           ],
           "sequential": [
            [
             0,
             "#0d0887"
            ],
            [
             0.1111111111111111,
             "#46039f"
            ],
            [
             0.2222222222222222,
             "#7201a8"
            ],
            [
             0.3333333333333333,
             "#9c179e"
            ],
            [
             0.4444444444444444,
             "#bd3786"
            ],
            [
             0.5555555555555556,
             "#d8576b"
            ],
            [
             0.6666666666666666,
             "#ed7953"
            ],
            [
             0.7777777777777778,
             "#fb9f3a"
            ],
            [
             0.8888888888888888,
             "#fdca26"
            ],
            [
             1,
             "#f0f921"
            ]
           ],
           "sequentialminus": [
            [
             0,
             "#0d0887"
            ],
            [
             0.1111111111111111,
             "#46039f"
            ],
            [
             0.2222222222222222,
             "#7201a8"
            ],
            [
             0.3333333333333333,
             "#9c179e"
            ],
            [
             0.4444444444444444,
             "#bd3786"
            ],
            [
             0.5555555555555556,
             "#d8576b"
            ],
            [
             0.6666666666666666,
             "#ed7953"
            ],
            [
             0.7777777777777778,
             "#fb9f3a"
            ],
            [
             0.8888888888888888,
             "#fdca26"
            ],
            [
             1,
             "#f0f921"
            ]
           ]
          },
          "colorway": [
           "#636efa",
           "#EF553B",
           "#00cc96",
           "#ab63fa",
           "#FFA15A",
           "#19d3f3",
           "#FF6692",
           "#B6E880",
           "#FF97FF",
           "#FECB52"
          ],
          "font": {
           "color": "#2a3f5f"
          },
          "geo": {
           "bgcolor": "white",
           "lakecolor": "white",
           "landcolor": "#E5ECF6",
           "showlakes": true,
           "showland": true,
           "subunitcolor": "white"
          },
          "hoverlabel": {
           "align": "left"
          },
          "hovermode": "closest",
          "mapbox": {
           "style": "light"
          },
          "paper_bgcolor": "white",
          "plot_bgcolor": "#E5ECF6",
          "polar": {
           "angularaxis": {
            "gridcolor": "white",
            "linecolor": "white",
            "ticks": ""
           },
           "bgcolor": "#E5ECF6",
           "radialaxis": {
            "gridcolor": "white",
            "linecolor": "white",
            "ticks": ""
           }
          },
          "scene": {
           "xaxis": {
            "backgroundcolor": "#E5ECF6",
            "gridcolor": "white",
            "gridwidth": 2,
            "linecolor": "white",
            "showbackground": true,
            "ticks": "",
            "zerolinecolor": "white"
           },
           "yaxis": {
            "backgroundcolor": "#E5ECF6",
            "gridcolor": "white",
            "gridwidth": 2,
            "linecolor": "white",
            "showbackground": true,
            "ticks": "",
            "zerolinecolor": "white"
           },
           "zaxis": {
            "backgroundcolor": "#E5ECF6",
            "gridcolor": "white",
            "gridwidth": 2,
            "linecolor": "white",
            "showbackground": true,
            "ticks": "",
            "zerolinecolor": "white"
           }
          },
          "shapedefaults": {
           "line": {
            "color": "#2a3f5f"
           }
          },
          "ternary": {
           "aaxis": {
            "gridcolor": "white",
            "linecolor": "white",
            "ticks": ""
           },
           "baxis": {
            "gridcolor": "white",
            "linecolor": "white",
            "ticks": ""
           },
           "bgcolor": "#E5ECF6",
           "caxis": {
            "gridcolor": "white",
            "linecolor": "white",
            "ticks": ""
           }
          },
          "title": {
           "x": 0.05
          },
          "xaxis": {
           "automargin": true,
           "gridcolor": "white",
           "linecolor": "white",
           "ticks": "",
           "title": {
            "standoff": 15
           },
           "zerolinecolor": "white",
           "zerolinewidth": 2
          },
          "yaxis": {
           "automargin": true,
           "gridcolor": "white",
           "linecolor": "white",
           "ticks": "",
           "title": {
            "standoff": 15
           },
           "zerolinecolor": "white",
           "zerolinewidth": 2
          }
         }
        },
        "title": {
         "text": "TVCluster"
        },
        "xaxis": {
         "anchor": "y",
         "domain": [
          0,
          1
         ],
         "title": {
          "text": "x"
         }
        },
        "yaxis": {
         "anchor": "x",
         "domain": [
          0,
          1
         ],
         "title": {
          "text": "y"
         }
        }
       }
      }
     },
     "metadata": {},
     "output_type": "display_data"
    }
   ],
   "source": [
    "rdpm_centroids = tvclust.centroids\n",
    "df = pd.DataFrame(X, columns=['x', 'y'])\n",
    "df['label'] = tvclust._labels\n",
    "fig = plot_dataframe(df, title='TVCluster', x='x', y='y', label='label')\n",
    "for i, centroid in enumerate(rdpm_centroids):\n",
    "    fig = plot_centroid(fig, centroid, colors=[COLORS[i % len(COLORS)]], marker_size=10, symbol='star', name=f'Centroid {i}')\n",
    "fig.show()"
   ]
  },
  {
   "cell_type": "code",
   "execution_count": 110,
   "id": "5b78fe9d",
   "metadata": {},
   "outputs": [
    {
     "data": {
      "application/vnd.plotly.v1+json": {
       "config": {
        "plotlyServerURL": "https://plot.ly"
       },
       "data": [
        {
         "hovertemplate": "label=0<br>x=%{x}<br>y=%{y}<extra></extra>",
         "legendgroup": "0",
         "marker": {
          "color": "#f7dc6f",
          "opacity": 0.6,
          "size": 5,
          "symbol": "circle"
         },
         "mode": "markers",
         "name": "0",
         "orientation": "v",
         "showlegend": true,
         "type": "scatter",
         "x": {
          "bdata": "hRf/EupU/L81D2qK2eYPwAGr8UEbUwHA/b+WgS/oB8BIz5ONh/z6v7xxhIi7bQjAkGkuDbOm97+XvOKGFWcCwDF0dFR4VgvAI1mESGCy8L+HeFXhjckKwCYCYdzx4AjASInwjwmEFMCFwftILH0JwCsIBN4cewHAUgz7PlCmBMC8LflSEkgNwA0JVpU5wgfAsuDpNfayDsBK6q9anOwMwIQp3PmJiAPAocnvwmhsAcCXR6RdNVwEwO5b42cdLQzAtmPoonouBMC9RMc1r/8EwJwyfMIh4wjAjPt9VJEl+78AFv3Ssi4BwKqebMY0LgHA",
          "dtype": "f8"
         },
         "xaxis": "x",
         "y": {
          "bdata": "oVxBGA5fIkCHQWAXwZYgQH5S0p9GAR1AMdZo0UGoIUBL+VwvfCwfQPUtaVsbQCJAq9VYQiHkI0ChiwFC7TccQOCS0BRuaB5AhjFlj7eTIUCbMkdt/2ghQFQt06D3cSFAdWGc6iCsI0C5alslfkAjQG97uQEnQiFA9ptMkx8JJEDYuoYArMciQDXExaKPJCRA0pzegRtsIkBV2i6itkUfQPpNktWvWx5AaVKMKcv6I0DPBhJ8aSglQBqAq4k1qCJAwaTzcojTH0BqRnA/Jm0hQLTqTVGuuyVAqUW7mrW9JEDt10wKyholQD67+l8DvSBA",
          "dtype": "f8"
         },
         "yaxis": "y"
        },
        {
         "hovertemplate": "label=1<br>x=%{x}<br>y=%{y}<extra></extra>",
         "legendgroup": "1",
         "marker": {
          "color": "#82e0aa",
          "opacity": 0.6,
          "size": 5,
          "symbol": "circle"
         },
         "mode": "markers",
         "name": "1",
         "orientation": "v",
         "showlegend": true,
         "type": "scatter",
         "x": {
          "bdata": "7GZU8MJwEEDkjvO6Sq4RQL44tGdH9RJAWTQQ3HiUEkBX822CsisYQAFoHE2tpg5ArFboUBTqEUB28mXIqoAPQEy1Mo12vhNA94LasaTyEkADMalDX+gSQBzjBJKbOBZA+DcTmbf9EEAD6vCv95YTQL4IsbTfngxAxJImrUC5FUDRguu2sBoaQBh7QHSZeBhAp8L7kLa2CECScVHmyssJQBP2+B9CyhFAsIvOs33DDUBzHEXvMu0SQHu4w2LpzBJAId6hinwhF0AzM7F2LegUQPqGiHzaMQ1ACZ/q10swEUAeS4YS1MQFQOZTXeqwaxJA",
          "dtype": "f8"
         },
         "xaxis": "x",
         "y": {
          "bdata": "cXaqJDnkA0Cq8OwFa6QCQKiQE+Pdg/c/DTXB7zvR+z+MtS39PUjiP5ADFPvnivc/9mLvM4wEA0A6WiO2/1P6P5KPc1Wx3wFAhQ7OIdaIB0Bug2dxXsn6PyD483JVagJAoJXRchdP4D+KKYcsLGH+PxaQ+QP4kgNA4vfDg0AF8T/poVU9li4BQMgggKlER/c/j/Cj7ndVAEBD3dfII9f4P34FHNeeMgJAVNZTMlEvDEAAAS8GWH2NvxT05LvivhFARj8xpwLNBUBstahkjacQQIaomCqMgvY/IqZFr/m78j/HoaCPgCX/PyJa20Nlvuk/",
          "dtype": "f8"
         },
         "yaxis": "y"
        },
        {
         "hovertemplate": "label=2<br>x=%{x}<br>y=%{y}<extra></extra>",
         "legendgroup": "2",
         "marker": {
          "color": "#f1948a",
          "opacity": 0.6,
          "size": 5,
          "symbol": "circle"
         },
         "mode": "markers",
         "name": "2",
         "orientation": "v",
         "showlegend": true,
         "type": "scatter",
         "x": {
          "bdata": "nvOniWb5IMAr98nMoVgawC18jQhVzR/AWDcx8c9qH8CtD1mfbHcbwLGVENryOhjAAk5JGbA7IMAwQ+e3PaoXwIFhV6Zm0xrAFVn4ML+THMBrkbm70ZsawN3nPgMEgBzA4DLqyjuEGsA7jCeWJKAZwAVmlZmBqRrAel2XDA4EGcCW6gDi2ucewEDqbNyZEx/AKvE2JMqmHsCArf8jRW4ZwJSG9QZRJCDA6UOsvbDTG8AWw1EoaGkawM5FGWQVPR7AMOG7NPhNHcDRTnJGnnoawFhTPVWyQxjABilmHFbiFsAWXJ5lLw4UwP8ONmuQaRzA",
          "dtype": "f8"
         },
         "xaxis": "x",
         "y": {
          "bdata": "xIp/yirIGsCAKSljumAewDpMTTMulxnARgdf8UFfGMDuA0w20LQVwLLwsIzq7hPA+f8hnbBmIMAZpelni94ZwEsAXs+q+hnASrRXbMejEMC7razRt0oWwM75vtwOiR7ACeA5IXgiGsB/Upgcz88bwNTiozJvQCDAgF/hKPbyHsDX9LDHN8ogwHK7djifyB7ArK198QXPHMDdQ/SyHlUawK5zK9zr5BjA3NmEgeQnGsDibdZSMjYYwHtWOYlnlxrAa0DIpEcYGMDu3jlGpWQYwJrTgZLROCDA7PcWZZzNHsAiuvP9BqAZwC5A8oAYqhjA",
          "dtype": "f8"
         },
         "yaxis": "y"
        },
        {
         "hovertemplate": "label=3<br>x=%{x}<br>y=%{y}<extra></extra>",
         "legendgroup": "3",
         "marker": {
          "color": "#499cef",
          "opacity": 0.6,
          "size": 5,
          "symbol": "circle"
         },
         "mode": "markers",
         "name": "3",
         "orientation": "v",
         "showlegend": true,
         "type": "scatter",
         "x": {
          "bdata": "E48s/E+MIcA9P3O8PBgawJoeYJV1GyPAsQY4w2uPIcB8yN+LxhMkwHQAnODLMiTAVSxnWdqeIsBoFtAK6TgjwFznF4MMxxrAjCaAGuSVIcA6wM/M200gwHPB6CcktyTAFBrukv5CI8CBocsTXN0awJz05VqfShzAjmSi+A4AI8ALRNqXhqUgwH7KLukrIyPAYO1jmquqIMBONM7AjIkfwOPsDGQJ9iDAEwgj94SlIMAiBuvIGLolwMYA0zRnBR/AGB3iiO2IIMCmz9lTZaAiwC/I8UHCcSPAwFrd3bqlIsCYUNQsl24kwMJ9IkSkTiLA",
          "dtype": "f8"
         },
         "xaxis": "x",
         "y": {
          "bdata": "urqbQ637GEAwu3k5NdMVQMZdHwiZASBAy10QyeK4GEACqWQZwvQbQFPV9MuWeyBAGwRtui/TIEDcKaoDyVgcQHT3yqhr1B9AWS06eAywGkCSS0TN3dcWQCsEzIhuWxtASEEXH8zVHEApywsVRLYgQAaE5h396R5ARhYJ8BZaIED1itd+Z1kfQMMQY+nwKB5Aq8B1D+lgIEBmVDvmT+YfQDC22eOHiR9A42h8BD5aJkA805Z4NwoeQM4K97wwwSBAkDi5pw3rIEAzmLhAR64aQBa8kLSz6B1A7YDSZyCfHUCXEkdi9IoZQICGxGg8KiBA",
          "dtype": "f8"
         },
         "yaxis": "y"
        },
        {
         "hovertemplate": "label=4<br>x=%{x}<br>y=%{y}<extra></extra>",
         "legendgroup": "4",
         "marker": {
          "color": "#f5b041",
          "opacity": 0.6,
          "size": 5,
          "symbol": "circle"
         },
         "mode": "markers",
         "name": "4",
         "orientation": "v",
         "showlegend": true,
         "type": "scatter",
         "x": {
          "bdata": "5an2itR7CUBQZWdK3QIAQAf/7lpYxQFA5og7Z9k8DUCTcBPGD58QQFoI4Q5OUApAD3t9VNXdDED3CqCZaa4GQGtMWlYgjgRAwBO8puOA87/Dl6/QICgGQA6/UB5UZgpADgrTltJQ/D/edOVxoobxP/s/PyoNYAdAK+upNLjf/D//RE6eSp8KQJyTJAlmtQtAsmPuaCRtAkBkYN+hH8gGQAxJiX7fBv0/xDcl8py6A0Dhk0Rn61D5P3WKBocnFgFAasmDSKHt/T9sFWcTFafwP6dGHSSgvABAu48+rtYIA0D8ou83xxfzPyscb8BN7fY/",
          "dtype": "f8"
         },
         "xaxis": "x",
         "y": {
          "bdata": "YfGbF86vEEBrOOs5eB0RQJdQdZtofQxAFpKMJrnZBUBKl7XnxqwBQITdKoFYoQtAxwAVTZtjB0Dd/tT6ECoTQAn9lu6PrA9A4uM097QYCUCLOaR1WBYTQM0nQlUdjwxACD9MXTFPB0ByAHxXX2gQQJI9Q0gA4BFAXtLVUHkKFUAC43WW1boQQIGCXdEBzgVAV6I9Ol1PDEBdsAg6XOYTQPR9qqP8WA1AhKnZOY2+E0AWFyFqNCsRQH9C5SNZSxNANmDoYcP/EkDilrc1hX4SQPK+etGHNQ5AVLdu7ZK/C0DBqojqZs8MQDuMF6ZRCxRA",
          "dtype": "f8"
         },
         "yaxis": "y"
        },
        {
         "hovertemplate": "label=5<br>x=%{x}<br>y=%{y}<extra></extra>",
         "legendgroup": "5",
         "marker": {
          "color": "#a569bd",
          "opacity": 0.6,
          "size": 5,
          "symbol": "circle"
         },
         "mode": "markers",
         "name": "5",
         "orientation": "v",
         "showlegend": true,
         "type": "scatter",
         "x": {
          "bdata": "fN3FefM2I8ADEr5iqiAjwA6WUDvLWSLAgr7BWartIcBX3bqd+4ciwGH0SEuiEibA1u4TbtzLIcD9JfO0B44iwOOCOTF8MyPANiLTIGcGI8CXe8a7eroiwMUkKhND3CDAlw62YTT7IsDHHkaN3tMkwBRBuhqSvR3Agv3i2T2HIsAiPDWwOkYgwCW+kLnKryLAHJf+zSTQJMDO6hEOMdIkwG5KibFLMCXAhQ97ibE2I8AdWnznDp0kwPpAuWTmZCPA2uBrMk8jIsDCXe4W9DkhwF3RNIeN+yLA2kk20hd2IcCmjB0LDtAhwJBhg+piHiTA",
          "dtype": "f8"
         },
         "xaxis": "x",
         "y": {
          "bdata": "Plw39JTKIEB14mgd2sojQPaqb/o/qyFAX+pF/JYNJEDGkCqrVSQhQAhPM8iC9h9ADrCRtnP+IUDXp3dfQr8lQIW10I57ACFABxACiytxIUD0Onf+UtIiQP85pEs1YSRAKd1hixhAIUB4kD3MUyciQJWe/bP+QiFAc4lXXz6JIkCBPlAHBrckQBDcTW1SyCFA+m0r3i37JkDjx5MNpUgjQOn1XVo2XiBAL2vwahU4IkDeGqyJl14iQPjTRaSNmSNAuHY9o6PcJUDFyLNglYAiQHuhjOeY/CNALggVBf15IkDa8tIyBS0iQGIjdLuvQiNA",
          "dtype": "f8"
         },
         "yaxis": "y"
        },
        {
         "hovertemplate": "label=6<br>x=%{x}<br>y=%{y}<extra></extra>",
         "legendgroup": "6",
         "marker": {
          "color": "#e74c3c",
          "opacity": 0.6,
          "size": 5,
          "symbol": "circle"
         },
         "mode": "markers",
         "name": "6",
         "orientation": "v",
         "showlegend": true,
         "type": "scatter",
         "x": {
          "bdata": "IhZ8x6hlHkCR5tfMEo8XQJgOT0lkrSFA+VFC7yy+E0Cqrjxha00gQJb4uY0GUB9AFT7IwMTcFUC85B16y50aQOQiJAx+dRRAnPFj23IAF0B0mBJajhkSQHGpxXyNhBlAH7WlqIFQFUAtWxn6V7wWQIlRNGp8mRlA+K7OyVBrIUBoVi0HZ2YgQOsUe9SMPBdAlWWvJmL2G0BxpnVxHnEdQE0PXH6uFR5APQwLBixQH0A85nzwIiMaQD1y3uiOyxhAeemSppsTG0DG6VOAQNQeQG68L5UuUxZAuIM4/7bsG0BLETdOSi0dQJ5BeTq7NxRA",
          "dtype": "f8"
         },
         "xaxis": "x",
         "y": {
          "bdata": "zg72WgtSGcA5QtSxSmkWwDMPshH+PhrAWAP2AO6YEcBrLXMFbLcWwNzgZ/UnvhbAdLrfAHgrH8AD8bbXL9MWwHJc6jX05hHARWw23ZELFcAcUD0Mqx0ZwIFwVSCIJBTAGnqBMcNfD8Cwvd0/x0QUwNWiLQdoIBPA4P8+6Kb7D8Cx8rAc2IwWwByWhLUSaRnARuKaMDEED8DgmS6z7YIbwEN9Q4SNRxbArHsFG7vjGMAge3RnxQ8SwFoDlyZ/hRTAI7U9eIL0FMCmff+GPgwewFAofXMXlRfAfwgux74BGsCmge740IkRwFqC5BYOaRnA",
          "dtype": "f8"
         },
         "yaxis": "y"
        },
        {
         "hovertemplate": "label=7<br>x=%{x}<br>y=%{y}<extra></extra>",
         "legendgroup": "7",
         "marker": {
          "color": "#2ecc71",
          "opacity": 0.6,
          "size": 5,
          "symbol": "circle"
         },
         "mode": "markers",
         "name": "7",
         "orientation": "v",
         "showlegend": true,
         "type": "scatter",
         "x": {
          "bdata": "rv7ruIXwEsCnxCWlbIIbwDAhYV4ArB7AY9lxNXWTG8CB9QdcvkAcwMckYVO6ehzAeGV5XjWTG8AcUuOjP+cZwOxxha2LXBPA/wWIZlH/FsCRnQNcKasbwItGAcPHgx/AIBEZEPHqF8DqFLXHOeEfwCbpPPzT/BfAnJDX4P8kGcAAMUWAPiIgwIgl1bdQChzAG4RBkdQlF8ASD2aHpNwgwPjqVZxYmBHAlqzy4dLhGcCePkOvm2UdwEPXA6vgjRrAMhWCGcffEsCpqRd3aLQZwBLP+n5jfBnADIOKdZe0EsAN6VNYNvcZwDwZQ8XmRgrA",
          "dtype": "f8"
         },
         "xaxis": "x",
         "y": {
          "bdata": "3wbkehnZHsA1OQOigpAdwEA70oUhphbAtEjTdYOhG8BW1BidwngYwBmYmHBDBB/A4A/lBMd/HMB23qAEJjYawBvN/iAILBfAZcPuDzBMFsBSVGiqgB4ewBmTgUYy3BPA+YE65Vp1GcDzWFtkh4MYwIYJlQJQFh3AF1AoptTFHMB0w8uowYwZwByPtXthpx3Ai7CIzScVGMD+v29yIq8ZwO5o6QjELxnADicMuvZ3HcDx/8Nku08XwI+kGn6FRCHAae2Id+NSGsAT77xVz4EVwDt94a9paBPAN3FHlxPNFcDOyExbWSYdwOocW1Fu2RTA",
          "dtype": "f8"
         },
         "yaxis": "y"
        },
        {
         "hovertemplate": "label=8<br>x=%{x}<br>y=%{y}<extra></extra>",
         "legendgroup": "8",
         "marker": {
          "color": "#3498db",
          "opacity": 0.6,
          "size": 5,
          "symbol": "circle"
         },
         "mode": "markers",
         "name": "8",
         "orientation": "v",
         "showlegend": true,
         "type": "scatter",
         "x": {
          "bdata": "wiA2nVlFB8CC8vbdZLQKwHRd/YZAQRXAuOS44jIVC8C8aADquCsWwPX8LfG6BxLAUu/ihyFaDMAdh+38W1ALwEHnrHdTPg3ArffUfmY2CsCGky2DvaIIwOwa3TnNnRDAa7MWl1coDcBS9hqN3e4OwIEa/UhCzxPAznAqgMApE8D9OJF5YEMSwCNtOd/moA7AI0xqH86GDsAy1ZwVbekHwGQRm0WlTxLA/g7RPLK2EsDcaaqSu/cRwDW1fzQVjBnAVelloS4aE8Bv6doBl1YWwHvcprye+gXAdBd/1dOeDMCORDW0kdkPwOSdl1qZRBLA",
          "dtype": "f8"
         },
         "xaxis": "x",
         "y": {
          "bdata": "OGVofG/utL8WTfftfbHSP0IzDAj47fA/zgFTQrb8/j9wnbtxAWLhP4YW0+9vm9e/8MKw6wXeu79663reE+DevyTtYdUiMNq/VSFJD4qp8r/0kcn8dk7kv6T9vuRVZdq/qjvbGRZ53D/4gIRkGX7Vv05Tv7mtgdM/QmIcOM1n7L8g5ZzhAWSAP0AIclqSudU/8KJggbrx8z8XPW47gjwDQMxWFBI4DfE/uHpvDcD09L8HEnIcIQL0P7bkA/QkUNO/JFKPloROvD9a4Ut1pp3wPwqAvS5P/Oc/uPwMMftPtT/WRQwLjejmv7JodjhiXOE/",
          "dtype": "f8"
         },
         "yaxis": "y"
        },
        {
         "hovertemplate": "label=9<br>x=%{x}<br>y=%{y}<extra></extra>",
         "legendgroup": "9",
         "marker": {
          "color": "#e67e22",
          "opacity": 0.6,
          "size": 5,
          "symbol": "circle"
         },
         "mode": "markers",
         "name": "9",
         "orientation": "v",
         "showlegend": true,
         "type": "scatter",
         "x": {
          "bdata": "ffmZDGFO57+M0Zv4RFPuv/xI+M8j3vK/oCIY4lkeCcBAVr306doJwEya8abj4vy/4OMFgSJ3xL/2XGXIeBj6v3oay5dAFAHAOLopneBU47+BOZ03myD9v4tcco+Qnea/moUPYwT84L+Na7y0xu7uv2hwGTqttwbAdwgIcJwxC8AMnA9Vn3v1v7J21Wy8WvE/hqs6cSUk8b+mm34FonTfv8rYUMi/W9+/fDy7ofwB8r8U9RasM7XUv75RL5ZMlP2/hOVGTlM67L/iKI7D7aH0v6X8XTujA+G/xBdsNPiL8L9ipTQFUEzxvw/PkzGVXPC/",
          "dtype": "f8"
         },
         "xaxis": "x",
         "y": {
          "bdata": "JNFJOsB5/r8qgJ+bk2MCwJhSXg7mag/AYnMHDVtvBcCS0Vi3kxsSwOYDjgKLYg7AlEx2E39VEsA+w9eZ4Z0UwKS39lMnrhXALfgTrOxjFMCwvfYq3hkUwEV038CL7BDAvTrMzUEgFMAqkAUft2ISwLQ4b5zYQAjArFHkV+i7FMCcBVEq6f0DwMxwBgJOLxDAT/WeZdXMAMAj3Bp46I4GwEIgoq15ARLAMjOWwoU8C8CgmOZN4r0SwDvJWRmRbhLAmi3QF+q7DsDYw2KZv5wSwKx0fWvUixnAjKhXdPyTEcASMCnEIDQVwMIW48zhXBLA",
          "dtype": "f8"
         },
         "yaxis": "y"
        },
        {
         "line": {
          "color": "red",
          "dash": "dash",
          "width": 0.5
         },
         "mode": "lines",
         "type": "scatter",
         "x": [
          -1.7707310430573397,
          -5.542697578692408
         ],
         "y": [
          9.185654409388293,
          0.5432135793061388
         ]
        },
        {
         "line": {
          "color": "red",
          "dash": "dash",
          "width": 0.5
         },
         "mode": "lines",
         "type": "scatter",
         "x": [
          -1.7707310430573397,
          2.092102319854195
         ],
         "y": [
          9.185654409388293,
          3.7761379590591497
         ]
        },
        {
         "line": {
          "color": "red",
          "dash": "dash",
          "width": 0.5
         },
         "mode": "lines",
         "type": "scatter",
         "x": [
          -1.7707310430573397,
          -11.036394455581275
         ],
         "y": [
          9.185654409388293,
          7.99073326886333
         ]
        },
        {
         "line": {
          "color": "red",
          "dash": "dash",
          "width": 0.5
         },
         "mode": "lines",
         "type": "scatter",
         "x": [
          -8.066883095213143,
          4.731639612763604
         ],
         "y": [
          -6.387457501827942,
          -0.0143992306601608
         ]
        },
        {
         "line": {
          "color": "red",
          "dash": "dash",
          "width": 0.5
         },
         "mode": "lines",
         "type": "scatter",
         "x": [
          -4.154103187675656,
          7.828150000072261
         ],
         "y": [
          -0.41243502939684107,
          -5.685699305024368
         ]
        },
        {
         "line": {
          "color": "red",
          "dash": "dash",
          "width": 0.5
         },
         "mode": "lines",
         "type": "scatter",
         "x": [
          -9.313273067796967,
          -6.894001803468515
         ],
         "y": [
          6.6701936829249915,
          -6.907728043576004
         ]
        },
        {
         "line": {
          "color": "red",
          "dash": "dash",
          "width": 0.5
         },
         "mode": "lines",
         "type": "scatter",
         "x": [
          -9.313273067796967,
          5.328619608987792
         ],
         "y": [
          6.6701936829249915,
          -3.921759020580123
         ]
        },
        {
         "line": {
          "color": "red",
          "dash": "dash",
          "width": 0.5
         },
         "mode": "lines",
         "type": "scatter",
         "x": [
          4.297164319701332,
          -6.8773675731946815
         ],
         "y": [
          1.170892414719113,
          -7.391123324820275
         ]
        },
        {
         "line": {
          "color": "red",
          "dash": "dash",
          "width": 0.5
         },
         "mode": "lines",
         "type": "scatter",
         "x": [
          5.889720154454737,
          -10.594327495583652
         ],
         "y": [
          -5.602823999958269,
          8.184008430452154
         ]
        },
        {
         "line": {
          "color": "red",
          "dash": "dash",
          "width": 0.5
         },
         "mode": "lines",
         "type": "scatter",
         "x": [
          5.889720154454737,
          -2.6248459054409907
         ],
         "y": [
          -5.602823999958269,
          8.713182432609035
         ]
        },
        {
         "line": {
          "color": "red",
          "dash": "dash",
          "width": 0.5
         },
         "mode": "lines",
         "type": "scatter",
         "x": [
          5.889720154454737,
          -3.8666335128644187
         ],
         "y": [
          -5.602823999958269,
          -0.33582148376628096
         ]
        },
        {
         "line": {
          "color": "red",
          "dash": "dash",
          "width": 0.5
         },
         "mode": "lines",
         "type": "scatter",
         "x": [
          2.4661196630104048,
          4.524957091698628
         ],
         "y": [
          4.936085609350247,
          -6.278972808115238
         ]
        },
        {
         "line": {
          "color": "red",
          "dash": "dash",
          "width": 0.5
         },
         "mode": "lines",
         "type": "scatter",
         "x": [
          2.4661196630104048,
          -0.4899749237259924
         ],
         "y": [
          4.936085609350247,
          -4.501440728207003
         ]
        },
        {
         "line": {
          "color": "red",
          "dash": "dash",
          "width": 0.5
         },
         "mode": "lines",
         "type": "scatter",
         "x": [
          -6.629134340805393,
          -5.996902409761139
         ],
         "y": [
          -6.533661383778971,
          -7.271789589258679
         ]
        },
        {
         "line": {
          "color": "red",
          "dash": "dash",
          "width": 0.5
         },
         "mode": "lines",
         "type": "scatter",
         "x": [
          -6.629134340805393,
          -3.2318915481835404
         ],
         "y": [
          -6.533661383778971,
          -4.52693068008047
         ]
        },
        {
         "line": {
          "color": "red",
          "dash": "dash",
          "width": 0.5
         },
         "mode": "lines",
         "type": "scatter",
         "x": [
          -6.629134340805393,
          -7.072873516354914
         ],
         "y": [
          -6.533661383778971,
          7.728504626459658
         ]
        },
        {
         "line": {
          "color": "red",
          "dash": "dash",
          "width": 0.5
         },
         "mode": "lines",
         "type": "scatter",
         "x": [
          -3.0794630287441036,
          3.224508094177687
         ],
         "y": [
          -0.6345782220128613,
          1.552524361175373
         ]
        },
        {
         "line": {
          "color": "red",
          "dash": "dash",
          "width": 0.5
         },
         "mode": "lines",
         "type": "scatter",
         "x": [
          -3.0794630287441036,
          -1.1254850690491187
         ],
         "y": [
          -0.6345782220128613,
          -3.4045520021521947
         ]
        },
        {
         "line": {
          "color": "red",
          "dash": "dash",
          "width": 0.5
         },
         "mode": "lines",
         "type": "scatter",
         "x": [
          -3.0794630287441036,
          -2.581207744633084
         ],
         "y": [
          -0.6345782220128613,
          10.017819026090347
         ]
        },
        {
         "line": {
          "color": "red",
          "dash": "dash",
          "width": 0.5
         },
         "mode": "lines",
         "type": "scatter",
         "x": [
          -3.0794630287441036,
          -5.996902409761139
         ],
         "y": [
          -0.6345782220128613,
          -7.271789589258679
         ]
        },
        {
         "line": {
          "color": "red",
          "dash": "dash",
          "width": 0.5
         },
         "mode": "lines",
         "type": "scatter",
         "x": [
          -3.0794630287441036,
          3.327779042018505
         ],
         "y": [
          -0.6345782220128613,
          4.182455397553669
         ]
        },
        {
         "line": {
          "color": "red",
          "dash": "dash",
          "width": 0.5
         },
         "mode": "lines",
         "type": "scatter",
         "x": [
          -3.0794630287441036,
          -8.13716650628891
         ],
         "y": [
          -0.6345782220128613,
          10.357467869325093
         ]
        },
        {
         "line": {
          "color": "red",
          "dash": "dash",
          "width": 0.5
         },
         "mode": "lines",
         "type": "scatter",
         "x": [
          -7.125015307154141,
          -5.996902409761139
         ],
         "y": [
          -7.633845757633436,
          -7.271789589258679
         ]
        },
        {
         "line": {
          "color": "red",
          "dash": "dash",
          "width": 0.5
         },
         "mode": "lines",
         "type": "scatter",
         "x": [
          -7.125015307154141,
          8.838655749226106
         ],
         "y": [
          -7.633845757633436,
          -6.561516071789629
         ]
        },
        {
         "line": {
          "color": "red",
          "dash": "dash",
          "width": 0.5
         },
         "mode": "lines",
         "type": "scatter",
         "x": [
          1.8141779845069008,
          -7.349226702193532
         ],
         "y": [
          3.6684506212620764,
          -5.8278632874134795
         ]
        },
        {
         "line": {
          "color": "red",
          "dash": "dash",
          "width": 0.5
         },
         "mode": "lines",
         "type": "scatter",
         "x": [
          1.8141779845069008,
          4.726925904466273
         ],
         "y": [
          3.6684506212620764,
          1.674162333474864
         ]
        },
        {
         "line": {
          "color": "red",
          "dash": "dash",
          "width": 0.5
         },
         "mode": "lines",
         "type": "scatter",
         "x": [
          -3.2765626820318716,
          -2.4416694183648264
         ],
         "y": [
          -1.166391429624203,
          7.589537941984867
         ]
        },
        {
         "line": {
          "color": "red",
          "dash": "dash",
          "width": 0.5
         },
         "mode": "lines",
         "type": "scatter",
         "x": [
          -3.2765626820318716,
          2.9219001102974267
         ],
         "y": [
          -1.166391429624203,
          4.468751076797519
         ]
        },
        {
         "line": {
          "color": "red",
          "dash": "dash",
          "width": 0.5
         },
         "mode": "lines",
         "type": "scatter",
         "x": [
          -4.676359020785423,
          -2.4416694183648264
         ],
         "y": [
          -5.450270045981873,
          7.589537941984867
         ]
        },
        {
         "line": {
          "color": "red",
          "dash": "dash",
          "width": 0.5
         },
         "mode": "lines",
         "type": "scatter",
         "x": [
          -2.147802017544336,
          -7.349226702193532
         ],
         "y": [
          10.552322694664293,
          -5.8278632874134795
         ]
        },
        {
         "line": {
          "color": "red",
          "dash": "dash",
          "width": 0.5
         },
         "mode": "lines",
         "type": "scatter",
         "x": [
          -2.147802017544336,
          8.200004791530958
         ],
         "y": [
          10.552322694664293,
          -5.637543152141618
         ]
        },
        {
         "line": {
          "color": "red",
          "dash": "dash",
          "width": 0.5
         },
         "mode": "lines",
         "type": "scatter",
         "x": [
          -9.343343542975228,
          3.224508094177687
         ],
         "y": [
          8.891253867868755,
          1.552524361175373
         ]
        },
        {
         "line": {
          "color": "red",
          "dash": "dash",
          "width": 0.5
         },
         "mode": "lines",
         "type": "scatter",
         "x": [
          -9.343343542975228,
          -7.884325993142808
         ],
         "y": [
          8.891253867868755,
          7.974914166804501
         ]
        },
        {
         "line": {
          "color": "red",
          "dash": "dash",
          "width": 0.5
         },
         "mode": "lines",
         "type": "scatter",
         "x": [
          3.649342511097413,
          -9.491314149091233
         ],
         "y": [
          1.40687195433796,
          9.9933540686768
         ]
        },
        {
         "line": {
          "color": "red",
          "dash": "dash",
          "width": 0.5
         },
         "mode": "lines",
         "type": "scatter",
         "x": [
          3.649342511097413,
          -0.9666474847793879
         ],
         "y": [
          1.40687195433796,
          -4.596401676859424
         ]
        },
        {
         "line": {
          "color": "red",
          "dash": "dash",
          "width": 0.5
         },
         "mode": "lines",
         "type": "scatter",
         "x": [
          3.649342511097413,
          -1.034172253393522
         ],
         "y": [
          1.40687195433796,
          -4.394517724848026
         ]
        },
        {
         "line": {
          "color": "red",
          "dash": "dash",
          "width": 0.5
         },
         "mode": "lines",
         "type": "scatter",
         "x": [
          3.649342511097413,
          -2.6248459054409907
         ],
         "y": [
          1.40687195433796,
          8.713182432609035
         ]
        },
        {
         "line": {
          "color": "red",
          "dash": "dash",
          "width": 0.5
         },
         "mode": "lines",
         "type": "scatter",
         "x": [
          3.649342511097413,
          -5.97943520691868
         ],
         "y": [
          1.40687195433796,
          -6.364604551025416
         ]
        },
        {
         "line": {
          "color": "red",
          "dash": "dash",
          "width": 0.5
         },
         "mode": "lines",
         "type": "scatter",
         "x": [
          6.379445981563877,
          -7.349226702193532
         ],
         "y": [
          -5.035675530638515,
          -5.8278632874134795
         ]
        },
        {
         "line": {
          "color": "red",
          "dash": "dash",
          "width": 0.5
         },
         "mode": "lines",
         "type": "scatter",
         "x": [
          -2.9698363940125376,
          5.581232386625841
         ],
         "y": [
          10.071408354417239,
          -5.89559727145577
         ]
        },
        {
         "line": {
          "color": "red",
          "dash": "dash",
          "width": 0.5
         },
         "mode": "lines",
         "type": "scatter",
         "x": [
          -2.9698363940125376,
          -5.996902409761139
         ],
         "y": [
          10.071408354417239,
          -7.271789589258679
         ]
        },
        {
         "line": {
          "color": "red",
          "dash": "dash",
          "width": 0.5
         },
         "mode": "lines",
         "type": "scatter",
         "x": [
          -2.9698363940125376,
          -9.26414376159551
         ],
         "y": [
          10.071408354417239,
          9.268053988872202
         ]
        },
        {
         "line": {
          "color": "red",
          "dash": "dash",
          "width": 0.5
         },
         "mode": "lines",
         "type": "scatter",
         "x": [
          -3.9877196134201776,
          -4.790773394194003
         ],
         "y": [
          8.294441919803615,
          -0.8876710983195795
         ]
        },
        {
         "line": {
          "color": "red",
          "dash": "dash",
          "width": 0.5
         },
         "mode": "lines",
         "type": "scatter",
         "x": [
          -6.4758287055488175,
          -3.3380830136287054
         ],
         "y": [
          -6.552879402464546,
          0.2920832466017641
         ]
        },
        {
         "line": {
          "color": "red",
          "dash": "dash",
          "width": 0.5
         },
         "mode": "lines",
         "type": "scatter",
         "x": [
          -2.9883718608980403,
          7.828292936729722
         ],
         "y": [
          8.828627151534507,
          -6.222393438539182
         ]
        },
        {
         "line": {
          "color": "red",
          "dash": "dash",
          "width": 0.5
         },
         "mode": "lines",
         "type": "scatter",
         "x": [
          -2.9883718608980403,
          -2.1348888262612578
         ],
         "y": [
          8.828627151534507,
          -5.420071899350578
         ]
        },
        {
         "line": {
          "color": "red",
          "dash": "dash",
          "width": 0.5
         },
         "mode": "lines",
         "type": "scatter",
         "x": [
          -2.9883718608980403,
          -11.036394455581275
         ],
         "y": [
          8.828627151534507,
          7.99073326886333
         ]
        },
        {
         "line": {
          "color": "red",
          "dash": "dash",
          "width": 0.5
         },
         "mode": "lines",
         "type": "scatter",
         "x": [
          -2.9883718608980403,
          -4.734885110286696
         ],
         "y": [
          8.828627151534507,
          -7.712011261146215
         ]
        },
        {
         "line": {
          "color": "red",
          "dash": "dash",
          "width": 0.5
         },
         "mode": "lines",
         "type": "scatter",
         "x": [
          -2.9883718608980403,
          -4.566991248611405
         ],
         "y": [
          8.828627151534507,
          0.5425273039611709
         ]
        },
        {
         "line": {
          "color": "red",
          "dash": "dash",
          "width": 0.5
         },
         "mode": "lines",
         "type": "scatter",
         "x": [
          -9.364217632273535,
          -9.568694388353148
         ],
         "y": [
          9.410789444021681,
          7.539981505080678
         ]
        },
        {
         "line": {
          "color": "red",
          "dash": "dash",
          "width": 0.5
         },
         "mode": "lines",
         "type": "scatter",
         "x": [
          -9.364217632273535,
          -5.749333955814563
         ],
         "y": [
          9.410789444021681,
          -5.574402092884019
         ]
        },
        {
         "line": {
          "color": "red",
          "dash": "dash",
          "width": 0.5
         },
         "mode": "lines",
         "type": "scatter",
         "x": [
          -0.49149370705202455,
          -9.491314149091233
         ],
         "y": [
          -2.8197793372342104,
          9.9933540686768
         ]
        },
        {
         "line": {
          "color": "red",
          "dash": "dash",
          "width": 0.5
         },
         "mode": "lines",
         "type": "scatter",
         "x": [
          -0.49149370705202455,
          -2.747373079149438
         ],
         "y": [
          -2.8197793372342104,
          0.74954947594597
         ]
        },
        {
         "line": {
          "color": "red",
          "dash": "dash",
          "width": 0.5
         },
         "mode": "lines",
         "type": "scatter",
         "x": [
          5.581232386625841,
          -7.8786917180565395
         ],
         "y": [
          -5.89559727145577,
          -4.965035535486799
         ]
        },
        {
         "line": {
          "color": "red",
          "dash": "dash",
          "width": 0.5
         },
         "mode": "lines",
         "type": "scatter",
         "x": [
          5.581232386625841,
          -10.594327495583652
         ],
         "y": [
          -5.89559727145577,
          8.184008430452154
         ]
        },
        {
         "line": {
          "color": "red",
          "dash": "dash",
          "width": 0.5
         },
         "mode": "lines",
         "type": "scatter",
         "x": [
          7.828292936729722,
          -3.4172216985739614
         ],
         "y": [
          -6.222393438539182,
          7.601982426863032
         ]
        },
        {
         "line": {
          "color": "red",
          "dash": "dash",
          "width": 0.5
         },
         "mode": "lines",
         "type": "scatter",
         "x": [
          7.828292936729722,
          -7.103089976477121
         ],
         "y": [
          -6.222393438539182,
          -6.1661090991838545
         ]
        },
        {
         "line": {
          "color": "red",
          "dash": "dash",
          "width": 0.5
         },
         "mode": "lines",
         "type": "scatter",
         "x": [
          3.720454601994298,
          -6.602936391821251
         ],
         "y": [
          3.523104088958272,
          -6.052926344239923
         ]
        },
        {
         "line": {
          "color": "red",
          "dash": "dash",
          "width": 0.5
         },
         "mode": "lines",
         "type": "scatter",
         "x": [
          3.720454601994298,
          -10.059348419702275
         ],
         "y": [
          3.523104088958272,
          9.630246980597523
         ]
        },
        {
         "line": {
          "color": "red",
          "dash": "dash",
          "width": 0.5
         },
         "mode": "lines",
         "type": "scatter",
         "x": [
          3.720454601994298,
          -8.32329248942735
         ],
         "y": [
          3.523104088958272,
          7.837308866410912
         ]
        },
        {
         "line": {
          "color": "red",
          "dash": "dash",
          "width": 0.5
         },
         "mode": "lines",
         "type": "scatter",
         "x": [
          3.720454601994298,
          2.769593839987438
         ],
         "y": [
          3.523104088958272,
          4.771821821354375
         ]
        },
        {
         "line": {
          "color": "red",
          "dash": "dash",
          "width": 0.5
         },
         "mode": "lines",
         "type": "scatter",
         "x": [
          4.447517871446979,
          -7.103089976477121
         ],
         "y": [
          2.2747170262743444,
          -6.1661090991838545
         ]
        },
        {
         "line": {
          "color": "red",
          "dash": "dash",
          "width": 0.5
         },
         "mode": "lines",
         "type": "scatter",
         "x": [
          4.447517871446979,
          -7.769141620776793
         ],
         "y": [
          2.2747170262743444,
          -7.695919878241385
         ]
        },
        {
         "line": {
          "color": "red",
          "dash": "dash",
          "width": 0.5
         },
         "mode": "lines",
         "type": "scatter",
         "x": [
          -6.665533447021066,
          -10.357697722590023
         ],
         "y": [
          -8.125848371987935,
          6.839288842632452
         ]
        },
        {
         "line": {
          "color": "red",
          "dash": "dash",
          "width": 0.5
         },
         "mode": "lines",
         "type": "scatter",
         "x": [
          -6.665533447021066,
          -10.099211710971055
         ],
         "y": [
          -8.125848371987935,
          8.24138486255348
         ]
        },
        {
         "line": {
          "color": "red",
          "dash": "dash",
          "width": 0.5
         },
         "mode": "lines",
         "type": "scatter",
         "x": [
          -4.952401295135702,
          -7.010073540100514
         ],
         "y": [
          0.30478995456114866,
          -7.413457806545718
         ]
        },
        {
         "line": {
          "color": "red",
          "dash": "dash",
          "width": 0.5
         },
         "mode": "lines",
         "type": "scatter",
         "x": [
          -4.952401295135702,
          3.8313852333349137
         ],
         "y": [
          0.30478995456114866,
          1.4714126403561956
         ]
        },
        {
         "line": {
          "color": "red",
          "dash": "dash",
          "width": 0.5
         },
         "mode": "lines",
         "type": "scatter",
         "x": [
          -9.722185192837143,
          6.117772880969618
         ],
         "y": [
          7.477248021444231,
          1.4548994656670846
         ]
        },
        {
         "line": {
          "color": "red",
          "dash": "dash",
          "width": 0.5
         },
         "mode": "lines",
         "type": "scatter",
         "x": [
          -9.722185192837143,
          -7.854308861378591
         ],
         "y": [
          7.477248021444231,
          -6.093024989533495
         ]
        },
        {
         "line": {
          "color": "red",
          "dash": "dash",
          "width": 0.5
         },
         "mode": "lines",
         "type": "scatter",
         "x": [
          -7.119851401142291,
          5.430910783271148
         ],
         "y": [
          -7.754163512528998,
          1.063782229145993
         ]
        },
        {
         "line": {
          "color": "red",
          "dash": "dash",
          "width": 0.5
         },
         "mode": "lines",
         "type": "scatter",
         "x": [
          -7.119851401142291,
          -2.300334028047995
         ],
         "y": [
          -7.754163512528998,
          7.0546160043185475
         ]
        },
        {
         "line": {
          "color": "red",
          "dash": "dash",
          "width": 0.5
         },
         "mode": "lines",
         "type": "scatter",
         "x": [
          -1.0435488541311961,
          4.726925904466273
         ],
         "y": [
          8.788509827711788,
          1.674162333474864
         ]
        },
        {
         "line": {
          "color": "red",
          "dash": "dash",
          "width": 0.5
         },
         "mode": "lines",
         "type": "scatter",
         "x": [
          -1.0435488541311961,
          3.5775751225019965
         ],
         "y": [
          8.788509827711788,
          2.4467621145759137
         ]
        },
        {
         "line": {
          "color": "red",
          "dash": "dash",
          "width": 0.5
         },
         "mode": "lines",
         "type": "scatter",
         "x": [
          -1.0435488541311961,
          -1.630974562451056
         ],
         "y": [
          8.788509827711788,
          -5.154180911821468
         ]
        },
        {
         "line": {
          "color": "red",
          "dash": "dash",
          "width": 0.5
         },
         "mode": "lines",
         "type": "scatter",
         "x": [
          6.399888667529361,
          -3.6155325970587784
         ],
         "y": [
          -4.781646835480122,
          7.8180795041176525
         ]
        },
        {
         "line": {
          "color": "red",
          "dash": "dash",
          "width": 0.5
         },
         "mode": "lines",
         "type": "scatter",
         "x": [
          6.399888667529361,
          6.526064737438632
         ],
         "y": [
          -4.781646835480122,
          2.147747496772571
         ]
        },
        {
         "line": {
          "color": "red",
          "dash": "dash",
          "width": 0.5
         },
         "mode": "lines",
         "type": "scatter",
         "x": [
          6.399888667529361,
          -0.6041110105123328
         ],
         "y": [
          -4.781646835480122,
          -5.097582520216787
         ]
        },
        {
         "line": {
          "color": "red",
          "dash": "dash",
          "width": 0.5
         },
         "mode": "lines",
         "type": "scatter",
         "x": [
          3.299965130652601,
          -5.542697578692408
         ],
         "y": [
          3.56988016708508,
          0.5432135793061388
         ]
        },
        {
         "line": {
          "color": "red",
          "dash": "dash",
          "width": 0.5
         },
         "mode": "lines",
         "type": "scatter",
         "x": [
          3.299965130652601,
          1.0846523524591416
         ],
         "y": [
          3.56988016708508,
          -4.046196014063934
         ]
        },
        {
         "line": {
          "color": "red",
          "dash": "dash",
          "width": 0.5
         },
         "mode": "lines",
         "type": "scatter",
         "x": [
          3.299965130652601,
          6.990608791785594
         ],
         "y": [
          3.56988016708508,
          -3.8770469472185907
         ]
        },
        {
         "line": {
          "color": "red",
          "dash": "dash",
          "width": 0.5
         },
         "mode": "lines",
         "type": "scatter",
         "x": [
          3.299965130652601,
          -8.480540396287727
         ],
         "y": [
          3.56988016708508,
          7.884307441866937
         ]
        },
        {
         "line": {
          "color": "red",
          "dash": "dash",
          "width": 0.5
         },
         "mode": "lines",
         "type": "scatter",
         "x": [
          3.299965130652601,
          -9.175378659808327
         ],
         "y": [
          3.56988016708508,
          8.83447249043591
         ]
        },
        {
         "line": {
          "color": "red",
          "dash": "dash",
          "width": 0.5
         },
         "mode": "lines",
         "type": "scatter",
         "x": [
          3.299965130652601,
          -8.898166122372839
         ],
         "y": [
          3.56988016708508,
          8.99697657135405
         ]
        },
        {
         "line": {
          "color": "red",
          "dash": "dash",
          "width": 0.5
         },
         "mode": "lines",
         "type": "scatter",
         "x": [
          -6.8773675731946815,
          -7.726420909219675
         ],
         "y": [
          -7.391123324820275,
          -8.39495681796181
         ]
        },
        {
         "line": {
          "color": "red",
          "dash": "dash",
          "width": 0.5
         },
         "mode": "lines",
         "type": "scatter",
         "x": [
          -6.8773675731946815,
          -3.414237953184865
         ],
         "y": [
          -7.391123324820275,
          -0.48242661215379423
         ]
        },
        {
         "line": {
          "color": "red",
          "dash": "dash",
          "width": 0.5
         },
         "mode": "lines",
         "type": "scatter",
         "x": [
          5.782701650743122,
          -2.747373079149438
         ],
         "y": [
          2.7251027166275064,
          0.74954947594597
         ]
        },
        {
         "line": {
          "color": "red",
          "dash": "dash",
          "width": 0.5
         },
         "mode": "lines",
         "type": "scatter",
         "x": [
          -6.602936391821251,
          -4.491926471377578
         ],
         "y": [
          -6.052926344239923,
          1.2505198584705128
         ]
        },
        {
         "line": {
          "color": "red",
          "dash": "dash",
          "width": 0.5
         },
         "mode": "lines",
         "type": "scatter",
         "x": [
          -6.602936391821251,
          5.5552809539301755
         ],
         "y": [
          -6.052926344239923,
          2.3019207936004165
         ]
        },
        {
         "line": {
          "color": "red",
          "dash": "dash",
          "width": 0.5
         },
         "mode": "lines",
         "type": "scatter",
         "x": [
          -6.602936391821251,
          2.835162353703136
         ],
         "y": [
          -6.052926344239923,
          4.791080397844522
         ]
        },
        {
         "line": {
          "color": "red",
          "dash": "dash",
          "width": 0.5
         },
         "mode": "lines",
         "type": "scatter",
         "x": [
          -6.602936391821251,
          4.605167066522858
         ],
         "y": [
          -6.052926344239923,
          0.8044916463212
         ]
        },
        {
         "line": {
          "color": "red",
          "dash": "dash",
          "width": 0.5
         },
         "mode": "lines",
         "type": "scatter",
         "x": [
          1.8705151398285929,
          5.68392935542833
         ],
         "y": [
          4.749768762405486,
          -5.067166326436038
         ]
        },
        {
         "line": {
          "color": "red",
          "dash": "dash",
          "width": 0.5
         },
         "mode": "lines",
         "type": "scatter",
         "x": [
          -6.956728900565374,
          -1.4781981005567992
         ],
         "y": [
          -6.538957618459303,
          9.945566247314522
         ]
        },
        {
         "line": {
          "color": "red",
          "dash": "dash",
          "width": 0.5
         },
         "mode": "lines",
         "type": "scatter",
         "x": [
          -6.956728900565374,
          6.654096515726618
         ],
         "y": [
          -6.538957618459303,
          -5.706237192669735
         ]
        },
        {
         "line": {
          "color": "red",
          "dash": "dash",
          "width": 0.5
         },
         "mode": "lines",
         "type": "scatter",
         "x": [
          -6.956728900565374,
          -2.5450236621627016
         ],
         "y": [
          -6.538957618459303,
          10.57892978401233
         ]
        },
        {
         "line": {
          "color": "red",
          "dash": "dash",
          "width": 0.5
         },
         "mode": "lines",
         "type": "scatter",
         "x": [
          -6.386799640936535,
          7.599276654194485
         ],
         "y": [
          -0.30176662282572,
          -6.33012144209688
         ]
        },
        {
         "line": {
          "color": "red",
          "dash": "dash",
          "width": 0.5
         },
         "mode": "lines",
         "type": "scatter",
         "x": [
          -6.386799640936535,
          -2.581207744633084
         ],
         "y": [
          -0.30176662282572,
          10.017819026090347
         ]
        },
        {
         "line": {
          "color": "red",
          "dash": "dash",
          "width": 0.5
         },
         "mode": "lines",
         "type": "scatter",
         "x": [
          -6.386799640936535,
          -9.568694388353148
         ],
         "y": [
          -0.30176662282572,
          7.539981505080678
         ]
        },
        {
         "line": {
          "color": "red",
          "dash": "dash",
          "width": 0.5
         },
         "mode": "lines",
         "type": "scatter",
         "x": [
          -6.386799640936535,
          -4.734885110286696
         ],
         "y": [
          -0.30176662282572,
          -7.712011261146215
         ]
        },
        {
         "line": {
          "color": "red",
          "dash": "dash",
          "width": 0.5
         },
         "mode": "lines",
         "type": "scatter",
         "x": [
          -6.386799640936535,
          -6.706446265300088
         ],
         "y": [
          -0.30176662282572,
          -6.49479221354711
         ]
        },
        {
         "line": {
          "color": "red",
          "dash": "dash",
          "width": 0.5
         },
         "mode": "lines",
         "type": "scatter",
         "x": [
          -7.662880483487507,
          8.200004791530958
         ],
         "y": [
          -7.202171109481622,
          -5.637543152141618
         ]
        },
        {
         "line": {
          "color": "red",
          "dash": "dash",
          "width": 0.5
         },
         "mode": "lines",
         "type": "scatter",
         "x": [
          -7.662880483487507,
          -3.8158228353800197
         ],
         "y": [
          -7.202171109481622,
          1.2465157560165459
         ]
        },
        {
         "line": {
          "color": "red",
          "dash": "dash",
          "width": 0.5
         },
         "mode": "lines",
         "type": "scatter",
         "x": [
          2.72110762092906,
          -7.1442840243892265
         ],
         "y": [
          1.946655808491515,
          -4.159940426686328
         ]
        },
        {
         "line": {
          "color": "red",
          "dash": "dash",
          "width": 0.5
         },
         "mode": "lines",
         "type": "scatter",
         "x": [
          2.72110762092906,
          2.847716583852206
         ],
         "y": [
          1.946655808491515,
          4.974961191921548
         ]
        },
        {
         "line": {
          "color": "red",
          "dash": "dash",
          "width": 0.5
         },
         "mode": "lines",
         "type": "scatter",
         "x": [
          -10.215997124593102,
          -6.5865547178525885
         ],
         "y": [
          6.38569787558358,
          -7.5944610113023145
         ]
        },
        {
         "line": {
          "color": "red",
          "dash": "dash",
          "width": 0.5
         },
         "mode": "lines",
         "type": "scatter",
         "x": [
          -10.215997124593102,
          -5.013852680006513
         ],
         "y": [
          6.38569787558358,
          -6.406276672364159
         ]
        },
        {
         "line": {
          "color": "red",
          "dash": "dash",
          "width": 0.5
         },
         "mode": "lines",
         "type": "scatter",
         "x": [
          -4.491926471377578,
          4.110118632461063
         ],
         "y": [
          1.2505198584705128,
          2.486437117054088
         ]
        },
        {
         "line": {
          "color": "red",
          "dash": "dash",
          "width": 0.5
         },
         "mode": "lines",
         "type": "scatter",
         "x": [
          -4.491926471377578,
          -8.430942755897863
         ],
         "y": [
          1.2505198584705128,
          -6.421029842444112
         ]
        },
        {
         "line": {
          "color": "red",
          "dash": "dash",
          "width": 0.5
         },
         "mode": "lines",
         "type": "scatter",
         "x": [
          3.224508094177687,
          -7.559651912729761
         ],
         "y": [
          1.552524361175373,
          -6.647855896114943
         ]
        },
        {
         "line": {
          "color": "red",
          "dash": "dash",
          "width": 0.5
         },
         "mode": "lines",
         "type": "scatter",
         "x": [
          3.224508094177687,
          -8.906357142788988
         ],
         "y": [
          1.552524361175373,
          9.08793028664643
         ]
        },
        {
         "line": {
          "color": "red",
          "dash": "dash",
          "width": 0.5
         },
         "mode": "lines",
         "type": "scatter",
         "x": [
          3.224508094177687,
          -8.898166122372839
         ],
         "y": [
          1.552524361175373,
          8.99697657135405
         ]
        },
        {
         "line": {
          "color": "red",
          "dash": "dash",
          "width": 0.5
         },
         "mode": "lines",
         "type": "scatter",
         "x": [
          3.224508094177687,
          -6.0661099737816
         ],
         "y": [
          1.552524361175373,
          -8.110973909709902
         ]
        },
        {
         "line": {
          "color": "red",
          "dash": "dash",
          "width": 0.5
         },
         "mode": "lines",
         "type": "scatter",
         "x": [
          3.224508094177687,
          -10.406530797317423
         ],
         "y": [
          1.552524361175373,
          11.490584318925347
         ]
        },
        {
         "line": {
          "color": "red",
          "dash": "dash",
          "width": 0.5
         },
         "mode": "lines",
         "type": "scatter",
         "x": [
          5.46559430334266,
          -2.908862331594805
         ],
         "y": [
          -7.792449964194578,
          -0.08176323687839193
         ]
        },
        {
         "line": {
          "color": "red",
          "dash": "dash",
          "width": 0.5
         },
         "mode": "lines",
         "type": "scatter",
         "x": [
          5.46559430334266,
          -4.84037657858833
         ],
         "y": [
          -7.792449964194578,
          -5.792999759246665
         ]
        },
        {
         "line": {
          "color": "red",
          "dash": "dash",
          "width": 0.5
         },
         "mode": "lines",
         "type": "scatter",
         "x": [
          -7.349226702193532,
          -1.805392887233796
         ],
         "y": [
          -5.8278632874134795,
          -3.7981167029943093
         ]
        },
        {
         "line": {
          "color": "red",
          "dash": "dash",
          "width": 0.5
         },
         "mode": "lines",
         "type": "scatter",
         "x": [
          -7.349226702193532,
          -1.8487058512301782
         ],
         "y": [
          -5.8278632874134795,
          -4.607975383858782
         ]
        },
        {
         "line": {
          "color": "red",
          "dash": "dash",
          "width": 0.5
         },
         "mode": "lines",
         "type": "scatter",
         "x": [
          -7.349226702193532,
          4.731639612763604
         ],
         "y": [
          -5.8278632874134795,
          -0.0143992306601608
         ]
        },
        {
         "line": {
          "color": "red",
          "dash": "dash",
          "width": 0.5
         },
         "mode": "lines",
         "type": "scatter",
         "x": [
          2.001398640900028,
          -9.568694388353148
         ],
         "y": [
          4.278778939229691,
          7.539981505080678
         ]
        },
        {
         "line": {
          "color": "red",
          "dash": "dash",
          "width": 0.5
         },
         "mode": "lines",
         "type": "scatter",
         "x": [
          -0.9476647239339839,
          3.937825742350749
         ],
         "y": [
          -2.2986213834810956,
          1.6455075373429637
         ]
        },
        {
         "line": {
          "color": "red",
          "dash": "dash",
          "width": 0.5
         },
         "mode": "lines",
         "type": "scatter",
         "x": [
          5.809130973827659,
          -10.306754335336388
         ],
         "y": [
          -6.3526104318784995,
          9.184749891528039
         ]
        },
        {
         "line": {
          "color": "red",
          "dash": "dash",
          "width": 0.5
         },
         "mode": "lines",
         "type": "scatter",
         "x": [
          5.809130973827659,
          -2.5226948477906843
         ],
         "y": [
          -6.3526104318784995,
          7.956575199242423
         ]
        },
        {
         "line": {
          "color": "red",
          "dash": "dash",
          "width": 0.5
         },
         "mode": "lines",
         "type": "scatter",
         "x": [
          5.809130973827659,
          -5.128942727142494
         ],
         "y": [
          -6.3526104318784995,
          9.836188632573547
         ]
        },
        {
         "line": {
          "color": "red",
          "dash": "dash",
          "width": 0.5
         },
         "mode": "lines",
         "type": "scatter",
         "x": [
          -9.60732632198664,
          -5.013852680006513
         ],
         "y": [
          8.395667678602077,
          -6.406276672364159
         ]
        },
        {
         "line": {
          "color": "red",
          "dash": "dash",
          "width": 0.5
         },
         "mode": "lines",
         "type": "scatter",
         "x": [
          3.289211384050799,
          -11.036394455581275
         ],
         "y": [
          3.453782090302129,
          7.99073326886333
         ]
        },
        {
         "line": {
          "color": "red",
          "dash": "dash",
          "width": 0.5
         },
         "mode": "lines",
         "type": "scatter",
         "x": [
          -1.805392887233796,
          -5.786943692802221
         ],
         "y": [
          -3.7981167029943093,
          -6.020659648387787
         ]
        },
        {
         "line": {
          "color": "red",
          "dash": "dash",
          "width": 0.5
         },
         "mode": "lines",
         "type": "scatter",
         "x": [
          -1.805392887233796,
          -9.175378659808327
         ],
         "y": [
          -3.7981167029943093,
          8.83447249043591
         ]
        },
        {
         "line": {
          "color": "red",
          "dash": "dash",
          "width": 0.5
         },
         "mode": "lines",
         "type": "scatter",
         "x": [
          -1.805392887233796,
          -5.128942727142494
         ],
         "y": [
          -3.7981167029943093,
          9.836188632573547
         ]
        },
        {
         "line": {
          "color": "red",
          "dash": "dash",
          "width": 0.5
         },
         "mode": "lines",
         "type": "scatter",
         "x": [
          -0.15988570499373989,
          -4.718532942356704
         ],
         "y": [
          -4.583492569060713,
          -6.580945842487702
         ]
        },
        {
         "line": {
          "color": "red",
          "dash": "dash",
          "width": 0.5
         },
         "mode": "lines",
         "type": "scatter",
         "x": [
          -0.15988570499373989,
          -8.78011903819001
         ],
         "y": [
          -4.583492569060713,
          6.18055261766808
         ]
        },
        {
         "line": {
          "color": "red",
          "dash": "dash",
          "width": 0.5
         },
         "mode": "lines",
         "type": "scatter",
         "x": [
          -0.15988570499373989,
          -8.774047737540547
         ],
         "y": [
          -4.583492569060713,
          6.245778137569397
         ]
        },
        {
         "line": {
          "color": "red",
          "dash": "dash",
          "width": 0.5
         },
         "mode": "lines",
         "type": "scatter",
         "x": [
          6.534312970755817,
          4.478593124562092
         ],
         "y": [
          -4.515401474461015,
          2.3772205407552702
         ]
        },
        {
         "line": {
          "color": "red",
          "dash": "dash",
          "width": 0.5
         },
         "mode": "lines",
         "type": "scatter",
         "x": [
          6.534312970755817,
          -4.566991248611405
         ],
         "y": [
          -4.515401474461015,
          0.5425273039611709
         ]
        },
        {
         "line": {
          "color": "red",
          "dash": "dash",
          "width": 0.5
         },
         "mode": "lines",
         "type": "scatter",
         "x": [
          -10.306754335336388,
          6.117772880969618
         ],
         "y": [
          9.184749891528039,
          1.4548994656670846
         ]
        },
        {
         "line": {
          "color": "red",
          "dash": "dash",
          "width": 0.5
         },
         "mode": "lines",
         "type": "scatter",
         "x": [
          -10.306754335336388,
          -8.792755916732197
         ],
         "y": [
          9.184749891528039,
          6.671922567892886
         ]
        },
        {
         "line": {
          "color": "red",
          "dash": "dash",
          "width": 0.5
         },
         "mode": "lines",
         "type": "scatter",
         "x": [
          -10.306754335336388,
          -7.96994697611556
         ],
         "y": [
          9.184749891528039,
          -6.128446167064101
         ]
        },
        {
         "line": {
          "color": "red",
          "dash": "dash",
          "width": 0.5
         },
         "mode": "lines",
         "type": "scatter",
         "x": [
          -10.306754335336388,
          -4.718532942356704
         ],
         "y": [
          9.184749891528039,
          -6.580945842487702
         ]
        },
        {
         "line": {
          "color": "red",
          "dash": "dash",
          "width": 0.5
         },
         "mode": "lines",
         "type": "scatter",
         "x": [
          -9.323691304465115,
          -3.186119623358709
         ],
         "y": [
          7.405397054885026,
          9.625962417039192
         ]
        },
        {
         "line": {
          "color": "red",
          "dash": "dash",
          "width": 0.5
         },
         "mode": "lines",
         "type": "scatter",
         "x": [
          -9.323691304465115,
          1.0953697632860933
         ],
         "y": [
          7.405397054885026,
          4.1019261998591094
         ]
        },
        {
         "line": {
          "color": "red",
          "dash": "dash",
          "width": 0.5
         },
         "mode": "lines",
         "type": "scatter",
         "x": [
          -9.323691304465115,
          -6.893758274230429
         ],
         "y": [
          7.405397054885026,
          -7.124782635193668
         ]
        },
        {
         "line": {
          "color": "red",
          "dash": "dash",
          "width": 0.5
         },
         "mode": "lines",
         "type": "scatter",
         "x": [
          -7.559651912729761,
          -3.109836312971555
         ],
         "y": [
          -6.647855896114943,
          8.722592378405047
         ]
        },
        {
         "line": {
          "color": "red",
          "dash": "dash",
          "width": 0.5
         },
         "mode": "lines",
         "type": "scatter",
         "x": [
          3.937825742350749,
          -2.4416694183648264
         ],
         "y": [
          1.6455075373429637,
          7.589537941984867
         ]
        },
        {
         "line": {
          "color": "red",
          "dash": "dash",
          "width": 0.5
         },
         "mode": "lines",
         "type": "scatter",
         "x": [
          3.937825742350749,
          -9.553631465895979
         ],
         "y": [
          1.6455075373429637,
          8.003120664433379
         ]
        },
        {
         "line": {
          "color": "red",
          "dash": "dash",
          "width": 0.5
         },
         "mode": "lines",
         "type": "scatter",
         "x": [
          3.937825742350749,
          -9.563799939825008
         ],
         "y": [
          1.6455075373429637,
          9.896195334485336
         ]
        },
        {
         "line": {
          "color": "red",
          "dash": "dash",
          "width": 0.5
         },
         "mode": "lines",
         "type": "scatter",
         "x": [
          3.937825742350749,
          -5.97943520691868
         ],
         "y": [
          1.6455075373429637,
          -6.364604551025416
         ]
        },
        {
         "line": {
          "color": "red",
          "dash": "dash",
          "width": 0.5
         },
         "mode": "lines",
         "type": "scatter",
         "x": [
          3.937825742350749,
          -8.13716650628891
         ],
         "y": [
          1.6455075373429637,
          10.357467869325093
         ]
        },
        {
         "line": {
          "color": "red",
          "dash": "dash",
          "width": 0.5
         },
         "mode": "lines",
         "type": "scatter",
         "x": [
          3.608317051009528,
          -1.8204605266979288
         ],
         "y": [
          2.9236360570940607,
          -5.025261565503953
         ]
        },
        {
         "line": {
          "color": "red",
          "dash": "dash",
          "width": 0.5
         },
         "mode": "lines",
         "type": "scatter",
         "x": [
          3.608317051009528,
          -2.839685872937526
         ],
         "y": [
          2.9236360570940607,
          -3.031663152832232
         ]
        },
        {
         "line": {
          "color": "red",
          "dash": "dash",
          "width": 0.5
         },
         "mode": "lines",
         "type": "scatter",
         "x": [
          7.707277302858023,
          -9.491314149091233
         ],
         "y": [
          -7.511957272857591,
          9.9933540686768
         ]
        },
        {
         "line": {
          "color": "red",
          "dash": "dash",
          "width": 0.5
         },
         "mode": "lines",
         "type": "scatter",
         "x": [
          7.707277302858023,
          -7.010073540100514
         ],
         "y": [
          -7.511957272857591,
          -7.413457806545718
         ]
        },
        {
         "line": {
          "color": "red",
          "dash": "dash",
          "width": 0.5
         },
         "mode": "lines",
         "type": "scatter",
         "x": [
          7.707277302858023,
          -2.988977593277604
         ],
         "y": [
          -7.511957272857591,
          2.4045452731148873
         ]
        },
        {
         "line": {
          "color": "red",
          "dash": "dash",
          "width": 0.5
         },
         "mode": "lines",
         "type": "scatter",
         "x": [
          -1.1254850690491187,
          -8.070930688353918
         ],
         "y": [
          -3.4045520021521947,
          -6.2235559846421165
         ]
        },
        {
         "line": {
          "color": "red",
          "dash": "dash",
          "width": 0.5
         },
         "mode": "lines",
         "type": "scatter",
         "x": [
          -1.1254850690491187,
          -2.185113653657955
         ],
         "y": [
          -3.4045520021521947,
          8.629203847782007
         ]
        },
        {
         "line": {
          "color": "red",
          "dash": "dash",
          "width": 0.5
         },
         "mode": "lines",
         "type": "scatter",
         "x": [
          -1.1254850690491187,
          2.769593839987438
         ],
         "y": [
          -3.4045520021521947,
          4.771821821354375
         ]
        },
        {
         "line": {
          "color": "red",
          "dash": "dash",
          "width": 0.5
         },
         "mode": "lines",
         "type": "scatter",
         "x": [
          8.200004791530958,
          -0.8821198014112928
         ],
         "y": [
          -5.637543152141618,
          -3.841755090752213
         ]
        },
        {
         "line": {
          "color": "red",
          "dash": "dash",
          "width": 0.5
         },
         "mode": "lines",
         "type": "scatter",
         "x": [
          8.200004791530958,
          -6.491418247338754
         ],
         "y": [
          -5.637543152141618,
          -7.287450243531749
         ]
        },
        {
         "line": {
          "color": "red",
          "dash": "dash",
          "width": 0.5
         },
         "mode": "lines",
         "type": "scatter",
         "x": [
          -6.253959843386264,
          -0.706733970803627
         ],
         "y": [
          -7.737267149692229,
          -4.231001866949616
         ]
        },
        {
         "line": {
          "color": "red",
          "dash": "dash",
          "width": 0.5
         },
         "mode": "lines",
         "type": "scatter",
         "x": [
          -6.253959843386264,
          -2.4416694183648264
         ],
         "y": [
          -7.737267149692229,
          7.589537941984867
         ]
        },
        {
         "line": {
          "color": "red",
          "dash": "dash",
          "width": 0.5
         },
         "mode": "lines",
         "type": "scatter",
         "x": [
          -6.253959843386264,
          -7.96994697611556
         ],
         "y": [
          -7.737267149692229,
          -6.128446167064101
         ]
        },
        {
         "line": {
          "color": "red",
          "dash": "dash",
          "width": 0.5
         },
         "mode": "lines",
         "type": "scatter",
         "x": [
          -6.253959843386264,
          -3.4172216985739614
         ],
         "y": [
          -7.737267149692229,
          7.601982426863032
         ]
        },
        {
         "line": {
          "color": "red",
          "dash": "dash",
          "width": 0.5
         },
         "mode": "lines",
         "type": "scatter",
         "x": [
          -5.542697578692408,
          -9.563799939825008
         ],
         "y": [
          0.5432135793061388,
          9.896195334485336
         ]
        },
        {
         "line": {
          "color": "red",
          "dash": "dash",
          "width": 0.5
         },
         "mode": "lines",
         "type": "scatter",
         "x": [
          -0.8821198014112928,
          5.750438144660077
         ],
         "y": [
          -3.841755090752213,
          -5.261298614927971
         ]
        },
        {
         "line": {
          "color": "red",
          "dash": "dash",
          "width": 0.5
         },
         "mode": "lines",
         "type": "scatter",
         "x": [
          -0.8821198014112928,
          5.5552809539301755
         ],
         "y": [
          -3.841755090752213,
          2.3019207936004165
         ]
        },
        {
         "line": {
          "color": "red",
          "dash": "dash",
          "width": 0.5
         },
         "mode": "lines",
         "type": "scatter",
         "x": [
          -0.8821198014112928,
          2.835162353703136
         ],
         "y": [
          -3.841755090752213,
          4.791080397844522
         ]
        },
        {
         "line": {
          "color": "red",
          "dash": "dash",
          "width": 0.5
         },
         "mode": "lines",
         "type": "scatter",
         "x": [
          -3.3380830136287054,
          -3.837383671951181
         ],
         "y": [
          0.2920832466017641,
          9.211147364067447
         ]
        },
        {
         "line": {
          "color": "red",
          "dash": "dash",
          "width": 0.5
         },
         "mode": "lines",
         "type": "scatter",
         "x": [
          -3.3380830136287054,
          -7.884325993142808
         ],
         "y": [
          0.2920832466017641,
          7.974914166804501
         ]
        },
        {
         "line": {
          "color": "red",
          "dash": "dash",
          "width": 0.5
         },
         "mode": "lines",
         "type": "scatter",
         "x": [
          -3.3380830136287054,
          -3.5220287433871738
         ],
         "y": [
          0.2920832466017641,
          9.328533460793597
         ]
        },
        {
         "line": {
          "color": "red",
          "dash": "dash",
          "width": 0.5
         },
         "mode": "lines",
         "type": "scatter",
         "x": [
          -5.786943692802221,
          2.135817580115424
         ],
         "y": [
          -6.020659648387787,
          4.823582230441956
         ]
        },
        {
         "line": {
          "color": "red",
          "dash": "dash",
          "width": 0.5
         },
         "mode": "lines",
         "type": "scatter",
         "x": [
          -9.491314149091233,
          -2.5226948477906843
         ],
         "y": [
          9.9933540686768,
          7.956575199242423
         ]
        },
        {
         "line": {
          "color": "red",
          "dash": "dash",
          "width": 0.5
         },
         "mode": "lines",
         "type": "scatter",
         "x": [
          -9.491314149091233,
          -8.480540396287727
         ],
         "y": [
          9.9933540686768,
          7.884307441866937
         ]
        },
        {
         "line": {
          "color": "red",
          "dash": "dash",
          "width": 0.5
         },
         "mode": "lines",
         "type": "scatter",
         "x": [
          -0.706733970803627,
          3.5775751225019965
         ],
         "y": [
          -4.231001866949616,
          2.4467621145759137
         ]
        },
        {
         "line": {
          "color": "red",
          "dash": "dash",
          "width": 0.5
         },
         "mode": "lines",
         "type": "scatter",
         "x": [
          -7.8786917180565395,
          -1.686652710949561
         ],
         "y": [
          -4.965035535486799,
          7.793442478227301
         ]
        },
        {
         "line": {
          "color": "red",
          "dash": "dash",
          "width": 0.5
         },
         "mode": "lines",
         "type": "scatter",
         "x": [
          -7.8786917180565395,
          -2.185113653657955
         ],
         "y": [
          -4.965035535486799,
          8.629203847782007
         ]
        },
        {
         "line": {
          "color": "red",
          "dash": "dash",
          "width": 0.5
         },
         "mode": "lines",
         "type": "scatter",
         "x": [
          -1.342681247968133,
          -9.568694388353148
         ],
         "y": [
          -2.4989798837638784,
          7.539981505080678
         ]
        },
        {
         "line": {
          "color": "red",
          "dash": "dash",
          "width": 0.5
         },
         "mode": "lines",
         "type": "scatter",
         "x": [
          -1.342681247968133,
          -1.6966718006585522
         ],
         "y": [
          -2.4989798837638784,
          10.370526156769147
         ]
        },
        {
         "line": {
          "color": "red",
          "dash": "dash",
          "width": 0.5
         },
         "mode": "lines",
         "type": "scatter",
         "x": [
          -1.8204605266979288,
          -5.996902409761139
         ],
         "y": [
          -5.025261565503953,
          -7.271789589258679
         ]
        },
        {
         "line": {
          "color": "red",
          "dash": "dash",
          "width": 0.5
         },
         "mode": "lines",
         "type": "scatter",
         "x": [
          4.478593124562092,
          -8.267437245942844
         ],
         "y": [
          2.3772205407552702,
          8.459088555679301
         ]
        },
        {
         "line": {
          "color": "red",
          "dash": "dash",
          "width": 0.5
         },
         "mode": "lines",
         "type": "scatter",
         "x": [
          4.478593124562092,
          7.360467694097324
         ],
         "y": [
          2.3772205407552702,
          -6.877859878272346
         ]
        },
        {
         "line": {
          "color": "red",
          "dash": "dash",
          "width": 0.5
         },
         "mode": "lines",
         "type": "scatter",
         "x": [
          4.478593124562092,
          -6.65216725654714
         ],
         "y": [
          2.3772205407552702,
          -5.572966838993518
         ]
        },
        {
         "line": {
          "color": "red",
          "dash": "dash",
          "width": 0.5
         },
         "mode": "lines",
         "type": "scatter",
         "x": [
          -3.8158228353800197,
          -5.996902409761139
         ],
         "y": [
          1.2465157560165459,
          -7.271789589258679
         ]
        },
        {
         "line": {
          "color": "red",
          "dash": "dash",
          "width": 0.5
         },
         "mode": "lines",
         "type": "scatter",
         "x": [
          -3.8158228353800197,
          4.739530201315743
         ],
         "y": [
          1.2465157560165459,
          1.4696940298245327
         ]
        },
        {
         "line": {
          "color": "red",
          "dash": "dash",
          "width": 0.5
         },
         "mode": "lines",
         "type": "scatter",
         "x": [
          -6.286132348210369,
          6.117772880969618
         ],
         "y": [
          -7.193194004259587,
          1.4548994656670846
         ]
        },
        {
         "line": {
          "color": "red",
          "dash": "dash",
          "width": 0.5
         },
         "mode": "lines",
         "type": "scatter",
         "x": [
          -7.010073540100514,
          2.092102319854195
         ],
         "y": [
          -7.413457806545718,
          3.7761379590591497
         ]
        },
        {
         "line": {
          "color": "red",
          "dash": "dash",
          "width": 0.5
         },
         "mode": "lines",
         "type": "scatter",
         "x": [
          -7.010073540100514,
          -8.898166122372839
         ],
         "y": [
          -7.413457806545718,
          8.99697657135405
         ]
        },
        {
         "line": {
          "color": "red",
          "dash": "dash",
          "width": 0.5
         },
         "mode": "lines",
         "type": "scatter",
         "x": [
          -3.1398198760619636,
          3.5775751225019965
         ],
         "y": [
          -2.679372884549978,
          2.4467621145759137
         ]
        },
        {
         "line": {
          "color": "red",
          "dash": "dash",
          "width": 0.5
         },
         "mode": "lines",
         "type": "scatter",
         "x": [
          -3.1398198760619636,
          -7.1442840243892265
         ],
         "y": [
          -2.679372884549978,
          -4.159940426686328
         ]
        },
        {
         "line": {
          "color": "red",
          "dash": "dash",
          "width": 0.5
         },
         "mode": "lines",
         "type": "scatter",
         "x": [
          -3.1398198760619636,
          -8.906357142788988
         ],
         "y": [
          -2.679372884549978,
          9.08793028664643
         ]
        },
        {
         "line": {
          "color": "red",
          "dash": "dash",
          "width": 0.5
         },
         "mode": "lines",
         "type": "scatter",
         "x": [
          -3.1398198760619636,
          6.981166827988027
         ],
         "y": [
          -2.679372884549978,
          -6.5017043229910305
         ]
        },
        {
         "line": {
          "color": "red",
          "dash": "dash",
          "width": 0.5
         },
         "mode": "lines",
         "type": "scatter",
         "x": [
          -3.1398198760619636,
          -1.2189671052048965
         ],
         "y": [
          -2.679372884549978,
          3.13706391458662
         ]
        },
        {
         "line": {
          "color": "red",
          "dash": "dash",
          "width": 0.5
         },
         "mode": "lines",
         "type": "scatter",
         "x": [
          -3.1398198760619636,
          -8.774047737540547
         ],
         "y": [
          -2.679372884549978,
          6.245778137569397
         ]
        },
        {
         "line": {
          "color": "red",
          "dash": "dash",
          "width": 0.5
         },
         "mode": "lines",
         "type": "scatter",
         "x": [
          -3.6601912004750528,
          -4.790773394194003
         ],
         "y": [
          9.389984146543995,
          -0.8876710983195795
         ]
        },
        {
         "line": {
          "color": "red",
          "dash": "dash",
          "width": 0.5
         },
         "mode": "lines",
         "type": "scatter",
         "x": [
          -3.6601912004750528,
          -10.038624163691786
         ],
         "y": [
          9.389984146543995,
          6.989021679657755
         ]
        },
        {
         "line": {
          "color": "red",
          "dash": "dash",
          "width": 0.5
         },
         "mode": "lines",
         "type": "scatter",
         "x": [
          4.726925904466273,
          -9.175378659808327
         ],
         "y": [
          1.674162333474864,
          8.83447249043591
         ]
        },
        {
         "line": {
          "color": "red",
          "dash": "dash",
          "width": 0.5
         },
         "mode": "lines",
         "type": "scatter",
         "x": [
          4.726925904466273,
          -6.65216725654714
         ],
         "y": [
          1.674162333474864,
          -5.572966838993518
         ]
        },
        {
         "line": {
          "color": "red",
          "dash": "dash",
          "width": 0.5
         },
         "mode": "lines",
         "type": "scatter",
         "x": [
          7.599276654194485,
          -2.5226948477906843
         ],
         "y": [
          -6.33012144209688,
          7.956575199242423
         ]
        },
        {
         "line": {
          "color": "red",
          "dash": "dash",
          "width": 0.5
         },
         "mode": "lines",
         "type": "scatter",
         "x": [
          7.599276654194485,
          -9.068963599842778
         ],
         "y": [
          -6.33012144209688,
          10.930935956242465
         ]
        },
        {
         "line": {
          "color": "red",
          "dash": "dash",
          "width": 0.5
         },
         "mode": "lines",
         "type": "scatter",
         "x": [
          -2.147561598005116,
          1.4329354779199643
         ],
         "y": [
          8.369166373593199,
          5.011053652941935
         ]
        },
        {
         "line": {
          "color": "red",
          "dash": "dash",
          "width": 0.5
         },
         "mode": "lines",
         "type": "scatter",
         "x": [
          -2.147561598005116,
          4.935999113292677
         ],
         "y": [
          8.369166373593199,
          2.234224956120621
         ]
        },
        {
         "line": {
          "color": "red",
          "dash": "dash",
          "width": 0.5
         },
         "mode": "lines",
         "type": "scatter",
         "x": [
          -2.147561598005116,
          -8.906357142788988
         ],
         "y": [
          8.369166373593199,
          9.08793028664643
         ]
        },
        {
         "line": {
          "color": "red",
          "dash": "dash",
          "width": 0.5
         },
         "mode": "lines",
         "type": "scatter",
         "x": [
          1.4329354779199643,
          -9.26414376159551
         ],
         "y": [
          5.011053652941935,
          9.268053988872202
         ]
        },
        {
         "line": {
          "color": "red",
          "dash": "dash",
          "width": 0.5
         },
         "mode": "lines",
         "type": "scatter",
         "x": [
          -9.512505555890225,
          -3.2318915481835404
         ],
         "y": [
          8.721035331727775,
          -4.52693068008047
         ]
        },
        {
         "line": {
          "color": "red",
          "dash": "dash",
          "width": 0.5
         },
         "mode": "lines",
         "type": "scatter",
         "x": [
          -6.05756703115678,
          -6.716171559623377
         ],
         "y": [
          -4.9833166106219995,
          8.35598817604985
         ]
        },
        {
         "line": {
          "color": "red",
          "dash": "dash",
          "width": 0.5
         },
         "mode": "lines",
         "type": "scatter",
         "x": [
          -6.05756703115678,
          -11.036394455581275
         ],
         "y": [
          -4.9833166106219995,
          7.99073326886333
         ]
        },
        {
         "line": {
          "color": "red",
          "dash": "dash",
          "width": 0.5
         },
         "mode": "lines",
         "type": "scatter",
         "x": [
          -6.05756703115678,
          -3.981234939456562
         ],
         "y": [
          -4.9833166106219995,
          -0.7158875671176996
         ]
        },
        {
         "line": {
          "color": "red",
          "dash": "dash",
          "width": 0.5
         },
         "mode": "lines",
         "type": "scatter",
         "x": [
          -6.894001803468515,
          -2.1655793334842888
         ],
         "y": [
          -6.907728043576004,
          7.251245972835589
         ]
        },
        {
         "line": {
          "color": "red",
          "dash": "dash",
          "width": 0.5
         },
         "mode": "lines",
         "type": "scatter",
         "x": [
          1.0846523524591416,
          -4.5075490650481145
         ],
         "y": [
          -4.046196014063934,
          -0.3688621370350592
         ]
        },
        {
         "line": {
          "color": "red",
          "dash": "dash",
          "width": 0.5
         },
         "mode": "lines",
         "type": "scatter",
         "x": [
          1.0846523524591416,
          -7.726420909219675
         ],
         "y": [
          -4.046196014063934,
          -8.39495681796181
         ]
        },
        {
         "line": {
          "color": "red",
          "dash": "dash",
          "width": 0.5
         },
         "mode": "lines",
         "type": "scatter",
         "x": [
          1.0846523524591416,
          -1.686652710949561
         ],
         "y": [
          -4.046196014063934,
          7.793442478227301
         ]
        },
        {
         "line": {
          "color": "red",
          "dash": "dash",
          "width": 0.5
         },
         "mode": "lines",
         "type": "scatter",
         "x": [
          1.0846523524591416,
          -4.734885110286696
         ],
         "y": [
          -4.046196014063934,
          -7.712011261146215
         ]
        },
        {
         "line": {
          "color": "red",
          "dash": "dash",
          "width": 0.5
         },
         "mode": "lines",
         "type": "scatter",
         "x": [
          -3.5775524787340434,
          -10.413807310876463
         ],
         "y": [
          0.08325166652228944,
          9.076811201586892
         ]
        },
        {
         "line": {
          "color": "red",
          "dash": "dash",
          "width": 0.5
         },
         "mode": "lines",
         "type": "scatter",
         "x": [
          -3.5775524787340434,
          -0.6041110105123328
         ],
         "y": [
          0.08325166652228944,
          -5.097582520216787
         ]
        },
        {
         "line": {
          "color": "red",
          "dash": "dash",
          "width": 0.5
         },
         "mode": "lines",
         "type": "scatter",
         "x": [
          6.117772880969618,
          -5.721031612143866
         ],
         "y": [
          1.4548994656670846,
          -7.7007919116276575
         ]
        },
        {
         "line": {
          "color": "red",
          "dash": "dash",
          "width": 0.5
         },
         "mode": "lines",
         "type": "scatter",
         "x": [
          6.117772880969618,
          -1.0226032196632706
         ],
         "y": [
          1.4548994656670846,
          -4.590705109939963
         ]
        },
        {
         "line": {
          "color": "red",
          "dash": "dash",
          "width": 0.5
         },
         "mode": "lines",
         "type": "scatter",
         "x": [
          4.736956385576142,
          -2.1348888262612578
         ],
         "y": [
          2.9418146744736213,
          -5.420071899350578
         ]
        },
        {
         "line": {
          "color": "red",
          "dash": "dash",
          "width": 0.5
         },
         "mode": "lines",
         "type": "scatter",
         "x": [
          4.736956385576142,
          -3.110904235282147
         ],
         "y": [
          2.9418146744736213,
          10.866564312707261
         ]
        },
        {
         "line": {
          "color": "red",
          "dash": "dash",
          "width": 0.5
         },
         "mode": "lines",
         "type": "scatter",
         "x": [
          4.736956385576142,
          2.9219001102974267
         ],
         "y": [
          2.9418146744736213,
          4.468751076797519
         ]
        },
        {
         "line": {
          "color": "red",
          "dash": "dash",
          "width": 0.5
         },
         "mode": "lines",
         "type": "scatter",
         "x": [
          -9.153597001276356,
          -9.600556886930866
         ],
         "y": [
          8.08249213599197,
          8.500942671754055
         ]
        },
        {
         "line": {
          "color": "red",
          "dash": "dash",
          "width": 0.5
         },
         "mode": "lines",
         "type": "scatter",
         "x": [
          4.644992292870563,
          -2.1348888262612578
         ],
         "y": [
          1.7385825505655845,
          -5.420071899350578
         ]
        },
        {
         "line": {
          "color": "red",
          "dash": "dash",
          "width": 0.5
         },
         "mode": "lines",
         "type": "scatter",
         "x": [
          4.644992292870563,
          -7.072873516354914
         ],
         "y": [
          1.7385825505655845,
          7.728504626459658
         ]
        },
        {
         "line": {
          "color": "red",
          "dash": "dash",
          "width": 0.5
         },
         "mode": "lines",
         "type": "scatter",
         "x": [
          -6.4261797531311595,
          -4.566991248611405
         ],
         "y": [
          -5.376767482430085,
          0.5425273039611709
         ]
        },
        {
         "line": {
          "color": "red",
          "dash": "dash",
          "width": 0.5
         },
         "mode": "lines",
         "type": "scatter",
         "x": [
          -6.5865547178525885,
          -8.480540396287727
         ],
         "y": [
          -7.5944610113023145,
          7.884307441866937
         ]
        },
        {
         "line": {
          "color": "red",
          "dash": "dash",
          "width": 0.5
         },
         "mode": "lines",
         "type": "scatter",
         "x": [
          -6.5865547178525885,
          -4.84037657858833
         ],
         "y": [
          -7.5944610113023145,
          -5.792999759246665
         ]
        },
        {
         "line": {
          "color": "red",
          "dash": "dash",
          "width": 0.5
         },
         "mode": "lines",
         "type": "scatter",
         "x": [
          -6.5865547178525885,
          -1.2895333899382924
         ],
         "y": [
          -7.5944610113023145,
          -4.6530746428042775
         ]
        },
        {
         "line": {
          "color": "red",
          "dash": "dash",
          "width": 0.5
         },
         "mode": "lines",
         "type": "scatter",
         "x": [
          -6.5865547178525885,
          -0.7283177610513999
         ],
         "y": [
          -7.5944610113023145,
          -1.9047243382347654
         ]
        },
        {
         "line": {
          "color": "red",
          "dash": "dash",
          "width": 0.5
         },
         "mode": "lines",
         "type": "scatter",
         "x": [
          -0.9666474847793879,
          3.4635735239302914
         ],
         "y": [
          -4.596401676859424,
          2.7255894047414704
         ]
        },
        {
         "line": {
          "color": "red",
          "dash": "dash",
          "width": 0.5
         },
         "mode": "lines",
         "type": "scatter",
         "x": [
          1.1933052239421036,
          -4.577778899755092
         ],
         "y": [
          3.60127051572394,
          1.0657273012379163
         ]
        },
        {
         "line": {
          "color": "red",
          "dash": "dash",
          "width": 0.5
         },
         "mode": "lines",
         "type": "scatter",
         "x": [
          6.198787344529191,
          3.4635735239302914
         ],
         "y": [
          -5.130367854086979,
          2.7255894047414704
         ]
        },
        {
         "line": {
          "color": "red",
          "dash": "dash",
          "width": 0.5
         },
         "mode": "lines",
         "type": "scatter",
         "x": [
          -8.267437245942844,
          -2.5450236621627016
         ],
         "y": [
          8.459088555679301,
          10.57892978401233
         ]
        },
        {
         "line": {
          "color": "red",
          "dash": "dash",
          "width": 0.5
         },
         "mode": "lines",
         "type": "scatter",
         "x": [
          3.6547115387958113,
          -2.6248459054409907
         ],
         "y": [
          2.7313101779602773,
          8.713182432609035
         ]
        },
        {
         "line": {
          "color": "red",
          "dash": "dash",
          "width": 0.5
         },
         "mode": "lines",
         "type": "scatter",
         "x": [
          3.6547115387958113,
          8.838655749226106
         ],
         "y": [
          2.7313101779602773,
          -6.561516071789629
         ]
        },
        {
         "line": {
          "color": "red",
          "dash": "dash",
          "width": 0.5
         },
         "mode": "lines",
         "type": "scatter",
         "x": [
          -10.594327495583652,
          -5.013852680006513
         ],
         "y": [
          8.184008430452154,
          -6.406276672364159
         ]
        },
        {
         "line": {
          "color": "red",
          "dash": "dash",
          "width": 0.5
         },
         "mode": "lines",
         "type": "scatter",
         "x": [
          -2.581207744633084,
          -4.734885110286696
         ],
         "y": [
          10.017819026090347,
          -7.712011261146215
         ]
        },
        {
         "line": {
          "color": "red",
          "dash": "dash",
          "width": 0.5
         },
         "mode": "lines",
         "type": "scatter",
         "x": [
          -2.4416694183648264,
          -9.611152971173581
         ],
         "y": [
          7.589537941984867,
          7.086704308758694
         ]
        },
        {
         "line": {
          "color": "red",
          "dash": "dash",
          "width": 0.5
         },
         "mode": "lines",
         "type": "scatter",
         "x": [
          -2.908862331594805,
          -4.718532942356704
         ],
         "y": [
          -0.08176323687839193,
          -6.580945842487702
         ]
        },
        {
         "line": {
          "color": "red",
          "dash": "dash",
          "width": 0.5
         },
         "mode": "lines",
         "type": "scatter",
         "x": [
          -2.908862331594805,
          -8.964190297031795
         ],
         "y": [
          -0.08176323687839193,
          10.026542552504166
         ]
        },
        {
         "line": {
          "color": "red",
          "dash": "dash",
          "width": 0.5
         },
         "mode": "lines",
         "type": "scatter",
         "x": [
          -2.1779341916491863,
          5.226735930028371
         ],
         "y": [
          9.989831255320683,
          4.16362530975071
         ]
        },
        {
         "line": {
          "color": "red",
          "dash": "dash",
          "width": 0.5
         },
         "mode": "lines",
         "type": "scatter",
         "x": [
          -4.5075490650481145,
          -3.6155325970587784
         ],
         "y": [
          -0.3688621370350592,
          7.8180795041176525
         ]
        },
        {
         "line": {
          "color": "red",
          "dash": "dash",
          "width": 0.5
         },
         "mode": "lines",
         "type": "scatter",
         "x": [
          -4.5075490650481145,
          4.739530201315743
         ],
         "y": [
          -0.3688621370350592,
          1.4696940298245327
         ]
        },
        {
         "line": {
          "color": "red",
          "dash": "dash",
          "width": 0.5
         },
         "mode": "lines",
         "type": "scatter",
         "x": [
          -4.5075490650481145,
          -10.406530797317423
         ],
         "y": [
          -0.3688621370350592,
          11.490584318925347
         ]
        },
        {
         "line": {
          "color": "red",
          "dash": "dash",
          "width": 0.5
         },
         "mode": "lines",
         "type": "scatter",
         "x": [
          -7.854308861378591,
          -6.91714996120517
         ],
         "y": [
          -6.093024989533495,
          -7.529787695520172
         ]
        },
        {
         "line": {
          "color": "red",
          "dash": "dash",
          "width": 0.5
         },
         "mode": "lines",
         "type": "scatter",
         "x": [
          -1.034172253393522,
          1.0407915838162252
         ],
         "y": [
          -4.394517724848026,
          4.62355503018418
         ]
        },
        {
         "line": {
          "color": "red",
          "dash": "dash",
          "width": 0.5
         },
         "mode": "lines",
         "type": "scatter",
         "x": [
          -1.034172253393522,
          -10.413807310876463
         ],
         "y": [
          -4.394517724848026,
          9.076811201586892
         ]
        },
        {
         "line": {
          "color": "red",
          "dash": "dash",
          "width": 0.5
         },
         "mode": "lines",
         "type": "scatter",
         "x": [
          -1.034172253393522,
          3.4635735239302914
         ],
         "y": [
          -4.394517724848026,
          2.7255894047414704
         ]
        },
        {
         "line": {
          "color": "red",
          "dash": "dash",
          "width": 0.5
         },
         "mode": "lines",
         "type": "scatter",
         "x": [
          -3.3853509628939626,
          1.0407915838162252
         ],
         "y": [
          1.9366972533026572,
          4.62355503018418
         ]
        },
        {
         "line": {
          "color": "red",
          "dash": "dash",
          "width": 0.5
         },
         "mode": "lines",
         "type": "scatter",
         "x": [
          -8.116577902029352,
          -2.988977593277604
         ],
         "y": [
          -8.200566206360223,
          2.4045452731148873
         ]
        },
        {
         "line": {
          "color": "red",
          "dash": "dash",
          "width": 0.5
         },
         "mode": "lines",
         "type": "scatter",
         "x": [
          -8.116577902029352,
          -7.435127656572394
         ],
         "y": [
          -8.200566206360223,
          8.630849480351836
         ]
        },
        {
         "line": {
          "color": "red",
          "dash": "dash",
          "width": 0.5
         },
         "mode": "lines",
         "type": "scatter",
         "x": [
          -8.116577902029352,
          4.605167066522858
         ],
         "y": [
          -8.200566206360223,
          0.8044916463212
         ]
        },
        {
         "line": {
          "color": "red",
          "dash": "dash",
          "width": 0.5
         },
         "mode": "lines",
         "type": "scatter",
         "x": [
          -2.5226948477906843,
          2.3793157208292235
         ],
         "y": [
          7.956575199242423,
          3.4685419606602554
         ]
        },
        {
         "line": {
          "color": "red",
          "dash": "dash",
          "width": 0.5
         },
         "mode": "lines",
         "type": "scatter",
         "x": [
          -2.6248459054409907,
          -4.565797709931073
         ],
         "y": [
          8.713182432609035,
          0.008003248880060598
         ]
        },
        {
         "line": {
          "color": "red",
          "dash": "dash",
          "width": 0.5
         },
         "mode": "lines",
         "type": "scatter",
         "x": [
          -7.96994697611556,
          -3.109836312971555
         ],
         "y": [
          -6.128446167064101,
          8.722592378405047
         ]
        },
        {
         "line": {
          "color": "red",
          "dash": "dash",
          "width": 0.5
         },
         "mode": "lines",
         "type": "scatter",
         "x": [
          -7.96994697611556,
          2.221359930437646
         ],
         "y": [
          -6.128446167064101,
          3.561234678762115
         ]
        },
        {
         "line": {
          "color": "red",
          "dash": "dash",
          "width": 0.5
         },
         "mode": "lines",
         "type": "scatter",
         "x": [
          -4.718532942356704,
          -5.584560421930617
         ],
         "y": [
          -6.580945842487702,
          1.0384888250246918
         ]
        },
        {
         "line": {
          "color": "red",
          "dash": "dash",
          "width": 0.5
         },
         "mode": "lines",
         "type": "scatter",
         "x": [
          -2.747373079149438,
          -5.721031612143866
         ],
         "y": [
          0.74954947594597,
          -7.7007919116276575
         ]
        },
        {
         "line": {
          "color": "red",
          "dash": "dash",
          "width": 0.5
         },
         "mode": "lines",
         "type": "scatter",
         "x": [
          -9.265591553745862,
          -10.357697722590023
         ],
         "y": [
          8.570966099687563,
          6.839288842632452
         ]
        },
        {
         "line": {
          "color": "red",
          "dash": "dash",
          "width": 0.5
         },
         "mode": "lines",
         "type": "scatter",
         "x": [
          -9.265591553745862,
          -6.470531015812545
         ],
         "y": [
          8.570966099687563,
          -7.367152125350698
         ]
        },
        {
         "line": {
          "color": "red",
          "dash": "dash",
          "width": 0.5
         },
         "mode": "lines",
         "type": "scatter",
         "x": [
          -9.265591553745862,
          -5.313722714628387
         ],
         "y": [
          8.570966099687563,
          1.0580978693353278
         ]
        },
        {
         "line": {
          "color": "red",
          "dash": "dash",
          "width": 0.5
         },
         "mode": "lines",
         "type": "scatter",
         "x": [
          -3.8285653533363457,
          4.7001090461691275
         ],
         "y": [
          0.33945139725267737,
          4.436411796426018
         ]
        },
        {
         "line": {
          "color": "red",
          "dash": "dash",
          "width": 0.5
         },
         "mode": "lines",
         "type": "scatter",
         "x": [
          -3.6155325970587784,
          -5.013852680006513
         ],
         "y": [
          7.8180795041176525,
          -6.406276672364159
         ]
        },
        {
         "line": {
          "color": "red",
          "dash": "dash",
          "width": 0.5
         },
         "mode": "lines",
         "type": "scatter",
         "x": [
          -3.6155325970587784,
          8.838655749226106
         ],
         "y": [
          7.8180795041176525,
          -6.561516071789629
         ]
        },
        {
         "line": {
          "color": "red",
          "dash": "dash",
          "width": 0.5
         },
         "mode": "lines",
         "type": "scatter",
         "x": [
          -4.565797709931073,
          -3.110904235282147
         ],
         "y": [
          0.008003248880060598,
          10.866564312707261
         ]
        },
        {
         "line": {
          "color": "red",
          "dash": "dash",
          "width": 0.5
         },
         "mode": "lines",
         "type": "scatter",
         "x": [
          5.430910783271148,
          -0.6041110105123328
         ],
         "y": [
          1.063782229145993,
          -5.097582520216787
         ]
        },
        {
         "line": {
          "color": "red",
          "dash": "dash",
          "width": 0.5
         },
         "mode": "lines",
         "type": "scatter",
         "x": [
          -0.5316940459741956,
          2.835162353703136
         ],
         "y": [
          -6.386552505047046,
          4.791080397844522
         ]
        },
        {
         "line": {
          "color": "red",
          "dash": "dash",
          "width": 0.5
         },
         "mode": "lines",
         "type": "scatter",
         "x": [
          4.110118632461063,
          5.68392935542833
         ],
         "y": [
          2.486437117054088,
          -5.067166326436038
         ]
        },
        {
         "line": {
          "color": "red",
          "dash": "dash",
          "width": 0.5
         },
         "mode": "lines",
         "type": "scatter",
         "x": [
          4.110118632461063,
          -5.916251061906948
         ],
         "y": [
          2.486437117054088,
          -6.467328666339449
         ]
        },
        {
         "line": {
          "color": "red",
          "dash": "dash",
          "width": 0.5
         },
         "mode": "lines",
         "type": "scatter",
         "x": [
          -3.053580347577933,
          -1.630974562451056
         ],
         "y": [
          9.125208717908189,
          -5.154180911821468
         ]
        },
        {
         "line": {
          "color": "red",
          "dash": "dash",
          "width": 0.5
         },
         "mode": "lines",
         "type": "scatter",
         "x": [
          -1.4781981005567992,
          -8.32329248942735
         ],
         "y": [
          9.945566247314522,
          7.837308866410912
         ]
        },
        {
         "line": {
          "color": "red",
          "dash": "dash",
          "width": 0.5
         },
         "mode": "lines",
         "type": "scatter",
         "x": [
          -1.4781981005567992,
          -8.430199240583883
         ],
         "y": [
          9.945566247314522,
          10.189859737202822
         ]
        },
        {
         "line": {
          "color": "red",
          "dash": "dash",
          "width": 0.5
         },
         "mode": "lines",
         "type": "scatter",
         "x": [
          -6.716171559623377,
          -4.678414297351763
         ],
         "y": [
          8.35598817604985,
          -1.3097534680197622
         ]
        },
        {
         "line": {
          "color": "red",
          "dash": "dash",
          "width": 0.5
         },
         "mode": "lines",
         "type": "scatter",
         "x": [
          -6.716171559623377,
          -9.068963599842778
         ],
         "y": [
          8.35598817604985,
          10.930935956242465
         ]
        },
        {
         "line": {
          "color": "red",
          "dash": "dash",
          "width": 0.5
         },
         "mode": "lines",
         "type": "scatter",
         "x": [
          -6.716171559623377,
          -6.65216725654714
         ],
         "y": [
          8.35598817604985,
          -5.572966838993518
         ]
        },
        {
         "line": {
          "color": "red",
          "dash": "dash",
          "width": 0.5
         },
         "mode": "lines",
         "type": "scatter",
         "x": [
          -6.716171559623377,
          -3.5220287433871738
         ],
         "y": [
          8.35598817604985,
          9.328533460793597
         ]
        },
        {
         "line": {
          "color": "red",
          "dash": "dash",
          "width": 0.5
         },
         "mode": "lines",
         "type": "scatter",
         "x": [
          1.0407915838162252,
          4.731639612763604
         ],
         "y": [
          4.62355503018418,
          -0.0143992306601608
         ]
        },
        {
         "line": {
          "color": "red",
          "dash": "dash",
          "width": 0.5
         },
         "mode": "lines",
         "type": "scatter",
         "x": [
          -2.300334028047995,
          -0.7283177610513999
         ],
         "y": [
          7.0546160043185475,
          -1.9047243382347654
         ]
        },
        {
         "line": {
          "color": "red",
          "dash": "dash",
          "width": 0.5
         },
         "mode": "lines",
         "type": "scatter",
         "x": [
          -3.8666335128644187,
          -8.430199240583883
         ],
         "y": [
          -0.33582148376628096,
          10.189859737202822
         ]
        },
        {
         "line": {
          "color": "red",
          "dash": "dash",
          "width": 0.5
         },
         "mode": "lines",
         "type": "scatter",
         "x": [
          4.897429226950865,
          -2.839685872937526
         ],
         "y": [
          1.8987237681745648,
          -3.031663152832232
         ]
        },
        {
         "line": {
          "color": "red",
          "dash": "dash",
          "width": 0.5
         },
         "mode": "lines",
         "type": "scatter",
         "x": [
          -3.4172216985739614,
          -10.038624163691786
         ],
         "y": [
          7.601982426863032,
          6.989021679657755
         ]
        },
        {
         "line": {
          "color": "red",
          "dash": "dash",
          "width": 0.5
         },
         "mode": "lines",
         "type": "scatter",
         "x": [
          -3.4172216985739614,
          -4.734885110286696
         ],
         "y": [
          7.601982426863032,
          -7.712011261146215
         ]
        },
        {
         "line": {
          "color": "red",
          "dash": "dash",
          "width": 0.5
         },
         "mode": "lines",
         "type": "scatter",
         "x": [
          -7.1442840243892265,
          -8.323280070329963
         ],
         "y": [
          -4.159940426686328,
          11.176254406153424
         ]
        },
        {
         "line": {
          "color": "red",
          "dash": "dash",
          "width": 0.5
         },
         "mode": "lines",
         "type": "scatter",
         "x": [
          -5.749333955814563,
          -9.630848495068712
         ],
         "y": [
          -5.574402092884019,
          7.208786474031804
         ]
        },
        {
         "line": {
          "color": "red",
          "dash": "dash",
          "width": 0.5
         },
         "mode": "lines",
         "type": "scatter",
         "x": [
          -5.749333955814563,
          4.524957091698628
         ],
         "y": [
          -5.574402092884019,
          -6.278972808115238
         ]
        },
        {
         "line": {
          "color": "red",
          "dash": "dash",
          "width": 0.5
         },
         "mode": "lines",
         "type": "scatter",
         "x": [
          1.7697320834710157,
          -8.906357142788988
         ],
         "y": [
          2.9136683739560603,
          9.08793028664643
         ]
        },
        {
         "line": {
          "color": "red",
          "dash": "dash",
          "width": 0.5
         },
         "mode": "lines",
         "type": "scatter",
         "x": [
          1.7697320834710157,
          -1.1792333720991897
         ],
         "y": [
          2.9136683739560603,
          -3.927196609738825
         ]
        },
        {
         "line": {
          "color": "red",
          "dash": "dash",
          "width": 0.5
         },
         "mode": "lines",
         "type": "scatter",
         "x": [
          1.7697320834710157,
          -6.406389566577725
         ],
         "y": [
          2.9136683739560603,
          -6.95293850593282
         ]
        },
        {
         "line": {
          "color": "red",
          "dash": "dash",
          "width": 0.5
         },
         "mode": "lines",
         "type": "scatter",
         "x": [
          1.7697320834710157,
          -3.2318915481835404
         ],
         "y": [
          2.9136683739560603,
          -4.52693068008047
         ]
        },
        {
         "line": {
          "color": "red",
          "dash": "dash",
          "width": 0.5
         },
         "mode": "lines",
         "type": "scatter",
         "x": [
          -9.500114221404399,
          -7.769141620776793
         ],
         "y": [
          8.175956250294927,
          -7.695919878241385
         ]
        },
        {
         "line": {
          "color": "red",
          "dash": "dash",
          "width": 0.5
         },
         "mode": "lines",
         "type": "scatter",
         "x": [
          -7.103089976477121,
          -1.630974562451056
         ],
         "y": [
          -6.1661090991838545,
          -5.154180911821468
         ]
        },
        {
         "line": {
          "color": "red",
          "dash": "dash",
          "width": 0.5
         },
         "mode": "lines",
         "type": "scatter",
         "x": [
          -8.906357142788988,
          -2.5450236621627016
         ],
         "y": [
          9.08793028664643,
          10.57892978401233
         ]
        },
        {
         "line": {
          "color": "red",
          "dash": "dash",
          "width": 0.5
         },
         "mode": "lines",
         "type": "scatter",
         "x": [
          -1.8487058512301782,
          -6.619744396902846
         ],
         "y": [
          -4.607975383858782,
          -6.098286721498637
         ]
        },
        {
         "line": {
          "color": "red",
          "dash": "dash",
          "width": 0.5
         },
         "mode": "lines",
         "type": "scatter",
         "x": [
          -1.8487058512301782,
          -7.950519689212382
         ],
         "y": [
          -4.607975383858782,
          -6.397637178032761
         ]
        },
        {
         "line": {
          "color": "red",
          "dash": "dash",
          "width": 0.5
         },
         "mode": "lines",
         "type": "scatter",
         "x": [
          -1.8487058512301782,
          -5.97943520691868
         ],
         "y": [
          -4.607975383858782,
          -6.364604551025416
         ]
        },
        {
         "line": {
          "color": "red",
          "dash": "dash",
          "width": 0.5
         },
         "mode": "lines",
         "type": "scatter",
         "x": [
          -1.8487058512301782,
          -3.414237953184865
         ],
         "y": [
          -4.607975383858782,
          -0.48242661215379423
         ]
        },
        {
         "line": {
          "color": "red",
          "dash": "dash",
          "width": 0.5
         },
         "mode": "lines",
         "type": "scatter",
         "x": [
          -1.8487058512301782,
          -8.430942755897863
         ],
         "y": [
          -4.607975383858782,
          -6.421029842444112
         ]
        },
        {
         "line": {
          "color": "red",
          "dash": "dash",
          "width": 0.5
         },
         "mode": "lines",
         "type": "scatter",
         "x": [
          -5.721031612143866,
          -5.584560421930617
         ],
         "y": [
          -7.7007919116276575,
          1.0384888250246918
         ]
        },
        {
         "line": {
          "color": "red",
          "dash": "dash",
          "width": 0.5
         },
         "mode": "lines",
         "type": "scatter",
         "x": [
          -3.109836312971555,
          4.155333609520443
         ],
         "y": [
          8.722592378405047,
          2.2093637563984077
         ]
        },
        {
         "line": {
          "color": "red",
          "dash": "dash",
          "width": 0.5
         },
         "mode": "lines",
         "type": "scatter",
         "x": [
          -3.109836312971555,
          -9.26414376159551
         ],
         "y": [
          8.722592378405047,
          9.268053988872202
         ]
        },
        {
         "line": {
          "color": "red",
          "dash": "dash",
          "width": 0.5
         },
         "mode": "lines",
         "type": "scatter",
         "x": [
          -3.109836312971555,
          -3.414237953184865
         ],
         "y": [
          8.722592378405047,
          -0.48242661215379423
         ]
        },
        {
         "line": {
          "color": "red",
          "dash": "dash",
          "width": 0.5
         },
         "mode": "lines",
         "type": "scatter",
         "x": [
          -4.577778899755092,
          6.042673147164201
         ],
         "y": [
          1.0657273012379163,
          0.5713186211484511
         ]
        },
        {
         "line": {
          "color": "red",
          "dash": "dash",
          "width": 0.5
         },
         "mode": "lines",
         "type": "scatter",
         "x": [
          -4.577778899755092,
          4.524957091698628
         ],
         "y": [
          1.0657273012379163,
          -6.278972808115238
         ]
        },
        {
         "line": {
          "color": "red",
          "dash": "dash",
          "width": 0.5
         },
         "mode": "lines",
         "type": "scatter",
         "x": [
          -4.577778899755092,
          -10.413807310876463
         ],
         "y": [
          1.0657273012379163,
          9.076811201586892
         ]
        },
        {
         "line": {
          "color": "red",
          "dash": "dash",
          "width": 0.5
         },
         "mode": "lines",
         "type": "scatter",
         "x": [
          2.835162353703136,
          -8.323280070329963
         ],
         "y": [
          4.791080397844522,
          11.176254406153424
         ]
        },
        {
         "line": {
          "color": "red",
          "dash": "dash",
          "width": 0.5
         },
         "mode": "lines",
         "type": "scatter",
         "x": [
          5.054425157214068,
          -7.950519689212382
         ],
         "y": [
          -6.35259280938825,
          -6.397637178032761
         ]
        },
        {
         "line": {
          "color": "red",
          "dash": "dash",
          "width": 0.5
         },
         "mode": "lines",
         "type": "scatter",
         "x": [
          5.054425157214068,
          -2.1655793334842888
         ],
         "y": [
          -6.35259280938825,
          7.251245972835589
         ]
        },
        {
         "line": {
          "color": "red",
          "dash": "dash",
          "width": 0.5
         },
         "mode": "lines",
         "type": "scatter",
         "x": [
          -5.996902409761139,
          3.1854639870191357
         ],
         "y": [
          -7.271789589258679,
          4.171684616940497
         ]
        },
        {
         "line": {
          "color": "red",
          "dash": "dash",
          "width": 0.5
         },
         "mode": "lines",
         "type": "scatter",
         "x": [
          -7.326142143218291,
          3.1854639870191357
         ],
         "y": [
          -6.023710798952474,
          4.171684616940497
         ]
        },
        {
         "line": {
          "color": "red",
          "dash": "dash",
          "width": 0.5
         },
         "mode": "lines",
         "type": "scatter",
         "x": [
          -8.32329248942735,
          -1.630974562451056
         ],
         "y": [
          7.837308866410912,
          -5.154180911821468
         ]
        },
        {
         "line": {
          "color": "red",
          "dash": "dash",
          "width": 0.5
         },
         "mode": "lines",
         "type": "scatter",
         "x": [
          3.8313852333349137,
          -8.774047737540547
         ],
         "y": [
          1.4714126403561956,
          6.245778137569397
         ]
        },
        {
         "line": {
          "color": "red",
          "dash": "dash",
          "width": 0.5
         },
         "mode": "lines",
         "type": "scatter",
         "x": [
          6.769148447720334,
          -8.480540396287727
         ],
         "y": [
          -5.2387789523757275,
          7.884307441866937
         ]
        },
        {
         "line": {
          "color": "red",
          "dash": "dash",
          "width": 0.5
         },
         "mode": "lines",
         "type": "scatter",
         "x": [
          6.769148447720334,
          -9.175378659808327
         ],
         "y": [
          -5.2387789523757275,
          8.83447249043591
         ]
        },
        {
         "line": {
          "color": "red",
          "dash": "dash",
          "width": 0.5
         },
         "mode": "lines",
         "type": "scatter",
         "x": [
          6.769148447720334,
          -9.630848495068712
         ],
         "y": [
          -5.2387789523757275,
          7.208786474031804
         ]
        },
        {
         "line": {
          "color": "red",
          "dash": "dash",
          "width": 0.5
         },
         "mode": "lines",
         "type": "scatter",
         "x": [
          6.769148447720334,
          -9.49063401553512
         ],
         "y": [
          -5.2387789523757275,
          8.62518725938442
         ]
        },
        {
         "line": {
          "color": "red",
          "dash": "dash",
          "width": 0.5
         },
         "mode": "lines",
         "type": "scatter",
         "x": [
          -8.323280070329963,
          -8.070930688353918
         ],
         "y": [
          11.176254406153424,
          -6.2235559846421165
         ]
        },
        {
         "line": {
          "color": "red",
          "dash": "dash",
          "width": 0.5
         },
         "mode": "lines",
         "type": "scatter",
         "x": [
          -8.323280070329963,
          -1.2189671052048965
         ],
         "y": [
          11.176254406153424,
          3.13706391458662
         ]
        },
        {
         "line": {
          "color": "red",
          "dash": "dash",
          "width": 0.5
         },
         "mode": "lines",
         "type": "scatter",
         "x": [
          -8.323280070329963,
          5.328619608987792
         ],
         "y": [
          11.176254406153424,
          -3.921759020580123
         ]
        },
        {
         "line": {
          "color": "red",
          "dash": "dash",
          "width": 0.5
         },
         "mode": "lines",
         "type": "scatter",
         "x": [
          -8.323280070329963,
          -10.406530797317423
         ],
         "y": [
          11.176254406153424,
          11.490584318925347
         ]
        },
        {
         "line": {
          "color": "red",
          "dash": "dash",
          "width": 0.5
         },
         "mode": "lines",
         "type": "scatter",
         "x": [
          -1.630974562451056,
          2.847716583852206
         ],
         "y": [
          -5.154180911821468,
          4.974961191921548
         ]
        },
        {
         "line": {
          "color": "red",
          "dash": "dash",
          "width": 0.5
         },
         "mode": "lines",
         "type": "scatter",
         "x": [
          -1.630974562451056,
          -8.774047737540547
         ],
         "y": [
          -5.154180911821468,
          6.245778137569397
         ]
        },
        {
         "line": {
          "color": "red",
          "dash": "dash",
          "width": 0.5
         },
         "mode": "lines",
         "type": "scatter",
         "x": [
          6.042673147164201,
          -4.84037657858833
         ],
         "y": [
          0.5713186211484511,
          -5.792999759246665
         ]
        },
        {
         "line": {
          "color": "red",
          "dash": "dash",
          "width": 0.5
         },
         "mode": "lines",
         "type": "scatter",
         "x": [
          6.042673147164201,
          5.328619608987792
         ],
         "y": [
          0.5713186211484511,
          -3.921759020580123
         ]
        },
        {
         "line": {
          "color": "red",
          "dash": "dash",
          "width": 0.5
         },
         "mode": "lines",
         "type": "scatter",
         "x": [
          6.042673147164201,
          -8.430199240583883
         ],
         "y": [
          0.5713186211484511,
          10.189859737202822
         ]
        },
        {
         "line": {
          "color": "red",
          "dash": "dash",
          "width": 0.5
         },
         "mode": "lines",
         "type": "scatter",
         "x": [
          6.042673147164201,
          -5.916251061906948
         ],
         "y": [
          0.5713186211484511,
          -6.467328666339449
         ]
        },
        {
         "line": {
          "color": "red",
          "dash": "dash",
          "width": 0.5
         },
         "mode": "lines",
         "type": "scatter",
         "x": [
          6.042673147164201,
          -5.313722714628387
         ],
         "y": [
          0.5713186211484511,
          1.0580978693353278
         ]
        },
        {
         "line": {
          "color": "red",
          "dash": "dash",
          "width": 0.5
         },
         "mode": "lines",
         "type": "scatter",
         "x": [
          -6.357685625534373,
          -7.072873516354914
         ],
         "y": [
          -6.583124920042761,
          7.728504626459658
         ]
        },
        {
         "line": {
          "color": "red",
          "dash": "dash",
          "width": 0.5
         },
         "mode": "lines",
         "type": "scatter",
         "x": [
          -6.357685625534373,
          5.226735930028371
         ],
         "y": [
          -6.583124920042761,
          4.16362530975071
         ]
        },
        {
         "line": {
          "color": "red",
          "dash": "dash",
          "width": 0.5
         },
         "mode": "lines",
         "type": "scatter",
         "x": [
          4.739530201315743,
          -8.480540396287727
         ],
         "y": [
          1.4696940298245327,
          7.884307441866937
         ]
        },
        {
         "line": {
          "color": "red",
          "dash": "dash",
          "width": 0.5
         },
         "mode": "lines",
         "type": "scatter",
         "x": [
          -6.619744396902846,
          2.135817580115424
         ],
         "y": [
          -6.098286721498637,
          4.823582230441956
         ]
        },
        {
         "line": {
          "color": "red",
          "dash": "dash",
          "width": 0.5
         },
         "mode": "lines",
         "type": "scatter",
         "x": [
          -8.480540396287727,
          3.4635735239302914
         ],
         "y": [
          7.884307441866937,
          2.7255894047414704
         ]
        },
        {
         "line": {
          "color": "red",
          "dash": "dash",
          "width": 0.5
         },
         "mode": "lines",
         "type": "scatter",
         "x": [
          4.155333609520443,
          -6.866625299273363
         ],
         "y": [
          2.2093637563984077,
          -5.42657551611863
         ]
        },
        {
         "line": {
          "color": "red",
          "dash": "dash",
          "width": 0.5
         },
         "mode": "lines",
         "type": "scatter",
         "x": [
          -9.563799939825008,
          -10.038624163691786
         ],
         "y": [
          9.896195334485336,
          6.989021679657755
         ]
        },
        {
         "line": {
          "color": "red",
          "dash": "dash",
          "width": 0.5
         },
         "mode": "lines",
         "type": "scatter",
         "x": [
          -9.563799939825008,
          -1.2895333899382924
         ],
         "y": [
          9.896195334485336,
          -4.6530746428042775
         ]
        },
        {
         "line": {
          "color": "red",
          "dash": "dash",
          "width": 0.5
         },
         "mode": "lines",
         "type": "scatter",
         "x": [
          -9.563799939825008,
          -3.5220287433871738
         ],
         "y": [
          9.896195334485336,
          9.328533460793597
         ]
        },
        {
         "line": {
          "color": "red",
          "dash": "dash",
          "width": 0.5
         },
         "mode": "lines",
         "type": "scatter",
         "x": [
          8.709600740890423,
          -9.175378659808327
         ],
         "y": [
          -3.9978769439912725,
          8.83447249043591
         ]
        },
        {
         "line": {
          "color": "red",
          "dash": "dash",
          "width": 0.5
         },
         "mode": "lines",
         "type": "scatter",
         "x": [
          -1.2189671052048965,
          -9.068963599842778
         ],
         "y": [
          3.13706391458662,
          10.930935956242465
         ]
        },
        {
         "line": {
          "color": "red",
          "dash": "dash",
          "width": 0.5
         },
         "mode": "lines",
         "type": "scatter",
         "x": [
          -1.2189671052048965,
          5.328619608987792
         ],
         "y": [
          3.13706391458662,
          -3.921759020580123
         ]
        },
        {
         "line": {
          "color": "red",
          "dash": "dash",
          "width": 0.5
         },
         "mode": "lines",
         "type": "scatter",
         "x": [
          -9.175378659808327,
          -3.981234939456562
         ],
         "y": [
          8.83447249043591,
          -0.7158875671176996
         ]
        },
        {
         "line": {
          "color": "red",
          "dash": "dash",
          "width": 0.5
         },
         "mode": "lines",
         "type": "scatter",
         "x": [
          -1.686652710949561,
          2.769593839987438
         ],
         "y": [
          7.793442478227301,
          4.771821821354375
         ]
        },
        {
         "line": {
          "color": "red",
          "dash": "dash",
          "width": 0.5
         },
         "mode": "lines",
         "type": "scatter",
         "x": [
          -1.686652710949561,
          -10.413807310876463
         ],
         "y": [
          7.793442478227301,
          9.076811201586892
         ]
        },
        {
         "line": {
          "color": "red",
          "dash": "dash",
          "width": 0.5
         },
         "mode": "lines",
         "type": "scatter",
         "x": [
          -6.638552353009632,
          -10.406530797317423
         ],
         "y": [
          -8.633830967666908,
          11.490584318925347
         ]
        },
        {
         "line": {
          "color": "red",
          "dash": "dash",
          "width": 0.5
         },
         "mode": "lines",
         "type": "scatter",
         "x": [
          2.221359930437646,
          -4.84037657858833
         ],
         "y": [
          3.561234678762115,
          -5.792999759246665
         ]
        },
        {
         "line": {
          "color": "red",
          "dash": "dash",
          "width": 0.5
         },
         "mode": "lines",
         "type": "scatter",
         "x": [
          2.221359930437646,
          -6.694383667310685
         ],
         "y": [
          3.561234678762115,
          7.957441937816714
         ]
        },
        {
         "line": {
          "color": "red",
          "dash": "dash",
          "width": 0.5
         },
         "mode": "lines",
         "type": "scatter",
         "x": [
          -6.523669189962502,
          -5.128942727142494
         ],
         "y": [
          5.456257722906955,
          9.836188632573547
         ]
        },
        {
         "line": {
          "color": "red",
          "dash": "dash",
          "width": 0.5
         },
         "mode": "lines",
         "type": "scatter",
         "x": [
          -6.523669189962502,
          -0.7283177610513999
         ],
         "y": [
          5.456257722906955,
          -1.9047243382347654
         ]
        },
        {
         "line": {
          "color": "red",
          "dash": "dash",
          "width": 0.5
         },
         "mode": "lines",
         "type": "scatter",
         "x": [
          -2.839685872937526,
          -4.84037657858833
         ],
         "y": [
          -3.031663152832232,
          -5.792999759246665
         ]
        },
        {
         "line": {
          "color": "red",
          "dash": "dash",
          "width": 0.5
         },
         "mode": "lines",
         "type": "scatter",
         "x": [
          -8.964190297031795,
          -3.981234939456562
         ],
         "y": [
          10.026542552504166,
          -0.7158875671176996
         ]
        },
        {
         "line": {
          "color": "red",
          "dash": "dash",
          "width": 0.5
         },
         "mode": "lines",
         "type": "scatter",
         "x": [
          -3.110904235282147,
          -7.063226163850573
         ],
         "y": [
          10.866564312707261,
          -6.117929892197102
         ]
        },
        {
         "line": {
          "color": "red",
          "dash": "dash",
          "width": 0.5
         },
         "mode": "lines",
         "type": "scatter",
         "x": [
          -3.110904235282147,
          -6.694383667310685
         ],
         "y": [
          10.866564312707261,
          7.957441937816714
         ]
        },
        {
         "line": {
          "color": "red",
          "dash": "dash",
          "width": 0.5
         },
         "mode": "lines",
         "type": "scatter",
         "x": [
          2.092102319854195,
          -6.491418247338754
         ],
         "y": [
          3.7761379590591497,
          -7.287450243531749
         ]
        },
        {
         "line": {
          "color": "red",
          "dash": "dash",
          "width": 0.5
         },
         "mode": "lines",
         "type": "scatter",
         "x": [
          -2.988977593277604,
          -6.491418247338754
         ],
         "y": [
          2.4045452731148873,
          -7.287450243531749
         ]
        },
        {
         "line": {
          "color": "red",
          "dash": "dash",
          "width": 0.5
         },
         "mode": "lines",
         "type": "scatter",
         "x": [
          -11.036394455581275,
          -6.65216725654714
         ],
         "y": [
          7.99073326886333,
          -5.572966838993518
         ]
        },
        {
         "line": {
          "color": "red",
          "dash": "dash",
          "width": 0.5
         },
         "mode": "lines",
         "type": "scatter",
         "x": [
          -4.678414297351763,
          -9.600556886930866
         ],
         "y": [
          -1.3097534680197622,
          8.500942671754055
         ]
        },
        {
         "line": {
          "color": "red",
          "dash": "dash",
          "width": 0.5
         },
         "mode": "lines",
         "type": "scatter",
         "x": [
          -4.678414297351763,
          8.151209868104463
         ],
         "y": [
          -1.3097534680197622,
          -5.679123006014701
         ]
        },
        {
         "line": {
          "color": "red",
          "dash": "dash",
          "width": 0.5
         },
         "mode": "lines",
         "type": "scatter",
         "x": [
          -9.630848495068712,
          -3.2318915481835404
         ],
         "y": [
          7.208786474031804,
          -4.52693068008047
         ]
        },
        {
         "line": {
          "color": "red",
          "dash": "dash",
          "width": 0.5
         },
         "mode": "lines",
         "type": "scatter",
         "x": [
          -9.630848495068712,
          -5.313722714628387
         ],
         "y": [
          7.208786474031804,
          1.0580978693353278
         ]
        },
        {
         "line": {
          "color": "red",
          "dash": "dash",
          "width": 0.5
         },
         "mode": "lines",
         "type": "scatter",
         "x": [
          -8.898166122372839,
          -1.0811310008378645
         ],
         "y": [
          8.99697657135405,
          -5.300906243337538
         ]
        },
        {
         "line": {
          "color": "red",
          "dash": "dash",
          "width": 0.5
         },
         "mode": "lines",
         "type": "scatter",
         "x": [
          -10.038624163691786,
          -7.063226163850573
         ],
         "y": [
          6.989021679657755,
          -6.117929892197102
         ]
        },
        {
         "line": {
          "color": "red",
          "dash": "dash",
          "width": 0.5
         },
         "mode": "lines",
         "type": "scatter",
         "x": [
          -10.038624163691786,
          5.328619608987792
         ],
         "y": [
          6.989021679657755,
          -3.921759020580123
         ]
        },
        {
         "line": {
          "color": "red",
          "dash": "dash",
          "width": 0.5
         },
         "mode": "lines",
         "type": "scatter",
         "x": [
          -6.371473297174605,
          -10.099211710971055
         ],
         "y": [
          -4.851965664041297,
          8.24138486255348
         ]
        },
        {
         "line": {
          "color": "red",
          "dash": "dash",
          "width": 0.5
         },
         "mode": "lines",
         "type": "scatter",
         "x": [
          2.769593839987438,
          5.226735930028371
         ],
         "y": [
          4.771821821354375,
          4.16362530975071
         ]
        },
        {
         "line": {
          "color": "red",
          "dash": "dash",
          "width": 0.5
         },
         "mode": "lines",
         "type": "scatter",
         "x": [
          2.769593839987438,
          -8.152067566261497
         ],
         "y": [
          4.771821821354375,
          5.7108070443090515
         ]
        },
        {
         "line": {
          "color": "red",
          "dash": "dash",
          "width": 0.5
         },
         "mode": "lines",
         "type": "scatter",
         "x": [
          -5.128942727142494,
          -3.981234939456562
         ],
         "y": [
          9.836188632573547,
          -0.7158875671176996
         ]
        },
        {
         "line": {
          "color": "red",
          "dash": "dash",
          "width": 0.5
         },
         "mode": "lines",
         "type": "scatter",
         "x": [
          -6.470531015812545,
          -1.2895333899382924
         ],
         "y": [
          -7.367152125350698,
          -4.6530746428042775
         ]
        },
        {
         "line": {
          "color": "red",
          "dash": "dash",
          "width": 0.5
         },
         "mode": "lines",
         "type": "scatter",
         "x": [
          -6.470531015812545,
          -3.5440092674379366
         ],
         "y": [
          -7.367152125350698,
          -0.10885655407106376
         ]
        },
        {
         "line": {
          "color": "red",
          "dash": "dash",
          "width": 0.5
         },
         "mode": "lines",
         "type": "scatter",
         "x": [
          -9.068963599842778,
          -4.84037657858833
         ],
         "y": [
          10.930935956242465,
          -5.792999759246665
         ]
        },
        {
         "line": {
          "color": "red",
          "dash": "dash",
          "width": 0.5
         },
         "mode": "lines",
         "type": "scatter",
         "x": [
          -9.600556886930866,
          4.524957091698628
         ],
         "y": [
          8.500942671754055,
          -6.278972808115238
         ]
        },
        {
         "line": {
          "color": "red",
          "dash": "dash",
          "width": 0.5
         },
         "mode": "lines",
         "type": "scatter",
         "x": [
          -6.0661099737816,
          -10.863470343293617
         ],
         "y": [
          -8.110973909709902,
          7.509977230268131
         ]
        },
        {
         "line": {
          "color": "red",
          "dash": "dash",
          "width": 0.5
         },
         "mode": "lines",
         "type": "scatter",
         "x": [
          -4.734885110286696,
          -1.0811310008378645
         ],
         "y": [
          -7.712011261146215,
          -5.300906243337538
         ]
        },
        {
         "line": {
          "color": "red",
          "dash": "dash",
          "width": 0.5
         },
         "mode": "lines",
         "type": "scatter",
         "x": [
          4.524957091698628,
          -8.774047737540547
         ],
         "y": [
          -6.278972808115238,
          6.245778137569397
         ]
        },
        {
         "line": {
          "color": "red",
          "dash": "dash",
          "width": 0.5
         },
         "mode": "lines",
         "type": "scatter",
         "x": [
          -1.2895333899382924,
          -7.072873516354914
         ],
         "y": [
          -4.6530746428042775,
          7.728504626459658
         ]
        },
        {
         "line": {
          "color": "red",
          "dash": "dash",
          "width": 0.5
         },
         "mode": "lines",
         "type": "scatter",
         "x": [
          -1.2895333899382924,
          -8.78011903819001
         ],
         "y": [
          -4.6530746428042775,
          6.18055261766808
         ]
        },
        {
         "line": {
          "color": "red",
          "dash": "dash",
          "width": 0.5
         },
         "mode": "lines",
         "type": "scatter",
         "x": [
          -7.063226163850573,
          -3.5220287433871738
         ],
         "y": [
          -6.117929892197102,
          9.328533460793597
         ]
        },
        {
         "line": {
          "color": "red",
          "dash": "dash",
          "width": 0.5
         },
         "mode": "lines",
         "type": "scatter",
         "x": [
          -1.0226032196632706,
          -10.413807310876463
         ],
         "y": [
          -4.590705109939963,
          9.076811201586892
         ]
        },
        {
         "line": {
          "color": "red",
          "dash": "dash",
          "width": 0.5
         },
         "mode": "lines",
         "type": "scatter",
         "x": [
          -3.981234939456562,
          -6.65216725654714
         ],
         "y": [
          -0.7158875671176996,
          -5.572966838993518
         ]
        },
        {
         "line": {
          "color": "red",
          "dash": "dash",
          "width": 0.5
         },
         "mode": "lines",
         "type": "scatter",
         "x": [
          -10.099211710971055,
          7.360467694097324
         ],
         "y": [
          8.24138486255348,
          -6.877859878272346
         ]
        },
        {
         "line": {
          "color": "red",
          "dash": "dash",
          "width": 0.5
         },
         "mode": "lines",
         "type": "scatter",
         "x": [
          -4.566991248611405,
          4.605167066522858
         ],
         "y": [
          0.5425273039611709,
          0.8044916463212
         ]
        },
        {
         "line": {
          "color": "red",
          "dash": "dash",
          "width": 0.5
         },
         "mode": "lines",
         "type": "scatter",
         "x": [
          -7.950519689212382,
          -7.435127656572394
         ],
         "y": [
          -6.397637178032761,
          8.630849480351836
         ]
        },
        {
         "line": {
          "color": "red",
          "dash": "dash",
          "width": 0.5
         },
         "mode": "lines",
         "type": "scatter",
         "x": [
          -7.950519689212382,
          -8.430942755897863
         ],
         "y": [
          -6.397637178032761,
          -6.421029842444112
         ]
        },
        {
         "line": {
          "color": "red",
          "dash": "dash",
          "width": 0.5
         },
         "mode": "lines",
         "type": "scatter",
         "x": [
          5.114738645272812,
          -6.694383667310685
         ],
         "y": [
          -4.475540964535968,
          7.957441937816714
         ]
        },
        {
         "line": {
          "color": "red",
          "dash": "dash",
          "width": 0.5
         },
         "mode": "lines",
         "type": "scatter",
         "x": [
          4.7001090461691275,
          8.151209868104463
         ],
         "y": [
          4.436411796426018,
          -5.679123006014701
         ]
        },
        {
         "line": {
          "color": "red",
          "dash": "dash",
          "width": 0.5
         },
         "mode": "lines",
         "type": "scatter",
         "x": [
          -8.333340477655554,
          -1.6966718006585522
         ],
         "y": [
          8.189278109668825,
          10.370526156769147
         ]
        },
        {
         "line": {
          "color": "red",
          "dash": "dash",
          "width": 0.5
         },
         "mode": "lines",
         "type": "scatter",
         "x": [
          -9.49063401553512,
          2.135817580115424
         ],
         "y": [
          8.62518725938442,
          4.823582230441956
         ]
        },
        {
         "line": {
          "color": "red",
          "dash": "dash",
          "width": 0.5
         },
         "mode": "lines",
         "type": "scatter",
         "x": [
          -0.7283177610513999,
          -8.774047737540547
         ],
         "y": [
          -1.9047243382347654,
          6.245778137569397
         ]
        },
        {
         "line": {
          "color": "red",
          "dash": "dash",
          "width": 0.5
         },
         "mode": "lines",
         "type": "scatter",
         "x": [
          -8.13716650628891,
          -3.414237953184865
         ],
         "y": [
          10.357467869325093,
          -0.48242661215379423
         ]
        },
        {
         "line": {
          "color": "red",
          "dash": "dash",
          "width": 0.5
         },
         "mode": "lines",
         "type": "scatter",
         "x": [
          7.828150000072261,
          -9.611152971173581
         ],
         "y": [
          -5.685699305024368,
          7.086704308758694
         ]
        }
       ],
       "layout": {
        "legend": {
         "title": {
          "text": "label"
         },
         "tracegroupgap": 0
        },
        "template": {
         "data": {
          "bar": [
           {
            "error_x": {
             "color": "#2a3f5f"
            },
            "error_y": {
             "color": "#2a3f5f"
            },
            "marker": {
             "line": {
              "color": "#E5ECF6",
              "width": 0.5
             },
             "pattern": {
              "fillmode": "overlay",
              "size": 10,
              "solidity": 0.2
             }
            },
            "type": "bar"
           }
          ],
          "barpolar": [
           {
            "marker": {
             "line": {
              "color": "#E5ECF6",
              "width": 0.5
             },
             "pattern": {
              "fillmode": "overlay",
              "size": 10,
              "solidity": 0.2
             }
            },
            "type": "barpolar"
           }
          ],
          "carpet": [
           {
            "aaxis": {
             "endlinecolor": "#2a3f5f",
             "gridcolor": "white",
             "linecolor": "white",
             "minorgridcolor": "white",
             "startlinecolor": "#2a3f5f"
            },
            "baxis": {
             "endlinecolor": "#2a3f5f",
             "gridcolor": "white",
             "linecolor": "white",
             "minorgridcolor": "white",
             "startlinecolor": "#2a3f5f"
            },
            "type": "carpet"
           }
          ],
          "choropleth": [
           {
            "colorbar": {
             "outlinewidth": 0,
             "ticks": ""
            },
            "type": "choropleth"
           }
          ],
          "contour": [
           {
            "colorbar": {
             "outlinewidth": 0,
             "ticks": ""
            },
            "colorscale": [
             [
              0,
              "#0d0887"
             ],
             [
              0.1111111111111111,
              "#46039f"
             ],
             [
              0.2222222222222222,
              "#7201a8"
             ],
             [
              0.3333333333333333,
              "#9c179e"
             ],
             [
              0.4444444444444444,
              "#bd3786"
             ],
             [
              0.5555555555555556,
              "#d8576b"
             ],
             [
              0.6666666666666666,
              "#ed7953"
             ],
             [
              0.7777777777777778,
              "#fb9f3a"
             ],
             [
              0.8888888888888888,
              "#fdca26"
             ],
             [
              1,
              "#f0f921"
             ]
            ],
            "type": "contour"
           }
          ],
          "contourcarpet": [
           {
            "colorbar": {
             "outlinewidth": 0,
             "ticks": ""
            },
            "type": "contourcarpet"
           }
          ],
          "heatmap": [
           {
            "colorbar": {
             "outlinewidth": 0,
             "ticks": ""
            },
            "colorscale": [
             [
              0,
              "#0d0887"
             ],
             [
              0.1111111111111111,
              "#46039f"
             ],
             [
              0.2222222222222222,
              "#7201a8"
             ],
             [
              0.3333333333333333,
              "#9c179e"
             ],
             [
              0.4444444444444444,
              "#bd3786"
             ],
             [
              0.5555555555555556,
              "#d8576b"
             ],
             [
              0.6666666666666666,
              "#ed7953"
             ],
             [
              0.7777777777777778,
              "#fb9f3a"
             ],
             [
              0.8888888888888888,
              "#fdca26"
             ],
             [
              1,
              "#f0f921"
             ]
            ],
            "type": "heatmap"
           }
          ],
          "histogram": [
           {
            "marker": {
             "pattern": {
              "fillmode": "overlay",
              "size": 10,
              "solidity": 0.2
             }
            },
            "type": "histogram"
           }
          ],
          "histogram2d": [
           {
            "colorbar": {
             "outlinewidth": 0,
             "ticks": ""
            },
            "colorscale": [
             [
              0,
              "#0d0887"
             ],
             [
              0.1111111111111111,
              "#46039f"
             ],
             [
              0.2222222222222222,
              "#7201a8"
             ],
             [
              0.3333333333333333,
              "#9c179e"
             ],
             [
              0.4444444444444444,
              "#bd3786"
             ],
             [
              0.5555555555555556,
              "#d8576b"
             ],
             [
              0.6666666666666666,
              "#ed7953"
             ],
             [
              0.7777777777777778,
              "#fb9f3a"
             ],
             [
              0.8888888888888888,
              "#fdca26"
             ],
             [
              1,
              "#f0f921"
             ]
            ],
            "type": "histogram2d"
           }
          ],
          "histogram2dcontour": [
           {
            "colorbar": {
             "outlinewidth": 0,
             "ticks": ""
            },
            "colorscale": [
             [
              0,
              "#0d0887"
             ],
             [
              0.1111111111111111,
              "#46039f"
             ],
             [
              0.2222222222222222,
              "#7201a8"
             ],
             [
              0.3333333333333333,
              "#9c179e"
             ],
             [
              0.4444444444444444,
              "#bd3786"
             ],
             [
              0.5555555555555556,
              "#d8576b"
             ],
             [
              0.6666666666666666,
              "#ed7953"
             ],
             [
              0.7777777777777778,
              "#fb9f3a"
             ],
             [
              0.8888888888888888,
              "#fdca26"
             ],
             [
              1,
              "#f0f921"
             ]
            ],
            "type": "histogram2dcontour"
           }
          ],
          "mesh3d": [
           {
            "colorbar": {
             "outlinewidth": 0,
             "ticks": ""
            },
            "type": "mesh3d"
           }
          ],
          "parcoords": [
           {
            "line": {
             "colorbar": {
              "outlinewidth": 0,
              "ticks": ""
             }
            },
            "type": "parcoords"
           }
          ],
          "pie": [
           {
            "automargin": true,
            "type": "pie"
           }
          ],
          "scatter": [
           {
            "fillpattern": {
             "fillmode": "overlay",
             "size": 10,
             "solidity": 0.2
            },
            "type": "scatter"
           }
          ],
          "scatter3d": [
           {
            "line": {
             "colorbar": {
              "outlinewidth": 0,
              "ticks": ""
             }
            },
            "marker": {
             "colorbar": {
              "outlinewidth": 0,
              "ticks": ""
             }
            },
            "type": "scatter3d"
           }
          ],
          "scattercarpet": [
           {
            "marker": {
             "colorbar": {
              "outlinewidth": 0,
              "ticks": ""
             }
            },
            "type": "scattercarpet"
           }
          ],
          "scattergeo": [
           {
            "marker": {
             "colorbar": {
              "outlinewidth": 0,
              "ticks": ""
             }
            },
            "type": "scattergeo"
           }
          ],
          "scattergl": [
           {
            "marker": {
             "colorbar": {
              "outlinewidth": 0,
              "ticks": ""
             }
            },
            "type": "scattergl"
           }
          ],
          "scattermap": [
           {
            "marker": {
             "colorbar": {
              "outlinewidth": 0,
              "ticks": ""
             }
            },
            "type": "scattermap"
           }
          ],
          "scattermapbox": [
           {
            "marker": {
             "colorbar": {
              "outlinewidth": 0,
              "ticks": ""
             }
            },
            "type": "scattermapbox"
           }
          ],
          "scatterpolar": [
           {
            "marker": {
             "colorbar": {
              "outlinewidth": 0,
              "ticks": ""
             }
            },
            "type": "scatterpolar"
           }
          ],
          "scatterpolargl": [
           {
            "marker": {
             "colorbar": {
              "outlinewidth": 0,
              "ticks": ""
             }
            },
            "type": "scatterpolargl"
           }
          ],
          "scatterternary": [
           {
            "marker": {
             "colorbar": {
              "outlinewidth": 0,
              "ticks": ""
             }
            },
            "type": "scatterternary"
           }
          ],
          "surface": [
           {
            "colorbar": {
             "outlinewidth": 0,
             "ticks": ""
            },
            "colorscale": [
             [
              0,
              "#0d0887"
             ],
             [
              0.1111111111111111,
              "#46039f"
             ],
             [
              0.2222222222222222,
              "#7201a8"
             ],
             [
              0.3333333333333333,
              "#9c179e"
             ],
             [
              0.4444444444444444,
              "#bd3786"
             ],
             [
              0.5555555555555556,
              "#d8576b"
             ],
             [
              0.6666666666666666,
              "#ed7953"
             ],
             [
              0.7777777777777778,
              "#fb9f3a"
             ],
             [
              0.8888888888888888,
              "#fdca26"
             ],
             [
              1,
              "#f0f921"
             ]
            ],
            "type": "surface"
           }
          ],
          "table": [
           {
            "cells": {
             "fill": {
              "color": "#EBF0F8"
             },
             "line": {
              "color": "white"
             }
            },
            "header": {
             "fill": {
              "color": "#C8D4E3"
             },
             "line": {
              "color": "white"
             }
            },
            "type": "table"
           }
          ]
         },
         "layout": {
          "annotationdefaults": {
           "arrowcolor": "#2a3f5f",
           "arrowhead": 0,
           "arrowwidth": 1
          },
          "autotypenumbers": "strict",
          "coloraxis": {
           "colorbar": {
            "outlinewidth": 0,
            "ticks": ""
           }
          },
          "colorscale": {
           "diverging": [
            [
             0,
             "#8e0152"
            ],
            [
             0.1,
             "#c51b7d"
            ],
            [
             0.2,
             "#de77ae"
            ],
            [
             0.3,
             "#f1b6da"
            ],
            [
             0.4,
             "#fde0ef"
            ],
            [
             0.5,
             "#f7f7f7"
            ],
            [
             0.6,
             "#e6f5d0"
            ],
            [
             0.7,
             "#b8e186"
            ],
            [
             0.8,
             "#7fbc41"
            ],
            [
             0.9,
             "#4d9221"
            ],
            [
             1,
             "#276419"
            ]
           ],
           "sequential": [
            [
             0,
             "#0d0887"
            ],
            [
             0.1111111111111111,
             "#46039f"
            ],
            [
             0.2222222222222222,
             "#7201a8"
            ],
            [
             0.3333333333333333,
             "#9c179e"
            ],
            [
             0.4444444444444444,
             "#bd3786"
            ],
            [
             0.5555555555555556,
             "#d8576b"
            ],
            [
             0.6666666666666666,
             "#ed7953"
            ],
            [
             0.7777777777777778,
             "#fb9f3a"
            ],
            [
             0.8888888888888888,
             "#fdca26"
            ],
            [
             1,
             "#f0f921"
            ]
           ],
           "sequentialminus": [
            [
             0,
             "#0d0887"
            ],
            [
             0.1111111111111111,
             "#46039f"
            ],
            [
             0.2222222222222222,
             "#7201a8"
            ],
            [
             0.3333333333333333,
             "#9c179e"
            ],
            [
             0.4444444444444444,
             "#bd3786"
            ],
            [
             0.5555555555555556,
             "#d8576b"
            ],
            [
             0.6666666666666666,
             "#ed7953"
            ],
            [
             0.7777777777777778,
             "#fb9f3a"
            ],
            [
             0.8888888888888888,
             "#fdca26"
            ],
            [
             1,
             "#f0f921"
            ]
           ]
          },
          "colorway": [
           "#636efa",
           "#EF553B",
           "#00cc96",
           "#ab63fa",
           "#FFA15A",
           "#19d3f3",
           "#FF6692",
           "#B6E880",
           "#FF97FF",
           "#FECB52"
          ],
          "font": {
           "color": "#2a3f5f"
          },
          "geo": {
           "bgcolor": "white",
           "lakecolor": "white",
           "landcolor": "#E5ECF6",
           "showlakes": true,
           "showland": true,
           "subunitcolor": "white"
          },
          "hoverlabel": {
           "align": "left"
          },
          "hovermode": "closest",
          "mapbox": {
           "style": "light"
          },
          "paper_bgcolor": "white",
          "plot_bgcolor": "#E5ECF6",
          "polar": {
           "angularaxis": {
            "gridcolor": "white",
            "linecolor": "white",
            "ticks": ""
           },
           "bgcolor": "#E5ECF6",
           "radialaxis": {
            "gridcolor": "white",
            "linecolor": "white",
            "ticks": ""
           }
          },
          "scene": {
           "xaxis": {
            "backgroundcolor": "#E5ECF6",
            "gridcolor": "white",
            "gridwidth": 2,
            "linecolor": "white",
            "showbackground": true,
            "ticks": "",
            "zerolinecolor": "white"
           },
           "yaxis": {
            "backgroundcolor": "#E5ECF6",
            "gridcolor": "white",
            "gridwidth": 2,
            "linecolor": "white",
            "showbackground": true,
            "ticks": "",
            "zerolinecolor": "white"
           },
           "zaxis": {
            "backgroundcolor": "#E5ECF6",
            "gridcolor": "white",
            "gridwidth": 2,
            "linecolor": "white",
            "showbackground": true,
            "ticks": "",
            "zerolinecolor": "white"
           }
          },
          "shapedefaults": {
           "line": {
            "color": "#2a3f5f"
           }
          },
          "ternary": {
           "aaxis": {
            "gridcolor": "white",
            "linecolor": "white",
            "ticks": ""
           },
           "baxis": {
            "gridcolor": "white",
            "linecolor": "white",
            "ticks": ""
           },
           "bgcolor": "#E5ECF6",
           "caxis": {
            "gridcolor": "white",
            "linecolor": "white",
            "ticks": ""
           }
          },
          "title": {
           "x": 0.05
          },
          "xaxis": {
           "automargin": true,
           "gridcolor": "white",
           "linecolor": "white",
           "ticks": "",
           "title": {
            "standoff": 15
           },
           "zerolinecolor": "white",
           "zerolinewidth": 2
          },
          "yaxis": {
           "automargin": true,
           "gridcolor": "white",
           "linecolor": "white",
           "ticks": "",
           "title": {
            "standoff": 15
           },
           "zerolinecolor": "white",
           "zerolinewidth": 2
          }
         }
        },
        "title": {
         "text": "Original Data"
        },
        "xaxis": {
         "anchor": "y",
         "domain": [
          0,
          1
         ],
         "title": {
          "text": "x"
         }
        },
        "yaxis": {
         "anchor": "x",
         "domain": [
          0,
          1
         ],
         "title": {
          "text": "y"
         }
        }
       }
      }
     },
     "metadata": {},
     "output_type": "display_data"
    }
   ],
   "source": [
    "df = pd.DataFrame(X, columns=['x', 'y'])\n",
    "df['label'] = y\n",
    "fig = plot_dataframe(df, title='Original Data', x='x', y='y', label='label')\n",
    "fig = draw_cl_constraints(fig, constraints, X)\n",
    "fig.show()\n"
   ]
  },
  {
   "cell_type": "code",
   "execution_count": 111,
   "id": "34a5a05c",
   "metadata": {},
   "outputs": [
    {
     "data": {
      "application/vnd.plotly.v1+json": {
       "config": {
        "plotlyServerURL": "https://plot.ly"
       },
       "data": [
        {
         "hovertemplate": "label=0<br>x=%{x}<br>y=%{y}<extra></extra>",
         "legendgroup": "0",
         "marker": {
          "color": "#f7dc6f",
          "opacity": 0.6,
          "size": 5,
          "symbol": "circle"
         },
         "mode": "markers",
         "name": "0",
         "orientation": "v",
         "showlegend": true,
         "type": "scatter",
         "x": {
          "bdata": "hRf/EupU/L81D2qK2eYPwAGr8UEbUwHA/b+WgS/oB8BIz5ONh/z6v7xxhIi7bQjAkGkuDbOm97+XvOKGFWcCwDF0dFR4VgvAI1mESGCy8L+HeFXhjckKwCYCYdzx4AjASInwjwmEFMCFwftILH0JwCsIBN4cewHAUgz7PlCmBMC8LflSEkgNwA0JVpU5wgfAsuDpNfayDsBK6q9anOwMwIQp3PmJiAPAocnvwmhsAcCXR6RdNVwEwO5b42cdLQzAtmPoonouBMC9RMc1r/8EwJwyfMIh4wjAjPt9VJEl+78AFv3Ssi4BwKqebMY0LgHA",
          "dtype": "f8"
         },
         "xaxis": "x",
         "y": {
          "bdata": "oVxBGA5fIkCHQWAXwZYgQH5S0p9GAR1AMdZo0UGoIUBL+VwvfCwfQPUtaVsbQCJAq9VYQiHkI0ChiwFC7TccQOCS0BRuaB5AhjFlj7eTIUCbMkdt/2ghQFQt06D3cSFAdWGc6iCsI0C5alslfkAjQG97uQEnQiFA9ptMkx8JJEDYuoYArMciQDXExaKPJCRA0pzegRtsIkBV2i6itkUfQPpNktWvWx5AaVKMKcv6I0DPBhJ8aSglQBqAq4k1qCJAwaTzcojTH0BqRnA/Jm0hQLTqTVGuuyVAqUW7mrW9JEDt10wKyholQD67+l8DvSBA",
          "dtype": "f8"
         },
         "yaxis": "y"
        },
        {
         "hovertemplate": "label=1<br>x=%{x}<br>y=%{y}<extra></extra>",
         "legendgroup": "1",
         "marker": {
          "color": "#82e0aa",
          "opacity": 0.6,
          "size": 5,
          "symbol": "circle"
         },
         "mode": "markers",
         "name": "1",
         "orientation": "v",
         "showlegend": true,
         "type": "scatter",
         "x": {
          "bdata": "7GZU8MJwEEDkjvO6Sq4RQL44tGdH9RJAWTQQ3HiUEkBX822CsisYQAFoHE2tpg5ArFboUBTqEUB28mXIqoAPQEy1Mo12vhNA94LasaTyEkADMalDX+gSQBzjBJKbOBZA+DcTmbf9EEAD6vCv95YTQL4IsbTfngxAxJImrUC5FUDRguu2sBoaQBh7QHSZeBhAp8L7kLa2CECScVHmyssJQBP2+B9CyhFAsIvOs33DDUBzHEXvMu0SQHu4w2LpzBJAId6hinwhF0AzM7F2LegUQPqGiHzaMQ1ACZ/q10swEUAeS4YS1MQFQOZTXeqwaxJA",
          "dtype": "f8"
         },
         "xaxis": "x",
         "y": {
          "bdata": "cXaqJDnkA0Cq8OwFa6QCQKiQE+Pdg/c/DTXB7zvR+z+MtS39PUjiP5ADFPvnivc/9mLvM4wEA0A6WiO2/1P6P5KPc1Wx3wFAhQ7OIdaIB0Bug2dxXsn6PyD483JVagJAoJXRchdP4D+KKYcsLGH+PxaQ+QP4kgNA4vfDg0AF8T/poVU9li4BQMgggKlER/c/j/Cj7ndVAEBD3dfII9f4P34FHNeeMgJAVNZTMlEvDEAAAS8GWH2NvxT05LvivhFARj8xpwLNBUBstahkjacQQIaomCqMgvY/IqZFr/m78j/HoaCPgCX/PyJa20Nlvuk/",
          "dtype": "f8"
         },
         "yaxis": "y"
        },
        {
         "hovertemplate": "label=2<br>x=%{x}<br>y=%{y}<extra></extra>",
         "legendgroup": "2",
         "marker": {
          "color": "#f1948a",
          "opacity": 0.6,
          "size": 5,
          "symbol": "circle"
         },
         "mode": "markers",
         "name": "2",
         "orientation": "v",
         "showlegend": true,
         "type": "scatter",
         "x": {
          "bdata": "nvOniWb5IMAr98nMoVgawC18jQhVzR/AWDcx8c9qH8CtD1mfbHcbwLGVENryOhjAAk5JGbA7IMAwQ+e3PaoXwIFhV6Zm0xrAFVn4ML+THMBrkbm70ZsawN3nPgMEgBzA4DLqyjuEGsA7jCeWJKAZwAVmlZmBqRrAel2XDA4EGcCW6gDi2ucewEDqbNyZEx/AKvE2JMqmHsCArf8jRW4ZwJSG9QZRJCDA6UOsvbDTG8AWw1EoaGkawM5FGWQVPR7AMOG7NPhNHcDRTnJGnnoawFhTPVWyQxjABilmHFbiFsAWXJ5lLw4UwP8ONmuQaRzA",
          "dtype": "f8"
         },
         "xaxis": "x",
         "y": {
          "bdata": "xIp/yirIGsCAKSljumAewDpMTTMulxnARgdf8UFfGMDuA0w20LQVwLLwsIzq7hPA+f8hnbBmIMAZpelni94ZwEsAXs+q+hnASrRXbMejEMC7razRt0oWwM75vtwOiR7ACeA5IXgiGsB/Upgcz88bwNTiozJvQCDAgF/hKPbyHsDX9LDHN8ogwHK7djifyB7ArK198QXPHMDdQ/SyHlUawK5zK9zr5BjA3NmEgeQnGsDibdZSMjYYwHtWOYlnlxrAa0DIpEcYGMDu3jlGpWQYwJrTgZLROCDA7PcWZZzNHsAiuvP9BqAZwC5A8oAYqhjA",
          "dtype": "f8"
         },
         "yaxis": "y"
        },
        {
         "hovertemplate": "label=3<br>x=%{x}<br>y=%{y}<extra></extra>",
         "legendgroup": "3",
         "marker": {
          "color": "#499cef",
          "opacity": 0.6,
          "size": 5,
          "symbol": "circle"
         },
         "mode": "markers",
         "name": "3",
         "orientation": "v",
         "showlegend": true,
         "type": "scatter",
         "x": {
          "bdata": "E48s/E+MIcA9P3O8PBgawJoeYJV1GyPAsQY4w2uPIcB8yN+LxhMkwHQAnODLMiTAVSxnWdqeIsBoFtAK6TgjwFznF4MMxxrAjCaAGuSVIcA6wM/M200gwHPB6CcktyTAFBrukv5CI8CBocsTXN0awJz05VqfShzAjmSi+A4AI8ALRNqXhqUgwH7KLukrIyPAYO1jmquqIMBONM7AjIkfwOPsDGQJ9iDAEwgj94SlIMAiBuvIGLolwMYA0zRnBR/AGB3iiO2IIMCmz9lTZaAiwC/I8UHCcSPAwFrd3bqlIsCYUNQsl24kwMJ9IkSkTiLA",
          "dtype": "f8"
         },
         "xaxis": "x",
         "y": {
          "bdata": "urqbQ637GEAwu3k5NdMVQMZdHwiZASBAy10QyeK4GEACqWQZwvQbQFPV9MuWeyBAGwRtui/TIEDcKaoDyVgcQHT3yqhr1B9AWS06eAywGkCSS0TN3dcWQCsEzIhuWxtASEEXH8zVHEApywsVRLYgQAaE5h396R5ARhYJ8BZaIED1itd+Z1kfQMMQY+nwKB5Aq8B1D+lgIEBmVDvmT+YfQDC22eOHiR9A42h8BD5aJkA805Z4NwoeQM4K97wwwSBAkDi5pw3rIEAzmLhAR64aQBa8kLSz6B1A7YDSZyCfHUCXEkdi9IoZQICGxGg8KiBA",
          "dtype": "f8"
         },
         "yaxis": "y"
        },
        {
         "hovertemplate": "label=4<br>x=%{x}<br>y=%{y}<extra></extra>",
         "legendgroup": "4",
         "marker": {
          "color": "#f5b041",
          "opacity": 0.6,
          "size": 5,
          "symbol": "circle"
         },
         "mode": "markers",
         "name": "4",
         "orientation": "v",
         "showlegend": true,
         "type": "scatter",
         "x": {
          "bdata": "5an2itR7CUBQZWdK3QIAQAf/7lpYxQFA5og7Z9k8DUCTcBPGD58QQFoI4Q5OUApAD3t9VNXdDED3CqCZaa4GQGtMWlYgjgRAwBO8puOA87/Dl6/QICgGQA6/UB5UZgpADgrTltJQ/D/edOVxoobxP/s/PyoNYAdAK+upNLjf/D//RE6eSp8KQJyTJAlmtQtAsmPuaCRtAkBkYN+hH8gGQAxJiX7fBv0/xDcl8py6A0Dhk0Rn61D5P3WKBocnFgFAasmDSKHt/T9sFWcTFafwP6dGHSSgvABAu48+rtYIA0D8ou83xxfzPyscb8BN7fY/",
          "dtype": "f8"
         },
         "xaxis": "x",
         "y": {
          "bdata": "YfGbF86vEEBrOOs5eB0RQJdQdZtofQxAFpKMJrnZBUBKl7XnxqwBQITdKoFYoQtAxwAVTZtjB0Dd/tT6ECoTQAn9lu6PrA9A4uM097QYCUCLOaR1WBYTQM0nQlUdjwxACD9MXTFPB0ByAHxXX2gQQJI9Q0gA4BFAXtLVUHkKFUAC43WW1boQQIGCXdEBzgVAV6I9Ol1PDEBdsAg6XOYTQPR9qqP8WA1AhKnZOY2+E0AWFyFqNCsRQH9C5SNZSxNANmDoYcP/EkDilrc1hX4SQPK+etGHNQ5AVLdu7ZK/C0DBqojqZs8MQDuMF6ZRCxRA",
          "dtype": "f8"
         },
         "yaxis": "y"
        },
        {
         "hovertemplate": "label=5<br>x=%{x}<br>y=%{y}<extra></extra>",
         "legendgroup": "5",
         "marker": {
          "color": "#a569bd",
          "opacity": 0.6,
          "size": 5,
          "symbol": "circle"
         },
         "mode": "markers",
         "name": "5",
         "orientation": "v",
         "showlegend": true,
         "type": "scatter",
         "x": {
          "bdata": "fN3FefM2I8ADEr5iqiAjwA6WUDvLWSLAgr7BWartIcBX3bqd+4ciwGH0SEuiEibA1u4TbtzLIcD9JfO0B44iwOOCOTF8MyPANiLTIGcGI8CXe8a7eroiwMUkKhND3CDAlw62YTT7IsDHHkaN3tMkwBRBuhqSvR3Agv3i2T2HIsAiPDWwOkYgwCW+kLnKryLAHJf+zSTQJMDO6hEOMdIkwG5KibFLMCXAhQ97ibE2I8AdWnznDp0kwPpAuWTmZCPA2uBrMk8jIsDCXe4W9DkhwF3RNIeN+yLA2kk20hd2IcCmjB0LDtAhwJBhg+piHiTA",
          "dtype": "f8"
         },
         "xaxis": "x",
         "y": {
          "bdata": "Plw39JTKIEB14mgd2sojQPaqb/o/qyFAX+pF/JYNJEDGkCqrVSQhQAhPM8iC9h9ADrCRtnP+IUDXp3dfQr8lQIW10I57ACFABxACiytxIUD0Onf+UtIiQP85pEs1YSRAKd1hixhAIUB4kD3MUyciQJWe/bP+QiFAc4lXXz6JIkCBPlAHBrckQBDcTW1SyCFA+m0r3i37JkDjx5MNpUgjQOn1XVo2XiBAL2vwahU4IkDeGqyJl14iQPjTRaSNmSNAuHY9o6PcJUDFyLNglYAiQHuhjOeY/CNALggVBf15IkDa8tIyBS0iQGIjdLuvQiNA",
          "dtype": "f8"
         },
         "yaxis": "y"
        },
        {
         "hovertemplate": "label=6<br>x=%{x}<br>y=%{y}<extra></extra>",
         "legendgroup": "6",
         "marker": {
          "color": "#e74c3c",
          "opacity": 0.6,
          "size": 5,
          "symbol": "circle"
         },
         "mode": "markers",
         "name": "6",
         "orientation": "v",
         "showlegend": true,
         "type": "scatter",
         "x": {
          "bdata": "IhZ8x6hlHkCR5tfMEo8XQJgOT0lkrSFA+VFC7yy+E0Cqrjxha00gQJb4uY0GUB9AFT7IwMTcFUC85B16y50aQOQiJAx+dRRAnPFj23IAF0B0mBJajhkSQHGpxXyNhBlAH7WlqIFQFUAtWxn6V7wWQIlRNGp8mRlA+K7OyVBrIUBoVi0HZ2YgQOsUe9SMPBdAlWWvJmL2G0BxpnVxHnEdQE0PXH6uFR5APQwLBixQH0A85nzwIiMaQD1y3uiOyxhAeemSppsTG0DG6VOAQNQeQG68L5UuUxZAuIM4/7bsG0BLETdOSi0dQJ5BeTq7NxRA",
          "dtype": "f8"
         },
         "xaxis": "x",
         "y": {
          "bdata": "zg72WgtSGcA5QtSxSmkWwDMPshH+PhrAWAP2AO6YEcBrLXMFbLcWwNzgZ/UnvhbAdLrfAHgrH8AD8bbXL9MWwHJc6jX05hHARWw23ZELFcAcUD0Mqx0ZwIFwVSCIJBTAGnqBMcNfD8Cwvd0/x0QUwNWiLQdoIBPA4P8+6Kb7D8Cx8rAc2IwWwByWhLUSaRnARuKaMDEED8DgmS6z7YIbwEN9Q4SNRxbArHsFG7vjGMAge3RnxQ8SwFoDlyZ/hRTAI7U9eIL0FMCmff+GPgwewFAofXMXlRfAfwgux74BGsCmge740IkRwFqC5BYOaRnA",
          "dtype": "f8"
         },
         "yaxis": "y"
        },
        {
         "hovertemplate": "label=7<br>x=%{x}<br>y=%{y}<extra></extra>",
         "legendgroup": "7",
         "marker": {
          "color": "#2ecc71",
          "opacity": 0.6,
          "size": 5,
          "symbol": "circle"
         },
         "mode": "markers",
         "name": "7",
         "orientation": "v",
         "showlegend": true,
         "type": "scatter",
         "x": {
          "bdata": "rv7ruIXwEsCnxCWlbIIbwDAhYV4ArB7AY9lxNXWTG8CB9QdcvkAcwMckYVO6ehzAeGV5XjWTG8AcUuOjP+cZwOxxha2LXBPA/wWIZlH/FsCRnQNcKasbwItGAcPHgx/AIBEZEPHqF8DqFLXHOeEfwCbpPPzT/BfAnJDX4P8kGcAAMUWAPiIgwIgl1bdQChzAG4RBkdQlF8ASD2aHpNwgwPjqVZxYmBHAlqzy4dLhGcCePkOvm2UdwEPXA6vgjRrAMhWCGcffEsCpqRd3aLQZwBLP+n5jfBnADIOKdZe0EsAN6VNYNvcZwDwZQ8XmRgrA",
          "dtype": "f8"
         },
         "xaxis": "x",
         "y": {
          "bdata": "3wbkehnZHsA1OQOigpAdwEA70oUhphbAtEjTdYOhG8BW1BidwngYwBmYmHBDBB/A4A/lBMd/HMB23qAEJjYawBvN/iAILBfAZcPuDzBMFsBSVGiqgB4ewBmTgUYy3BPA+YE65Vp1GcDzWFtkh4MYwIYJlQJQFh3AF1AoptTFHMB0w8uowYwZwByPtXthpx3Ai7CIzScVGMD+v29yIq8ZwO5o6QjELxnADicMuvZ3HcDx/8Nku08XwI+kGn6FRCHAae2Id+NSGsAT77xVz4EVwDt94a9paBPAN3FHlxPNFcDOyExbWSYdwOocW1Fu2RTA",
          "dtype": "f8"
         },
         "yaxis": "y"
        },
        {
         "hovertemplate": "label=8<br>x=%{x}<br>y=%{y}<extra></extra>",
         "legendgroup": "8",
         "marker": {
          "color": "#3498db",
          "opacity": 0.6,
          "size": 5,
          "symbol": "circle"
         },
         "mode": "markers",
         "name": "8",
         "orientation": "v",
         "showlegend": true,
         "type": "scatter",
         "x": {
          "bdata": "wiA2nVlFB8CC8vbdZLQKwHRd/YZAQRXAuOS44jIVC8C8aADquCsWwPX8LfG6BxLAUu/ihyFaDMAdh+38W1ALwEHnrHdTPg3ArffUfmY2CsCGky2DvaIIwOwa3TnNnRDAa7MWl1coDcBS9hqN3e4OwIEa/UhCzxPAznAqgMApE8D9OJF5YEMSwCNtOd/moA7AI0xqH86GDsAy1ZwVbekHwGQRm0WlTxLA/g7RPLK2EsDcaaqSu/cRwDW1fzQVjBnAVelloS4aE8Bv6doBl1YWwHvcprye+gXAdBd/1dOeDMCORDW0kdkPwOSdl1qZRBLA",
          "dtype": "f8"
         },
         "xaxis": "x",
         "y": {
          "bdata": "OGVofG/utL8WTfftfbHSP0IzDAj47fA/zgFTQrb8/j9wnbtxAWLhP4YW0+9vm9e/8MKw6wXeu79663reE+DevyTtYdUiMNq/VSFJD4qp8r/0kcn8dk7kv6T9vuRVZdq/qjvbGRZ53D/4gIRkGX7Vv05Tv7mtgdM/QmIcOM1n7L8g5ZzhAWSAP0AIclqSudU/8KJggbrx8z8XPW47gjwDQMxWFBI4DfE/uHpvDcD09L8HEnIcIQL0P7bkA/QkUNO/JFKPloROvD9a4Ut1pp3wPwqAvS5P/Oc/uPwMMftPtT/WRQwLjejmv7JodjhiXOE/",
          "dtype": "f8"
         },
         "yaxis": "y"
        },
        {
         "hovertemplate": "label=9<br>x=%{x}<br>y=%{y}<extra></extra>",
         "legendgroup": "9",
         "marker": {
          "color": "#e67e22",
          "opacity": 0.6,
          "size": 5,
          "symbol": "circle"
         },
         "mode": "markers",
         "name": "9",
         "orientation": "v",
         "showlegend": true,
         "type": "scatter",
         "x": {
          "bdata": "ffmZDGFO57+M0Zv4RFPuv/xI+M8j3vK/oCIY4lkeCcBAVr306doJwEya8abj4vy/4OMFgSJ3xL/2XGXIeBj6v3oay5dAFAHAOLopneBU47+BOZ03myD9v4tcco+Qnea/moUPYwT84L+Na7y0xu7uv2hwGTqttwbAdwgIcJwxC8AMnA9Vn3v1v7J21Wy8WvE/hqs6cSUk8b+mm34FonTfv8rYUMi/W9+/fDy7ofwB8r8U9RasM7XUv75RL5ZMlP2/hOVGTlM67L/iKI7D7aH0v6X8XTujA+G/xBdsNPiL8L9ipTQFUEzxvw/PkzGVXPC/",
          "dtype": "f8"
         },
         "xaxis": "x",
         "y": {
          "bdata": "JNFJOsB5/r8qgJ+bk2MCwJhSXg7mag/AYnMHDVtvBcCS0Vi3kxsSwOYDjgKLYg7AlEx2E39VEsA+w9eZ4Z0UwKS39lMnrhXALfgTrOxjFMCwvfYq3hkUwEV038CL7BDAvTrMzUEgFMAqkAUft2ISwLQ4b5zYQAjArFHkV+i7FMCcBVEq6f0DwMxwBgJOLxDAT/WeZdXMAMAj3Bp46I4GwEIgoq15ARLAMjOWwoU8C8CgmOZN4r0SwDvJWRmRbhLAmi3QF+q7DsDYw2KZv5wSwKx0fWvUixnAjKhXdPyTEcASMCnEIDQVwMIW48zhXBLA",
          "dtype": "f8"
         },
         "yaxis": "y"
        },
        {
         "line": {
          "color": "green",
          "dash": "dash",
          "width": 0.5
         },
         "mode": "lines",
         "type": "scatter",
         "x": [
          -1.7707310430573397,
          -2.6248459054409907
         ],
         "y": [
          9.185654409388293,
          8.713182432609035
         ]
        },
        {
         "line": {
          "color": "green",
          "dash": "dash",
          "width": 0.5
         },
         "mode": "lines",
         "type": "scatter",
         "x": [
          -9.313273067796967,
          -8.152067566261497
         ],
         "y": [
          6.6701936829249915,
          5.7108070443090515
         ]
        },
        {
         "line": {
          "color": "green",
          "dash": "dash",
          "width": 0.5
         },
         "mode": "lines",
         "type": "scatter",
         "x": [
          2.4661196630104048,
          1.0953697632860933
         ],
         "y": [
          4.936085609350247,
          4.1019261998591094
         ]
        },
        {
         "line": {
          "color": "green",
          "dash": "dash",
          "width": 0.5
         },
         "mode": "lines",
         "type": "scatter",
         "x": [
          -6.629134340805393,
          -7.950519689212382
         ],
         "y": [
          -6.533661383778971,
          -6.397637178032761
         ]
        },
        {
         "line": {
          "color": "green",
          "dash": "dash",
          "width": 0.5
         },
         "mode": "lines",
         "type": "scatter",
         "x": [
          -7.125015307154141,
          -5.721031612143866
         ],
         "y": [
          -7.633845757633436,
          -7.7007919116276575
         ]
        },
        {
         "line": {
          "color": "green",
          "dash": "dash",
          "width": 0.5
         },
         "mode": "lines",
         "type": "scatter",
         "x": [
          1.8141779845069008,
          1.4329354779199643
         ],
         "y": [
          3.6684506212620764,
          5.011053652941935
         ]
        },
        {
         "line": {
          "color": "green",
          "dash": "dash",
          "width": 0.5
         },
         "mode": "lines",
         "type": "scatter",
         "x": [
          -2.9698363940125376,
          -2.6248459054409907
         ],
         "y": [
          10.071408354417239,
          8.713182432609035
         ]
        },
        {
         "line": {
          "color": "green",
          "dash": "dash",
          "width": 0.5
         },
         "mode": "lines",
         "type": "scatter",
         "x": [
          -3.9877196134201776,
          -3.837383671951181
         ],
         "y": [
          8.294441919803615,
          9.211147364067447
         ]
        },
        {
         "line": {
          "color": "green",
          "dash": "dash",
          "width": 0.5
         },
         "mode": "lines",
         "type": "scatter",
         "x": [
          -3.9877196134201776,
          -2.147561598005116
         ],
         "y": [
          8.294441919803615,
          8.369166373593199
         ]
        },
        {
         "line": {
          "color": "green",
          "dash": "dash",
          "width": 0.5
         },
         "mode": "lines",
         "type": "scatter",
         "x": [
          -9.364217632273535,
          -9.60682325007634
         ],
         "y": [
          9.410789444021681,
          9.109538404319748
         ]
        },
        {
         "line": {
          "color": "green",
          "dash": "dash",
          "width": 0.5
         },
         "mode": "lines",
         "type": "scatter",
         "x": [
          -0.49149370705202455,
          -0.3235596828997853
         ],
         "y": [
          -2.8197793372342104,
          -4.685433594893908
         ]
        },
        {
         "line": {
          "color": "green",
          "dash": "dash",
          "width": 0.5
         },
         "mode": "lines",
         "type": "scatter",
         "x": [
          3.720454601994298,
          4.447517871446979
         ],
         "y": [
          3.523104088958272,
          2.2747170262743444
         ]
        },
        {
         "line": {
          "color": "green",
          "dash": "dash",
          "width": 0.5
         },
         "mode": "lines",
         "type": "scatter",
         "x": [
          3.720454601994298,
          6.117772880969618
         ],
         "y": [
          3.523104088958272,
          1.4548994656670846
         ]
        },
        {
         "line": {
          "color": "green",
          "dash": "dash",
          "width": 0.5
         },
         "mode": "lines",
         "type": "scatter",
         "x": [
          -6.665533447021066,
          -5.916251061906948
         ],
         "y": [
          -8.125848371987935,
          -6.467328666339449
         ]
        },
        {
         "line": {
          "color": "green",
          "dash": "dash",
          "width": 0.5
         },
         "mode": "lines",
         "type": "scatter",
         "x": [
          -9.722185192837143,
          -8.323280070329963
         ],
         "y": [
          7.477248021444231,
          11.176254406153424
         ]
        },
        {
         "line": {
          "color": "green",
          "dash": "dash",
          "width": 0.5
         },
         "mode": "lines",
         "type": "scatter",
         "x": [
          -1.0435488541311961,
          -3.6601912004750528
         ],
         "y": [
          8.788509827711788,
          9.389984146543995
         ]
        },
        {
         "line": {
          "color": "green",
          "dash": "dash",
          "width": 0.5
         },
         "mode": "lines",
         "type": "scatter",
         "x": [
          5.782701650743122,
          4.247770683095943
         ],
         "y": [
          2.7251027166275064,
          0.5096547358086134
         ]
        },
        {
         "line": {
          "color": "green",
          "dash": "dash",
          "width": 0.5
         },
         "mode": "lines",
         "type": "scatter",
         "x": [
          -3.28461984740275,
          -4.398775522941598
         ],
         "y": [
          -5.212334891496747,
          -6.296646250959595
         ]
        },
        {
         "line": {
          "color": "green",
          "dash": "dash",
          "width": 0.5
         },
         "mode": "lines",
         "type": "scatter",
         "x": [
          3.224508094177687,
          6.117772880969618
         ],
         "y": [
          1.552524361175373,
          1.4548994656670846
         ]
        },
        {
         "line": {
          "color": "green",
          "dash": "dash",
          "width": 0.5
         },
         "mode": "lines",
         "type": "scatter",
         "x": [
          -0.9476647239339839,
          -1.805392887233796
         ],
         "y": [
          -2.2986213834810956,
          -3.7981167029943093
         ]
        },
        {
         "line": {
          "color": "green",
          "dash": "dash",
          "width": 0.5
         },
         "mode": "lines",
         "type": "scatter",
         "x": [
          5.809130973827659,
          6.534312970755817
         ],
         "y": [
          -6.3526104318784995,
          -4.515401474461015
         ]
        },
        {
         "line": {
          "color": "green",
          "dash": "dash",
          "width": 0.5
         },
         "mode": "lines",
         "type": "scatter",
         "x": [
          -9.60732632198664,
          -8.906357142788988
         ],
         "y": [
          8.395667678602077,
          9.08793028664643
         ]
        },
        {
         "line": {
          "color": "green",
          "dash": "dash",
          "width": 0.5
         },
         "mode": "lines",
         "type": "scatter",
         "x": [
          -1.805392887233796,
          -1.034172253393522
         ],
         "y": [
          -3.7981167029943093,
          -4.394517724848026
         ]
        },
        {
         "line": {
          "color": "green",
          "dash": "dash",
          "width": 0.5
         },
         "mode": "lines",
         "type": "scatter",
         "x": [
          -9.697070262540809,
          -8.898166122372839
         ],
         "y": [
          9.799908765338827,
          8.99697657135405
         ]
        },
        {
         "line": {
          "color": "green",
          "dash": "dash",
          "width": 0.5
         },
         "mode": "lines",
         "type": "scatter",
         "x": [
          -3.6446983150294066,
          -5.542697578692408
         ],
         "y": [
          0.44489052319561984,
          0.5432135793061388
         ]
        },
        {
         "line": {
          "color": "green",
          "dash": "dash",
          "width": 0.5
         },
         "mode": "lines",
         "type": "scatter",
         "x": [
          -7.559651912729761,
          -6.253959843386264
         ],
         "y": [
          -6.647855896114943,
          -7.737267149692229
         ]
        },
        {
         "line": {
          "color": "green",
          "dash": "dash",
          "width": 0.5
         },
         "mode": "lines",
         "type": "scatter",
         "x": [
          3.937825742350749,
          3.5775751225019965
         ],
         "y": [
          1.6455075373429637,
          2.4467621145759137
         ]
        },
        {
         "line": {
          "color": "green",
          "dash": "dash",
          "width": 0.5
         },
         "mode": "lines",
         "type": "scatter",
         "x": [
          3.937825742350749,
          5.226735930028371
         ],
         "y": [
          1.6455075373429637,
          4.16362530975071
         ]
        },
        {
         "line": {
          "color": "green",
          "dash": "dash",
          "width": 0.5
         },
         "mode": "lines",
         "type": "scatter",
         "x": [
          -3.3380830136287054,
          -5.313722714628387
         ],
         "y": [
          0.2920832466017641,
          1.0580978693353278
         ]
        },
        {
         "line": {
          "color": "green",
          "dash": "dash",
          "width": 0.5
         },
         "mode": "lines",
         "type": "scatter",
         "x": [
          -0.706733970803627,
          -1.034172253393522
         ],
         "y": [
          -4.231001866949616,
          -4.394517724848026
         ]
        },
        {
         "line": {
          "color": "green",
          "dash": "dash",
          "width": 0.5
         },
         "mode": "lines",
         "type": "scatter",
         "x": [
          4.478593124562092,
          4.726925904466273
         ],
         "y": [
          2.3772205407552702,
          1.674162333474864
         ]
        },
        {
         "line": {
          "color": "green",
          "dash": "dash",
          "width": 0.5
         },
         "mode": "lines",
         "type": "scatter",
         "x": [
          -3.8158228353800197,
          -3.981234939456562
         ],
         "y": [
          1.2465157560165459,
          -0.7158875671176996
         ]
        },
        {
         "line": {
          "color": "green",
          "dash": "dash",
          "width": 0.5
         },
         "mode": "lines",
         "type": "scatter",
         "x": [
          -3.837383671951181,
          -3.186119623358709
         ],
         "y": [
          9.211147364067447,
          9.625962417039192
         ]
        },
        {
         "line": {
          "color": "green",
          "dash": "dash",
          "width": 0.5
         },
         "mode": "lines",
         "type": "scatter",
         "x": [
          1.0846523524591416,
          -1.0226032196632706
         ],
         "y": [
          -4.046196014063934,
          -4.590705109939963
         ]
        },
        {
         "line": {
          "color": "green",
          "dash": "dash",
          "width": 0.5
         },
         "mode": "lines",
         "type": "scatter",
         "x": [
          -3.5775524787340434,
          -3.414237953184865
         ],
         "y": [
          0.08325166652228944,
          -0.48242661215379423
         ]
        },
        {
         "line": {
          "color": "green",
          "dash": "dash",
          "width": 0.5
         },
         "mode": "lines",
         "type": "scatter",
         "x": [
          -10.410530509650382,
          -9.600556886930866
         ],
         "y": [
          9.641884254731798,
          8.500942671754055
         ]
        },
        {
         "line": {
          "color": "green",
          "dash": "dash",
          "width": 0.5
         },
         "mode": "lines",
         "type": "scatter",
         "x": [
          -2.6248459054409907,
          -2.185113653657955
         ],
         "y": [
          8.713182432609035,
          8.629203847782007
         ]
        },
        {
         "line": {
          "color": "green",
          "dash": "dash",
          "width": 0.5
         },
         "mode": "lines",
         "type": "scatter",
         "x": [
          -2.747373079149438,
          -4.775568506093198
         ],
         "y": [
          0.74954947594597,
          0.11057308841493146
         ]
        },
        {
         "line": {
          "color": "green",
          "dash": "dash",
          "width": 0.5
         },
         "mode": "lines",
         "type": "scatter",
         "x": [
          -2.747373079149438,
          -4.566991248611405
         ],
         "y": [
          0.74954947594597,
          0.5425273039611709
         ]
        },
        {
         "line": {
          "color": "green",
          "dash": "dash",
          "width": 0.5
         },
         "mode": "lines",
         "type": "scatter",
         "x": [
          -9.568694388353148,
          -8.32329248942735
         ],
         "y": [
          7.539981505080678,
          7.837308866410912
         ]
        },
        {
         "line": {
          "color": "green",
          "dash": "dash",
          "width": 0.5
         },
         "mode": "lines",
         "type": "scatter",
         "x": [
          -7.884325993142808,
          -10.357697722590023
         ],
         "y": [
          7.974914166804501,
          6.839288842632452
         ]
        },
        {
         "line": {
          "color": "green",
          "dash": "dash",
          "width": 0.5
         },
         "mode": "lines",
         "type": "scatter",
         "x": [
          -7.884325993142808,
          -8.480540396287727
         ],
         "y": [
          7.974914166804501,
          7.884307441866937
         ]
        },
        {
         "line": {
          "color": "green",
          "dash": "dash",
          "width": 0.5
         },
         "mode": "lines",
         "type": "scatter",
         "x": [
          4.110118632461063,
          3.8313852333349137
         ],
         "y": [
          2.486437117054088,
          1.4714126403561956
         ]
        },
        {
         "line": {
          "color": "green",
          "dash": "dash",
          "width": 0.5
         },
         "mode": "lines",
         "type": "scatter",
         "x": [
          -3.8666335128644187,
          -4.566991248611405
         ],
         "y": [
          -0.33582148376628096,
          0.5425273039611709
         ]
        },
        {
         "line": {
          "color": "green",
          "dash": "dash",
          "width": 0.5
         },
         "mode": "lines",
         "type": "scatter",
         "x": [
          -5.749333955814563,
          -6.893758274230429
         ],
         "y": [
          -5.574402092884019,
          -7.124782635193668
         ]
        },
        {
         "line": {
          "color": "green",
          "dash": "dash",
          "width": 0.5
         },
         "mode": "lines",
         "type": "scatter",
         "x": [
          -8.6131903806662,
          -10.406530797317423
         ],
         "y": [
          9.251139661737747,
          11.490584318925347
         ]
        },
        {
         "line": {
          "color": "green",
          "dash": "dash",
          "width": 0.5
         },
         "mode": "lines",
         "type": "scatter",
         "x": [
          -10.357697722590023,
          -8.333340477655554
         ],
         "y": [
          6.839288842632452,
          8.189278109668825
         ]
        },
        {
         "line": {
          "color": "green",
          "dash": "dash",
          "width": 0.5
         },
         "mode": "lines",
         "type": "scatter",
         "x": [
          -5.996902409761139,
          -6.371473297174605
         ],
         "y": [
          -7.271789589258679,
          -4.851965664041297
         ]
        },
        {
         "line": {
          "color": "green",
          "dash": "dash",
          "width": 0.5
         },
         "mode": "lines",
         "type": "scatter",
         "x": [
          -9.563799939825008,
          -9.175378659808327
         ],
         "y": [
          9.896195334485336,
          8.83447249043591
         ]
        },
        {
         "line": {
          "color": "green",
          "dash": "dash",
          "width": 0.5
         },
         "mode": "lines",
         "type": "scatter",
         "x": [
          8.709600740890423,
          5.328619608987792
         ],
         "y": [
          -3.9978769439912725,
          -3.921759020580123
         ]
        },
        {
         "line": {
          "color": "green",
          "dash": "dash",
          "width": 0.5
         },
         "mode": "lines",
         "type": "scatter",
         "x": [
          2.769593839987438,
          2.303292102599209
         ],
         "y": [
          4.771821821354375,
          3.5387520361003157
         ]
        },
        {
         "line": {
          "color": "green",
          "dash": "dash",
          "width": 0.5
         },
         "mode": "lines",
         "type": "scatter",
         "x": [
          -0.4899749237259924,
          -0.7283177610513999
         ],
         "y": [
          -4.501440728207003,
          -1.9047243382347654
         ]
        }
       ],
       "layout": {
        "legend": {
         "title": {
          "text": "label"
         },
         "tracegroupgap": 0
        },
        "template": {
         "data": {
          "bar": [
           {
            "error_x": {
             "color": "#2a3f5f"
            },
            "error_y": {
             "color": "#2a3f5f"
            },
            "marker": {
             "line": {
              "color": "#E5ECF6",
              "width": 0.5
             },
             "pattern": {
              "fillmode": "overlay",
              "size": 10,
              "solidity": 0.2
             }
            },
            "type": "bar"
           }
          ],
          "barpolar": [
           {
            "marker": {
             "line": {
              "color": "#E5ECF6",
              "width": 0.5
             },
             "pattern": {
              "fillmode": "overlay",
              "size": 10,
              "solidity": 0.2
             }
            },
            "type": "barpolar"
           }
          ],
          "carpet": [
           {
            "aaxis": {
             "endlinecolor": "#2a3f5f",
             "gridcolor": "white",
             "linecolor": "white",
             "minorgridcolor": "white",
             "startlinecolor": "#2a3f5f"
            },
            "baxis": {
             "endlinecolor": "#2a3f5f",
             "gridcolor": "white",
             "linecolor": "white",
             "minorgridcolor": "white",
             "startlinecolor": "#2a3f5f"
            },
            "type": "carpet"
           }
          ],
          "choropleth": [
           {
            "colorbar": {
             "outlinewidth": 0,
             "ticks": ""
            },
            "type": "choropleth"
           }
          ],
          "contour": [
           {
            "colorbar": {
             "outlinewidth": 0,
             "ticks": ""
            },
            "colorscale": [
             [
              0,
              "#0d0887"
             ],
             [
              0.1111111111111111,
              "#46039f"
             ],
             [
              0.2222222222222222,
              "#7201a8"
             ],
             [
              0.3333333333333333,
              "#9c179e"
             ],
             [
              0.4444444444444444,
              "#bd3786"
             ],
             [
              0.5555555555555556,
              "#d8576b"
             ],
             [
              0.6666666666666666,
              "#ed7953"
             ],
             [
              0.7777777777777778,
              "#fb9f3a"
             ],
             [
              0.8888888888888888,
              "#fdca26"
             ],
             [
              1,
              "#f0f921"
             ]
            ],
            "type": "contour"
           }
          ],
          "contourcarpet": [
           {
            "colorbar": {
             "outlinewidth": 0,
             "ticks": ""
            },
            "type": "contourcarpet"
           }
          ],
          "heatmap": [
           {
            "colorbar": {
             "outlinewidth": 0,
             "ticks": ""
            },
            "colorscale": [
             [
              0,
              "#0d0887"
             ],
             [
              0.1111111111111111,
              "#46039f"
             ],
             [
              0.2222222222222222,
              "#7201a8"
             ],
             [
              0.3333333333333333,
              "#9c179e"
             ],
             [
              0.4444444444444444,
              "#bd3786"
             ],
             [
              0.5555555555555556,
              "#d8576b"
             ],
             [
              0.6666666666666666,
              "#ed7953"
             ],
             [
              0.7777777777777778,
              "#fb9f3a"
             ],
             [
              0.8888888888888888,
              "#fdca26"
             ],
             [
              1,
              "#f0f921"
             ]
            ],
            "type": "heatmap"
           }
          ],
          "histogram": [
           {
            "marker": {
             "pattern": {
              "fillmode": "overlay",
              "size": 10,
              "solidity": 0.2
             }
            },
            "type": "histogram"
           }
          ],
          "histogram2d": [
           {
            "colorbar": {
             "outlinewidth": 0,
             "ticks": ""
            },
            "colorscale": [
             [
              0,
              "#0d0887"
             ],
             [
              0.1111111111111111,
              "#46039f"
             ],
             [
              0.2222222222222222,
              "#7201a8"
             ],
             [
              0.3333333333333333,
              "#9c179e"
             ],
             [
              0.4444444444444444,
              "#bd3786"
             ],
             [
              0.5555555555555556,
              "#d8576b"
             ],
             [
              0.6666666666666666,
              "#ed7953"
             ],
             [
              0.7777777777777778,
              "#fb9f3a"
             ],
             [
              0.8888888888888888,
              "#fdca26"
             ],
             [
              1,
              "#f0f921"
             ]
            ],
            "type": "histogram2d"
           }
          ],
          "histogram2dcontour": [
           {
            "colorbar": {
             "outlinewidth": 0,
             "ticks": ""
            },
            "colorscale": [
             [
              0,
              "#0d0887"
             ],
             [
              0.1111111111111111,
              "#46039f"
             ],
             [
              0.2222222222222222,
              "#7201a8"
             ],
             [
              0.3333333333333333,
              "#9c179e"
             ],
             [
              0.4444444444444444,
              "#bd3786"
             ],
             [
              0.5555555555555556,
              "#d8576b"
             ],
             [
              0.6666666666666666,
              "#ed7953"
             ],
             [
              0.7777777777777778,
              "#fb9f3a"
             ],
             [
              0.8888888888888888,
              "#fdca26"
             ],
             [
              1,
              "#f0f921"
             ]
            ],
            "type": "histogram2dcontour"
           }
          ],
          "mesh3d": [
           {
            "colorbar": {
             "outlinewidth": 0,
             "ticks": ""
            },
            "type": "mesh3d"
           }
          ],
          "parcoords": [
           {
            "line": {
             "colorbar": {
              "outlinewidth": 0,
              "ticks": ""
             }
            },
            "type": "parcoords"
           }
          ],
          "pie": [
           {
            "automargin": true,
            "type": "pie"
           }
          ],
          "scatter": [
           {
            "fillpattern": {
             "fillmode": "overlay",
             "size": 10,
             "solidity": 0.2
            },
            "type": "scatter"
           }
          ],
          "scatter3d": [
           {
            "line": {
             "colorbar": {
              "outlinewidth": 0,
              "ticks": ""
             }
            },
            "marker": {
             "colorbar": {
              "outlinewidth": 0,
              "ticks": ""
             }
            },
            "type": "scatter3d"
           }
          ],
          "scattercarpet": [
           {
            "marker": {
             "colorbar": {
              "outlinewidth": 0,
              "ticks": ""
             }
            },
            "type": "scattercarpet"
           }
          ],
          "scattergeo": [
           {
            "marker": {
             "colorbar": {
              "outlinewidth": 0,
              "ticks": ""
             }
            },
            "type": "scattergeo"
           }
          ],
          "scattergl": [
           {
            "marker": {
             "colorbar": {
              "outlinewidth": 0,
              "ticks": ""
             }
            },
            "type": "scattergl"
           }
          ],
          "scattermap": [
           {
            "marker": {
             "colorbar": {
              "outlinewidth": 0,
              "ticks": ""
             }
            },
            "type": "scattermap"
           }
          ],
          "scattermapbox": [
           {
            "marker": {
             "colorbar": {
              "outlinewidth": 0,
              "ticks": ""
             }
            },
            "type": "scattermapbox"
           }
          ],
          "scatterpolar": [
           {
            "marker": {
             "colorbar": {
              "outlinewidth": 0,
              "ticks": ""
             }
            },
            "type": "scatterpolar"
           }
          ],
          "scatterpolargl": [
           {
            "marker": {
             "colorbar": {
              "outlinewidth": 0,
              "ticks": ""
             }
            },
            "type": "scatterpolargl"
           }
          ],
          "scatterternary": [
           {
            "marker": {
             "colorbar": {
              "outlinewidth": 0,
              "ticks": ""
             }
            },
            "type": "scatterternary"
           }
          ],
          "surface": [
           {
            "colorbar": {
             "outlinewidth": 0,
             "ticks": ""
            },
            "colorscale": [
             [
              0,
              "#0d0887"
             ],
             [
              0.1111111111111111,
              "#46039f"
             ],
             [
              0.2222222222222222,
              "#7201a8"
             ],
             [
              0.3333333333333333,
              "#9c179e"
             ],
             [
              0.4444444444444444,
              "#bd3786"
             ],
             [
              0.5555555555555556,
              "#d8576b"
             ],
             [
              0.6666666666666666,
              "#ed7953"
             ],
             [
              0.7777777777777778,
              "#fb9f3a"
             ],
             [
              0.8888888888888888,
              "#fdca26"
             ],
             [
              1,
              "#f0f921"
             ]
            ],
            "type": "surface"
           }
          ],
          "table": [
           {
            "cells": {
             "fill": {
              "color": "#EBF0F8"
             },
             "line": {
              "color": "white"
             }
            },
            "header": {
             "fill": {
              "color": "#C8D4E3"
             },
             "line": {
              "color": "white"
             }
            },
            "type": "table"
           }
          ]
         },
         "layout": {
          "annotationdefaults": {
           "arrowcolor": "#2a3f5f",
           "arrowhead": 0,
           "arrowwidth": 1
          },
          "autotypenumbers": "strict",
          "coloraxis": {
           "colorbar": {
            "outlinewidth": 0,
            "ticks": ""
           }
          },
          "colorscale": {
           "diverging": [
            [
             0,
             "#8e0152"
            ],
            [
             0.1,
             "#c51b7d"
            ],
            [
             0.2,
             "#de77ae"
            ],
            [
             0.3,
             "#f1b6da"
            ],
            [
             0.4,
             "#fde0ef"
            ],
            [
             0.5,
             "#f7f7f7"
            ],
            [
             0.6,
             "#e6f5d0"
            ],
            [
             0.7,
             "#b8e186"
            ],
            [
             0.8,
             "#7fbc41"
            ],
            [
             0.9,
             "#4d9221"
            ],
            [
             1,
             "#276419"
            ]
           ],
           "sequential": [
            [
             0,
             "#0d0887"
            ],
            [
             0.1111111111111111,
             "#46039f"
            ],
            [
             0.2222222222222222,
             "#7201a8"
            ],
            [
             0.3333333333333333,
             "#9c179e"
            ],
            [
             0.4444444444444444,
             "#bd3786"
            ],
            [
             0.5555555555555556,
             "#d8576b"
            ],
            [
             0.6666666666666666,
             "#ed7953"
            ],
            [
             0.7777777777777778,
             "#fb9f3a"
            ],
            [
             0.8888888888888888,
             "#fdca26"
            ],
            [
             1,
             "#f0f921"
            ]
           ],
           "sequentialminus": [
            [
             0,
             "#0d0887"
            ],
            [
             0.1111111111111111,
             "#46039f"
            ],
            [
             0.2222222222222222,
             "#7201a8"
            ],
            [
             0.3333333333333333,
             "#9c179e"
            ],
            [
             0.4444444444444444,
             "#bd3786"
            ],
            [
             0.5555555555555556,
             "#d8576b"
            ],
            [
             0.6666666666666666,
             "#ed7953"
            ],
            [
             0.7777777777777778,
             "#fb9f3a"
            ],
            [
             0.8888888888888888,
             "#fdca26"
            ],
            [
             1,
             "#f0f921"
            ]
           ]
          },
          "colorway": [
           "#636efa",
           "#EF553B",
           "#00cc96",
           "#ab63fa",
           "#FFA15A",
           "#19d3f3",
           "#FF6692",
           "#B6E880",
           "#FF97FF",
           "#FECB52"
          ],
          "font": {
           "color": "#2a3f5f"
          },
          "geo": {
           "bgcolor": "white",
           "lakecolor": "white",
           "landcolor": "#E5ECF6",
           "showlakes": true,
           "showland": true,
           "subunitcolor": "white"
          },
          "hoverlabel": {
           "align": "left"
          },
          "hovermode": "closest",
          "mapbox": {
           "style": "light"
          },
          "paper_bgcolor": "white",
          "plot_bgcolor": "#E5ECF6",
          "polar": {
           "angularaxis": {
            "gridcolor": "white",
            "linecolor": "white",
            "ticks": ""
           },
           "bgcolor": "#E5ECF6",
           "radialaxis": {
            "gridcolor": "white",
            "linecolor": "white",
            "ticks": ""
           }
          },
          "scene": {
           "xaxis": {
            "backgroundcolor": "#E5ECF6",
            "gridcolor": "white",
            "gridwidth": 2,
            "linecolor": "white",
            "showbackground": true,
            "ticks": "",
            "zerolinecolor": "white"
           },
           "yaxis": {
            "backgroundcolor": "#E5ECF6",
            "gridcolor": "white",
            "gridwidth": 2,
            "linecolor": "white",
            "showbackground": true,
            "ticks": "",
            "zerolinecolor": "white"
           },
           "zaxis": {
            "backgroundcolor": "#E5ECF6",
            "gridcolor": "white",
            "gridwidth": 2,
            "linecolor": "white",
            "showbackground": true,
            "ticks": "",
            "zerolinecolor": "white"
           }
          },
          "shapedefaults": {
           "line": {
            "color": "#2a3f5f"
           }
          },
          "ternary": {
           "aaxis": {
            "gridcolor": "white",
            "linecolor": "white",
            "ticks": ""
           },
           "baxis": {
            "gridcolor": "white",
            "linecolor": "white",
            "ticks": ""
           },
           "bgcolor": "#E5ECF6",
           "caxis": {
            "gridcolor": "white",
            "linecolor": "white",
            "ticks": ""
           }
          },
          "title": {
           "x": 0.05
          },
          "xaxis": {
           "automargin": true,
           "gridcolor": "white",
           "linecolor": "white",
           "ticks": "",
           "title": {
            "standoff": 15
           },
           "zerolinecolor": "white",
           "zerolinewidth": 2
          },
          "yaxis": {
           "automargin": true,
           "gridcolor": "white",
           "linecolor": "white",
           "ticks": "",
           "title": {
            "standoff": 15
           },
           "zerolinecolor": "white",
           "zerolinewidth": 2
          }
         }
        },
        "title": {
         "text": "Original Data"
        },
        "xaxis": {
         "anchor": "y",
         "domain": [
          0,
          1
         ],
         "title": {
          "text": "x"
         }
        },
        "yaxis": {
         "anchor": "x",
         "domain": [
          0,
          1
         ],
         "title": {
          "text": "y"
         }
        }
       }
      }
     },
     "metadata": {},
     "output_type": "display_data"
    }
   ],
   "source": [
    "df = pd.DataFrame(X, columns=['x', 'y'])\n",
    "df['label'] = y\n",
    "fig = plot_dataframe(df, title='Original Data', x='x', y='y', label='label')\n",
    "fig = draw_ml_constraints(fig, constraints, X)\n",
    "fig.show()"
   ]
  }
 ],
 "metadata": {
  "kernelspec": {
   "display_name": "clustlib-5JQ_NFw--py3.13",
   "language": "python",
   "name": "python3"
  },
  "language_info": {
   "codemirror_mode": {
    "name": "ipython",
    "version": 3
   },
   "file_extension": ".py",
   "mimetype": "text/x-python",
   "name": "python",
   "nbconvert_exporter": "python",
   "pygments_lexer": "ipython3",
   "version": "3.13.2"
  }
 },
 "nbformat": 4,
 "nbformat_minor": 5
}
