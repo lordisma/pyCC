{
 "cells": [
  {
   "cell_type": "code",
   "execution_count": 1,
   "id": "b3494bec",
   "metadata": {},
   "outputs": [],
   "source": [
    "import numpy as np\n",
    "import math as m\n",
    "import scipy as sc\n",
    "import pandas as pd\n",
    "from sklearn.datasets import make_blobs\n",
    "import plotly.express as px\n",
    "\n",
    "import logging\n",
    "import sys\n",
    "\n",
    "logging.basicConfig(\n",
    "    level=logging.DEBUG,\n",
    "    format='%(asctime)s - %(levelname)s - %(message)s',\n",
    "    handlers=[\n",
    "        logging.StreamHandler(sys.stdout)\n",
    "    ]\n",
    ")\n",
    "\n",
    "COLORS = [\n",
    "    \"#f7dc6f\",\n",
    "    \"#82e0aa\",\n",
    "    \"#f1948a\",\n",
    "    \"#499cef\",\n",
    "    \"#f5b041\",\n",
    "    \"#a569bd\",\n",
    "    \"#e74c3c\",\n",
    "    \"#2ecc71\",\n",
    "    \"#3498db\",\n",
    "    \"#e67e22\",\n",
    "    \"#9b59b6\",\n",
    "    \"#1abc9c\",\n",
    "    \"#34495e\",\n",
    "    \"#d35400\",\n",
    "    \"#c0392b\",\n",
    "    \"#16a085\",\n",
    "    \"#2980b9\",\n",
    "    \"#8e44ad\",\n",
    "]\n",
    "\n",
    "def twospirals(n_points, noise=.5):\n",
    "    n = np.sqrt(np.random.rand(n_points,1)) * 780 * (2*np.pi)/360\n",
    "    d1x = -np.cos(n)*n + np.random.rand(n_points,1) * noise\n",
    "    d1y = np.sin(n)*n + np.random.rand(n_points,1) * noise\n",
    "    return (np.vstack((np.hstack((d1x,d1y)),np.hstack((-d1x,-d1y)))), np.hstack((np.zeros(n_points, dtype=int),np.ones(n_points, dtype=int))))\n",
    "\n",
    "def plot_dataframe(df, title='', x='x', y='y', label='label'):\n",
    "    df[label] = df[label].astype(str)\n",
    "    fig = px.scatter(\n",
    "        df, \n",
    "        x=x, \n",
    "        y=y, \n",
    "        symbol=label,\n",
    "        color=label,\n",
    "        color_discrete_sequence= COLORS, \n",
    "        title=title\n",
    "    )\n",
    "    fig.update_traces(marker=dict(size=5, symbol='circle'))\n",
    "\n",
    "    return fig\n",
    "\n",
    "def plot_centroid(fig, centroid, colors = ['#a569bd'], marker_size=10, symbol = 'star', name = 'Centroid'):\n",
    "    fig.add_scatter(\n",
    "        x=[centroid[0]], \n",
    "        y=[centroid[1]], \n",
    "        mode='markers',\n",
    "        marker=dict(\n",
    "            size = marker_size,\n",
    "            color = colors,\n",
    "            symbol = symbol,\n",
    "        ), \n",
    "        name=name\n",
    "    )\n",
    "    return fig\n",
    "\n",
    "def create_constraints(labels, probability=0.01, seed=0):\n",
    "    n_points = len(labels)\n",
    "    constraints = np.zeros((n_points, n_points), dtype=int)\n",
    "    state = np.random.RandomState(seed=seed)\n",
    "    for i in range(n_points):\n",
    "        for j in range(i +1, n_points):\n",
    "            if state.rand() < probability:\n",
    "                if labels[i] == labels[j]:\n",
    "                    constraints[i, j] = 1\n",
    "                    constraints[j, i] = 1\n",
    "                elif labels[i] != labels[j]:\n",
    "                    constraints[i, j] = -1\n",
    "                    constraints[j, i] = -1\n",
    "    return constraints"
   ]
  },
  {
   "cell_type": "code",
   "execution_count": 2,
   "id": "1ee6b482",
   "metadata": {},
   "outputs": [],
   "source": [
    "X, y = make_blobs(n_samples=300, centers=10, cluster_std=1.0, random_state=42)\n",
    "constraints = create_constraints(y, probability=0.01, seed=42)"
   ]
  },
  {
   "cell_type": "code",
   "execution_count": 3,
   "id": "a66b4c2d",
   "metadata": {},
   "outputs": [
    {
     "name": "stdout",
     "output_type": "stream",
     "text": [
      "2025-06-11 11:26:27,772 - DEBUG - Initializing parameters for TVClust, n_clusters=10, p=2\n",
      "2025-06-11 11:26:27,772 - DEBUG - Covariance inverse: (10, 2, 2)\n",
      "2025-06-11 11:26:27,772 - DEBUG - Iteration 1/100\n",
      "2025-06-11 11:26:27,773 - DEBUG - Updating responsibilities\n",
      "2025-06-11 11:26:27,773 - DEBUG - Calculating the determinant of the covariance\n",
      "2025-06-11 11:26:27,781 - DEBUG - Updating gamma\n",
      "2025-06-11 11:26:27,781 - DEBUG - Updating beta\n",
      "2025-06-11 11:26:27,781 - DEBUG - Updating mu\n",
      "2025-06-11 11:26:27,782 - DEBUG - Updating W\n",
      "2025-06-11 11:26:27,783 - DEBUG - Updating nu\n",
      "2025-06-11 11:26:27,783 - DEBUG - Updating prior\n",
      "2025-06-11 11:26:27,788 - DEBUG - Calculating the determinant of the covariance\n",
      "2025-06-11 11:26:27,789 - DEBUG - Delta: -484.502999659641\n",
      "2025-06-11 11:26:27,790 - DEBUG - Iteration 2/100\n",
      "2025-06-11 11:26:27,790 - DEBUG - Updating responsibilities\n",
      "2025-06-11 11:26:27,791 - DEBUG - Calculating the determinant of the covariance\n",
      "2025-06-11 11:26:27,793 - DEBUG - Updating gamma\n",
      "2025-06-11 11:26:27,794 - DEBUG - Updating beta\n",
      "2025-06-11 11:26:27,794 - DEBUG - Updating mu\n",
      "2025-06-11 11:26:27,794 - DEBUG - Updating W\n",
      "2025-06-11 11:26:27,796 - DEBUG - Updating nu\n",
      "2025-06-11 11:26:27,796 - DEBUG - Updating prior\n",
      "2025-06-11 11:26:27,800 - DEBUG - Calculating the determinant of the covariance\n",
      "2025-06-11 11:26:27,801 - DEBUG - Delta: 0.40306447706401927\n",
      "2025-06-11 11:26:27,801 - DEBUG - Iteration 3/100\n",
      "2025-06-11 11:26:27,802 - DEBUG - Updating responsibilities\n",
      "2025-06-11 11:26:27,802 - DEBUG - Calculating the determinant of the covariance\n",
      "2025-06-11 11:26:27,804 - DEBUG - Updating gamma\n",
      "2025-06-11 11:26:27,805 - DEBUG - Updating beta\n",
      "2025-06-11 11:26:27,805 - DEBUG - Updating mu\n",
      "2025-06-11 11:26:27,805 - DEBUG - Updating W\n",
      "2025-06-11 11:26:27,806 - DEBUG - Updating nu\n",
      "2025-06-11 11:26:27,807 - DEBUG - Updating prior\n",
      "2025-06-11 11:26:27,810 - DEBUG - Calculating the determinant of the covariance\n",
      "2025-06-11 11:26:27,811 - DEBUG - Delta: -687.8547073285306\n",
      "2025-06-11 11:26:27,812 - DEBUG - Iteration 4/100\n",
      "2025-06-11 11:26:27,812 - DEBUG - Updating responsibilities\n",
      "2025-06-11 11:26:27,812 - DEBUG - Calculating the determinant of the covariance\n",
      "2025-06-11 11:26:27,815 - DEBUG - Updating gamma\n",
      "2025-06-11 11:26:27,815 - DEBUG - Updating beta\n",
      "2025-06-11 11:26:27,815 - DEBUG - Updating mu\n",
      "2025-06-11 11:26:27,815 - DEBUG - Updating W\n",
      "2025-06-11 11:26:27,817 - DEBUG - Updating nu\n",
      "2025-06-11 11:26:27,817 - DEBUG - Updating prior\n",
      "2025-06-11 11:26:27,820 - DEBUG - Calculating the determinant of the covariance\n",
      "2025-06-11 11:26:27,821 - DEBUG - Delta: 0.5954466445699291\n",
      "2025-06-11 11:26:27,822 - DEBUG - Iteration 5/100\n",
      "2025-06-11 11:26:27,822 - DEBUG - Updating responsibilities\n",
      "2025-06-11 11:26:27,822 - DEBUG - Calculating the determinant of the covariance\n",
      "2025-06-11 11:26:27,825 - DEBUG - Updating gamma\n",
      "2025-06-11 11:26:27,825 - DEBUG - Updating beta\n",
      "2025-06-11 11:26:27,825 - DEBUG - Updating mu\n",
      "2025-06-11 11:26:27,826 - DEBUG - Updating W\n",
      "2025-06-11 11:26:27,828 - DEBUG - Updating nu\n",
      "2025-06-11 11:26:27,828 - DEBUG - Updating prior\n",
      "2025-06-11 11:26:27,832 - DEBUG - Calculating the determinant of the covariance\n",
      "2025-06-11 11:26:27,832 - DEBUG - Delta: -487.4606764258923\n",
      "2025-06-11 11:26:27,833 - DEBUG - Iteration 6/100\n",
      "2025-06-11 11:26:27,833 - DEBUG - Updating responsibilities\n",
      "2025-06-11 11:26:27,833 - DEBUG - Calculating the determinant of the covariance\n",
      "2025-06-11 11:26:27,836 - DEBUG - Updating gamma\n",
      "2025-06-11 11:26:27,836 - DEBUG - Updating beta\n",
      "2025-06-11 11:26:27,836 - DEBUG - Updating mu\n",
      "2025-06-11 11:26:27,837 - DEBUG - Updating W\n",
      "2025-06-11 11:26:27,838 - DEBUG - Updating nu\n",
      "2025-06-11 11:26:27,838 - DEBUG - Updating prior\n",
      "2025-06-11 11:26:27,841 - DEBUG - Calculating the determinant of the covariance\n",
      "2025-06-11 11:26:27,842 - DEBUG - Delta: 0.3637751455929688\n",
      "2025-06-11 11:26:27,843 - DEBUG - Iteration 7/100\n",
      "2025-06-11 11:26:27,843 - DEBUG - Updating responsibilities\n",
      "2025-06-11 11:26:27,843 - DEBUG - Calculating the determinant of the covariance\n",
      "2025-06-11 11:26:27,848 - DEBUG - Updating gamma\n",
      "2025-06-11 11:26:27,849 - DEBUG - Updating beta\n",
      "2025-06-11 11:26:27,850 - DEBUG - Updating mu\n",
      "2025-06-11 11:26:27,851 - DEBUG - Updating W\n",
      "2025-06-11 11:26:27,892 - DEBUG - Updating nu\n",
      "2025-06-11 11:26:27,893 - DEBUG - Updating prior\n",
      "2025-06-11 11:26:27,908 - DEBUG - Calculating the determinant of the covariance\n",
      "2025-06-11 11:26:27,909 - DEBUG - Delta: -921.3384120593196\n",
      "2025-06-11 11:26:27,911 - DEBUG - Iteration 8/100\n",
      "2025-06-11 11:26:27,912 - DEBUG - Updating responsibilities\n",
      "2025-06-11 11:26:27,912 - DEBUG - Calculating the determinant of the covariance\n",
      "2025-06-11 11:26:27,916 - DEBUG - Updating gamma\n",
      "2025-06-11 11:26:27,917 - DEBUG - Updating beta\n",
      "2025-06-11 11:26:27,918 - DEBUG - Updating mu\n",
      "2025-06-11 11:26:27,919 - DEBUG - Updating W\n",
      "2025-06-11 11:26:27,921 - DEBUG - Updating nu\n",
      "2025-06-11 11:26:27,921 - DEBUG - Updating prior\n",
      "2025-06-11 11:26:27,927 - DEBUG - Calculating the determinant of the covariance\n",
      "2025-06-11 11:26:27,928 - DEBUG - Delta: 0.615465278063458\n",
      "2025-06-11 11:26:27,931 - DEBUG - Iteration 9/100\n",
      "2025-06-11 11:26:27,932 - DEBUG - Updating responsibilities\n",
      "2025-06-11 11:26:27,933 - DEBUG - Calculating the determinant of the covariance\n",
      "2025-06-11 11:26:27,938 - DEBUG - Updating gamma\n",
      "2025-06-11 11:26:27,938 - DEBUG - Updating beta\n",
      "2025-06-11 11:26:27,939 - DEBUG - Updating mu\n",
      "2025-06-11 11:26:27,939 - DEBUG - Updating W\n",
      "2025-06-11 11:26:27,942 - DEBUG - Updating nu\n",
      "2025-06-11 11:26:27,943 - DEBUG - Updating prior\n",
      "2025-06-11 11:26:27,949 - DEBUG - Calculating the determinant of the covariance\n",
      "2025-06-11 11:26:27,951 - DEBUG - Delta: -601.1390717231803\n",
      "2025-06-11 11:26:27,951 - DEBUG - Iteration 10/100\n",
      "2025-06-11 11:26:27,952 - DEBUG - Updating responsibilities\n",
      "2025-06-11 11:26:27,952 - DEBUG - Calculating the determinant of the covariance\n",
      "2025-06-11 11:26:27,958 - DEBUG - Updating gamma\n",
      "2025-06-11 11:26:27,958 - DEBUG - Updating beta\n",
      "2025-06-11 11:26:27,959 - DEBUG - Updating mu\n",
      "2025-06-11 11:26:27,959 - DEBUG - Updating W\n",
      "2025-06-11 11:26:27,962 - DEBUG - Updating nu\n",
      "2025-06-11 11:26:27,963 - DEBUG - Updating prior\n",
      "2025-06-11 11:26:27,967 - DEBUG - Calculating the determinant of the covariance\n",
      "2025-06-11 11:26:27,968 - DEBUG - Delta: 0.36681050218381483\n",
      "2025-06-11 11:26:27,969 - DEBUG - Iteration 11/100\n",
      "2025-06-11 11:26:27,970 - DEBUG - Updating responsibilities\n",
      "2025-06-11 11:26:27,970 - DEBUG - Calculating the determinant of the covariance\n",
      "2025-06-11 11:26:27,974 - DEBUG - Updating gamma\n",
      "2025-06-11 11:26:27,975 - DEBUG - Updating beta\n",
      "2025-06-11 11:26:27,975 - DEBUG - Updating mu\n",
      "2025-06-11 11:26:27,975 - DEBUG - Updating W\n",
      "2025-06-11 11:26:27,976 - DEBUG - Updating nu\n",
      "2025-06-11 11:26:27,977 - DEBUG - Updating prior\n"
     ]
    },
    {
     "name": "stderr",
     "output_type": "stream",
     "text": [
      "/Users/ismaelmarin/Documents/Projects/clustlib/clustlib/nonparam/tvclust.py:614: RuntimeWarning: invalid value encountered in divide\n",
      "  self.centroids[i] = np.sum(weighted_sum, axis=0) / np.sum(self.__responsabilities[:, i][self._labels == i])\n"
     ]
    },
    {
     "name": "stdout",
     "output_type": "stream",
     "text": [
      "2025-06-11 11:26:27,998 - DEBUG - Calculating the determinant of the covariance\n",
      "2025-06-11 11:26:28,001 - DEBUG - Delta: -1073.252062181913\n",
      "2025-06-11 11:26:28,005 - DEBUG - Iteration 12/100\n",
      "2025-06-11 11:26:28,006 - DEBUG - Updating responsibilities\n",
      "2025-06-11 11:26:28,006 - DEBUG - Calculating the determinant of the covariance\n",
      "2025-06-11 11:26:28,015 - DEBUG - Updating gamma\n",
      "2025-06-11 11:26:28,015 - DEBUG - Updating beta\n",
      "2025-06-11 11:26:28,016 - DEBUG - Updating mu\n",
      "2025-06-11 11:26:28,017 - DEBUG - Updating W\n",
      "2025-06-11 11:26:28,020 - DEBUG - Updating nu\n",
      "2025-06-11 11:26:28,020 - DEBUG - Updating prior\n",
      "2025-06-11 11:26:28,026 - DEBUG - Calculating the determinant of the covariance\n",
      "2025-06-11 11:26:28,028 - DEBUG - Delta: 0.624238568163967\n",
      "2025-06-11 11:26:28,029 - DEBUG - Iteration 13/100\n",
      "2025-06-11 11:26:28,030 - DEBUG - Updating responsibilities\n",
      "2025-06-11 11:26:28,030 - DEBUG - Calculating the determinant of the covariance\n",
      "2025-06-11 11:26:28,036 - DEBUG - Updating gamma\n",
      "2025-06-11 11:26:28,038 - DEBUG - Updating beta\n",
      "2025-06-11 11:26:28,038 - DEBUG - Updating mu\n",
      "2025-06-11 11:26:28,040 - DEBUG - Updating W\n",
      "2025-06-11 11:26:28,042 - DEBUG - Updating nu\n",
      "2025-06-11 11:26:28,043 - DEBUG - Updating prior\n",
      "2025-06-11 11:26:28,052 - DEBUG - Calculating the determinant of the covariance\n",
      "2025-06-11 11:26:28,054 - DEBUG - Delta: -659.8796883319183\n",
      "2025-06-11 11:26:28,055 - DEBUG - Iteration 14/100\n",
      "2025-06-11 11:26:28,056 - DEBUG - Updating responsibilities\n",
      "2025-06-11 11:26:28,057 - DEBUG - Calculating the determinant of the covariance\n",
      "2025-06-11 11:26:28,059 - DEBUG - Updating gamma\n",
      "2025-06-11 11:26:28,061 - DEBUG - Updating beta\n",
      "2025-06-11 11:26:28,062 - DEBUG - Updating mu\n",
      "2025-06-11 11:26:28,063 - DEBUG - Updating W\n",
      "2025-06-11 11:26:28,066 - DEBUG - Updating nu\n",
      "2025-06-11 11:26:28,067 - DEBUG - Updating prior\n",
      "2025-06-11 11:26:28,073 - DEBUG - Calculating the determinant of the covariance\n",
      "2025-06-11 11:26:28,075 - DEBUG - Delta: 0.3594452418586906\n",
      "2025-06-11 11:26:28,076 - DEBUG - Iteration 15/100\n",
      "2025-06-11 11:26:28,078 - DEBUG - Updating responsibilities\n",
      "2025-06-11 11:26:28,079 - DEBUG - Calculating the determinant of the covariance\n",
      "2025-06-11 11:26:28,086 - DEBUG - Updating gamma\n",
      "2025-06-11 11:26:28,087 - DEBUG - Updating beta\n",
      "2025-06-11 11:26:28,088 - DEBUG - Updating mu\n",
      "2025-06-11 11:26:28,088 - DEBUG - Updating W\n",
      "2025-06-11 11:26:28,090 - DEBUG - Updating nu\n",
      "2025-06-11 11:26:28,091 - DEBUG - Updating prior\n",
      "2025-06-11 11:26:28,098 - DEBUG - Calculating the determinant of the covariance\n",
      "2025-06-11 11:26:28,100 - DEBUG - Delta: -1220.9316030791144\n",
      "2025-06-11 11:26:28,101 - DEBUG - Iteration 16/100\n",
      "2025-06-11 11:26:28,101 - DEBUG - Updating responsibilities\n",
      "2025-06-11 11:26:28,102 - DEBUG - Calculating the determinant of the covariance\n",
      "2025-06-11 11:26:28,106 - DEBUG - Updating gamma\n",
      "2025-06-11 11:26:28,107 - DEBUG - Updating beta\n",
      "2025-06-11 11:26:28,108 - DEBUG - Updating mu\n",
      "2025-06-11 11:26:28,109 - DEBUG - Updating W\n",
      "2025-06-11 11:26:28,114 - DEBUG - Updating nu\n",
      "2025-06-11 11:26:28,179 - DEBUG - Updating prior\n",
      "2025-06-11 11:26:28,211 - DEBUG - Calculating the determinant of the covariance\n",
      "2025-06-11 11:26:28,222 - DEBUG - Delta: 0.6294705682866238\n",
      "2025-06-11 11:26:28,224 - DEBUG - Iteration 17/100\n",
      "2025-06-11 11:26:28,224 - DEBUG - Updating responsibilities\n",
      "2025-06-11 11:26:28,225 - DEBUG - Calculating the determinant of the covariance\n",
      "2025-06-11 11:26:28,230 - DEBUG - Updating gamma\n",
      "2025-06-11 11:26:28,230 - DEBUG - Updating beta\n",
      "2025-06-11 11:26:28,231 - DEBUG - Updating mu\n",
      "2025-06-11 11:26:28,231 - DEBUG - Updating W\n",
      "2025-06-11 11:26:28,234 - DEBUG - Updating nu\n",
      "2025-06-11 11:26:28,234 - DEBUG - Updating prior\n",
      "2025-06-11 11:26:28,240 - DEBUG - Calculating the determinant of the covariance\n",
      "2025-06-11 11:26:28,241 - DEBUG - Delta: -741.0319528563303\n",
      "2025-06-11 11:26:28,243 - DEBUG - Iteration 18/100\n",
      "2025-06-11 11:26:28,243 - DEBUG - Updating responsibilities\n",
      "2025-06-11 11:26:28,245 - DEBUG - Calculating the determinant of the covariance\n",
      "2025-06-11 11:26:28,249 - DEBUG - Updating gamma\n",
      "2025-06-11 11:26:28,250 - DEBUG - Updating beta\n",
      "2025-06-11 11:26:28,250 - DEBUG - Updating mu\n",
      "2025-06-11 11:26:28,251 - DEBUG - Updating W\n",
      "2025-06-11 11:26:28,252 - DEBUG - Updating nu\n",
      "2025-06-11 11:26:28,252 - DEBUG - Updating prior\n",
      "2025-06-11 11:26:28,256 - DEBUG - Calculating the determinant of the covariance\n",
      "2025-06-11 11:26:28,256 - DEBUG - Delta: 0.35326507277308566\n",
      "2025-06-11 11:26:28,257 - DEBUG - Iteration 19/100\n",
      "2025-06-11 11:26:28,257 - DEBUG - Updating responsibilities\n",
      "2025-06-11 11:26:28,258 - DEBUG - Calculating the determinant of the covariance\n",
      "2025-06-11 11:26:28,260 - DEBUG - Updating gamma\n",
      "2025-06-11 11:26:28,261 - DEBUG - Updating beta\n",
      "2025-06-11 11:26:28,261 - DEBUG - Updating mu\n",
      "2025-06-11 11:26:28,261 - DEBUG - Updating W\n",
      "2025-06-11 11:26:28,262 - DEBUG - Updating nu\n",
      "2025-06-11 11:26:28,263 - DEBUG - Updating prior\n",
      "2025-06-11 11:26:28,266 - DEBUG - Calculating the determinant of the covariance\n",
      "2025-06-11 11:26:28,266 - DEBUG - Delta: -1388.537948076251\n",
      "2025-06-11 11:26:28,267 - DEBUG - Iteration 20/100\n",
      "2025-06-11 11:26:28,267 - DEBUG - Updating responsibilities\n",
      "2025-06-11 11:26:28,267 - DEBUG - Calculating the determinant of the covariance\n",
      "2025-06-11 11:26:28,271 - DEBUG - Updating gamma\n",
      "2025-06-11 11:26:28,271 - DEBUG - Updating beta\n",
      "2025-06-11 11:26:28,271 - DEBUG - Updating mu\n",
      "2025-06-11 11:26:28,272 - DEBUG - Updating W\n",
      "2025-06-11 11:26:28,273 - DEBUG - Updating nu\n",
      "2025-06-11 11:26:28,273 - DEBUG - Updating prior\n",
      "2025-06-11 11:26:28,277 - DEBUG - Calculating the determinant of the covariance\n",
      "2025-06-11 11:26:28,277 - DEBUG - Delta: 0.641360683722132\n",
      "2025-06-11 11:26:28,278 - DEBUG - Iteration 21/100\n",
      "2025-06-11 11:26:28,279 - DEBUG - Updating responsibilities\n",
      "2025-06-11 11:26:28,279 - DEBUG - Calculating the determinant of the covariance\n",
      "2025-06-11 11:26:28,282 - DEBUG - Updating gamma\n",
      "2025-06-11 11:26:28,282 - DEBUG - Updating beta\n",
      "2025-06-11 11:26:28,282 - DEBUG - Updating mu\n",
      "2025-06-11 11:26:28,283 - DEBUG - Updating W\n",
      "2025-06-11 11:26:28,284 - DEBUG - Updating nu\n",
      "2025-06-11 11:26:28,284 - DEBUG - Updating prior\n",
      "2025-06-11 11:26:28,288 - DEBUG - Calculating the determinant of the covariance\n",
      "2025-06-11 11:26:28,288 - DEBUG - Delta: -786.2694646878391\n",
      "2025-06-11 11:26:28,289 - DEBUG - Iteration 22/100\n",
      "2025-06-11 11:26:28,289 - DEBUG - Updating responsibilities\n",
      "2025-06-11 11:26:28,289 - DEBUG - Calculating the determinant of the covariance\n",
      "2025-06-11 11:26:28,293 - DEBUG - Updating gamma\n",
      "2025-06-11 11:26:28,293 - DEBUG - Updating beta\n",
      "2025-06-11 11:26:28,293 - DEBUG - Updating mu\n",
      "2025-06-11 11:26:28,293 - DEBUG - Updating W\n",
      "2025-06-11 11:26:28,295 - DEBUG - Updating nu\n",
      "2025-06-11 11:26:28,296 - DEBUG - Updating prior\n",
      "2025-06-11 11:26:28,299 - DEBUG - Calculating the determinant of the covariance\n",
      "2025-06-11 11:26:28,300 - DEBUG - Delta: 0.3531792523059824\n",
      "2025-06-11 11:26:28,301 - DEBUG - Iteration 23/100\n",
      "2025-06-11 11:26:28,301 - DEBUG - Updating responsibilities\n",
      "2025-06-11 11:26:28,301 - DEBUG - Calculating the determinant of the covariance\n",
      "2025-06-11 11:26:28,304 - DEBUG - Updating gamma\n",
      "2025-06-11 11:26:28,304 - DEBUG - Updating beta\n",
      "2025-06-11 11:26:28,305 - DEBUG - Updating mu\n",
      "2025-06-11 11:26:28,305 - DEBUG - Updating W\n",
      "2025-06-11 11:26:28,306 - DEBUG - Updating nu\n",
      "2025-06-11 11:26:28,306 - DEBUG - Updating prior\n",
      "2025-06-11 11:26:28,309 - DEBUG - Calculating the determinant of the covariance\n",
      "2025-06-11 11:26:28,310 - DEBUG - Delta: -1455.9992601429256\n",
      "2025-06-11 11:26:28,312 - DEBUG - Iteration 24/100\n",
      "2025-06-11 11:26:28,312 - DEBUG - Updating responsibilities\n",
      "2025-06-11 11:26:28,312 - DEBUG - Calculating the determinant of the covariance\n",
      "2025-06-11 11:26:28,315 - DEBUG - Updating gamma\n",
      "2025-06-11 11:26:28,315 - DEBUG - Updating beta\n",
      "2025-06-11 11:26:28,316 - DEBUG - Updating mu\n",
      "2025-06-11 11:26:28,316 - DEBUG - Updating W\n",
      "2025-06-11 11:26:28,317 - DEBUG - Updating nu\n",
      "2025-06-11 11:26:28,317 - DEBUG - Updating prior\n",
      "2025-06-11 11:26:28,320 - DEBUG - Calculating the determinant of the covariance\n",
      "2025-06-11 11:26:28,321 - DEBUG - Delta: 0.6420139624324044\n",
      "2025-06-11 11:26:28,322 - DEBUG - Iteration 25/100\n",
      "2025-06-11 11:26:28,322 - DEBUG - Updating responsibilities\n",
      "2025-06-11 11:26:28,322 - DEBUG - Calculating the determinant of the covariance\n",
      "2025-06-11 11:26:28,325 - DEBUG - Updating gamma\n",
      "2025-06-11 11:26:28,325 - DEBUG - Updating beta\n",
      "2025-06-11 11:26:28,326 - DEBUG - Updating mu\n",
      "2025-06-11 11:26:28,326 - DEBUG - Updating W\n",
      "2025-06-11 11:26:28,327 - DEBUG - Updating nu\n",
      "2025-06-11 11:26:28,328 - DEBUG - Updating prior\n",
      "2025-06-11 11:26:28,331 - DEBUG - Calculating the determinant of the covariance\n",
      "2025-06-11 11:26:28,332 - DEBUG - Delta: -829.8949752734405\n",
      "2025-06-11 11:26:28,333 - DEBUG - Iteration 26/100\n",
      "2025-06-11 11:26:28,333 - DEBUG - Updating responsibilities\n",
      "2025-06-11 11:26:28,333 - DEBUG - Calculating the determinant of the covariance\n",
      "2025-06-11 11:26:28,336 - DEBUG - Updating gamma\n",
      "2025-06-11 11:26:28,337 - DEBUG - Updating beta\n",
      "2025-06-11 11:26:28,337 - DEBUG - Updating mu\n",
      "2025-06-11 11:26:28,337 - DEBUG - Updating W\n",
      "2025-06-11 11:26:28,338 - DEBUG - Updating nu\n",
      "2025-06-11 11:26:28,339 - DEBUG - Updating prior\n",
      "2025-06-11 11:26:28,342 - DEBUG - Calculating the determinant of the covariance\n",
      "2025-06-11 11:26:28,343 - DEBUG - Delta: 0.34119312755680303\n",
      "2025-06-11 11:26:28,344 - DEBUG - Iteration 27/100\n",
      "2025-06-11 11:26:28,344 - DEBUG - Updating responsibilities\n",
      "2025-06-11 11:26:28,345 - DEBUG - Calculating the determinant of the covariance\n",
      "2025-06-11 11:26:28,348 - DEBUG - Updating gamma\n",
      "2025-06-11 11:26:28,348 - DEBUG - Updating beta\n",
      "2025-06-11 11:26:28,348 - DEBUG - Updating mu\n",
      "2025-06-11 11:26:28,348 - DEBUG - Updating W\n",
      "2025-06-11 11:26:28,350 - DEBUG - Updating nu\n",
      "2025-06-11 11:26:28,373 - DEBUG - Updating prior\n",
      "2025-06-11 11:26:28,390 - DEBUG - Calculating the determinant of the covariance\n",
      "2025-06-11 11:26:28,391 - DEBUG - Delta: -1645.831319680791\n",
      "2025-06-11 11:26:28,392 - DEBUG - Iteration 28/100\n",
      "2025-06-11 11:26:28,392 - DEBUG - Updating responsibilities\n",
      "2025-06-11 11:26:28,396 - DEBUG - Calculating the determinant of the covariance\n",
      "2025-06-11 11:26:28,403 - DEBUG - Updating gamma\n",
      "2025-06-11 11:26:28,403 - DEBUG - Updating beta\n",
      "2025-06-11 11:26:28,404 - DEBUG - Updating mu\n",
      "2025-06-11 11:26:28,404 - DEBUG - Updating W\n",
      "2025-06-11 11:26:28,405 - DEBUG - Updating nu\n",
      "2025-06-11 11:26:28,406 - DEBUG - Updating prior\n",
      "2025-06-11 11:26:28,409 - DEBUG - Calculating the determinant of the covariance\n",
      "2025-06-11 11:26:28,410 - DEBUG - Delta: 0.6533485709032348\n",
      "2025-06-11 11:26:28,411 - DEBUG - Iteration 29/100\n",
      "2025-06-11 11:26:28,412 - DEBUG - Updating responsibilities\n",
      "2025-06-11 11:26:28,412 - DEBUG - Calculating the determinant of the covariance\n",
      "2025-06-11 11:26:28,415 - DEBUG - Updating gamma\n",
      "2025-06-11 11:26:28,415 - DEBUG - Updating beta\n",
      "2025-06-11 11:26:28,416 - DEBUG - Updating mu\n",
      "2025-06-11 11:26:28,416 - DEBUG - Updating W\n",
      "2025-06-11 11:26:28,417 - DEBUG - Updating nu\n",
      "2025-06-11 11:26:28,418 - DEBUG - Updating prior\n",
      "2025-06-11 11:26:28,421 - DEBUG - Calculating the determinant of the covariance\n",
      "2025-06-11 11:26:28,421 - DEBUG - Delta: -879.6296464638017\n",
      "2025-06-11 11:26:28,422 - DEBUG - Iteration 30/100\n",
      "2025-06-11 11:26:28,422 - DEBUG - Updating responsibilities\n",
      "2025-06-11 11:26:28,422 - DEBUG - Calculating the determinant of the covariance\n",
      "2025-06-11 11:26:28,425 - DEBUG - Updating gamma\n",
      "2025-06-11 11:26:28,425 - DEBUG - Updating beta\n",
      "2025-06-11 11:26:28,425 - DEBUG - Updating mu\n",
      "2025-06-11 11:26:28,426 - DEBUG - Updating W\n",
      "2025-06-11 11:26:28,427 - DEBUG - Updating nu\n",
      "2025-06-11 11:26:28,428 - DEBUG - Updating prior\n",
      "2025-06-11 11:26:28,432 - DEBUG - Calculating the determinant of the covariance\n",
      "2025-06-11 11:26:28,432 - DEBUG - Delta: 0.3482075896181702\n",
      "2025-06-11 11:26:28,433 - DEBUG - Iteration 31/100\n",
      "2025-06-11 11:26:28,433 - DEBUG - Updating responsibilities\n",
      "2025-06-11 11:26:28,434 - DEBUG - Calculating the determinant of the covariance\n",
      "2025-06-11 11:26:28,436 - DEBUG - Updating gamma\n",
      "2025-06-11 11:26:28,436 - DEBUG - Updating beta\n",
      "2025-06-11 11:26:28,436 - DEBUG - Updating mu\n",
      "2025-06-11 11:26:28,437 - DEBUG - Updating W\n",
      "2025-06-11 11:26:28,437 - DEBUG - Updating nu\n",
      "2025-06-11 11:26:28,438 - DEBUG - Updating prior\n",
      "2025-06-11 11:26:28,442 - DEBUG - Calculating the determinant of the covariance\n",
      "2025-06-11 11:26:28,443 - DEBUG - Delta: -1639.9036682996918\n",
      "2025-06-11 11:26:28,443 - DEBUG - Iteration 32/100\n",
      "2025-06-11 11:26:28,443 - DEBUG - Updating responsibilities\n",
      "2025-06-11 11:26:28,444 - DEBUG - Calculating the determinant of the covariance\n",
      "2025-06-11 11:26:28,447 - DEBUG - Updating gamma\n",
      "2025-06-11 11:26:28,447 - DEBUG - Updating beta\n",
      "2025-06-11 11:26:28,448 - DEBUG - Updating mu\n",
      "2025-06-11 11:26:28,448 - DEBUG - Updating W\n",
      "2025-06-11 11:26:28,449 - DEBUG - Updating nu\n",
      "2025-06-11 11:26:28,449 - DEBUG - Updating prior\n",
      "2025-06-11 11:26:28,453 - DEBUG - Calculating the determinant of the covariance\n",
      "2025-06-11 11:26:28,454 - DEBUG - Delta: 0.6531275641220993\n",
      "2025-06-11 11:26:28,454 - DEBUG - Iteration 33/100\n",
      "2025-06-11 11:26:28,455 - DEBUG - Updating responsibilities\n",
      "2025-06-11 11:26:28,455 - DEBUG - Calculating the determinant of the covariance\n",
      "2025-06-11 11:26:28,457 - DEBUG - Updating gamma\n",
      "2025-06-11 11:26:28,458 - DEBUG - Updating beta\n",
      "2025-06-11 11:26:28,458 - DEBUG - Updating mu\n",
      "2025-06-11 11:26:28,458 - DEBUG - Updating W\n",
      "2025-06-11 11:26:28,459 - DEBUG - Updating nu\n",
      "2025-06-11 11:26:28,459 - DEBUG - Updating prior\n",
      "2025-06-11 11:26:28,464 - DEBUG - Calculating the determinant of the covariance\n",
      "2025-06-11 11:26:28,465 - DEBUG - Delta: -873.1824524010387\n",
      "2025-06-11 11:26:28,465 - DEBUG - Iteration 34/100\n",
      "2025-06-11 11:26:28,466 - DEBUG - Updating responsibilities\n",
      "2025-06-11 11:26:28,466 - DEBUG - Calculating the determinant of the covariance\n",
      "2025-06-11 11:26:28,469 - DEBUG - Updating gamma\n",
      "2025-06-11 11:26:28,469 - DEBUG - Updating beta\n",
      "2025-06-11 11:26:28,469 - DEBUG - Updating mu\n",
      "2025-06-11 11:26:28,469 - DEBUG - Updating W\n",
      "2025-06-11 11:26:28,471 - DEBUG - Updating nu\n",
      "2025-06-11 11:26:28,471 - DEBUG - Updating prior\n",
      "2025-06-11 11:26:28,474 - DEBUG - Calculating the determinant of the covariance\n",
      "2025-06-11 11:26:28,475 - DEBUG - Delta: 0.3434097765490777\n",
      "2025-06-11 11:26:28,475 - DEBUG - Iteration 35/100\n",
      "2025-06-11 11:26:28,475 - DEBUG - Updating responsibilities\n",
      "2025-06-11 11:26:28,476 - DEBUG - Calculating the determinant of the covariance\n",
      "2025-06-11 11:26:28,480 - DEBUG - Updating gamma\n",
      "2025-06-11 11:26:28,480 - DEBUG - Updating beta\n",
      "2025-06-11 11:26:28,480 - DEBUG - Updating mu\n",
      "2025-06-11 11:26:28,480 - DEBUG - Updating W\n",
      "2025-06-11 11:26:28,481 - DEBUG - Updating nu\n",
      "2025-06-11 11:26:28,481 - DEBUG - Updating prior\n",
      "2025-06-11 11:26:28,486 - DEBUG - Calculating the determinant of the covariance\n",
      "2025-06-11 11:26:28,486 - DEBUG - Delta: -1684.82569630008\n",
      "2025-06-11 11:26:28,487 - DEBUG - Iteration 36/100\n",
      "2025-06-11 11:26:28,487 - DEBUG - Updating responsibilities\n",
      "2025-06-11 11:26:28,488 - DEBUG - Calculating the determinant of the covariance\n",
      "2025-06-11 11:26:28,490 - DEBUG - Updating gamma\n",
      "2025-06-11 11:26:28,490 - DEBUG - Updating beta\n",
      "2025-06-11 11:26:28,491 - DEBUG - Updating mu\n",
      "2025-06-11 11:26:28,491 - DEBUG - Updating W\n",
      "2025-06-11 11:26:28,492 - DEBUG - Updating nu\n",
      "2025-06-11 11:26:28,492 - DEBUG - Updating prior\n",
      "2025-06-11 11:26:28,497 - DEBUG - Calculating the determinant of the covariance\n",
      "2025-06-11 11:26:28,498 - DEBUG - Delta: 0.6533450482788231\n",
      "2025-06-11 11:26:28,499 - DEBUG - Iteration 37/100\n",
      "2025-06-11 11:26:28,499 - DEBUG - Updating responsibilities\n",
      "2025-06-11 11:26:28,499 - DEBUG - Calculating the determinant of the covariance\n",
      "2025-06-11 11:26:28,502 - DEBUG - Updating gamma\n",
      "2025-06-11 11:26:28,502 - DEBUG - Updating beta\n",
      "2025-06-11 11:26:28,502 - DEBUG - Updating mu\n",
      "2025-06-11 11:26:28,503 - DEBUG - Updating W\n",
      "2025-06-11 11:26:28,504 - DEBUG - Updating nu\n",
      "2025-06-11 11:26:28,504 - DEBUG - Updating prior\n",
      "2025-06-11 11:26:28,508 - DEBUG - Calculating the determinant of the covariance\n",
      "2025-06-11 11:26:28,508 - DEBUG - Delta: -904.5632802537016\n",
      "2025-06-11 11:26:28,509 - DEBUG - Iteration 38/100\n",
      "2025-06-11 11:26:28,509 - DEBUG - Updating responsibilities\n",
      "2025-06-11 11:26:28,510 - DEBUG - Calculating the determinant of the covariance\n",
      "2025-06-11 11:26:28,513 - DEBUG - Updating gamma\n",
      "2025-06-11 11:26:28,513 - DEBUG - Updating beta\n",
      "2025-06-11 11:26:28,513 - DEBUG - Updating mu\n",
      "2025-06-11 11:26:28,513 - DEBUG - Updating W\n",
      "2025-06-11 11:26:28,514 - DEBUG - Updating nu\n",
      "2025-06-11 11:26:28,515 - DEBUG - Updating prior\n",
      "2025-06-11 11:26:28,554 - DEBUG - Calculating the determinant of the covariance\n",
      "2025-06-11 11:26:28,555 - DEBUG - Delta: 0.341970330211788\n",
      "2025-06-11 11:26:28,556 - DEBUG - Iteration 39/100\n",
      "2025-06-11 11:26:28,556 - DEBUG - Updating responsibilities\n",
      "2025-06-11 11:26:28,556 - DEBUG - Calculating the determinant of the covariance\n",
      "2025-06-11 11:26:28,569 - DEBUG - Updating gamma\n",
      "2025-06-11 11:26:28,569 - DEBUG - Updating beta\n",
      "2025-06-11 11:26:28,570 - DEBUG - Updating mu\n",
      "2025-06-11 11:26:28,570 - DEBUG - Updating W\n",
      "2025-06-11 11:26:28,571 - DEBUG - Updating nu\n",
      "2025-06-11 11:26:28,571 - DEBUG - Updating prior\n",
      "2025-06-11 11:26:28,575 - DEBUG - Calculating the determinant of the covariance\n",
      "2025-06-11 11:26:28,575 - DEBUG - Delta: -1747.290462120191\n",
      "2025-06-11 11:26:28,576 - DEBUG - Iteration 40/100\n",
      "2025-06-11 11:26:28,576 - DEBUG - Updating responsibilities\n",
      "2025-06-11 11:26:28,577 - DEBUG - Calculating the determinant of the covariance\n",
      "2025-06-11 11:26:28,580 - DEBUG - Updating gamma\n",
      "2025-06-11 11:26:28,580 - DEBUG - Updating beta\n",
      "2025-06-11 11:26:28,580 - DEBUG - Updating mu\n",
      "2025-06-11 11:26:28,581 - DEBUG - Updating W\n",
      "2025-06-11 11:26:28,581 - DEBUG - Updating nu\n",
      "2025-06-11 11:26:28,582 - DEBUG - Updating prior\n",
      "2025-06-11 11:26:28,585 - DEBUG - Calculating the determinant of the covariance\n",
      "2025-06-11 11:26:28,586 - DEBUG - Delta: 0.6584433002195733\n",
      "2025-06-11 11:26:28,587 - DEBUG - Iteration 41/100\n",
      "2025-06-11 11:26:28,587 - DEBUG - Updating responsibilities\n",
      "2025-06-11 11:26:28,587 - DEBUG - Calculating the determinant of the covariance\n",
      "2025-06-11 11:26:28,590 - DEBUG - Updating gamma\n",
      "2025-06-11 11:26:28,590 - DEBUG - Updating beta\n",
      "2025-06-11 11:26:28,590 - DEBUG - Updating mu\n",
      "2025-06-11 11:26:28,590 - DEBUG - Updating W\n",
      "2025-06-11 11:26:28,591 - DEBUG - Updating nu\n",
      "2025-06-11 11:26:28,592 - DEBUG - Updating prior\n",
      "2025-06-11 11:26:28,596 - DEBUG - Calculating the determinant of the covariance\n",
      "2025-06-11 11:26:28,596 - DEBUG - Delta: -905.6043501036304\n",
      "2025-06-11 11:26:28,597 - DEBUG - Iteration 42/100\n",
      "2025-06-11 11:26:28,597 - DEBUG - Updating responsibilities\n",
      "2025-06-11 11:26:28,598 - DEBUG - Calculating the determinant of the covariance\n",
      "2025-06-11 11:26:28,600 - DEBUG - Updating gamma\n",
      "2025-06-11 11:26:28,600 - DEBUG - Updating beta\n",
      "2025-06-11 11:26:28,601 - DEBUG - Updating mu\n",
      "2025-06-11 11:26:28,601 - DEBUG - Updating W\n",
      "2025-06-11 11:26:28,601 - DEBUG - Updating nu\n",
      "2025-06-11 11:26:28,602 - DEBUG - Updating prior\n",
      "2025-06-11 11:26:28,606 - DEBUG - Calculating the determinant of the covariance\n",
      "2025-06-11 11:26:28,606 - DEBUG - Delta: 0.34350406223809543\n",
      "2025-06-11 11:26:28,607 - DEBUG - Iteration 43/100\n",
      "2025-06-11 11:26:28,607 - DEBUG - Updating responsibilities\n",
      "2025-06-11 11:26:28,607 - DEBUG - Calculating the determinant of the covariance\n",
      "2025-06-11 11:26:28,610 - DEBUG - Updating gamma\n",
      "2025-06-11 11:26:28,610 - DEBUG - Updating beta\n",
      "2025-06-11 11:26:28,610 - DEBUG - Updating mu\n",
      "2025-06-11 11:26:28,610 - DEBUG - Updating W\n",
      "2025-06-11 11:26:28,612 - DEBUG - Updating nu\n",
      "2025-06-11 11:26:28,612 - DEBUG - Updating prior\n",
      "2025-06-11 11:26:28,616 - DEBUG - Calculating the determinant of the covariance\n",
      "2025-06-11 11:26:28,617 - DEBUG - Delta: -1729.9201636684359\n",
      "2025-06-11 11:26:28,617 - DEBUG - Iteration 44/100\n",
      "2025-06-11 11:26:28,618 - DEBUG - Updating responsibilities\n",
      "2025-06-11 11:26:28,618 - DEBUG - Calculating the determinant of the covariance\n",
      "2025-06-11 11:26:28,621 - DEBUG - Updating gamma\n",
      "2025-06-11 11:26:28,621 - DEBUG - Updating beta\n",
      "2025-06-11 11:26:28,621 - DEBUG - Updating mu\n",
      "2025-06-11 11:26:28,621 - DEBUG - Updating W\n",
      "2025-06-11 11:26:28,622 - DEBUG - Updating nu\n",
      "2025-06-11 11:26:28,622 - DEBUG - Updating prior\n",
      "2025-06-11 11:26:28,626 - DEBUG - Calculating the determinant of the covariance\n",
      "2025-06-11 11:26:28,627 - DEBUG - Delta: 0.6567356618141844\n",
      "2025-06-11 11:26:28,627 - DEBUG - Iteration 45/100\n",
      "2025-06-11 11:26:28,627 - DEBUG - Updating responsibilities\n",
      "2025-06-11 11:26:28,628 - DEBUG - Calculating the determinant of the covariance\n",
      "2025-06-11 11:26:28,631 - DEBUG - Updating gamma\n",
      "2025-06-11 11:26:28,631 - DEBUG - Updating beta\n",
      "2025-06-11 11:26:28,631 - DEBUG - Updating mu\n",
      "2025-06-11 11:26:28,632 - DEBUG - Updating W\n",
      "2025-06-11 11:26:28,632 - DEBUG - Updating nu\n",
      "2025-06-11 11:26:28,632 - DEBUG - Updating prior\n",
      "2025-06-11 11:26:28,636 - DEBUG - Calculating the determinant of the covariance\n",
      "2025-06-11 11:26:28,637 - DEBUG - Delta: -905.8118652906492\n",
      "2025-06-11 11:26:28,638 - DEBUG - Iteration 46/100\n",
      "2025-06-11 11:26:28,638 - DEBUG - Updating responsibilities\n",
      "2025-06-11 11:26:28,638 - DEBUG - Calculating the determinant of the covariance\n",
      "2025-06-11 11:26:28,641 - DEBUG - Updating gamma\n",
      "2025-06-11 11:26:28,641 - DEBUG - Updating beta\n",
      "2025-06-11 11:26:28,641 - DEBUG - Updating mu\n",
      "2025-06-11 11:26:28,642 - DEBUG - Updating W\n",
      "2025-06-11 11:26:28,643 - DEBUG - Updating nu\n",
      "2025-06-11 11:26:28,643 - DEBUG - Updating prior\n",
      "2025-06-11 11:26:28,647 - DEBUG - Calculating the determinant of the covariance\n",
      "2025-06-11 11:26:28,648 - DEBUG - Delta: 0.34337578012643416\n",
      "2025-06-11 11:26:28,649 - DEBUG - Iteration 47/100\n",
      "2025-06-11 11:26:28,649 - DEBUG - Updating responsibilities\n",
      "2025-06-11 11:26:28,649 - DEBUG - Calculating the determinant of the covariance\n",
      "2025-06-11 11:26:28,652 - DEBUG - Updating gamma\n",
      "2025-06-11 11:26:28,652 - DEBUG - Updating beta\n",
      "2025-06-11 11:26:28,652 - DEBUG - Updating mu\n",
      "2025-06-11 11:26:28,652 - DEBUG - Updating W\n",
      "2025-06-11 11:26:28,654 - DEBUG - Updating nu\n",
      "2025-06-11 11:26:28,654 - DEBUG - Updating prior\n",
      "2025-06-11 11:26:28,657 - DEBUG - Calculating the determinant of the covariance\n",
      "2025-06-11 11:26:28,658 - DEBUG - Delta: -1734.0910395991846\n",
      "2025-06-11 11:26:28,659 - DEBUG - Iteration 48/100\n",
      "2025-06-11 11:26:28,659 - DEBUG - Updating responsibilities\n",
      "2025-06-11 11:26:28,660 - DEBUG - Calculating the determinant of the covariance\n",
      "2025-06-11 11:26:28,663 - DEBUG - Updating gamma\n",
      "2025-06-11 11:26:28,664 - DEBUG - Updating beta\n",
      "2025-06-11 11:26:28,664 - DEBUG - Updating mu\n",
      "2025-06-11 11:26:28,665 - DEBUG - Updating W\n",
      "2025-06-11 11:26:28,666 - DEBUG - Updating nu\n",
      "2025-06-11 11:26:28,685 - DEBUG - Updating prior\n",
      "2025-06-11 11:26:28,704 - DEBUG - Calculating the determinant of the covariance\n",
      "2025-06-11 11:26:28,705 - DEBUG - Delta: 0.6569507182344113\n",
      "2025-06-11 11:26:28,706 - DEBUG - Iteration 49/100\n",
      "2025-06-11 11:26:28,706 - DEBUG - Updating responsibilities\n",
      "2025-06-11 11:26:28,707 - DEBUG - Calculating the determinant of the covariance\n",
      "2025-06-11 11:26:28,719 - DEBUG - Updating gamma\n",
      "2025-06-11 11:26:28,720 - DEBUG - Updating beta\n",
      "2025-06-11 11:26:28,720 - DEBUG - Updating mu\n",
      "2025-06-11 11:26:28,720 - DEBUG - Updating W\n",
      "2025-06-11 11:26:28,721 - DEBUG - Updating nu\n",
      "2025-06-11 11:26:28,721 - DEBUG - Updating prior\n",
      "2025-06-11 11:26:28,725 - DEBUG - Calculating the determinant of the covariance\n",
      "2025-06-11 11:26:28,726 - DEBUG - Delta: -905.4388870523201\n",
      "2025-06-11 11:26:28,726 - DEBUG - Iteration 50/100\n",
      "2025-06-11 11:26:28,727 - DEBUG - Updating responsibilities\n",
      "2025-06-11 11:26:28,727 - DEBUG - Calculating the determinant of the covariance\n",
      "2025-06-11 11:26:28,730 - DEBUG - Updating gamma\n",
      "2025-06-11 11:26:28,731 - DEBUG - Updating beta\n",
      "2025-06-11 11:26:28,731 - DEBUG - Updating mu\n",
      "2025-06-11 11:26:28,731 - DEBUG - Updating W\n",
      "2025-06-11 11:26:28,733 - DEBUG - Updating nu\n",
      "2025-06-11 11:26:28,733 - DEBUG - Updating prior\n",
      "2025-06-11 11:26:28,736 - DEBUG - Calculating the determinant of the covariance\n",
      "2025-06-11 11:26:28,737 - DEBUG - Delta: 0.34473467907364375\n",
      "2025-06-11 11:26:28,737 - DEBUG - Iteration 51/100\n",
      "2025-06-11 11:26:28,738 - DEBUG - Updating responsibilities\n",
      "2025-06-11 11:26:28,738 - DEBUG - Calculating the determinant of the covariance\n",
      "2025-06-11 11:26:28,741 - DEBUG - Updating gamma\n",
      "2025-06-11 11:26:28,741 - DEBUG - Updating beta\n",
      "2025-06-11 11:26:28,741 - DEBUG - Updating mu\n",
      "2025-06-11 11:26:28,742 - DEBUG - Updating W\n",
      "2025-06-11 11:26:28,743 - DEBUG - Updating nu\n",
      "2025-06-11 11:26:28,743 - DEBUG - Updating prior\n",
      "2025-06-11 11:26:28,748 - DEBUG - Calculating the determinant of the covariance\n",
      "2025-06-11 11:26:28,748 - DEBUG - Delta: -1720.3133066725914\n",
      "2025-06-11 11:26:28,749 - DEBUG - Iteration 52/100\n",
      "2025-06-11 11:26:28,749 - DEBUG - Updating responsibilities\n",
      "2025-06-11 11:26:28,750 - DEBUG - Calculating the determinant of the covariance\n",
      "2025-06-11 11:26:28,752 - DEBUG - Updating gamma\n",
      "2025-06-11 11:26:28,753 - DEBUG - Updating beta\n",
      "2025-06-11 11:26:28,753 - DEBUG - Updating mu\n",
      "2025-06-11 11:26:28,753 - DEBUG - Updating W\n",
      "2025-06-11 11:26:28,754 - DEBUG - Updating nu\n",
      "2025-06-11 11:26:28,755 - DEBUG - Updating prior\n",
      "2025-06-11 11:26:28,758 - DEBUG - Calculating the determinant of the covariance\n",
      "2025-06-11 11:26:28,759 - DEBUG - Delta: 0.6554805237104546\n",
      "2025-06-11 11:26:28,759 - DEBUG - Iteration 53/100\n",
      "2025-06-11 11:26:28,759 - DEBUG - Updating responsibilities\n",
      "2025-06-11 11:26:28,760 - DEBUG - Calculating the determinant of the covariance\n",
      "2025-06-11 11:26:28,764 - DEBUG - Updating gamma\n",
      "2025-06-11 11:26:28,764 - DEBUG - Updating beta\n",
      "2025-06-11 11:26:28,764 - DEBUG - Updating mu\n",
      "2025-06-11 11:26:28,765 - DEBUG - Updating W\n",
      "2025-06-11 11:26:28,766 - DEBUG - Updating nu\n",
      "2025-06-11 11:26:28,766 - DEBUG - Updating prior\n",
      "2025-06-11 11:26:28,770 - DEBUG - Calculating the determinant of the covariance\n",
      "2025-06-11 11:26:28,770 - DEBUG - Delta: -906.2599984251729\n",
      "2025-06-11 11:26:28,771 - DEBUG - Iteration 54/100\n",
      "2025-06-11 11:26:28,771 - DEBUG - Updating responsibilities\n",
      "2025-06-11 11:26:28,771 - DEBUG - Calculating the determinant of the covariance\n",
      "2025-06-11 11:26:28,774 - DEBUG - Updating gamma\n",
      "2025-06-11 11:26:28,774 - DEBUG - Updating beta\n",
      "2025-06-11 11:26:28,774 - DEBUG - Updating mu\n",
      "2025-06-11 11:26:28,775 - DEBUG - Updating W\n",
      "2025-06-11 11:26:28,776 - DEBUG - Updating nu\n",
      "2025-06-11 11:26:28,776 - DEBUG - Updating prior\n",
      "2025-06-11 11:26:28,780 - DEBUG - Calculating the determinant of the covariance\n",
      "2025-06-11 11:26:28,781 - DEBUG - Delta: 0.34367546069366484\n",
      "2025-06-11 11:26:28,782 - DEBUG - Iteration 55/100\n",
      "2025-06-11 11:26:28,783 - DEBUG - Updating responsibilities\n",
      "2025-06-11 11:26:28,783 - DEBUG - Calculating the determinant of the covariance\n",
      "2025-06-11 11:26:28,785 - DEBUG - Updating gamma\n",
      "2025-06-11 11:26:28,786 - DEBUG - Updating beta\n",
      "2025-06-11 11:26:28,786 - DEBUG - Updating mu\n",
      "2025-06-11 11:26:28,786 - DEBUG - Updating W\n",
      "2025-06-11 11:26:28,787 - DEBUG - Updating nu\n",
      "2025-06-11 11:26:28,787 - DEBUG - Updating prior\n",
      "2025-06-11 11:26:28,791 - DEBUG - Calculating the determinant of the covariance\n",
      "2025-06-11 11:26:28,792 - DEBUG - Delta: -1737.5333043392548\n",
      "2025-06-11 11:26:28,793 - DEBUG - Iteration 56/100\n",
      "2025-06-11 11:26:28,793 - DEBUG - Updating responsibilities\n",
      "2025-06-11 11:26:28,794 - DEBUG - Calculating the determinant of the covariance\n",
      "2025-06-11 11:26:28,798 - DEBUG - Updating gamma\n",
      "2025-06-11 11:26:28,799 - DEBUG - Updating beta\n",
      "2025-06-11 11:26:28,799 - DEBUG - Updating mu\n",
      "2025-06-11 11:26:28,799 - DEBUG - Updating W\n",
      "2025-06-11 11:26:28,800 - DEBUG - Updating nu\n",
      "2025-06-11 11:26:28,801 - DEBUG - Updating prior\n",
      "2025-06-11 11:26:28,804 - DEBUG - Calculating the determinant of the covariance\n",
      "2025-06-11 11:26:28,806 - DEBUG - Delta: 0.6552281795505424\n",
      "2025-06-11 11:26:28,806 - DEBUG - Iteration 57/100\n",
      "2025-06-11 11:26:28,807 - DEBUG - Updating responsibilities\n",
      "2025-06-11 11:26:28,807 - DEBUG - Calculating the determinant of the covariance\n",
      "2025-06-11 11:26:28,809 - DEBUG - Updating gamma\n",
      "2025-06-11 11:26:28,810 - DEBUG - Updating beta\n",
      "2025-06-11 11:26:28,811 - DEBUG - Updating mu\n",
      "2025-06-11 11:26:28,811 - DEBUG - Updating W\n",
      "2025-06-11 11:26:28,812 - DEBUG - Updating nu\n",
      "2025-06-11 11:26:28,812 - DEBUG - Updating prior\n",
      "2025-06-11 11:26:28,817 - DEBUG - Calculating the determinant of the covariance\n",
      "2025-06-11 11:26:28,818 - DEBUG - Delta: -918.542855650503\n",
      "2025-06-11 11:26:28,818 - DEBUG - Iteration 58/100\n",
      "2025-06-11 11:26:28,818 - DEBUG - Updating responsibilities\n",
      "2025-06-11 11:26:28,819 - DEBUG - Calculating the determinant of the covariance\n",
      "2025-06-11 11:26:28,855 - DEBUG - Updating gamma\n",
      "2025-06-11 11:26:28,857 - DEBUG - Updating beta\n",
      "2025-06-11 11:26:28,858 - DEBUG - Updating mu\n",
      "2025-06-11 11:26:28,861 - DEBUG - Updating W\n",
      "2025-06-11 11:26:28,863 - DEBUG - Updating nu\n",
      "2025-06-11 11:26:28,863 - DEBUG - Updating prior\n",
      "2025-06-11 11:26:28,867 - DEBUG - Calculating the determinant of the covariance\n",
      "2025-06-11 11:26:28,868 - DEBUG - Delta: 0.3435575912710831\n",
      "2025-06-11 11:26:28,872 - DEBUG - Iteration 59/100\n",
      "2025-06-11 11:26:28,873 - DEBUG - Updating responsibilities\n",
      "2025-06-11 11:26:28,874 - DEBUG - Calculating the determinant of the covariance\n",
      "2025-06-11 11:26:28,879 - DEBUG - Updating gamma\n",
      "2025-06-11 11:26:28,880 - DEBUG - Updating beta\n",
      "2025-06-11 11:26:28,880 - DEBUG - Updating mu\n",
      "2025-06-11 11:26:28,880 - DEBUG - Updating W\n",
      "2025-06-11 11:26:28,882 - DEBUG - Updating nu\n",
      "2025-06-11 11:26:28,882 - DEBUG - Updating prior\n",
      "2025-06-11 11:26:28,885 - DEBUG - Calculating the determinant of the covariance\n",
      "2025-06-11 11:26:28,886 - DEBUG - Delta: -1760.080228601875\n",
      "2025-06-11 11:26:28,887 - DEBUG - Iteration 60/100\n",
      "2025-06-11 11:26:28,887 - DEBUG - Updating responsibilities\n",
      "2025-06-11 11:26:28,887 - DEBUG - Calculating the determinant of the covariance\n",
      "2025-06-11 11:26:28,890 - DEBUG - Updating gamma\n",
      "2025-06-11 11:26:28,890 - DEBUG - Updating beta\n",
      "2025-06-11 11:26:28,891 - DEBUG - Updating mu\n",
      "2025-06-11 11:26:28,891 - DEBUG - Updating W\n",
      "2025-06-11 11:26:28,892 - DEBUG - Updating nu\n",
      "2025-06-11 11:26:28,892 - DEBUG - Updating prior\n",
      "2025-06-11 11:26:28,898 - DEBUG - Calculating the determinant of the covariance\n",
      "2025-06-11 11:26:28,899 - DEBUG - Delta: 0.6561039408309086\n",
      "2025-06-11 11:26:28,900 - DEBUG - Iteration 61/100\n",
      "2025-06-11 11:26:28,900 - DEBUG - Updating responsibilities\n",
      "2025-06-11 11:26:28,900 - DEBUG - Calculating the determinant of the covariance\n",
      "2025-06-11 11:26:28,903 - DEBUG - Updating gamma\n",
      "2025-06-11 11:26:28,904 - DEBUG - Updating beta\n",
      "2025-06-11 11:26:28,904 - DEBUG - Updating mu\n",
      "2025-06-11 11:26:28,904 - DEBUG - Updating W\n",
      "2025-06-11 11:26:28,905 - DEBUG - Updating nu\n",
      "2025-06-11 11:26:28,905 - DEBUG - Updating prior\n",
      "2025-06-11 11:26:28,909 - DEBUG - Calculating the determinant of the covariance\n",
      "2025-06-11 11:26:28,912 - DEBUG - Delta: -924.2750441386376\n",
      "2025-06-11 11:26:28,912 - DEBUG - Iteration 62/100\n",
      "2025-06-11 11:26:28,913 - DEBUG - Updating responsibilities\n",
      "2025-06-11 11:26:28,913 - DEBUG - Calculating the determinant of the covariance\n",
      "2025-06-11 11:26:28,916 - DEBUG - Updating gamma\n",
      "2025-06-11 11:26:28,916 - DEBUG - Updating beta\n",
      "2025-06-11 11:26:28,916 - DEBUG - Updating mu\n",
      "2025-06-11 11:26:28,917 - DEBUG - Updating W\n",
      "2025-06-11 11:26:28,918 - DEBUG - Updating nu\n",
      "2025-06-11 11:26:28,918 - DEBUG - Updating prior\n",
      "2025-06-11 11:26:28,922 - DEBUG - Calculating the determinant of the covariance\n",
      "2025-06-11 11:26:28,923 - DEBUG - Delta: 0.3445107125380912\n",
      "2025-06-11 11:26:28,924 - DEBUG - Iteration 63/100\n",
      "2025-06-11 11:26:28,924 - DEBUG - Updating responsibilities\n",
      "2025-06-11 11:26:28,924 - DEBUG - Calculating the determinant of the covariance\n",
      "2025-06-11 11:26:28,928 - DEBUG - Updating gamma\n",
      "2025-06-11 11:26:28,929 - DEBUG - Updating beta\n",
      "2025-06-11 11:26:28,929 - DEBUG - Updating mu\n",
      "2025-06-11 11:26:28,929 - DEBUG - Updating W\n",
      "2025-06-11 11:26:28,931 - DEBUG - Updating nu\n",
      "2025-06-11 11:26:28,931 - DEBUG - Updating prior\n",
      "2025-06-11 11:26:28,935 - DEBUG - Calculating the determinant of the covariance\n",
      "2025-06-11 11:26:28,936 - DEBUG - Delta: -1758.2652162206512\n",
      "2025-06-11 11:26:28,937 - DEBUG - Iteration 64/100\n",
      "2025-06-11 11:26:28,938 - DEBUG - Updating responsibilities\n",
      "2025-06-11 11:26:28,938 - DEBUG - Calculating the determinant of the covariance\n",
      "2025-06-11 11:26:28,953 - DEBUG - Updating gamma\n",
      "2025-06-11 11:26:28,954 - DEBUG - Updating beta\n",
      "2025-06-11 11:26:28,954 - DEBUG - Updating mu\n",
      "2025-06-11 11:26:28,954 - DEBUG - Updating W\n",
      "2025-06-11 11:26:28,956 - DEBUG - Updating nu\n",
      "2025-06-11 11:26:28,958 - DEBUG - Updating prior\n",
      "2025-06-11 11:26:28,964 - DEBUG - Calculating the determinant of the covariance\n",
      "2025-06-11 11:26:28,965 - DEBUG - Delta: 0.6563645896857859\n",
      "2025-06-11 11:26:28,965 - DEBUG - Iteration 65/100\n",
      "2025-06-11 11:26:28,965 - DEBUG - Updating responsibilities\n",
      "2025-06-11 11:26:28,966 - DEBUG - Calculating the determinant of the covariance\n",
      "2025-06-11 11:26:28,968 - DEBUG - Updating gamma\n",
      "2025-06-11 11:26:28,968 - DEBUG - Updating beta\n",
      "2025-06-11 11:26:28,969 - DEBUG - Updating mu\n",
      "2025-06-11 11:26:28,969 - DEBUG - Updating W\n",
      "2025-06-11 11:26:28,970 - DEBUG - Updating nu\n",
      "2025-06-11 11:26:28,970 - DEBUG - Updating prior\n",
      "2025-06-11 11:26:28,974 - DEBUG - Calculating the determinant of the covariance\n",
      "2025-06-11 11:26:28,974 - DEBUG - Delta: -918.768575203861\n",
      "2025-06-11 11:26:28,975 - DEBUG - Iteration 66/100\n",
      "2025-06-11 11:26:28,975 - DEBUG - Updating responsibilities\n",
      "2025-06-11 11:26:28,975 - DEBUG - Calculating the determinant of the covariance\n",
      "2025-06-11 11:26:28,980 - DEBUG - Updating gamma\n",
      "2025-06-11 11:26:28,980 - DEBUG - Updating beta\n",
      "2025-06-11 11:26:28,980 - DEBUG - Updating mu\n",
      "2025-06-11 11:26:28,980 - DEBUG - Updating W\n",
      "2025-06-11 11:26:28,982 - DEBUG - Updating nu\n",
      "2025-06-11 11:26:28,982 - DEBUG - Updating prior\n",
      "2025-06-11 11:26:28,985 - DEBUG - Calculating the determinant of the covariance\n",
      "2025-06-11 11:26:28,986 - DEBUG - Delta: 0.3472758746316097\n",
      "2025-06-11 11:26:28,986 - DEBUG - Iteration 67/100\n",
      "2025-06-11 11:26:28,986 - DEBUG - Updating responsibilities\n",
      "2025-06-11 11:26:28,987 - DEBUG - Calculating the determinant of the covariance\n",
      "2025-06-11 11:26:28,990 - DEBUG - Updating gamma\n",
      "2025-06-11 11:26:28,990 - DEBUG - Updating beta\n",
      "2025-06-11 11:26:28,990 - DEBUG - Updating mu\n",
      "2025-06-11 11:26:28,991 - DEBUG - Updating W\n",
      "2025-06-11 11:26:28,992 - DEBUG - Updating nu\n",
      "2025-06-11 11:26:28,992 - DEBUG - Updating prior\n",
      "2025-06-11 11:26:28,996 - DEBUG - Calculating the determinant of the covariance\n",
      "2025-06-11 11:26:28,996 - DEBUG - Delta: -1718.8728883484953\n",
      "2025-06-11 11:26:28,997 - DEBUG - Iteration 68/100\n",
      "2025-06-11 11:26:28,997 - DEBUG - Updating responsibilities\n",
      "2025-06-11 11:26:28,997 - DEBUG - Calculating the determinant of the covariance\n",
      "2025-06-11 11:26:29,010 - DEBUG - Updating gamma\n",
      "2025-06-11 11:26:29,028 - DEBUG - Updating beta\n",
      "2025-06-11 11:26:29,030 - DEBUG - Updating mu\n",
      "2025-06-11 11:26:29,031 - DEBUG - Updating W\n",
      "2025-06-11 11:26:29,047 - DEBUG - Updating nu\n",
      "2025-06-11 11:26:29,049 - DEBUG - Updating prior\n",
      "2025-06-11 11:26:29,066 - DEBUG - Calculating the determinant of the covariance\n",
      "2025-06-11 11:26:29,067 - DEBUG - Delta: 0.6547832793115297\n",
      "2025-06-11 11:26:29,068 - DEBUG - Iteration 69/100\n",
      "2025-06-11 11:26:29,068 - DEBUG - Updating responsibilities\n",
      "2025-06-11 11:26:29,069 - DEBUG - Calculating the determinant of the covariance\n",
      "2025-06-11 11:26:29,072 - DEBUG - Updating gamma\n",
      "2025-06-11 11:26:29,073 - DEBUG - Updating beta\n",
      "2025-06-11 11:26:29,073 - DEBUG - Updating mu\n",
      "2025-06-11 11:26:29,074 - DEBUG - Updating W\n",
      "2025-06-11 11:26:29,075 - DEBUG - Updating nu\n",
      "2025-06-11 11:26:29,075 - DEBUG - Updating prior\n",
      "2025-06-11 11:26:29,080 - DEBUG - Calculating the determinant of the covariance\n",
      "2025-06-11 11:26:29,082 - DEBUG - Delta: -903.1462438996904\n",
      "2025-06-11 11:26:29,084 - DEBUG - Iteration 70/100\n",
      "2025-06-11 11:26:29,084 - DEBUG - Updating responsibilities\n",
      "2025-06-11 11:26:29,084 - DEBUG - Calculating the determinant of the covariance\n",
      "2025-06-11 11:26:29,087 - DEBUG - Updating gamma\n",
      "2025-06-11 11:26:29,088 - DEBUG - Updating beta\n",
      "2025-06-11 11:26:29,089 - DEBUG - Updating mu\n",
      "2025-06-11 11:26:29,089 - DEBUG - Updating W\n",
      "2025-06-11 11:26:29,091 - DEBUG - Updating nu\n",
      "2025-06-11 11:26:29,091 - DEBUG - Updating prior\n",
      "2025-06-11 11:26:29,096 - DEBUG - Calculating the determinant of the covariance\n",
      "2025-06-11 11:26:29,097 - DEBUG - Delta: 0.3479964913613889\n",
      "2025-06-11 11:26:29,098 - DEBUG - Iteration 71/100\n",
      "2025-06-11 11:26:29,099 - DEBUG - Updating responsibilities\n",
      "2025-06-11 11:26:29,099 - DEBUG - Calculating the determinant of the covariance\n",
      "2025-06-11 11:26:29,102 - DEBUG - Updating gamma\n",
      "2025-06-11 11:26:29,103 - DEBUG - Updating beta\n",
      "2025-06-11 11:26:29,103 - DEBUG - Updating mu\n",
      "2025-06-11 11:26:29,103 - DEBUG - Updating W\n",
      "2025-06-11 11:26:29,105 - DEBUG - Updating nu\n",
      "2025-06-11 11:26:29,106 - DEBUG - Updating prior\n",
      "2025-06-11 11:26:29,112 - DEBUG - Calculating the determinant of the covariance\n",
      "2025-06-11 11:26:29,115 - DEBUG - Delta: -1690.7928530904892\n",
      "2025-06-11 11:26:29,116 - DEBUG - Iteration 72/100\n",
      "2025-06-11 11:26:29,117 - DEBUG - Updating responsibilities\n",
      "2025-06-11 11:26:29,117 - DEBUG - Calculating the determinant of the covariance\n",
      "2025-06-11 11:26:29,121 - DEBUG - Updating gamma\n",
      "2025-06-11 11:26:29,121 - DEBUG - Updating beta\n",
      "2025-06-11 11:26:29,122 - DEBUG - Updating mu\n",
      "2025-06-11 11:26:29,122 - DEBUG - Updating W\n",
      "2025-06-11 11:26:29,123 - DEBUG - Updating nu\n",
      "2025-06-11 11:26:29,124 - DEBUG - Updating prior\n",
      "2025-06-11 11:26:29,129 - DEBUG - Calculating the determinant of the covariance\n",
      "2025-06-11 11:26:29,132 - DEBUG - Delta: 0.6517234592847968\n",
      "2025-06-11 11:26:29,132 - DEBUG - Iteration 73/100\n",
      "2025-06-11 11:26:29,133 - DEBUG - Updating responsibilities\n",
      "2025-06-11 11:26:29,134 - DEBUG - Calculating the determinant of the covariance\n",
      "2025-06-11 11:26:29,138 - DEBUG - Updating gamma\n",
      "2025-06-11 11:26:29,139 - DEBUG - Updating beta\n",
      "2025-06-11 11:26:29,140 - DEBUG - Updating mu\n",
      "2025-06-11 11:26:29,140 - DEBUG - Updating W\n",
      "2025-06-11 11:26:29,141 - DEBUG - Updating nu\n",
      "2025-06-11 11:26:29,142 - DEBUG - Updating prior\n",
      "2025-06-11 11:26:29,147 - DEBUG - Calculating the determinant of the covariance\n",
      "2025-06-11 11:26:29,148 - DEBUG - Delta: -911.9151337455925\n",
      "2025-06-11 11:26:29,149 - DEBUG - Iteration 74/100\n",
      "2025-06-11 11:26:29,149 - DEBUG - Updating responsibilities\n",
      "2025-06-11 11:26:29,149 - DEBUG - Calculating the determinant of the covariance\n",
      "2025-06-11 11:26:29,152 - DEBUG - Updating gamma\n",
      "2025-06-11 11:26:29,152 - DEBUG - Updating beta\n",
      "2025-06-11 11:26:29,152 - DEBUG - Updating mu\n",
      "2025-06-11 11:26:29,153 - DEBUG - Updating W\n",
      "2025-06-11 11:26:29,153 - DEBUG - Updating nu\n",
      "2025-06-11 11:26:29,154 - DEBUG - Updating prior\n",
      "2025-06-11 11:26:29,157 - DEBUG - Calculating the determinant of the covariance\n",
      "2025-06-11 11:26:29,158 - DEBUG - Delta: 0.34285918711479\n",
      "2025-06-11 11:26:29,159 - DEBUG - Iteration 75/100\n",
      "2025-06-11 11:26:29,159 - DEBUG - Updating responsibilities\n",
      "2025-06-11 11:26:29,159 - DEBUG - Calculating the determinant of the covariance\n",
      "2025-06-11 11:26:29,163 - DEBUG - Updating gamma\n",
      "2025-06-11 11:26:29,163 - DEBUG - Updating beta\n",
      "2025-06-11 11:26:29,163 - DEBUG - Updating mu\n",
      "2025-06-11 11:26:29,163 - DEBUG - Updating W\n",
      "2025-06-11 11:26:29,164 - DEBUG - Updating nu\n",
      "2025-06-11 11:26:29,164 - DEBUG - Updating prior\n",
      "2025-06-11 11:26:29,168 - DEBUG - Calculating the determinant of the covariance\n",
      "2025-06-11 11:26:29,169 - DEBUG - Delta: -1749.3502685589704\n",
      "2025-06-11 11:26:29,170 - DEBUG - Iteration 76/100\n",
      "2025-06-11 11:26:29,170 - DEBUG - Updating responsibilities\n",
      "2025-06-11 11:26:29,170 - DEBUG - Calculating the determinant of the covariance\n",
      "2025-06-11 11:26:29,173 - DEBUG - Updating gamma\n",
      "2025-06-11 11:26:29,173 - DEBUG - Updating beta\n",
      "2025-06-11 11:26:29,173 - DEBUG - Updating mu\n",
      "2025-06-11 11:26:29,173 - DEBUG - Updating W\n",
      "2025-06-11 11:26:29,174 - DEBUG - Updating nu\n",
      "2025-06-11 11:26:29,175 - DEBUG - Updating prior\n",
      "2025-06-11 11:26:29,190 - DEBUG - Calculating the determinant of the covariance\n",
      "2025-06-11 11:26:29,195 - DEBUG - Delta: 0.6586643546055179\n",
      "2025-06-11 11:26:29,214 - DEBUG - Iteration 77/100\n",
      "2025-06-11 11:26:29,216 - DEBUG - Updating responsibilities\n",
      "2025-06-11 11:26:29,216 - DEBUG - Calculating the determinant of the covariance\n",
      "2025-06-11 11:26:29,219 - DEBUG - Updating gamma\n",
      "2025-06-11 11:26:29,219 - DEBUG - Updating beta\n",
      "2025-06-11 11:26:29,220 - DEBUG - Updating mu\n",
      "2025-06-11 11:26:29,220 - DEBUG - Updating W\n",
      "2025-06-11 11:26:29,221 - DEBUG - Updating nu\n",
      "2025-06-11 11:26:29,221 - DEBUG - Updating prior\n",
      "2025-06-11 11:26:29,230 - DEBUG - Calculating the determinant of the covariance\n",
      "2025-06-11 11:26:29,232 - DEBUG - Delta: -909.3529643616432\n",
      "2025-06-11 11:26:29,233 - DEBUG - Iteration 78/100\n",
      "2025-06-11 11:26:29,233 - DEBUG - Updating responsibilities\n",
      "2025-06-11 11:26:29,233 - DEBUG - Calculating the determinant of the covariance\n",
      "2025-06-11 11:26:29,236 - DEBUG - Updating gamma\n",
      "2025-06-11 11:26:29,236 - DEBUG - Updating beta\n",
      "2025-06-11 11:26:29,237 - DEBUG - Updating mu\n",
      "2025-06-11 11:26:29,237 - DEBUG - Updating W\n",
      "2025-06-11 11:26:29,238 - DEBUG - Updating nu\n",
      "2025-06-11 11:26:29,238 - DEBUG - Updating prior\n",
      "2025-06-11 11:26:29,241 - DEBUG - Calculating the determinant of the covariance\n",
      "2025-06-11 11:26:29,242 - DEBUG - Delta: 0.33830372094647276\n",
      "2025-06-11 11:26:29,243 - DEBUG - Iteration 79/100\n",
      "2025-06-11 11:26:29,243 - DEBUG - Updating responsibilities\n",
      "2025-06-11 11:26:29,243 - DEBUG - Calculating the determinant of the covariance\n",
      "2025-06-11 11:26:29,247 - DEBUG - Updating gamma\n",
      "2025-06-11 11:26:29,247 - DEBUG - Updating beta\n",
      "2025-06-11 11:26:29,248 - DEBUG - Updating mu\n",
      "2025-06-11 11:26:29,248 - DEBUG - Updating W\n",
      "2025-06-11 11:26:29,249 - DEBUG - Updating nu\n",
      "2025-06-11 11:26:29,249 - DEBUG - Updating prior\n",
      "2025-06-11 11:26:29,252 - DEBUG - Calculating the determinant of the covariance\n",
      "2025-06-11 11:26:29,253 - DEBUG - Delta: -1795.4638142634212\n",
      "2025-06-11 11:26:29,254 - DEBUG - Iteration 80/100\n",
      "2025-06-11 11:26:29,254 - DEBUG - Updating responsibilities\n",
      "2025-06-11 11:26:29,254 - DEBUG - Calculating the determinant of the covariance\n",
      "2025-06-11 11:26:29,257 - DEBUG - Updating gamma\n",
      "2025-06-11 11:26:29,257 - DEBUG - Updating beta\n",
      "2025-06-11 11:26:29,258 - DEBUG - Updating mu\n",
      "2025-06-11 11:26:29,258 - DEBUG - Updating W\n",
      "2025-06-11 11:26:29,259 - DEBUG - Updating nu\n",
      "2025-06-11 11:26:29,259 - DEBUG - Updating prior\n",
      "2025-06-11 11:26:29,263 - DEBUG - Calculating the determinant of the covariance\n",
      "2025-06-11 11:26:29,264 - DEBUG - Delta: 0.6570069273803086\n",
      "2025-06-11 11:26:29,265 - DEBUG - Iteration 81/100\n",
      "2025-06-11 11:26:29,265 - DEBUG - Updating responsibilities\n",
      "2025-06-11 11:26:29,265 - DEBUG - Calculating the determinant of the covariance\n",
      "2025-06-11 11:26:29,268 - DEBUG - Updating gamma\n",
      "2025-06-11 11:26:29,268 - DEBUG - Updating beta\n",
      "2025-06-11 11:26:29,268 - DEBUG - Updating mu\n",
      "2025-06-11 11:26:29,268 - DEBUG - Updating W\n",
      "2025-06-11 11:26:29,270 - DEBUG - Updating nu\n",
      "2025-06-11 11:26:29,270 - DEBUG - Updating prior\n",
      "2025-06-11 11:26:29,273 - DEBUG - Calculating the determinant of the covariance\n",
      "2025-06-11 11:26:29,274 - DEBUG - Delta: -950.2834454946405\n",
      "2025-06-11 11:26:29,274 - DEBUG - Iteration 82/100\n",
      "2025-06-11 11:26:29,274 - DEBUG - Updating responsibilities\n",
      "2025-06-11 11:26:29,275 - DEBUG - Calculating the determinant of the covariance\n",
      "2025-06-11 11:26:29,278 - DEBUG - Updating gamma\n",
      "2025-06-11 11:26:29,279 - DEBUG - Updating beta\n",
      "2025-06-11 11:26:29,279 - DEBUG - Updating mu\n",
      "2025-06-11 11:26:29,279 - DEBUG - Updating W\n",
      "2025-06-11 11:26:29,280 - DEBUG - Updating nu\n",
      "2025-06-11 11:26:29,280 - DEBUG - Updating prior\n",
      "2025-06-11 11:26:29,284 - DEBUG - Calculating the determinant of the covariance\n",
      "2025-06-11 11:26:29,284 - DEBUG - Delta: 0.3386158064103523\n",
      "2025-06-11 11:26:29,285 - DEBUG - Iteration 83/100\n",
      "2025-06-11 11:26:29,285 - DEBUG - Updating responsibilities\n",
      "2025-06-11 11:26:29,285 - DEBUG - Calculating the determinant of the covariance\n",
      "2025-06-11 11:26:29,288 - DEBUG - Updating gamma\n",
      "2025-06-11 11:26:29,289 - DEBUG - Updating beta\n",
      "2025-06-11 11:26:29,289 - DEBUG - Updating mu\n",
      "2025-06-11 11:26:29,289 - DEBUG - Updating W\n",
      "2025-06-11 11:26:29,290 - DEBUG - Updating nu\n",
      "2025-06-11 11:26:29,290 - DEBUG - Updating prior\n",
      "2025-06-11 11:26:29,294 - DEBUG - Calculating the determinant of the covariance\n",
      "2025-06-11 11:26:29,295 - DEBUG - Delta: -1872.7840987400482\n",
      "2025-06-11 11:26:29,296 - DEBUG - Iteration 84/100\n",
      "2025-06-11 11:26:29,296 - DEBUG - Updating responsibilities\n",
      "2025-06-11 11:26:29,296 - DEBUG - Calculating the determinant of the covariance\n",
      "2025-06-11 11:26:29,299 - DEBUG - Updating gamma\n",
      "2025-06-11 11:26:29,299 - DEBUG - Updating beta\n",
      "2025-06-11 11:26:29,299 - DEBUG - Updating mu\n",
      "2025-06-11 11:26:29,300 - DEBUG - Updating W\n",
      "2025-06-11 11:26:29,301 - DEBUG - Updating nu\n",
      "2025-06-11 11:26:29,301 - DEBUG - Updating prior\n",
      "2025-06-11 11:26:29,304 - DEBUG - Calculating the determinant of the covariance\n",
      "2025-06-11 11:26:29,305 - DEBUG - Delta: 0.6593439936866435\n",
      "2025-06-11 11:26:29,306 - DEBUG - Iteration 85/100\n",
      "2025-06-11 11:26:29,306 - DEBUG - Updating responsibilities\n",
      "2025-06-11 11:26:29,306 - DEBUG - Calculating the determinant of the covariance\n",
      "2025-06-11 11:26:29,344 - DEBUG - Updating gamma\n",
      "2025-06-11 11:26:29,344 - DEBUG - Updating beta\n",
      "2025-06-11 11:26:29,345 - DEBUG - Updating mu\n",
      "2025-06-11 11:26:29,345 - DEBUG - Updating W\n",
      "2025-06-11 11:26:29,346 - DEBUG - Updating nu\n",
      "2025-06-11 11:26:29,346 - DEBUG - Updating prior\n",
      "2025-06-11 11:26:29,350 - DEBUG - Calculating the determinant of the covariance\n",
      "2025-06-11 11:26:29,356 - DEBUG - Delta: -968.5646811035967\n",
      "2025-06-11 11:26:29,358 - DEBUG - Iteration 86/100\n",
      "2025-06-11 11:26:29,359 - DEBUG - Updating responsibilities\n",
      "2025-06-11 11:26:29,360 - DEBUG - Calculating the determinant of the covariance\n",
      "2025-06-11 11:26:29,363 - DEBUG - Updating gamma\n",
      "2025-06-11 11:26:29,364 - DEBUG - Updating beta\n",
      "2025-06-11 11:26:29,364 - DEBUG - Updating mu\n",
      "2025-06-11 11:26:29,364 - DEBUG - Updating W\n",
      "2025-06-11 11:26:29,365 - DEBUG - Updating nu\n",
      "2025-06-11 11:26:29,365 - DEBUG - Updating prior\n",
      "2025-06-11 11:26:29,369 - DEBUG - Calculating the determinant of the covariance\n",
      "2025-06-11 11:26:29,369 - DEBUG - Delta: 0.34310068348333655\n",
      "2025-06-11 11:26:29,370 - DEBUG - Iteration 87/100\n",
      "2025-06-11 11:26:29,370 - DEBUG - Updating responsibilities\n",
      "2025-06-11 11:26:29,370 - DEBUG - Calculating the determinant of the covariance\n",
      "2025-06-11 11:26:29,373 - DEBUG - Updating gamma\n",
      "2025-06-11 11:26:29,373 - DEBUG - Updating beta\n",
      "2025-06-11 11:26:29,373 - DEBUG - Updating mu\n",
      "2025-06-11 11:26:29,373 - DEBUG - Updating W\n",
      "2025-06-11 11:26:29,374 - DEBUG - Updating nu\n",
      "2025-06-11 11:26:29,375 - DEBUG - Updating prior\n",
      "2025-06-11 11:26:29,378 - DEBUG - Calculating the determinant of the covariance\n",
      "2025-06-11 11:26:29,379 - DEBUG - Delta: -1851.2442471184302\n",
      "2025-06-11 11:26:29,380 - DEBUG - Iteration 88/100\n",
      "2025-06-11 11:26:29,380 - DEBUG - Updating responsibilities\n",
      "2025-06-11 11:26:29,380 - DEBUG - Calculating the determinant of the covariance\n",
      "2025-06-11 11:26:29,383 - DEBUG - Updating gamma\n",
      "2025-06-11 11:26:29,383 - DEBUG - Updating beta\n",
      "2025-06-11 11:26:29,384 - DEBUG - Updating mu\n",
      "2025-06-11 11:26:29,384 - DEBUG - Updating W\n",
      "2025-06-11 11:26:29,385 - DEBUG - Updating nu\n",
      "2025-06-11 11:26:29,385 - DEBUG - Updating prior\n",
      "2025-06-11 11:26:29,389 - DEBUG - Calculating the determinant of the covariance\n",
      "2025-06-11 11:26:29,389 - DEBUG - Delta: 0.6575685199524527\n",
      "2025-06-11 11:26:29,390 - DEBUG - Iteration 89/100\n",
      "2025-06-11 11:26:29,390 - DEBUG - Updating responsibilities\n",
      "2025-06-11 11:26:29,391 - DEBUG - Calculating the determinant of the covariance\n",
      "2025-06-11 11:26:29,394 - DEBUG - Updating gamma\n",
      "2025-06-11 11:26:29,394 - DEBUG - Updating beta\n",
      "2025-06-11 11:26:29,394 - DEBUG - Updating mu\n",
      "2025-06-11 11:26:29,395 - DEBUG - Updating W\n",
      "2025-06-11 11:26:29,397 - DEBUG - Updating nu\n",
      "2025-06-11 11:26:29,397 - DEBUG - Updating prior\n",
      "2025-06-11 11:26:29,401 - DEBUG - Calculating the determinant of the covariance\n",
      "2025-06-11 11:26:29,401 - DEBUG - Delta: -964.2019475909166\n",
      "2025-06-11 11:26:29,402 - DEBUG - Iteration 90/100\n",
      "2025-06-11 11:26:29,402 - DEBUG - Updating responsibilities\n",
      "2025-06-11 11:26:29,402 - DEBUG - Calculating the determinant of the covariance\n",
      "2025-06-11 11:26:29,405 - DEBUG - Updating gamma\n",
      "2025-06-11 11:26:29,405 - DEBUG - Updating beta\n",
      "2025-06-11 11:26:29,406 - DEBUG - Updating mu\n",
      "2025-06-11 11:26:29,406 - DEBUG - Updating W\n",
      "2025-06-11 11:26:29,407 - DEBUG - Updating nu\n",
      "2025-06-11 11:26:29,407 - DEBUG - Updating prior\n",
      "2025-06-11 11:26:29,411 - DEBUG - Calculating the determinant of the covariance\n",
      "2025-06-11 11:26:29,412 - DEBUG - Delta: 0.34350771151417947\n",
      "2025-06-11 11:26:29,413 - DEBUG - Iteration 91/100\n",
      "2025-06-11 11:26:29,413 - DEBUG - Updating responsibilities\n",
      "2025-06-11 11:26:29,413 - DEBUG - Calculating the determinant of the covariance\n",
      "2025-06-11 11:26:29,416 - DEBUG - Updating gamma\n",
      "2025-06-11 11:26:29,417 - DEBUG - Updating beta\n",
      "2025-06-11 11:26:29,417 - DEBUG - Updating mu\n",
      "2025-06-11 11:26:29,417 - DEBUG - Updating W\n",
      "2025-06-11 11:26:29,418 - DEBUG - Updating nu\n",
      "2025-06-11 11:26:29,418 - DEBUG - Updating prior\n",
      "2025-06-11 11:26:29,422 - DEBUG - Calculating the determinant of the covariance\n",
      "2025-06-11 11:26:29,422 - DEBUG - Delta: -1842.8901325858167\n",
      "2025-06-11 11:26:29,423 - DEBUG - Iteration 92/100\n",
      "2025-06-11 11:26:29,423 - DEBUG - Updating responsibilities\n",
      "2025-06-11 11:26:29,424 - DEBUG - Calculating the determinant of the covariance\n",
      "2025-06-11 11:26:29,426 - DEBUG - Updating gamma\n",
      "2025-06-11 11:26:29,427 - DEBUG - Updating beta\n",
      "2025-06-11 11:26:29,427 - DEBUG - Updating mu\n",
      "2025-06-11 11:26:29,428 - DEBUG - Updating W\n",
      "2025-06-11 11:26:29,429 - DEBUG - Updating nu\n",
      "2025-06-11 11:26:29,429 - DEBUG - Updating prior\n",
      "2025-06-11 11:26:29,432 - DEBUG - Calculating the determinant of the covariance\n",
      "2025-06-11 11:26:29,433 - DEBUG - Delta: 0.6568004479380664\n",
      "2025-06-11 11:26:29,434 - DEBUG - Iteration 93/100\n",
      "2025-06-11 11:26:29,434 - DEBUG - Updating responsibilities\n",
      "2025-06-11 11:26:29,434 - DEBUG - Calculating the determinant of the covariance\n",
      "2025-06-11 11:26:29,436 - DEBUG - Updating gamma\n",
      "2025-06-11 11:26:29,437 - DEBUG - Updating beta\n",
      "2025-06-11 11:26:29,437 - DEBUG - Updating mu\n",
      "2025-06-11 11:26:29,438 - DEBUG - Updating W\n",
      "2025-06-11 11:26:29,439 - DEBUG - Updating nu\n",
      "2025-06-11 11:26:29,439 - DEBUG - Updating prior\n",
      "2025-06-11 11:26:29,442 - DEBUG - Calculating the determinant of the covariance\n",
      "2025-06-11 11:26:29,443 - DEBUG - Delta: -963.7076554310191\n",
      "2025-06-11 11:26:29,444 - DEBUG - Iteration 94/100\n",
      "2025-06-11 11:26:29,444 - DEBUG - Updating responsibilities\n",
      "2025-06-11 11:26:29,444 - DEBUG - Calculating the determinant of the covariance\n",
      "2025-06-11 11:26:29,448 - DEBUG - Updating gamma\n",
      "2025-06-11 11:26:29,448 - DEBUG - Updating beta\n",
      "2025-06-11 11:26:29,448 - DEBUG - Updating mu\n",
      "2025-06-11 11:26:29,449 - DEBUG - Updating W\n",
      "2025-06-11 11:26:29,450 - DEBUG - Updating nu\n",
      "2025-06-11 11:26:29,450 - DEBUG - Updating prior\n",
      "2025-06-11 11:26:29,454 - DEBUG - Calculating the determinant of the covariance\n",
      "2025-06-11 11:26:29,454 - DEBUG - Delta: 0.3440129902582377\n",
      "2025-06-11 11:26:29,455 - DEBUG - Iteration 95/100\n",
      "2025-06-11 11:26:29,455 - DEBUG - Updating responsibilities\n",
      "2025-06-11 11:26:29,456 - DEBUG - Calculating the determinant of the covariance\n",
      "2025-06-11 11:26:29,466 - DEBUG - Updating gamma\n",
      "2025-06-11 11:26:29,470 - DEBUG - Updating beta\n",
      "2025-06-11 11:26:29,471 - DEBUG - Updating mu\n",
      "2025-06-11 11:26:29,471 - DEBUG - Updating W\n",
      "2025-06-11 11:26:29,472 - DEBUG - Updating nu\n",
      "2025-06-11 11:26:29,473 - DEBUG - Updating prior\n",
      "2025-06-11 11:26:29,479 - DEBUG - Calculating the determinant of the covariance\n",
      "2025-06-11 11:26:29,481 - DEBUG - Delta: -1838.4031598880588\n",
      "2025-06-11 11:26:29,508 - DEBUG - Iteration 96/100\n",
      "2025-06-11 11:26:29,514 - DEBUG - Updating responsibilities\n",
      "2025-06-11 11:26:29,514 - DEBUG - Calculating the determinant of the covariance\n",
      "2025-06-11 11:26:29,517 - DEBUG - Updating gamma\n",
      "2025-06-11 11:26:29,517 - DEBUG - Updating beta\n",
      "2025-06-11 11:26:29,517 - DEBUG - Updating mu\n",
      "2025-06-11 11:26:29,517 - DEBUG - Updating W\n",
      "2025-06-11 11:26:29,518 - DEBUG - Updating nu\n",
      "2025-06-11 11:26:29,519 - DEBUG - Updating prior\n",
      "2025-06-11 11:26:29,529 - DEBUG - Calculating the determinant of the covariance\n",
      "2025-06-11 11:26:29,530 - DEBUG - Delta: 0.6562061198352446\n",
      "2025-06-11 11:26:29,531 - DEBUG - Iteration 97/100\n",
      "2025-06-11 11:26:29,531 - DEBUG - Updating responsibilities\n",
      "2025-06-11 11:26:29,531 - DEBUG - Calculating the determinant of the covariance\n",
      "2025-06-11 11:26:29,534 - DEBUG - Updating gamma\n",
      "2025-06-11 11:26:29,534 - DEBUG - Updating beta\n",
      "2025-06-11 11:26:29,534 - DEBUG - Updating mu\n",
      "2025-06-11 11:26:29,534 - DEBUG - Updating W\n",
      "2025-06-11 11:26:29,535 - DEBUG - Updating nu\n",
      "2025-06-11 11:26:29,536 - DEBUG - Updating prior\n",
      "2025-06-11 11:26:29,539 - DEBUG - Calculating the determinant of the covariance\n",
      "2025-06-11 11:26:29,540 - DEBUG - Delta: -964.105700433912\n",
      "2025-06-11 11:26:29,541 - DEBUG - Iteration 98/100\n",
      "2025-06-11 11:26:29,541 - DEBUG - Updating responsibilities\n",
      "2025-06-11 11:26:29,541 - DEBUG - Calculating the determinant of the covariance\n",
      "2025-06-11 11:26:29,544 - DEBUG - Updating gamma\n",
      "2025-06-11 11:26:29,545 - DEBUG - Updating beta\n",
      "2025-06-11 11:26:29,545 - DEBUG - Updating mu\n",
      "2025-06-11 11:26:29,545 - DEBUG - Updating W\n",
      "2025-06-11 11:26:29,547 - DEBUG - Updating nu\n",
      "2025-06-11 11:26:29,547 - DEBUG - Updating prior\n",
      "2025-06-11 11:26:29,550 - DEBUG - Calculating the determinant of the covariance\n",
      "2025-06-11 11:26:29,551 - DEBUG - Delta: 0.344494874604336\n",
      "2025-06-11 11:26:29,551 - DEBUG - Iteration 99/100\n",
      "2025-06-11 11:26:29,552 - DEBUG - Updating responsibilities\n",
      "2025-06-11 11:26:29,552 - DEBUG - Calculating the determinant of the covariance\n",
      "2025-06-11 11:26:29,555 - DEBUG - Updating gamma\n",
      "2025-06-11 11:26:29,555 - DEBUG - Updating beta\n",
      "2025-06-11 11:26:29,555 - DEBUG - Updating mu\n",
      "2025-06-11 11:26:29,555 - DEBUG - Updating W\n",
      "2025-06-11 11:26:29,556 - DEBUG - Updating nu\n",
      "2025-06-11 11:26:29,557 - DEBUG - Updating prior\n",
      "2025-06-11 11:26:29,560 - DEBUG - Calculating the determinant of the covariance\n",
      "2025-06-11 11:26:29,561 - DEBUG - Delta: -1835.4755731495718\n",
      "2025-06-11 11:26:29,562 - DEBUG - Iteration 100/100\n",
      "2025-06-11 11:26:29,562 - DEBUG - Updating responsibilities\n",
      "2025-06-11 11:26:29,562 - DEBUG - Calculating the determinant of the covariance\n",
      "2025-06-11 11:26:29,565 - DEBUG - Updating gamma\n",
      "2025-06-11 11:26:29,565 - DEBUG - Updating beta\n",
      "2025-06-11 11:26:29,566 - DEBUG - Updating mu\n",
      "2025-06-11 11:26:29,566 - DEBUG - Updating W\n",
      "2025-06-11 11:26:29,567 - DEBUG - Updating nu\n",
      "2025-06-11 11:26:29,567 - DEBUG - Updating prior\n",
      "2025-06-11 11:26:29,570 - DEBUG - Calculating the determinant of the covariance\n",
      "2025-06-11 11:26:29,571 - DEBUG - Delta: 0.6556939741436042\n"
     ]
    }
   ],
   "source": [
    "from clustlib.nonparam.tvclust import TVClust\n",
    "tvclust = TVClust(\n",
    "    n_clusters=10, \n",
    "    constraints=constraints, \n",
    "    max_iter=100, \n",
    "    tol=1e-4,\n",
    ")\n",
    "tvclust.fit(X)"
   ]
  },
  {
   "cell_type": "code",
   "execution_count": 4,
   "id": "569f32aa",
   "metadata": {},
   "outputs": [
    {
     "data": {
      "application/vnd.plotly.v1+json": {
       "config": {
        "plotlyServerURL": "https://plot.ly"
       },
       "data": [
        {
         "hovertemplate": "label=9<br>x=%{x}<br>y=%{y}<extra></extra>",
         "legendgroup": "9",
         "marker": {
          "color": "#f7dc6f",
          "size": 5,
          "symbol": "circle"
         },
         "mode": "markers",
         "name": "9",
         "orientation": "v",
         "showlegend": true,
         "type": "scatter",
         "x": {
          "bdata": "hRf/EupU/L8NCVaVOcIHwMYA0zRnBR/ANQ9qitnmD8D9v5aBL+gHwCNZhEhgsvC/fN3FefM2I8CHeFXhjckKwLLg6TX2sg7AvC35UhJIDcCqnmzGNC4BwMJ9IkSkTiLAhCnc+YmIA8CaHmCVdRsjwLZj6KJ6LgTAvUTHNa//BMBK6q9anOwMwH7KLukrIyPAgaHLE1zdGsAxdHRUeFYLwKaMHQsO0CHAJgJh3PHgCMALRNqXhqUgwEjPk42H/Pq/KwgE3hx7AcCFwftILH0JwJz05VqfShzAXOcXgwzHGsA=",
          "dtype": "f8"
         },
         "xaxis": "x",
         "y": {
          "bdata": "oVxBGA5fIkA1xMWijyQkQM4K97wwwSBAh0FgF8GWIEAx1mjRQaghQIYxZY+3kyFAPlw39JTKIECbMkdt/2ghQNKc3oEbbCJA2LqGAKzHIkA+u/pfA70gQICGxGg8KiBA+k2S1a9bHkDGXR8ImQEgQMGk83KI0x9AakZwPyZtIUBV2i6itkUfQMMQY+nwKB5AKcsLFUS2IEDgktAUbmgeQNry0jIFLSJAVC3ToPdxIUD1itd+Z1kfQEv5XC98LB9Ab3u5ASdCIUC5alslfkAjQAaE5h396R5AdPfKqGvUH0A=",
          "dtype": "f8"
         },
         "yaxis": "y"
        },
        {
         "hovertemplate": "label=8<br>x=%{x}<br>y=%{y}<extra></extra>",
         "legendgroup": "8",
         "marker": {
          "color": "#82e0aa",
          "size": 5,
          "symbol": "circle"
         },
         "mode": "markers",
         "name": "8",
         "orientation": "v",
         "showlegend": true,
         "type": "scatter",
         "x": {
          "bdata": "TQ9cfq4VHkCR5tfMEo8XQHGpxXyNhBlAbrwvlS5TFkA9DAsGLFAfQIlRNGp8mRlAId6hinwhF0AVPsjAxNwVQOsUe9SMPBdAPOZ88CIjGkDG6VOAQNQeQGhWLQdnZiBAnPFj23IAF0AiFnzHqGUeQPlRQu8svhNAPXLe6I7LGED4NxOZt/0QQC1bGfpXvBZAHOMEkps4FkDRguu2sBoaQJ5BeTq7NxRAeemSppsTG0CVZa8mYvYbQFfzbYKyKxhASxE3TkotHUC4gzj/tuwbQPiuzslQayFAvOQdesudGkBzHEXvMu0SQHSYElqOGRJAH7WlqIFQFUDkIiQMfnUUQHGmdXEecR1Aqq48YWtNIECW+LmNBlAfQJgOT0lkrSFA",
          "dtype": "f8"
         },
         "xaxis": "x",
         "y": {
          "bdata": "Q31DhI1HFsA5QtSxSmkWwIFwVSCIJBTAUCh9cxeVF8CsewUbu+MYwNWiLQdoIBPARj8xpwLNBUB0ut8AeCsfwByWhLUSaRnAIHt0Z8UPEsCmff+GPgwewLHysBzYjBbARWw23ZELFcDODvZaC1IZwFgD9gDumBHAWgOXJn+FFMCgldFyF0/gP7C93T/HRBTAIPjzclVqAkDpoVU9li4BQFqC5BYOaRnAI7U9eIL0FMBG4powMQQPwIy1Lf09SOI/poHu+NCJEcB/CC7HvgEawOD/Puim+w/AA/G21y/TFsAAAS8GWH2NvxxQPQyrHRnAGnqBMcNfD8ByXOo19OYRwOCZLrPtghvAay1zBWy3FsDc4Gf1J74WwDMPshH+PhrA",
          "dtype": "f8"
         },
         "yaxis": "y"
        },
        {
         "hovertemplate": "label=1<br>x=%{x}<br>y=%{y}<extra></extra>",
         "legendgroup": "1",
         "marker": {
          "color": "#f1948a",
          "size": 5,
          "symbol": "circle"
         },
         "mode": "markers",
         "name": "1",
         "orientation": "v",
         "showlegend": true,
         "type": "scatter",
         "x": {
          "bdata": "ADFFgD4iIMCePkOvm2UdwJ7zp4lm+SDAi0YBw8eDH8BYNzHxz2ofwOoUtcc54R/AFVn4ML+THMCUhvUGUSQgwDAhYV4ArB7ArQ9Zn2x3G8ASD2aHpNwgwA==",
          "dtype": "f8"
         },
         "xaxis": "x",
         "y": {
          "bdata": "dMPLqMGMGcDx/8Nku08XwMSKf8oqyBrAGZOBRjLcE8BGB1/xQV8YwPNYW2SHgxjASrRXbMejEMCucyvc6+QYwEA70oUhphbA7gNMNtC0FcD+v29yIq8ZwA==",
          "dtype": "f8"
         },
         "yaxis": "y"
        },
        {
         "hovertemplate": "label=5<br>x=%{x}<br>y=%{y}<extra></extra>",
         "legendgroup": "5",
         "marker": {
          "color": "#499cef",
          "size": 5,
          "symbol": "circle"
         },
         "mode": "markers",
         "name": "5",
         "orientation": "v",
         "showlegend": true,
         "type": "scatter",
         "x": {
          "bdata": "7BrdOc2dEMCGky2DvaIIwK331H5mNgrAppt+BaJ037+BGv1IQs8TwDW1fzQVjBnA3Gmqkrv3EcCM0Zv4RFPuv0ya8abj4vy/4OMFgSJ3xL9rsxaXVygNwLxoAOq4KxbAgvL23WS0CsCLXHKPkJ3mvyNMah/Ohg7AsnbVbLxa8T90F3/V054MwI1rvLTG7u6/wiA2nVlFB8D1/C3xugcSwMQXbDT4i/C/uOS44jIVC8B73Ka8nvoFwCNtOd/moA7A/TiReWBDEsCl/F07owPhv1L2Go3d7g7AVelloS4aE8BkEZtFpU8SwM5wKoDAKRPAwBO8puOA878y1ZwVbekHwP4O0TyythLAFPUWrDO11L8Pz5MxlVzwv2/p2gGXVhbAYqU0BVBM8b+ORDW0kdkPwOSdl1qZRBLAythQyL9b3799+ZkMYU7nvx2H7fxbUAvAdF39hkBBFcBB56x3Uz4NwFLv4ochWgzAmoUPYwT84L84uimd4FTjvw==",
          "dtype": "f8"
         },
         "xaxis": "x",
         "y": {
          "bdata": "pP2+5FVl2r/0kcn8dk7kv1UhSQ+KqfK/I9waeOiOBsBOU7+5rYHTP7bkA/QkUNO/BxJyHCEC9D8qgJ+bk2MCwOYDjgKLYg7AlEx2E39VEsCqO9sZFnncP3Cdu3EBYuE/Fk337X2x0j9FdN/Ai+wQwPCiYIG68fM/zHAGAk4vEMC4/Awx+0+1PyqQBR+3YhLAOGVofG/utL+GFtPvb5vXv4yoV3T8kxHAzgFTQrb8/j8KgL0uT/znP0AIclqSudU/IOWc4QFkgD+sdH1r1IsZwPiAhGQZftW/JFKPloROvD/MVhQSOA3xP0JiHDjNZ+y/4uM097QYCUAXPW47gjwDQLh6bw3A9PS/oJjmTeK9EsDCFuPM4VwSwFrhS3WmnfA/EjApxCA0FcDWRQwLjejmv7JodjhiXOE/QiCirXkBEsAk0Uk6wHn+v3rret4T4N6/QjMMCPjt8D8k7WHVIjDav/DCsOsF3ru/vTrMzUEgFMAt+BOs7GMUwA==",
          "dtype": "f8"
         },
         "yaxis": "y"
        },
        {
         "hovertemplate": "label=4<br>x=%{x}<br>y=%{y}<extra></extra>",
         "legendgroup": "4",
         "marker": {
          "color": "#f5b041",
          "size": 5,
          "symbol": "circle"
         },
         "mode": "markers",
         "name": "4",
         "orientation": "v",
         "showlegend": true,
         "type": "scatter",
         "x": {
          "bdata": "ps/ZU2WgIsCYUNQsl24kwMBa3d26pSLAjCaAGuSVIcBONM7AjIkfwJe84oYVZwLAc8HoJyS3JMDj7AxkCfYgwD0/c7w8GBrAFBrukv5CI8B8yN+LxhMkwGDtY5qrqiDAAavxQRtTAcBoFtAK6TgjwLEGOMNrjyHAE48s/E+MIcA6wM/M200gwCIG68gYuiXA",
          "dtype": "f8"
         },
         "xaxis": "x",
         "y": {
          "bdata": "M5i4QEeuGkCXEkdi9IoZQO2A0mcgnx1AWS06eAywGkBmVDvmT+YfQKGLAULtNxxAKwTMiG5bG0Awttnjh4kfQDC7eTk10xVASEEXH8zVHEACqWQZwvQbQKvAdQ/pYCBAflLSn0YBHUDcKaoDyVgcQMtdEMniuBhAurqbQ637GECSS0TN3dcWQDzTlng3Ch5A",
          "dtype": "f8"
         },
         "yaxis": "y"
        },
        {
         "hovertemplate": "label=3<br>x=%{x}<br>y=%{y}<extra></extra>",
         "legendgroup": "3",
         "marker": {
          "color": "#a569bd",
          "size": 5,
          "symbol": "circle"
         },
         "mode": "markers",
         "name": "3",
         "orientation": "v",
         "showlegend": true,
         "type": "scatter",
         "x": {
          "bdata": "CZ/q10swEUDENyXynLoDQAxJiX7fBv0/+oaIfNoxDUCwi86zfcMNQBP2+B9CyhFADr9QHlRmCkBqyYNIoe39Px5LhhLUxAVAknFR5srLCUBQZWdK3QIAQOSO87pKrhFAWgjhDk5QCkB28mXIqoAPQA97fVTV3QxArFboUBTqEUADMalDX+gSQCscb8BN7fY/GHtAdJl4GED3gtqxpPISQEy1Mo12vhNAWTQQ3HiUEkD8ou83xxfzP+aIO2fZPA1Ap8L7kLa2CEC+CLG0354MQMSSJq1AuRVA7GZU8MJwEEC7jz6u1ggDQGwVZxMVp/A/A+rwr/eWE0AOCtOW0lD8P2tMWlYgjgRA9wqgmWmuBkABaBxNraYOQL44tGdH9RJAk3ATxg+fEEAH/+5aWMUBQOWp9orUewlAp0YdJKC8AEDDl6/QICgGQN505XGihvE/+z8/Kg1gB0Ar66k0uN/8P/9ETp5KnwpAnJMkCWa1C0CyY+5oJG0CQGRg36EfyAZAMzOxdi3oFEDmU13qsGsSQOGTRGfrUPk/dYoGhycWAUA=",
          "dtype": "f8"
         },
         "xaxis": "x",
         "y": {
          "bdata": "IqZFr/m78j+Eqdk5jb4TQPR9qqP8WA1AhqiYKoyC9j9U1lMyUS8MQH4FHNeeMgJAzSdCVR2PDEA2YOhhw/8SQMehoI+AJf8/Q93XyCPX+D9rOOs5eB0RQKrw7AVrpAJAhN0qgVihC0A6WiO2/1P6P8cAFU2bYwdA9mLvM4wEA0Bug2dxXsn6PzuMF6ZRCxRAyCCAqURH9z+FDs4h1ogHQJKPc1Wx3wFADTXB7zvR+z/BqojqZs8MQBaSjCa52QVAj/Cj7ndVAEAWkPkD+JIDQOL3w4NABfE/cXaqJDnkA0BUt27tkr8LQOKWtzWFfhJAiimHLCxh/j8IP0xdMU8HQAn9lu6PrA9A3f7U+hAqE0CQAxT754r3P6iQE+Pdg/c/Spe158asAUCXUHWbaH0MQGHxmxfOrxBA8r560Yc1DkCLOaR1WBYTQHIAfFdfaBBAkj1DSADgEUBe0tVQeQoVQALjdZbVuhBAgYJd0QHOBUBXoj06XU8MQF2wCDpc5hNAbLWoZI2nEEAiWttDZb7pPxYXIWo0KxFAf0LlI1lLE0A=",
          "dtype": "f8"
         },
         "yaxis": "y"
        },
        {
         "hovertemplate": "label=7<br>x=%{x}<br>y=%{y}<extra></extra>",
         "legendgroup": "7",
         "marker": {
          "color": "#e74c3c",
          "size": 5,
          "symbol": "circle"
         },
         "mode": "markers",
         "name": "7",
         "orientation": "v",
         "showlegend": true,
         "type": "scatter",
         "x": {
          "bdata": "4DLqyjuEGsDd5z4DBIAcwAyDinWXtBLAHFLjoz/nGcAFZpWZgakawMckYVO6ehzAp8QlpWyCG8AWw1EoaGkawOlDrL2w0xvAKvE2JMqmHsDORRlkFT0ewIarOnElJPG/el2XDA4EGcAbhEGR1CUXwAycD1Wfe/W/nJDX4P8kGcCIJdW3UAocwKAiGOJZHgnAsZUQ2vI6GMBj2XE1dZMbwKmpF3dotBnAK/fJzKFYGsACTkkZsDsgwP8FiGZR/xbA/w42a5BpHMAGKWYcVuIWwCbpPPzT/BfAMOG7NPhNHcCArf8jRW4ZwNFOckaeehrAluoA4trnHsBocBk6rbcGwA3pU1g29xnAQOps3JkTH8ASz/p+Y3wZwJas8uHS4RnA7HGFrYtcE8CRnQNcKasbwIH1B1y+QBzAFlyeZS8OFMB4ZXleNZMbwDuMJ5YkoBnALXyNCFXNH8B7uMNi6cwSQCARGRDx6hfAQFa99OnaCcAwQ+e3PaoXwIFhV6Zm0xrAa5G5u9GbGsA=",
          "dtype": "f8"
         },
         "xaxis": "x",
         "y": {
          "bdata": "CeA5IXgiGsDO+b7cDokewDdxR5cTzRXAdt6gBCY2GsDU4qMyb0AgwBmYmHBDBB/ANTkDooKQHcDibdZSMjYYwNzZhIHkJxrArK198QXPHMB7VjmJZ5cawE/1nmXVzADAgF/hKPbyHsCLsIjNJxUYwJwFUSrp/QPAF1AoptTFHMAcj7V7YacdwGJzBw1bbwXAsvCwjOruE8C0SNN1g6EbwBPvvFXPgRXAgCkpY7pgHsD5/yGdsGYgwGXD7g8wTBbALkDygBiqGMDs9xZlnM0ewIYJlQJQFh3Aa0DIpEcYGMDdQ/SyHlUawO7eOUalZBjA1/SwxzfKIMC0OG+c2EAIwM7ITFtZJh3Acrt2OJ/IHsA7feGvaWgTwA4nDLr2dx3AG83+IAgsF8BSVGiqgB4ewFbUGJ3CeBjAIrrz/QagGcDgD+UEx38cwH9SmBzPzxvAOkxNMy6XGcAU9OS74r4RQPmBOuVadRnAktFYt5MbEsAZpelni94ZwEsAXs+q+hnAu62s0bdKFsA=",
          "dtype": "f8"
         },
         "yaxis": "y"
        },
        {
         "hovertemplate": "label=2<br>x=%{x}<br>y=%{y}<extra></extra>",
         "legendgroup": "2",
         "marker": {
          "color": "#2ecc71",
          "size": 5,
          "symbol": "circle"
         },
         "mode": "markers",
         "name": "2",
         "orientation": "v",
         "showlegend": true,
         "type": "scatter",
         "x": {
          "bdata": "ABb90rIuAcAlvpC5yq8iwC/I8UHCcSPAHVp85w6dJMD6QLlk5mQjwNpJNtIXdiHAXdE0h437IsBSDPs+UKYEwKHJ78JobAHAvHGEiLttCMCQaS4Ns6b3v8Jd7hb0OSHAkGGD6mIeJMATCCP3hKUgwAMSvmKqICPADpZQO8tZIsCCvsFZqu0hwJwyfMIh4wjA1u4TbtzLIcD9JfO0B44iwEiJ8I8JhBTA2uBrMk8jIsDFJCoTQ9wgwMceRo3e0yTAgv3i2T2HIsAiPDWwOkYgwIz7fVSRJfu/HJf+zSTQJMDuW+NnHS0MwJdHpF01XATA",
          "dtype": "f8"
         },
         "xaxis": "x",
         "y": {
          "bdata": "7ddMCsoaJUAQ3E1tUsghQBa8kLSz6B1A3hqsiZdeIkD400WkjZkjQC4IFQX9eSJAe6GM55j8I0D2m0yTHwkkQGlSjCnL+iNA9S1pWxtAIkCr1VhCIeQjQMXIs2CVgCJAYiN0u69CI0DjaHwEPlomQHXiaB3ayiNA9qpv+j+rIUBf6kX8lg0kQLTqTVGuuyVADrCRtnP+IUDXp3dfQr8lQHVhnOogrCNAuHY9o6PcJUD/OaRLNWEkQHiQPcxTJyJAc4lXXz6JIkCBPlAHBrckQKlFu5q1vSRA+m0r3i37JkAagKuJNagiQM8GEnxpKCVA",
          "dtype": "f8"
         },
         "yaxis": "y"
        },
        {
         "hovertemplate": "label=6<br>x=%{x}<br>y=%{y}<extra></extra>",
         "legendgroup": "6",
         "marker": {
          "color": "#3498db",
          "size": 5,
          "symbol": "circle"
         },
         "mode": "markers",
         "name": "6",
         "orientation": "v",
         "showlegend": true,
         "type": "scatter",
         "x": {
          "bdata": "l3vGu3q6IsA2ItMgZwYjwM7qEQ4x0iTAGB3iiO2IIMBuSomxSzAlwFfdup37hyLAjmSi+A4AI8Bh9EhLohImwOOCOTF8MyPAdACc4MsyJMBVLGdZ2p4iwJcOtmE0+yLAFEG6GpK9HcCFD3uJsTYjwA==",
          "dtype": "f8"
         },
         "xaxis": "x",
         "y": {
          "bdata": "9Dp3/lLSIkAHEAKLK3EhQOPHkw2lSCNAkDi5pw3rIEDp9V1aNl4gQMaQKqtVJCFARhYJ8BZaIEAITzPIgvYfQIW10I57ACFAU9X0y5Z7IEAbBG26L9MgQCndYYsYQCFAlZ79s/5CIUAva/BqFTgiQA==",
          "dtype": "f8"
         },
         "yaxis": "y"
        },
        {
         "hovertemplate": "label=0<br>x=%{x}<br>y=%{y}<extra></extra>",
         "legendgroup": "0",
         "marker": {
          "color": "#e67e22",
          "size": 5,
          "symbol": "circle"
         },
         "mode": "markers",
         "name": "0",
         "orientation": "v",
         "showlegend": true,
         "type": "scatter",
         "x": {
          "bdata": "PBlDxeZGCsB8PLuh/AHyv4TlRk5TOuy/gTmdN5sg/b8yFYIZx98SwL5RL5ZMlP2/+OpVnFiYEcB6GsuXQBQBwPZcZch4GPq//Ej4zyPe8r9D1wOr4I0awFhTPVWyQxjArv7ruIXwEsDiKI7D7aH0v3cICHCcMQvA",
          "dtype": "f8"
         },
         "xaxis": "x",
         "y": {
          "bdata": "6hxbUW7ZFMAyM5bChTwLwJot0Bfquw7AsL32Kt4ZFMBp7Yh341IawDvJWRmRbhLA7mjpCMQvGcCkt/ZTJ64VwD7D15nhnRTAmFJeDuZqD8CPpBp+hUQhwJrTgZLROCDA3wbkehnZHsDYw2KZv5wSwKxR5FfouxTA",
          "dtype": "f8"
         },
         "yaxis": "y"
        },
        {
         "marker": {
          "color": [
           "#f7dc6f"
          ],
          "size": 10,
          "symbol": "star"
         },
         "mode": "markers",
         "name": "Centroid 1",
         "type": "scatter",
         "x": [
          -3.2428231139269417
         ],
         "y": [
          -5.698673067519347
         ]
        },
        {
         "marker": {
          "color": [
           "#82e0aa"
          ],
          "size": 10,
          "symbol": "star"
         },
         "mode": "markers",
         "name": "Centroid 2",
         "type": "scatter",
         "x": [
          -7.802693283385316
         ],
         "y": [
          -5.764794173160424
         ]
        },
        {
         "marker": {
          "color": [
           "#f1948a"
          ],
          "size": 10,
          "symbol": "star"
         },
         "mode": "markers",
         "name": "Centroid 3",
         "type": "scatter",
         "x": [
          -7.334064255978232
         ],
         "y": [
          9.897781757789321
         ]
        },
        {
         "marker": {
          "color": [
           "#499cef"
          ],
          "size": 10,
          "symbol": "star"
         },
         "mode": "markers",
         "name": "Centroid 4",
         "type": "scatter",
         "x": [
          3.3198257822276154
         ],
         "y": [
          3.093287044572657
         ]
        },
        {
         "marker": {
          "color": [
           "#f5b041"
          ],
          "size": 10,
          "symbol": "star"
         },
         "mode": "markers",
         "name": "Centroid 5",
         "type": "scatter",
         "x": [
          -8.44472239818475
         ],
         "y": [
          6.895135756426087
         ]
        },
        {
         "marker": {
          "color": [
           "#a569bd"
          ],
          "size": 10,
          "symbol": "star"
         },
         "mode": "markers",
         "name": "Centroid 6",
         "type": "scatter",
         "x": [
          -2.860215175744969
         ],
         "y": [
          -1.1751746281624373
         ]
        },
        {
         "marker": {
          "color": [
           "#e74c3c"
          ],
          "size": 10,
          "symbol": "star"
         },
         "mode": "markers",
         "name": "Centroid 7",
         "type": "scatter",
         "x": [
          -9.618709689020834
         ],
         "y": [
          8.824629653993286
         ]
        },
        {
         "marker": {
          "color": [
           "#2ecc71"
          ],
          "size": 10,
          "symbol": "star"
         },
         "mode": "markers",
         "name": "Centroid 8",
         "type": "scatter",
         "x": [
          -6.247489004633377
         ],
         "y": [
          -6.455274529753104
         ]
        },
        {
         "marker": {
          "color": [
           "#3498db"
          ],
          "size": 10,
          "symbol": "star"
         },
         "mode": "markers",
         "name": "Centroid 9",
         "type": "scatter",
         "x": [
          6.515288724830269
         ],
         "y": [
          -4.674789280501437
         ]
        },
        {
         "marker": {
          "color": [
           "#e67e22"
          ],
          "size": 10,
          "symbol": "star"
         },
         "mode": "markers",
         "name": "Centroid 10",
         "type": "scatter",
         "x": [
          -4.63557504341571
         ],
         "y": [
          8.609895975005477
         ]
        }
       ],
       "layout": {
        "legend": {
         "title": {
          "text": "label"
         },
         "tracegroupgap": 0
        },
        "template": {
         "data": {
          "bar": [
           {
            "error_x": {
             "color": "#2a3f5f"
            },
            "error_y": {
             "color": "#2a3f5f"
            },
            "marker": {
             "line": {
              "color": "#E5ECF6",
              "width": 0.5
             },
             "pattern": {
              "fillmode": "overlay",
              "size": 10,
              "solidity": 0.2
             }
            },
            "type": "bar"
           }
          ],
          "barpolar": [
           {
            "marker": {
             "line": {
              "color": "#E5ECF6",
              "width": 0.5
             },
             "pattern": {
              "fillmode": "overlay",
              "size": 10,
              "solidity": 0.2
             }
            },
            "type": "barpolar"
           }
          ],
          "carpet": [
           {
            "aaxis": {
             "endlinecolor": "#2a3f5f",
             "gridcolor": "white",
             "linecolor": "white",
             "minorgridcolor": "white",
             "startlinecolor": "#2a3f5f"
            },
            "baxis": {
             "endlinecolor": "#2a3f5f",
             "gridcolor": "white",
             "linecolor": "white",
             "minorgridcolor": "white",
             "startlinecolor": "#2a3f5f"
            },
            "type": "carpet"
           }
          ],
          "choropleth": [
           {
            "colorbar": {
             "outlinewidth": 0,
             "ticks": ""
            },
            "type": "choropleth"
           }
          ],
          "contour": [
           {
            "colorbar": {
             "outlinewidth": 0,
             "ticks": ""
            },
            "colorscale": [
             [
              0,
              "#0d0887"
             ],
             [
              0.1111111111111111,
              "#46039f"
             ],
             [
              0.2222222222222222,
              "#7201a8"
             ],
             [
              0.3333333333333333,
              "#9c179e"
             ],
             [
              0.4444444444444444,
              "#bd3786"
             ],
             [
              0.5555555555555556,
              "#d8576b"
             ],
             [
              0.6666666666666666,
              "#ed7953"
             ],
             [
              0.7777777777777778,
              "#fb9f3a"
             ],
             [
              0.8888888888888888,
              "#fdca26"
             ],
             [
              1,
              "#f0f921"
             ]
            ],
            "type": "contour"
           }
          ],
          "contourcarpet": [
           {
            "colorbar": {
             "outlinewidth": 0,
             "ticks": ""
            },
            "type": "contourcarpet"
           }
          ],
          "heatmap": [
           {
            "colorbar": {
             "outlinewidth": 0,
             "ticks": ""
            },
            "colorscale": [
             [
              0,
              "#0d0887"
             ],
             [
              0.1111111111111111,
              "#46039f"
             ],
             [
              0.2222222222222222,
              "#7201a8"
             ],
             [
              0.3333333333333333,
              "#9c179e"
             ],
             [
              0.4444444444444444,
              "#bd3786"
             ],
             [
              0.5555555555555556,
              "#d8576b"
             ],
             [
              0.6666666666666666,
              "#ed7953"
             ],
             [
              0.7777777777777778,
              "#fb9f3a"
             ],
             [
              0.8888888888888888,
              "#fdca26"
             ],
             [
              1,
              "#f0f921"
             ]
            ],
            "type": "heatmap"
           }
          ],
          "histogram": [
           {
            "marker": {
             "pattern": {
              "fillmode": "overlay",
              "size": 10,
              "solidity": 0.2
             }
            },
            "type": "histogram"
           }
          ],
          "histogram2d": [
           {
            "colorbar": {
             "outlinewidth": 0,
             "ticks": ""
            },
            "colorscale": [
             [
              0,
              "#0d0887"
             ],
             [
              0.1111111111111111,
              "#46039f"
             ],
             [
              0.2222222222222222,
              "#7201a8"
             ],
             [
              0.3333333333333333,
              "#9c179e"
             ],
             [
              0.4444444444444444,
              "#bd3786"
             ],
             [
              0.5555555555555556,
              "#d8576b"
             ],
             [
              0.6666666666666666,
              "#ed7953"
             ],
             [
              0.7777777777777778,
              "#fb9f3a"
             ],
             [
              0.8888888888888888,
              "#fdca26"
             ],
             [
              1,
              "#f0f921"
             ]
            ],
            "type": "histogram2d"
           }
          ],
          "histogram2dcontour": [
           {
            "colorbar": {
             "outlinewidth": 0,
             "ticks": ""
            },
            "colorscale": [
             [
              0,
              "#0d0887"
             ],
             [
              0.1111111111111111,
              "#46039f"
             ],
             [
              0.2222222222222222,
              "#7201a8"
             ],
             [
              0.3333333333333333,
              "#9c179e"
             ],
             [
              0.4444444444444444,
              "#bd3786"
             ],
             [
              0.5555555555555556,
              "#d8576b"
             ],
             [
              0.6666666666666666,
              "#ed7953"
             ],
             [
              0.7777777777777778,
              "#fb9f3a"
             ],
             [
              0.8888888888888888,
              "#fdca26"
             ],
             [
              1,
              "#f0f921"
             ]
            ],
            "type": "histogram2dcontour"
           }
          ],
          "mesh3d": [
           {
            "colorbar": {
             "outlinewidth": 0,
             "ticks": ""
            },
            "type": "mesh3d"
           }
          ],
          "parcoords": [
           {
            "line": {
             "colorbar": {
              "outlinewidth": 0,
              "ticks": ""
             }
            },
            "type": "parcoords"
           }
          ],
          "pie": [
           {
            "automargin": true,
            "type": "pie"
           }
          ],
          "scatter": [
           {
            "fillpattern": {
             "fillmode": "overlay",
             "size": 10,
             "solidity": 0.2
            },
            "type": "scatter"
           }
          ],
          "scatter3d": [
           {
            "line": {
             "colorbar": {
              "outlinewidth": 0,
              "ticks": ""
             }
            },
            "marker": {
             "colorbar": {
              "outlinewidth": 0,
              "ticks": ""
             }
            },
            "type": "scatter3d"
           }
          ],
          "scattercarpet": [
           {
            "marker": {
             "colorbar": {
              "outlinewidth": 0,
              "ticks": ""
             }
            },
            "type": "scattercarpet"
           }
          ],
          "scattergeo": [
           {
            "marker": {
             "colorbar": {
              "outlinewidth": 0,
              "ticks": ""
             }
            },
            "type": "scattergeo"
           }
          ],
          "scattergl": [
           {
            "marker": {
             "colorbar": {
              "outlinewidth": 0,
              "ticks": ""
             }
            },
            "type": "scattergl"
           }
          ],
          "scattermap": [
           {
            "marker": {
             "colorbar": {
              "outlinewidth": 0,
              "ticks": ""
             }
            },
            "type": "scattermap"
           }
          ],
          "scattermapbox": [
           {
            "marker": {
             "colorbar": {
              "outlinewidth": 0,
              "ticks": ""
             }
            },
            "type": "scattermapbox"
           }
          ],
          "scatterpolar": [
           {
            "marker": {
             "colorbar": {
              "outlinewidth": 0,
              "ticks": ""
             }
            },
            "type": "scatterpolar"
           }
          ],
          "scatterpolargl": [
           {
            "marker": {
             "colorbar": {
              "outlinewidth": 0,
              "ticks": ""
             }
            },
            "type": "scatterpolargl"
           }
          ],
          "scatterternary": [
           {
            "marker": {
             "colorbar": {
              "outlinewidth": 0,
              "ticks": ""
             }
            },
            "type": "scatterternary"
           }
          ],
          "surface": [
           {
            "colorbar": {
             "outlinewidth": 0,
             "ticks": ""
            },
            "colorscale": [
             [
              0,
              "#0d0887"
             ],
             [
              0.1111111111111111,
              "#46039f"
             ],
             [
              0.2222222222222222,
              "#7201a8"
             ],
             [
              0.3333333333333333,
              "#9c179e"
             ],
             [
              0.4444444444444444,
              "#bd3786"
             ],
             [
              0.5555555555555556,
              "#d8576b"
             ],
             [
              0.6666666666666666,
              "#ed7953"
             ],
             [
              0.7777777777777778,
              "#fb9f3a"
             ],
             [
              0.8888888888888888,
              "#fdca26"
             ],
             [
              1,
              "#f0f921"
             ]
            ],
            "type": "surface"
           }
          ],
          "table": [
           {
            "cells": {
             "fill": {
              "color": "#EBF0F8"
             },
             "line": {
              "color": "white"
             }
            },
            "header": {
             "fill": {
              "color": "#C8D4E3"
             },
             "line": {
              "color": "white"
             }
            },
            "type": "table"
           }
          ]
         },
         "layout": {
          "annotationdefaults": {
           "arrowcolor": "#2a3f5f",
           "arrowhead": 0,
           "arrowwidth": 1
          },
          "autotypenumbers": "strict",
          "coloraxis": {
           "colorbar": {
            "outlinewidth": 0,
            "ticks": ""
           }
          },
          "colorscale": {
           "diverging": [
            [
             0,
             "#8e0152"
            ],
            [
             0.1,
             "#c51b7d"
            ],
            [
             0.2,
             "#de77ae"
            ],
            [
             0.3,
             "#f1b6da"
            ],
            [
             0.4,
             "#fde0ef"
            ],
            [
             0.5,
             "#f7f7f7"
            ],
            [
             0.6,
             "#e6f5d0"
            ],
            [
             0.7,
             "#b8e186"
            ],
            [
             0.8,
             "#7fbc41"
            ],
            [
             0.9,
             "#4d9221"
            ],
            [
             1,
             "#276419"
            ]
           ],
           "sequential": [
            [
             0,
             "#0d0887"
            ],
            [
             0.1111111111111111,
             "#46039f"
            ],
            [
             0.2222222222222222,
             "#7201a8"
            ],
            [
             0.3333333333333333,
             "#9c179e"
            ],
            [
             0.4444444444444444,
             "#bd3786"
            ],
            [
             0.5555555555555556,
             "#d8576b"
            ],
            [
             0.6666666666666666,
             "#ed7953"
            ],
            [
             0.7777777777777778,
             "#fb9f3a"
            ],
            [
             0.8888888888888888,
             "#fdca26"
            ],
            [
             1,
             "#f0f921"
            ]
           ],
           "sequentialminus": [
            [
             0,
             "#0d0887"
            ],
            [
             0.1111111111111111,
             "#46039f"
            ],
            [
             0.2222222222222222,
             "#7201a8"
            ],
            [
             0.3333333333333333,
             "#9c179e"
            ],
            [
             0.4444444444444444,
             "#bd3786"
            ],
            [
             0.5555555555555556,
             "#d8576b"
            ],
            [
             0.6666666666666666,
             "#ed7953"
            ],
            [
             0.7777777777777778,
             "#fb9f3a"
            ],
            [
             0.8888888888888888,
             "#fdca26"
            ],
            [
             1,
             "#f0f921"
            ]
           ]
          },
          "colorway": [
           "#636efa",
           "#EF553B",
           "#00cc96",
           "#ab63fa",
           "#FFA15A",
           "#19d3f3",
           "#FF6692",
           "#B6E880",
           "#FF97FF",
           "#FECB52"
          ],
          "font": {
           "color": "#2a3f5f"
          },
          "geo": {
           "bgcolor": "white",
           "lakecolor": "white",
           "landcolor": "#E5ECF6",
           "showlakes": true,
           "showland": true,
           "subunitcolor": "white"
          },
          "hoverlabel": {
           "align": "left"
          },
          "hovermode": "closest",
          "mapbox": {
           "style": "light"
          },
          "paper_bgcolor": "white",
          "plot_bgcolor": "#E5ECF6",
          "polar": {
           "angularaxis": {
            "gridcolor": "white",
            "linecolor": "white",
            "ticks": ""
           },
           "bgcolor": "#E5ECF6",
           "radialaxis": {
            "gridcolor": "white",
            "linecolor": "white",
            "ticks": ""
           }
          },
          "scene": {
           "xaxis": {
            "backgroundcolor": "#E5ECF6",
            "gridcolor": "white",
            "gridwidth": 2,
            "linecolor": "white",
            "showbackground": true,
            "ticks": "",
            "zerolinecolor": "white"
           },
           "yaxis": {
            "backgroundcolor": "#E5ECF6",
            "gridcolor": "white",
            "gridwidth": 2,
            "linecolor": "white",
            "showbackground": true,
            "ticks": "",
            "zerolinecolor": "white"
           },
           "zaxis": {
            "backgroundcolor": "#E5ECF6",
            "gridcolor": "white",
            "gridwidth": 2,
            "linecolor": "white",
            "showbackground": true,
            "ticks": "",
            "zerolinecolor": "white"
           }
          },
          "shapedefaults": {
           "line": {
            "color": "#2a3f5f"
           }
          },
          "ternary": {
           "aaxis": {
            "gridcolor": "white",
            "linecolor": "white",
            "ticks": ""
           },
           "baxis": {
            "gridcolor": "white",
            "linecolor": "white",
            "ticks": ""
           },
           "bgcolor": "#E5ECF6",
           "caxis": {
            "gridcolor": "white",
            "linecolor": "white",
            "ticks": ""
           }
          },
          "title": {
           "x": 0.05
          },
          "xaxis": {
           "automargin": true,
           "gridcolor": "white",
           "linecolor": "white",
           "ticks": "",
           "title": {
            "standoff": 15
           },
           "zerolinecolor": "white",
           "zerolinewidth": 2
          },
          "yaxis": {
           "automargin": true,
           "gridcolor": "white",
           "linecolor": "white",
           "ticks": "",
           "title": {
            "standoff": 15
           },
           "zerolinecolor": "white",
           "zerolinewidth": 2
          }
         }
        },
        "title": {
         "text": "TVCluster"
        },
        "xaxis": {
         "anchor": "y",
         "domain": [
          0,
          1
         ],
         "title": {
          "text": "x"
         }
        },
        "yaxis": {
         "anchor": "x",
         "domain": [
          0,
          1
         ],
         "title": {
          "text": "y"
         }
        }
       }
      }
     },
     "metadata": {},
     "output_type": "display_data"
    }
   ],
   "source": [
    "rdpm_centroids = tvclust.centroids\n",
    "df = pd.DataFrame(X, columns=['x', 'y'])\n",
    "df['label'] = tvclust._labels\n",
    "fig = plot_dataframe(df, title='TVCluster', x='x', y='y', label='label')\n",
    "for i, centroid in enumerate(rdpm_centroids):\n",
    "    fig = plot_centroid(fig, centroid, colors=[COLORS[i % len(COLORS)]], marker_size=10, symbol='star', name=f'Centroid {i+1}')\n",
    "fig.show()"
   ]
  }
 ],
 "metadata": {
  "kernelspec": {
   "display_name": "clustlib-5JQ_NFw--py3.13",
   "language": "python",
   "name": "python3"
  },
  "language_info": {
   "codemirror_mode": {
    "name": "ipython",
    "version": 3
   },
   "file_extension": ".py",
   "mimetype": "text/x-python",
   "name": "python",
   "nbconvert_exporter": "python",
   "pygments_lexer": "ipython3",
   "version": "3.13.2"
  }
 },
 "nbformat": 4,
 "nbformat_minor": 5
}
