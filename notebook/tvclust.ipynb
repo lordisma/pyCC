{
 "cells": [
  {
   "cell_type": "code",
   "execution_count": 1,
   "id": "b3494bec",
   "metadata": {},
   "outputs": [],
   "source": [
    "import numpy as np\n",
    "import math as m\n",
    "import scipy as sc\n",
    "import pandas as pd\n",
    "from sklearn.datasets import make_blobs\n",
    "import plotly.express as px\n",
    "\n",
    "import logging\n",
    "import sys\n",
    "\n",
    "logging.basicConfig(\n",
    "    level=logging.DEBUG,\n",
    "    format='%(asctime)s - %(levelname)s - %(message)s',\n",
    "    handlers=[\n",
    "        logging.StreamHandler(sys.stdout)\n",
    "    ]\n",
    ")\n",
    "\n",
    "COLORS = [\n",
    "    \"#f7dc6f\",\n",
    "    \"#82e0aa\",\n",
    "    \"#f1948a\",\n",
    "    \"#499cef\",\n",
    "    \"#f5b041\",\n",
    "    \"#a569bd\",\n",
    "    \"#e74c3c\",\n",
    "    \"#2ecc71\",\n",
    "    \"#3498db\",\n",
    "    \"#e67e22\",\n",
    "    \"#9b59b6\",\n",
    "    \"#1abc9c\",\n",
    "    \"#34495e\",\n",
    "    \"#d35400\",\n",
    "    \"#c0392b\",\n",
    "    \"#16a085\",\n",
    "    \"#2980b9\",\n",
    "    \"#8e44ad\",\n",
    "]\n",
    "\n",
    "def twospirals(n_points, noise=.5):\n",
    "    n = np.sqrt(np.random.rand(n_points,1)) * 780 * (2*np.pi)/360\n",
    "    d1x = -np.cos(n)*n + np.random.rand(n_points,1) * noise\n",
    "    d1y = np.sin(n)*n + np.random.rand(n_points,1) * noise\n",
    "    return (np.vstack((np.hstack((d1x,d1y)),np.hstack((-d1x,-d1y)))), np.hstack((np.zeros(n_points, dtype=int),np.ones(n_points, dtype=int))))\n",
    "\n",
    "def plot_dataframe(df, title='', x='x', y='y', label='label'):\n",
    "    df[label] = df[label].astype(str)\n",
    "    fig = px.scatter(\n",
    "        df, \n",
    "        x=x, \n",
    "        y=y, \n",
    "        symbol=label,\n",
    "        color=label,\n",
    "        color_discrete_sequence= COLORS, \n",
    "        title=title\n",
    "    )\n",
    "    fig.update_traces(marker=dict(size=5, symbol='circle'))\n",
    "\n",
    "    return fig\n",
    "\n",
    "def plot_centroid(fig, centroid, colors = ['#a569bd'], marker_size=10, symbol = 'star', name = 'Centroid'):\n",
    "    fig.add_scatter(\n",
    "        x=[centroid[0]], \n",
    "        y=[centroid[1]], \n",
    "        mode='markers',\n",
    "        marker=dict(\n",
    "            size = marker_size,\n",
    "            color = colors,\n",
    "            symbol = symbol,\n",
    "        ), \n",
    "        name=name\n",
    "    )\n",
    "    return fig\n",
    "\n",
    "def create_constraints(labels, probability=0.01, seed=0):\n",
    "    n_points = len(labels)\n",
    "    constraints = np.zeros((n_points, n_points), dtype=int)\n",
    "    state = np.random.RandomState(seed=seed)\n",
    "    for i in range(n_points):\n",
    "        for j in range(i +1, n_points):\n",
    "            if state.rand() < probability:\n",
    "                if labels[i] == labels[j]:\n",
    "                    constraints[i, j] = 1\n",
    "                    constraints[j, i] = 1\n",
    "                elif labels[i] != labels[j]:\n",
    "                    constraints[i, j] = -1\n",
    "                    constraints[j, i] = -1\n",
    "    return constraints"
   ]
  },
  {
   "cell_type": "code",
   "execution_count": 2,
   "id": "1ee6b482",
   "metadata": {},
   "outputs": [],
   "source": [
    "X, y = make_blobs(n_samples=300, centers=10, cluster_std=1.0, random_state=42)\n",
    "constraints = create_constraints(y, probability=0.01, seed=42)"
   ]
  },
  {
   "cell_type": "code",
   "execution_count": 3,
   "id": "a66b4c2d",
   "metadata": {},
   "outputs": [
    {
     "name": "stdout",
     "output_type": "stream",
     "text": [
      "2025-06-01 12:34:15,932 - DEBUG - Initializing parameters for TVClust, n_clusters=10, p=2\n",
      "2025-06-01 12:34:15,933 - DEBUG - Covariance inverse: (2, 2, 10)\n",
      "2025-06-01 12:34:15,933 - DEBUG - Iteration 1/100\n",
      "2025-06-01 12:34:15,933 - DEBUG - Updating responsibilities\n"
     ]
    },
    {
     "ename": "ValueError",
     "evalue": "operands could not be broadcast together with shapes (10,) (10,2) ",
     "output_type": "error",
     "traceback": [
      "\u001b[0;31m---------------------------------------------------------------------------\u001b[0m",
      "\u001b[0;31mValueError\u001b[0m                                Traceback (most recent call last)",
      "Cell \u001b[0;32mIn[3], line 8\u001b[0m\n\u001b[1;32m      1\u001b[0m \u001b[38;5;28;01mfrom\u001b[39;00m \u001b[38;5;21;01mclustlib\u001b[39;00m\u001b[38;5;21;01m.\u001b[39;00m\u001b[38;5;21;01mnonparam\u001b[39;00m\u001b[38;5;21;01m.\u001b[39;00m\u001b[38;5;21;01mtvclust\u001b[39;00m \u001b[38;5;28;01mimport\u001b[39;00m TVClust\n\u001b[1;32m      2\u001b[0m tvclust \u001b[38;5;241m=\u001b[39m TVClust(\n\u001b[1;32m      3\u001b[0m     n_clusters\u001b[38;5;241m=\u001b[39m\u001b[38;5;241m10\u001b[39m, \n\u001b[1;32m      4\u001b[0m     constraints\u001b[38;5;241m=\u001b[39mconstraints, \n\u001b[1;32m      5\u001b[0m     max_iter\u001b[38;5;241m=\u001b[39m\u001b[38;5;241m100\u001b[39m, \n\u001b[1;32m      6\u001b[0m     tol\u001b[38;5;241m=\u001b[39m\u001b[38;5;241m1e-4\u001b[39m,\n\u001b[1;32m      7\u001b[0m )\n\u001b[0;32m----> 8\u001b[0m \u001b[43mtvclust\u001b[49m\u001b[38;5;241;43m.\u001b[39;49m\u001b[43mfit\u001b[49m\u001b[43m(\u001b[49m\u001b[43mX\u001b[49m\u001b[43m)\u001b[49m\n",
      "File \u001b[0;32m~/Documents/Projects/clustlib/clustlib/model.py:70\u001b[0m, in \u001b[0;36mBaseEstimator.fit\u001b[0;34m(self, dataset, labels)\u001b[0m\n\u001b[1;32m     67\u001b[0m \u001b[38;5;28;01melse\u001b[39;00m:\n\u001b[1;32m     68\u001b[0m     \u001b[38;5;28mself\u001b[39m\u001b[38;5;241m.\u001b[39m_labels \u001b[38;5;241m=\u001b[39m np\u001b[38;5;241m.\u001b[39mcopy(labels)\n\u001b[0;32m---> 70\u001b[0m \u001b[38;5;28;01mreturn\u001b[39;00m \u001b[38;5;28;43mself\u001b[39;49m\u001b[38;5;241;43m.\u001b[39;49m\u001b[43m_fit\u001b[49m\u001b[43m(\u001b[49m\u001b[43m)\u001b[49m\n",
      "File \u001b[0;32m~/Documents/Projects/clustlib/clustlib/nonparam/tvclust.py:586\u001b[0m, in \u001b[0;36mTVClust._fit\u001b[0;34m(self)\u001b[0m\n\u001b[1;32m    584\u001b[0m \u001b[38;5;28;01mfor\u001b[39;00m iteration \u001b[38;5;129;01min\u001b[39;00m \u001b[38;5;28mrange\u001b[39m(\u001b[38;5;28mself\u001b[39m\u001b[38;5;241m.\u001b[39mmax_iter):\n\u001b[1;32m    585\u001b[0m     logger\u001b[38;5;241m.\u001b[39mdebug(\u001b[38;5;124mf\u001b[39m\u001b[38;5;124m\"\u001b[39m\u001b[38;5;124mIteration \u001b[39m\u001b[38;5;132;01m{\u001b[39;00miteration\u001b[38;5;250m \u001b[39m\u001b[38;5;241m+\u001b[39m\u001b[38;5;250m \u001b[39m\u001b[38;5;241m1\u001b[39m\u001b[38;5;132;01m}\u001b[39;00m\u001b[38;5;124m/\u001b[39m\u001b[38;5;132;01m{\u001b[39;00m\u001b[38;5;28mself\u001b[39m\u001b[38;5;241m.\u001b[39mmax_iter\u001b[38;5;132;01m}\u001b[39;00m\u001b[38;5;124m\"\u001b[39m)\n\u001b[0;32m--> 586\u001b[0m     \u001b[38;5;28;43mself\u001b[39;49m\u001b[38;5;241;43m.\u001b[39;49m\u001b[43mupdate\u001b[49m\u001b[43m(\u001b[49m\u001b[43m)\u001b[49m\n\u001b[1;32m    587\u001b[0m     \u001b[38;5;28mself\u001b[39m\u001b[38;5;241m.\u001b[39m_condicional_prob()\n\u001b[1;32m    588\u001b[0m     \u001b[38;5;28mself\u001b[39m\u001b[38;5;241m.\u001b[39m_centroids()\n",
      "File \u001b[0;32m~/Documents/Projects/clustlib/clustlib/nonparam/tvclust.py:534\u001b[0m, in \u001b[0;36mTVClust.update\u001b[0;34m(self)\u001b[0m\n\u001b[1;32m    533\u001b[0m \u001b[38;5;28;01mdef\u001b[39;00m \u001b[38;5;21mupdate\u001b[39m(\u001b[38;5;28mself\u001b[39m):\n\u001b[0;32m--> 534\u001b[0m     \u001b[38;5;28;43mself\u001b[39;49m\u001b[38;5;241;43m.\u001b[39;49m\u001b[43m_update\u001b[49m\u001b[43m(\u001b[49m\u001b[43m)\u001b[49m\n\u001b[1;32m    535\u001b[0m     \u001b[38;5;28mself\u001b[39m\u001b[38;5;241m.\u001b[39mcalculte_delta(\u001b[38;5;28;01mNone\u001b[39;00m)\n",
      "File \u001b[0;32m~/Documents/Projects/clustlib/clustlib/nonparam/tvclust.py:539\u001b[0m, in \u001b[0;36mTVClust._update\u001b[0;34m(self)\u001b[0m\n\u001b[1;32m    537\u001b[0m \u001b[38;5;28;01mdef\u001b[39;00m \u001b[38;5;21m_update\u001b[39m(\u001b[38;5;28mself\u001b[39m):\n\u001b[1;32m    538\u001b[0m     logger\u001b[38;5;241m.\u001b[39mdebug(\u001b[38;5;124m\"\u001b[39m\u001b[38;5;124mUpdating responsibilities\u001b[39m\u001b[38;5;124m\"\u001b[39m)\n\u001b[0;32m--> 539\u001b[0m     \u001b[38;5;28;43mself\u001b[39;49m\u001b[38;5;241;43m.\u001b[39;49m\u001b[43mupdate_responsabilities\u001b[49m\u001b[43m(\u001b[49m\u001b[43m)\u001b[49m\n\u001b[1;32m    541\u001b[0m     logger\u001b[38;5;241m.\u001b[39mdebug(\u001b[38;5;124m\"\u001b[39m\u001b[38;5;124mUpdating gamma\u001b[39m\u001b[38;5;124m\"\u001b[39m)\n\u001b[1;32m    542\u001b[0m     \u001b[38;5;28mself\u001b[39m\u001b[38;5;241m.\u001b[39mupdate_gamma()\n",
      "File \u001b[0;32m~/Documents/Projects/clustlib/clustlib/nonparam/tvclust.py:264\u001b[0m, in \u001b[0;36mTVClust.update_responsabilities\u001b[0;34m(self)\u001b[0m\n\u001b[1;32m    261\u001b[0m \u001b[38;5;28;01mdef\u001b[39;00m \u001b[38;5;21mupdate_responsabilities\u001b[39m(\u001b[38;5;28mself\u001b[39m):\n\u001b[1;32m    262\u001b[0m     \u001b[38;5;28;01mfor\u001b[39;00m i \u001b[38;5;129;01min\u001b[39;00m \u001b[38;5;28mrange\u001b[39m(\u001b[38;5;28mself\u001b[39m\u001b[38;5;241m.\u001b[39mX\u001b[38;5;241m.\u001b[39mshape[\u001b[38;5;241m0\u001b[39m]):\n\u001b[1;32m    263\u001b[0m         np\u001b[38;5;241m.\u001b[39mclip(\n\u001b[0;32m--> 264\u001b[0m             np\u001b[38;5;241m.\u001b[39mexp(\u001b[38;5;28;43mself\u001b[39;49m\u001b[38;5;241;43m.\u001b[39;49m\u001b[43msbp\u001b[49m\u001b[43m(\u001b[49m\u001b[43m)\u001b[49m \u001b[38;5;241m+\u001b[39m \u001b[38;5;28mself\u001b[39m\u001b[38;5;241m.\u001b[39mconstraints_correction(i)), \n\u001b[1;32m    265\u001b[0m             a_min\u001b[38;5;241m=\u001b[39m\u001b[38;5;28mself\u001b[39m\u001b[38;5;241m.\u001b[39m__ZERO, \n\u001b[1;32m    266\u001b[0m             a_max \u001b[38;5;241m=\u001b[39m \u001b[38;5;28mself\u001b[39m\u001b[38;5;241m.\u001b[39m__INF, \n\u001b[1;32m    267\u001b[0m             out\u001b[38;5;241m=\u001b[39m\u001b[38;5;28mself\u001b[39m\u001b[38;5;241m.\u001b[39m__responsabilities[i]\n\u001b[1;32m    268\u001b[0m         )\n\u001b[1;32m    271\u001b[0m     \u001b[38;5;28mself\u001b[39m\u001b[38;5;241m.\u001b[39m__responsabilities \u001b[38;5;241m=\u001b[39m \u001b[38;5;28mself\u001b[39m\u001b[38;5;241m.\u001b[39m__responsabilities \u001b[38;5;241m/\u001b[39m np\u001b[38;5;241m.\u001b[39msum(\n\u001b[1;32m    272\u001b[0m         \u001b[38;5;28mself\u001b[39m\u001b[38;5;241m.\u001b[39m__responsabilities, axis\u001b[38;5;241m=\u001b[39m\u001b[38;5;241m1\u001b[39m, keepdims\u001b[38;5;241m=\u001b[39m\u001b[38;5;28;01mTrue\u001b[39;00m\n\u001b[1;32m    273\u001b[0m     )\n",
      "File \u001b[0;32m~/Documents/Projects/clustlib/clustlib/nonparam/tvclust.py:179\u001b[0m, in \u001b[0;36mTVClust.sbp\u001b[0;34m(self)\u001b[0m\n\u001b[1;32m    175\u001b[0m \u001b[38;5;28;01mdef\u001b[39;00m \u001b[38;5;21msbp\u001b[39m(\u001b[38;5;28mself\u001b[39m):\n\u001b[1;32m    176\u001b[0m \u001b[38;5;250m    \u001b[39m\u001b[38;5;124;03m\"\"\"\u001b[39;00m\n\u001b[1;32m    177\u001b[0m \u001b[38;5;124;03m    Apply the sticky breaking process to the cluster\u001b[39;00m\n\u001b[1;32m    178\u001b[0m \u001b[38;5;124;03m    \"\"\"\u001b[39;00m\n\u001b[0;32m--> 179\u001b[0m     trust \u001b[38;5;241m=\u001b[39m (\u001b[38;5;28;43mself\u001b[39;49m\u001b[38;5;241;43m.\u001b[39;49m\u001b[43mconcentration\u001b[49m\u001b[43m(\u001b[49m\u001b[43m)\u001b[49m \u001b[38;5;241m-\u001b[39m \u001b[38;5;28mself\u001b[39m\u001b[38;5;241m.\u001b[39mexpected_distance()) \u001b[38;5;241m*\u001b[39m \u001b[38;5;241m0.5\u001b[39m\n\u001b[1;32m    181\u001b[0m     phi_alpha_beta \u001b[38;5;241m=\u001b[39m phi(np\u001b[38;5;241m.\u001b[39msum(\u001b[38;5;28mself\u001b[39m\u001b[38;5;241m.\u001b[39m__gamma, axis \u001b[38;5;241m=\u001b[39m \u001b[38;5;241m0\u001b[39m))\n\u001b[1;32m    182\u001b[0m     phi_alpha \u001b[38;5;241m=\u001b[39m phi(\u001b[38;5;28mself\u001b[39m\u001b[38;5;241m.\u001b[39m__gamma[:, \u001b[38;5;241m0\u001b[39m])\n",
      "File \u001b[0;32m~/Documents/Projects/clustlib/clustlib/nonparam/tvclust.py:155\u001b[0m, in \u001b[0;36mTVClust.concentration\u001b[0;34m(self)\u001b[0m\n\u001b[1;32m    152\u001b[0m p \u001b[38;5;241m=\u001b[39m \u001b[38;5;28mself\u001b[39m\u001b[38;5;241m.\u001b[39mX\u001b[38;5;241m.\u001b[39mshape[\u001b[38;5;241m1\u001b[39m]\n\u001b[1;32m    153\u001b[0m m \u001b[38;5;241m=\u001b[39m np\u001b[38;5;241m.\u001b[39mtile(np\u001b[38;5;241m.\u001b[39marange(\u001b[38;5;241m1\u001b[39m, p \u001b[38;5;241m+\u001b[39m \u001b[38;5;241m1\u001b[39m) \u001b[38;5;241m*\u001b[39m \u001b[38;5;241m0.5\u001b[39m, (\u001b[38;5;28mself\u001b[39m\u001b[38;5;241m.\u001b[39mn_clusters, \u001b[38;5;241m1\u001b[39m))\n\u001b[0;32m--> 155\u001b[0m aux \u001b[38;5;241m=\u001b[39m \u001b[43mnp\u001b[49m\u001b[38;5;241;43m.\u001b[39;49m\u001b[43madd\u001b[49m\u001b[43m(\u001b[49m\u001b[43m(\u001b[49m\u001b[38;5;28;43mself\u001b[39;49m\u001b[38;5;241;43m.\u001b[39;49m\u001b[43m__nu\u001b[49m\u001b[43m \u001b[49m\u001b[38;5;241;43m+\u001b[39;49m\u001b[43m \u001b[49m\u001b[38;5;241;43m1\u001b[39;49m\u001b[43m)\u001b[49m\u001b[43m,\u001b[49m\u001b[43m \u001b[49m\u001b[38;5;241;43m-\u001b[39;49m\u001b[43mm\u001b[49m\u001b[43m)\u001b[49m\n\u001b[1;32m    157\u001b[0m logger\u001b[38;5;241m.\u001b[39mdebug(\u001b[38;5;124mf\u001b[39m\u001b[38;5;124m\"\u001b[39m\u001b[38;5;124mCalculating the aux \u001b[39m\u001b[38;5;132;01m{\u001b[39;00maux\u001b[38;5;132;01m}\u001b[39;00m\u001b[38;5;124m\"\u001b[39m)\n\u001b[1;32m    158\u001b[0m \u001b[38;5;28msum\u001b[39m \u001b[38;5;241m=\u001b[39m np\u001b[38;5;241m.\u001b[39msum(phi(aux))\n",
      "\u001b[0;31mValueError\u001b[0m: operands could not be broadcast together with shapes (10,) (10,2) "
     ]
    }
   ],
   "source": [
    "from clustlib.nonparam.tvclust import TVClust\n",
    "tvclust = TVClust(\n",
    "    n_clusters=10, \n",
    "    constraints=constraints, \n",
    "    max_iter=100, \n",
    "    tol=1e-4,\n",
    ")\n",
    "tvclust.fit(X)"
   ]
  },
  {
   "cell_type": "code",
   "execution_count": null,
   "id": "627a15ad",
   "metadata": {},
   "outputs": [
    {
     "data": {
      "text/plain": [
       "array([[1.5, 1. ],\n",
       "       [1.5, 1. ],\n",
       "       [1.5, 1. ],\n",
       "       [1.5, 1. ],\n",
       "       [1.5, 1. ],\n",
       "       [1.5, 1. ],\n",
       "       [1.5, 1. ],\n",
       "       [1.5, 1. ],\n",
       "       [1.5, 1. ],\n",
       "       [1.5, 1. ]])"
      ]
     },
     "execution_count": 7,
     "metadata": {},
     "output_type": "execute_result"
    }
   ],
   "source": [
    "p = 2\n",
    "arr = np.tile(np.arange(1, p + 1) * 0.5, (10, 1))\n",
    "\n",
    "nu = np.repeat(p, 10)\n",
    "\n",
    "nu[:, np.newaxis] - arr"
   ]
  }
 ],
 "metadata": {
  "kernelspec": {
   "display_name": "clustlib-5JQ_NFw--py3.13",
   "language": "python",
   "name": "python3"
  },
  "language_info": {
   "codemirror_mode": {
    "name": "ipython",
    "version": 3
   },
   "file_extension": ".py",
   "mimetype": "text/x-python",
   "name": "python",
   "nbconvert_exporter": "python",
   "pygments_lexer": "ipython3",
   "version": "3.13.2"
  }
 },
 "nbformat": 4,
 "nbformat_minor": 5
}
