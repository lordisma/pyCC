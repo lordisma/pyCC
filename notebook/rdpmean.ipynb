{
 "cells": [
  {
   "cell_type": "code",
   "execution_count": 38,
   "id": "1e2ea0a0",
   "metadata": {},
   "outputs": [],
   "source": [
    "import numpy as np\n",
    "import math as m\n",
    "import scipy as sc\n",
    "import pandas as pd\n",
    "from sklearn.datasets import make_blobs\n",
    "import plotly.express as px\n",
    "\n",
    "import logging\n",
    "import sys\n",
    "\n",
    "logging.basicConfig(\n",
    "    level=logging.DEBUG,\n",
    "    format='%(asctime)s - %(levelname)s - %(message)s',\n",
    "    handlers=[\n",
    "        logging.StreamHandler(sys.stdout)\n",
    "    ]\n",
    ")"
   ]
  },
  {
   "cell_type": "code",
   "execution_count": 39,
   "id": "4c1fd241",
   "metadata": {},
   "outputs": [],
   "source": [
    "COLORS = [\n",
    "    \"#f7dc6f\",\n",
    "    \"#82e0aa\",\n",
    "    \"#f1948a\",\n",
    "    \"#499cef\",\n",
    "    \"#f5b041\",\n",
    "    \"#a569bd\",\n",
    "    \"#e74c3c\",\n",
    "    \"#2ecc71\",\n",
    "    \"#3498db\",\n",
    "    \"#e67e22\",\n",
    "    \"#9b59b6\",\n",
    "    \"#1abc9c\",\n",
    "    \"#34495e\",\n",
    "    \"#d35400\",\n",
    "    \"#c0392b\",\n",
    "    \"#16a085\",\n",
    "    \"#2980b9\",\n",
    "    \"#8e44ad\",\n",
    "]\n",
    "\n",
    "def twospirals(n_points, noise=.5):\n",
    "    n = np.sqrt(np.random.rand(n_points,1)) * 780 * (2*np.pi)/360\n",
    "    d1x = -np.cos(n)*n + np.random.rand(n_points,1) * noise\n",
    "    d1y = np.sin(n)*n + np.random.rand(n_points,1) * noise\n",
    "    return (np.vstack((np.hstack((d1x,d1y)),np.hstack((-d1x,-d1y)))), np.hstack((np.zeros(n_points, dtype=int),np.ones(n_points, dtype=int))))\n",
    "\n",
    "def plot_dataframe(df, title='', x='x', y='y', label='label'):\n",
    "    df[label] = df[label].astype(str)\n",
    "    fig = px.scatter(\n",
    "        df, \n",
    "        x=x, \n",
    "        y=y, \n",
    "        symbol=label,\n",
    "        color=label,\n",
    "        color_discrete_sequence= COLORS, \n",
    "        title=title\n",
    "    )\n",
    "    fig.update_traces(marker=dict(size=5, symbol='circle'))\n",
    "\n",
    "    return fig\n",
    "\n",
    "def plot_centroid(fig, centroid, colors = ['#a569bd'], marker_size=10, symbol = 'star', name = 'Centroid'):\n",
    "    fig.add_scatter(\n",
    "        x=[centroid[0]], \n",
    "        y=[centroid[1]], \n",
    "        mode='markers',\n",
    "        marker=dict(\n",
    "            size = marker_size,\n",
    "            color = colors,\n",
    "            symbol = symbol,\n",
    "        ), \n",
    "        name=name\n",
    "    )\n",
    "    return fig\n",
    "\n",
    "def create_constraints(labels, probability=0.01, seed=0):\n",
    "    n_points = len(labels)\n",
    "    constraints = np.zeros((n_points, n_points), dtype=int)\n",
    "    state = np.random.RandomState(seed=seed)\n",
    "    for i in range(n_points):\n",
    "        for j in range(i +1, n_points):\n",
    "            if state.rand() < probability:\n",
    "                if labels[i] == labels[j]:\n",
    "                    constraints[i, j] = 1\n",
    "                    constraints[j, i] = 1\n",
    "                elif labels[i] != labels[j]:\n",
    "                    constraints[i, j] = -1\n",
    "                    constraints[j, i] = -1\n",
    "    return constraints"
   ]
  },
  {
   "cell_type": "code",
   "execution_count": 40,
   "id": "b3cae0cf",
   "metadata": {},
   "outputs": [],
   "source": [
    "X, y = make_blobs(n_samples=300, centers=5, cluster_std=1.0, random_state=42)\n",
    "constraints = create_constraints(y, probability=0.01, seed=42)\n",
    "# df = pd.DataFrame(X, columns=['x', 'y'])\n",
    "# df['label'] = y\n",
    "# fig = plot_dataframe(df, title='Data with Constraints', x='x', y='y', label='label')\n",
    "# fig = plot_centroid(fig, np.mean(X, axis=0), colors=['#a569bd'], marker_size=10, symbol='star', name='Centroid')\n",
    "# fig.show()"
   ]
  },
  {
   "cell_type": "code",
   "execution_count": 58,
   "id": "0104b705",
   "metadata": {},
   "outputs": [
    {
     "name": "stdout",
     "output_type": "stream",
     "text": [
      "2025-07-15 13:08:48,695 - DEBUG - Fitting RDPM model\n",
      "2025-07-15 13:08:48,696 - DEBUG - Delta is None, convergence cannot be checked.\n",
      "2025-07-15 13:08:48,698 - DEBUG - Instance 0 exceeds limit, creating new cluster\n",
      "2025-07-15 13:08:48,702 - DEBUG - Instance 7 exceeds limit, creating new cluster\n",
      "2025-07-15 13:08:48,715 - DEBUG - Instance 30 exceeds limit, creating new cluster\n",
      "2025-07-15 13:08:48,731 - DEBUG - Instance 63 exceeds limit, creating new cluster\n",
      "2025-07-15 13:08:48,821 - DEBUG - Iteration 1 completed with clusters: 8\n",
      "2025-07-15 13:08:48,821 - DEBUG - Checking convergence with delta: [0. 0.]\n",
      "2025-07-15 13:08:48,822 - DEBUG - Tolerance: 1e-10\n",
      "2025-07-15 13:08:48,822 - DEBUG - Convergence reached, stopping criteria met.\n"
     ]
    }
   ],
   "source": [
    "from clustlib.kmean.rdpmean import RDPM\n",
    "from clustlib.utils.simpleconstraints import SimpleConstraints\n",
    "\n",
    "rdpm = RDPM(constraints=SimpleConstraints(constraints), n_clusters = 4, max_iter = 1000, tol = 1e-10, limit=4, rate = 4)\n",
    "rdpm.fit(X)\n"
   ]
  },
  {
   "cell_type": "code",
   "execution_count": 59,
   "id": "1ff13b58",
   "metadata": {},
   "outputs": [
    {
     "data": {
      "text/plain": [
       "array([[-10.9517839 ,   5.57756771],\n",
       "       [  6.95426658,  -1.23820227],\n",
       "       [  3.34207131,   2.15193908],\n",
       "       [ -0.59276123,   4.03447152],\n",
       "       [ -0.62301172,   9.18886394],\n",
       "       [ -6.80382263,  -7.5572713 ],\n",
       "       [ -5.75944695,   8.44309783],\n",
       "       [  2.6550821 ,   6.43214441]])"
      ]
     },
     "execution_count": 59,
     "metadata": {},
     "output_type": "execute_result"
    }
   ],
   "source": [
    "rdpm_centroids = rdpm.centroids\n",
    "labels = rdpm._labels\n",
    "rdpm_centroids"
   ]
  },
  {
   "cell_type": "code",
   "execution_count": 60,
   "id": "de029c00",
   "metadata": {},
   "outputs": [
    {
     "data": {
      "application/vnd.plotly.v1+json": {
       "config": {
        "plotlyServerURL": "https://plot.ly"
       },
       "data": [
        {
         "hovertemplate": "label=4<br>x=%{x}<br>y=%{y}<extra></extra>",
         "legendgroup": "4",
         "marker": {
          "color": "#f7dc6f",
          "size": 5,
          "symbol": "circle"
         },
         "mode": "markers",
         "name": "4",
         "orientation": "v",
         "showlegend": true,
         "type": "scatter",
         "x": {
          "bdata": "kshKR7bv47+XvOKGFWcCwLLg6TX2sg7AtmPoonouBMBQxUM3pLAJwErqr1qc7AzA1UeDzd81B8AI98vUq9z1v7N51E+30AbAm8O3SUwjAsCXR6RdNVwEwAGr8UEbUwHALk1E5WG0AcCcMnzCIeMIwKqebMY0LgHA/b+WgS/oB8Dv6QAfyU8IwNix9JsFTAPAMKKb9dOz8b+hye/CaGwBwCsIBN4cewHAHOM/ty+A+b+8cYSIu20IwEjPk42H/Pq/vqKOJOjB/r+QaS4Ns6b3v89GIjp8lwPA/pnCibnUBcANCVaVOcIHwKDW6YnqxwfA4H4fIelWA8AjWYRIYLLwvxVPiUddCATAwVVXeJBgA8Cgy7e/ypwFwHwkuUqbffu/hCnc+YmIA8C9RMc1r/8EwFIM+z5QpgTAABb90rIuAcBuCtldJl0FwIUX/xLqVPy/+g/vKu1ZBMAD54D9UdQHwIz7fVSRJfu/v+PHn18DAsCFwftILH0JwC2DUS44gPC/JgJh3PHgCMA=",
          "dtype": "f8"
         },
         "xaxis": "x",
         "y": {
          "bdata": "hzxExrJgIkChiwFC7TccQNKc3oEbbCJAwaTzcojTH0BUP7MtjV8hQFXaLqK2RR9Azto3XP0zHkDeI7vgTYgjQNGI12yMbCBAYgoaFm5nHEDPBhJ8aSglQH5S0p9GAR1A8rdLjPmMIkC06k1RrrslQD67+l8DvSBAMdZo0UGoIUCpcRmAGw4jQK5XYr9C9yNAzF6DLSJzHkBpUowpy/ojQG97uQEnQiFAFdKrk6KvIkD1LWlbG0AiQEv5XC98LB9Awy5D6dNoJkCr1VhCIeQjQBdO4ZR+9CZAOBBq+Ce+IkA1xMWijyQkQGoUkmHcGCFAmpDawVsbHECGMWWPt5MhQK/65rQ0jyFAe8QbBTluIUBt1bXstKEiQAlTZ0e1NSBA+k2S1a9bHkBqRnA/Jm0hQPabTJMfCSRA7ddMCsoaJUDLrOpDMNYiQKFcQRgOXyJAXhNZFudhH0DBbgHxGh0jQKlFu5q1vSRAPrl/vDLhIUC5alslfkAjQCbYHsz1/SBAVC3ToPdxIUA=",
          "dtype": "f8"
         },
         "yaxis": "y"
        },
        {
         "hovertemplate": "label=3<br>x=%{x}<br>y=%{y}<extra></extra>",
         "legendgroup": "3",
         "marker": {
          "color": "#82e0aa",
          "size": 5,
          "symbol": "circle"
         },
         "mode": "markers",
         "name": "3",
         "orientation": "v",
         "showlegend": true,
         "type": "scatter",
         "x": {
          "bdata": "XtYv4Rpm4T/lrIdw5eD2PwD8gNqfZMM/aPunrxaX8j+0Mdk9hD/5P51xPrRifANALCnhymvt9T+AO1HRPjSQvwyXNLXm+fM/KlvTHjzB9T8o9/c0tkPZP4TdlTTPWPI/1lWUMp714z9CeptOG474P8e8+k5P8vU/aND8cg7C3L9qbZYikIXvP/jrT7fUldY/",
          "dtype": "f8"
         },
         "xaxis": "x",
         "y": {
          "bdata": "mT0L0Yc4FUDK++UeM2EKQMMQ1M/Aeg5ALNmUQRU3DkAA2PudricSQN4Zc1EqJxhAZPx+1dzVEECOEL2OFzoJQJ5EmJaZVQdAAEX1kp7tEkD8oqe8kNYQQApG2c6tOgZAHjxzkM7lEkBvIdILxtQNQID7wR4FZQ1ABOJffpzqCkAFSRjU1sQPQKQnwyu60RJA",
          "dtype": "f8"
         },
         "yaxis": "y"
        },
        {
         "hovertemplate": "label=2<br>x=%{x}<br>y=%{y}<extra></extra>",
         "legendgroup": "2",
         "marker": {
          "color": "#f1948a",
          "size": 5,
          "symbol": "circle"
         },
         "mode": "markers",
         "name": "2",
         "orientation": "v",
         "showlegend": true,
         "type": "scatter",
         "x": {
          "bdata": "WZ4g+GiqEUDb3ai8g8sEQCSJofJUDA5Ab2mqpUhAEkAKb2Uc7wn8P744tGdH9RJA10v/vJJAE0CnF0aJBtkVQH+SLa3MAfk/ozlUBR/MAEALNctNnIj8P//rSuRSUg1AXofifI16CECDhasCPVgOQIde5BxbmRNAeH6bWeniAkCpF98XItMPQNrMf82hnhRAOmNmuwHfAEA4jA2gWEIIQBzp8iKVQQJAKGpvq7tpFkCwi86zfcMNQHL3Gsv7OwZAC+G8EsclA0DBGnDr09cUQGBA16qulgtA50pb+bslB0Cw2MobgkkFQMIHVcrByQlAqCKIYTI5C0AqVGHIR+QWQBTPev7HrQ9ARfxlSvqrEECeF9XMrUz/P4FnF0cBGQpA7ofpykOEC0AvhtMNvwAOQPIciQORVwJA6n+tVa5GD0Crnf3DjJwSQC22jJZXuxNApLWAVeSoEECOR8R218oSQNfmjSNL0AZAKnsaNZz9E0AeWi/YN8sCQHh6bJi9jxNA7Rudpyd4E0BceD9+XtoOQFNHwcl3ahNA3k+/VusPFUCiIGY8ImAWQOm4IMUU4QJA2Qc0yOa9EkBXkbzW+uoEQFKE8EajMRdAp8L7kLa2CEDEZPtBCCX0P9j/Vj+0pRRAMXpsyFeUFEA+UCjPue8OQELqBDuRqhNAe8UXYPWTEUBASbKdjC8EQJRtHHqiIhtAVmKStUiNDECbr2n9jjoIQB1LNkWCVQNAC9qEDQuRAECahKHZMtIGQEJRuP3JBRpAHSEvzdRzFEC+CLG0354MQJJBsK5jxw5AyjbbBA/REkDXPHIXK90GQCjMmi4BxhBAcZ95QTmeEECPUZ4QPcAAQHkv6KSHZQ9AbFnvdGZMEUA=",
          "dtype": "f8"
         },
         "xaxis": "x",
         "y": {
          "bdata": "9H8LFFN/BUA+SJ/a0KoPQBXBZGrhAwFAmEzmEruDAkBpLdYKJXYJQKiQE+Pdg/c/u/8zdy7eAkDsHo78rvUOQIc4mOgrfgpAAmtaJL5mCkDmfkhg9gcKQMXxMTMAFQZApYK4oiM2DUCYZ2G5J1XdP3RCfIk5CgZAYoa/pCT4DUAAomfB1ZoGQNJe8v5I5QNA0U8XtOkFEEDH6vCALkMBQPYgNMKcDgpAH7YcRm0WA0BU1lMyUS8MQI3DXeYO6glAhNiC7bB1DEAqKyigsN4IQPMYmV2sCQVAY3NB4/SuDkDwzTsV3P8DQL4amRfqBg5AtAGghQbj5D8edB/1PDcIQFpTfQO1pAFAU1n36jh/CEAmTR3afZoHQCzcoovFkPA/1jUZaPw3+j/aEgVKi4TyPwjjDfDhcRBAb2oJ1FuEAUB1+Fep42kLQKBaO58eJPQ/m/JoBREe9T/6EZBN/pDqPxqVFc9+NP8/SLX2yIlFBEDOYtZV74kPQD5AfNOTjgJA2qSWchQ+CkDuSell8Gr6PwTUgS0dR+c/oYJaiC/b8T+08bnNGf8EQIHGaPYg/w1ANkdv4yUl9T9g73Dy6EYBQPIghJeWcPI/j/Cj7ndVAEA/oSgWQdoCQJd4B7BGKQJAk0saPx62BkBAOS8RGMj7P4wkQ3AfZwZAZxnkuMyC8z8sARGhnngJQNA32VJR2wRA3GdVryelA0BxG/2gLa0MQJGTegB67A1AfM5P8N2kCkBsPu2iZHEKQAyMCBp2kwNApbZ+uctn/j8WkPkD+JIDQPGW434kvP0/bvnqIVKn7D8e+q1dA0EIQHp/X8z0ogZAwUro0LpwAEA1LMALaXgNQAHAwCHeOAVA6WJVpGvbBUA=",
          "dtype": "f8"
         },
         "yaxis": "y"
        },
        {
         "hovertemplate": "label=0<br>x=%{x}<br>y=%{y}<extra></extra>",
         "legendgroup": "0",
         "marker": {
          "color": "#499cef",
          "size": 5,
          "symbol": "circle"
         },
         "mode": "markers",
         "name": "0",
         "orientation": "v",
         "showlegend": true,
         "type": "scatter",
         "x": {
          "bdata": "QtqbW7zmIcDFubYRleggwLsl1LW37iHAg9BLYeqlI8A8YwFbDQskwHrUKmsAtSTA9Suut3sTI8A0Yu8JWxUlwIJZS4axLCLA0fcnUSlbI8D9/6s3scgiwEpZxENZGiXAeOEoHpLdJMDMwdq4HEkkwNRwU7WwviTAmMNas3kwI8B4ibNNNnkjwKq7hG254yTA1hws3ww6IsDbbLKxNnshwGtAyTsUAyHAt6cS5y5RJMAMNlyOqOwlwIgTPdxStCLA5h1jJNe8IsCAh6P6BeQhwMcad/aeHh/A8OPmOLe8IsD5w5TlRPgiwP6O+VTmMSPAyKXIh4bxIMCOrQL9KDciwOiPVv6JqiHAKEn2RqiTIsAOr6qC4EAgwEdwurKsoCHAsNRYvkObI8BHQBARwc8lwBCkzXDYzyPA",
          "dtype": "f8"
         },
         "xaxis": "x",
         "y": {
          "bdata": "IayIvANpHECeCO/bzikdQMnB3GXQeBlApoplXG5PH0ByknQcHSMVQL/7U717YSFAQrYQJGcmHkAjx10YaBIdQAhVE4sWlyBAyrbPZ4LlGkBFNsEWqYAYQMYkL47TWiFAjMpvBoflGkBXT1c7CPkfQDr4tHPQMyFAfvKQUOaaF0Cg4B1AA0MfQKQxzlyiGx5AeEH0xB4WFEB5tOG2uTMaQGZEJlbWTBpA7MdJwllPIkDJ/BYR6jAbQGJRJh+nDhlA40FWS6b9GkCJYx0HMycZQD/PVJZWQhZAt3pEvGIfGkB6+3NFyPcYQKwKgGtK5R1AEYGUvtmIGUAybn9+BhUgQOJbnUVlex1AjEm99hXJH0AGsyVqp8sYQBK/79o8SR9Amke77uYEIECZyrlOB/AcQJUk16l9uRxA",
          "dtype": "f8"
         },
         "yaxis": "y"
        },
        {
         "hovertemplate": "label=5<br>x=%{x}<br>y=%{y}<extra></extra>",
         "legendgroup": "5",
         "marker": {
          "color": "#f5b041",
          "size": 5,
          "symbol": "circle"
         },
         "mode": "markers",
         "name": "5",
         "orientation": "v",
         "showlegend": true,
         "type": "scatter",
         "x": {
          "bdata": "W1nBRx03G8AMuAgMgzcYwI3qPiKxzh7AqCytE/FHIMBdzOVjRL4ZwOvE6cpCPRvArPfkFoP8EsB+UqcgDNIewOR114oqIBzAw2IoEF5EGMDZflbOyacgwJ3PkEFGOhrA6mABcF5GGsA0odxsP+AdwM2pLWnmih/At6q5MqgsFcAP2CHbFGcdwEHI2EeM6xfABE0Iwel0FMB00PczN54XwHpebyzV4hbAzKNaKSb9FMAS5IfVa3MWwIB//A6h1R7ACULLsYJUGcA8LlYca8oYwPwVVv3aWRzA58+m+TWYG8C76ICv5rgawOSWjc8b9BvAp+35WknMIMC2Go5oR5EbwEZDJwNYRx3AqreEFGohG8C7pUM3XoccwHAeZtjfwBXAC0G8fOXdGcD7MxEZspcbwDqRPHnkiRrAYSDZhScXGsCkqIeqfhYYwClDGKKYyh7A6fnteaYHE8BdnKB0gocYwPQP4bnKOBrAuAjQzWhoFsCl1vJq7XAZwPWRnrmjBRnAHQyofUSfGsB07c3PpGMcwJzyQuIHwhjAl7ZT4+U9JMC/RdGN7UsWwAQjdRl/EBvAl7XENySaG8AHC39A6jkfwEwTfZeo3RbAKckT1WxkHsBmNoGoAGUawOSiHpjNcR/A",
          "dtype": "f8"
         },
         "xaxis": "x",
         "y": {
          "bdata": "fkE0VKU6HsBYpnnHMkQYwMXREE+yixrADrFsclfZF8AyrajHAWwYwDz3xBjLDx3AiMXTxhWqIcCcQL3RVM4cwH/2mZ/LKhnA2FetBn4AGcBCiQLRPJMgwABA4xNR1B7A3RFJq3eeFcB6ympbPR8YwN06vtpHMCDAKet7rWA8IMDJGlDznJcawCMZP7mOShrArtdv7IfmGcAC0NCo0RscwI7t79KRWhjA1QYeN9meIMDz5+zA4lkewFQBPozbwh3AMNg2CkdUHMDXe5IE8sIcwLsXra8Qfh3AEKnJgdKHH8Bqrsez2usdwJy5rCHh6RnAiVeKgRZ1HcCD9pZMBRwfwJ8/YZda/xrAlh4fm8ojGcCYG24pe0EgwLrKaQzHoSDAnwtZdXzGHcAui1eU0awcwGupnI9XjB3AC/vKisVKHsAxUQ5gAikcwJiF4a2gJhPAYsU+4PxjF8AqHd6LNhQZwKdOiat/ChzAz0LhVgDjHcAddL0jtWMVwM6MrHHOARnApOtJbVZ4G8BXhKywFSAXwHEBFf0UIB3AxOTnhTSeH8CzcwxruW8bwDYUnd013xjASh6XxxYNG8BDVgaqL8IbwFRl5unAehvA0CvgVs1fHMCJhWNk4AIewNO/yssJrBnA",
          "dtype": "f8"
         },
         "yaxis": "y"
        },
        {
         "hovertemplate": "label=6<br>x=%{x}<br>y=%{y}<extra></extra>",
         "legendgroup": "6",
         "marker": {
          "color": "#a569bd",
          "size": 5,
          "symbol": "circle"
         },
         "mode": "markers",
         "name": "6",
         "orientation": "v",
         "showlegend": true,
         "type": "scatter",
         "x": {
          "bdata": "B+/1dawJF8C9V3BoESYdwCkPJ0Pe5yHAVLaRdj22EcCepi3jPRwbwJp31iwAxhzAxU+NsqGKCsDMMCGDdP8LwDF0dFR4VgvASInwjwmEFMD3CxHp2KIewJ6SRPa77xDAfM8NqD7+IMDLNGMAeowdwFznLOQWmBrA7lvjZx0tDMA0RlgZhGUPwIoNHOihbyHAoflJlMpiIMBA9W74MN0fwGvuTq82jR/AvC35UhJIDcA0NO48xXIgwFD4v3Czoh7ANQ9qitnmD8BhTaqvkX4bwJz9srqWvRrAF2FAzL7WHMAJBjbFUM0hwELzStIGhiDAh3hV4Y3JCsA5p1G0CFgdwA==",
          "dtype": "f8"
         },
         "xaxis": "x",
         "y": {
          "bdata": "1jbnt93iIEA0WqMAvcEdQOLo79pnHyFARujiSL35IUB6ZprUYCgiQC6doElGTBxAf1RRNmoGIUAe6UG8XuUgQOCS0BRuaB5AdWGc6iCsI0AJbOwnbZAdQCO4QFxs5yBA4W2DQj5mIkCVO19XypAgQLI9oguXDxpAGoCriTWoIkC1zwmw8S8hQMKXFqUSWh9An+UyEmJiIUCizxCZBwceQBc+XsKJ/BpA2LqGAKzHIkCZY53YfCkgQDrRTgLaahtAh0FgF8GWIECpIUC4ZW8dQFI3GQiGORpAuINFRhDGF0DCTbY1rY4gQAzaoPMBih5AmzJHbf9oIUB6H+EXKZcdQA==",
          "dtype": "f8"
         },
         "yaxis": "y"
        },
        {
         "hovertemplate": "label=7<br>x=%{x}<br>y=%{y}<extra></extra>",
         "legendgroup": "7",
         "marker": {
          "color": "#e74c3c",
          "size": 5,
          "symbol": "circle"
         },
         "mode": "markers",
         "name": "7",
         "orientation": "v",
         "showlegend": true,
         "type": "scatter",
         "x": {
          "bdata": "oec+r5s9BUDCx4ehNRACQOLz+N1JhQlAi5K1sZ8iB0A6hDV7GvkAQMNU7tvvrA1APRDIOSF/AkC3vA3JVx0AQJ+s0x6fAgRAgkFpCiKiAUAr+wKFe5YHQENUXjI6gBFApevmt7VqBED6l91HZFMAQAJ3+GsHXQxAykTuDqWeFEBK+ZXq4iD3Pw==",
          "dtype": "f8"
         },
         "xaxis": "x",
         "y": {
          "bdata": "qmWwEIS6GUBawPc9sboTQE/fR3TaqRFA4ms1438RFkAKWMguv6YTQGEUDiEgLBRATF9zbInyGEBdCHQIypAWQCbDWhP/+hFAp7ATGIGjEUDZTSeskUgYQN5LoJ76xRJAwe8EH35pFkAlVxqK/1kXQH24VpcrzRJAOnaaCblNF0DPs4zV2KoTQA==",
          "dtype": "f8"
         },
         "yaxis": "y"
        },
        {
         "hovertemplate": "label=1<br>x=%{x}<br>y=%{y}<extra></extra>",
         "legendgroup": "1",
         "marker": {
          "color": "#2ecc71",
          "size": 5,
          "symbol": "circle"
         },
         "mode": "markers",
         "name": "1",
         "orientation": "v",
         "showlegend": true,
         "type": "scatter",
         "x": {
          "bdata": "sxXBQHLRG0AAWhkOR9AVQHzUlGP3TRVA",
          "dtype": "f8"
         },
         "xaxis": "x",
         "y": {
          "bdata": "EOnXho4cuz+ex6Iv98DnP1wAX96sEdc/",
          "dtype": "f8"
         },
         "yaxis": "y"
        },
        {
         "marker": {
          "color": [
           "#34495e"
          ],
          "size": 10,
          "symbol": "star"
         },
         "mode": "markers",
         "name": "Centroid 1",
         "type": "scatter",
         "x": [
          -10.95178389895006
         ],
         "y": [
          5.577567710982919
         ]
        },
        {
         "marker": {
          "color": [
           "#34495e"
          ],
          "size": 10,
          "symbol": "star"
         },
         "mode": "markers",
         "name": "Centroid 2",
         "type": "scatter",
         "x": [
          6.954266578008374
         ],
         "y": [
          -1.2382022696881614
         ]
        },
        {
         "marker": {
          "color": [
           "#34495e"
          ],
          "size": 10,
          "symbol": "star"
         },
         "mode": "markers",
         "name": "Centroid 3",
         "type": "scatter",
         "x": [
          3.3420713148746377
         ],
         "y": [
          2.1519390845424824
         ]
        },
        {
         "marker": {
          "color": [
           "#34495e"
          ],
          "size": 10,
          "symbol": "star"
         },
         "mode": "markers",
         "name": "Centroid 4",
         "type": "scatter",
         "x": [
          -0.5927612279292205
         ],
         "y": [
          4.034471522515996
         ]
        },
        {
         "marker": {
          "color": [
           "#34495e"
          ],
          "size": 10,
          "symbol": "star"
         },
         "mode": "markers",
         "name": "Centroid 5",
         "type": "scatter",
         "x": [
          -0.62301172184222
         ],
         "y": [
          9.188863941030162
         ]
        },
        {
         "marker": {
          "color": [
           "#34495e"
          ],
          "size": 10,
          "symbol": "star"
         },
         "mode": "markers",
         "name": "Centroid 6",
         "type": "scatter",
         "x": [
          -6.8038226329575435
         ],
         "y": [
          -7.557271304788058
         ]
        },
        {
         "marker": {
          "color": [
           "#34495e"
          ],
          "size": 10,
          "symbol": "star"
         },
         "mode": "markers",
         "name": "Centroid 7",
         "type": "scatter",
         "x": [
          -5.759446948180773
         ],
         "y": [
          8.443097826933279
         ]
        },
        {
         "marker": {
          "color": [
           "#34495e"
          ],
          "size": 10,
          "symbol": "star"
         },
         "mode": "markers",
         "name": "Centroid 8",
         "type": "scatter",
         "x": [
          2.655082100970461
         ],
         "y": [
          6.432144413725306
         ]
        }
       ],
       "layout": {
        "legend": {
         "title": {
          "text": "label"
         },
         "tracegroupgap": 0
        },
        "template": {
         "data": {
          "bar": [
           {
            "error_x": {
             "color": "#2a3f5f"
            },
            "error_y": {
             "color": "#2a3f5f"
            },
            "marker": {
             "line": {
              "color": "#E5ECF6",
              "width": 0.5
             },
             "pattern": {
              "fillmode": "overlay",
              "size": 10,
              "solidity": 0.2
             }
            },
            "type": "bar"
           }
          ],
          "barpolar": [
           {
            "marker": {
             "line": {
              "color": "#E5ECF6",
              "width": 0.5
             },
             "pattern": {
              "fillmode": "overlay",
              "size": 10,
              "solidity": 0.2
             }
            },
            "type": "barpolar"
           }
          ],
          "carpet": [
           {
            "aaxis": {
             "endlinecolor": "#2a3f5f",
             "gridcolor": "white",
             "linecolor": "white",
             "minorgridcolor": "white",
             "startlinecolor": "#2a3f5f"
            },
            "baxis": {
             "endlinecolor": "#2a3f5f",
             "gridcolor": "white",
             "linecolor": "white",
             "minorgridcolor": "white",
             "startlinecolor": "#2a3f5f"
            },
            "type": "carpet"
           }
          ],
          "choropleth": [
           {
            "colorbar": {
             "outlinewidth": 0,
             "ticks": ""
            },
            "type": "choropleth"
           }
          ],
          "contour": [
           {
            "colorbar": {
             "outlinewidth": 0,
             "ticks": ""
            },
            "colorscale": [
             [
              0,
              "#0d0887"
             ],
             [
              0.1111111111111111,
              "#46039f"
             ],
             [
              0.2222222222222222,
              "#7201a8"
             ],
             [
              0.3333333333333333,
              "#9c179e"
             ],
             [
              0.4444444444444444,
              "#bd3786"
             ],
             [
              0.5555555555555556,
              "#d8576b"
             ],
             [
              0.6666666666666666,
              "#ed7953"
             ],
             [
              0.7777777777777778,
              "#fb9f3a"
             ],
             [
              0.8888888888888888,
              "#fdca26"
             ],
             [
              1,
              "#f0f921"
             ]
            ],
            "type": "contour"
           }
          ],
          "contourcarpet": [
           {
            "colorbar": {
             "outlinewidth": 0,
             "ticks": ""
            },
            "type": "contourcarpet"
           }
          ],
          "heatmap": [
           {
            "colorbar": {
             "outlinewidth": 0,
             "ticks": ""
            },
            "colorscale": [
             [
              0,
              "#0d0887"
             ],
             [
              0.1111111111111111,
              "#46039f"
             ],
             [
              0.2222222222222222,
              "#7201a8"
             ],
             [
              0.3333333333333333,
              "#9c179e"
             ],
             [
              0.4444444444444444,
              "#bd3786"
             ],
             [
              0.5555555555555556,
              "#d8576b"
             ],
             [
              0.6666666666666666,
              "#ed7953"
             ],
             [
              0.7777777777777778,
              "#fb9f3a"
             ],
             [
              0.8888888888888888,
              "#fdca26"
             ],
             [
              1,
              "#f0f921"
             ]
            ],
            "type": "heatmap"
           }
          ],
          "histogram": [
           {
            "marker": {
             "pattern": {
              "fillmode": "overlay",
              "size": 10,
              "solidity": 0.2
             }
            },
            "type": "histogram"
           }
          ],
          "histogram2d": [
           {
            "colorbar": {
             "outlinewidth": 0,
             "ticks": ""
            },
            "colorscale": [
             [
              0,
              "#0d0887"
             ],
             [
              0.1111111111111111,
              "#46039f"
             ],
             [
              0.2222222222222222,
              "#7201a8"
             ],
             [
              0.3333333333333333,
              "#9c179e"
             ],
             [
              0.4444444444444444,
              "#bd3786"
             ],
             [
              0.5555555555555556,
              "#d8576b"
             ],
             [
              0.6666666666666666,
              "#ed7953"
             ],
             [
              0.7777777777777778,
              "#fb9f3a"
             ],
             [
              0.8888888888888888,
              "#fdca26"
             ],
             [
              1,
              "#f0f921"
             ]
            ],
            "type": "histogram2d"
           }
          ],
          "histogram2dcontour": [
           {
            "colorbar": {
             "outlinewidth": 0,
             "ticks": ""
            },
            "colorscale": [
             [
              0,
              "#0d0887"
             ],
             [
              0.1111111111111111,
              "#46039f"
             ],
             [
              0.2222222222222222,
              "#7201a8"
             ],
             [
              0.3333333333333333,
              "#9c179e"
             ],
             [
              0.4444444444444444,
              "#bd3786"
             ],
             [
              0.5555555555555556,
              "#d8576b"
             ],
             [
              0.6666666666666666,
              "#ed7953"
             ],
             [
              0.7777777777777778,
              "#fb9f3a"
             ],
             [
              0.8888888888888888,
              "#fdca26"
             ],
             [
              1,
              "#f0f921"
             ]
            ],
            "type": "histogram2dcontour"
           }
          ],
          "mesh3d": [
           {
            "colorbar": {
             "outlinewidth": 0,
             "ticks": ""
            },
            "type": "mesh3d"
           }
          ],
          "parcoords": [
           {
            "line": {
             "colorbar": {
              "outlinewidth": 0,
              "ticks": ""
             }
            },
            "type": "parcoords"
           }
          ],
          "pie": [
           {
            "automargin": true,
            "type": "pie"
           }
          ],
          "scatter": [
           {
            "fillpattern": {
             "fillmode": "overlay",
             "size": 10,
             "solidity": 0.2
            },
            "type": "scatter"
           }
          ],
          "scatter3d": [
           {
            "line": {
             "colorbar": {
              "outlinewidth": 0,
              "ticks": ""
             }
            },
            "marker": {
             "colorbar": {
              "outlinewidth": 0,
              "ticks": ""
             }
            },
            "type": "scatter3d"
           }
          ],
          "scattercarpet": [
           {
            "marker": {
             "colorbar": {
              "outlinewidth": 0,
              "ticks": ""
             }
            },
            "type": "scattercarpet"
           }
          ],
          "scattergeo": [
           {
            "marker": {
             "colorbar": {
              "outlinewidth": 0,
              "ticks": ""
             }
            },
            "type": "scattergeo"
           }
          ],
          "scattergl": [
           {
            "marker": {
             "colorbar": {
              "outlinewidth": 0,
              "ticks": ""
             }
            },
            "type": "scattergl"
           }
          ],
          "scattermap": [
           {
            "marker": {
             "colorbar": {
              "outlinewidth": 0,
              "ticks": ""
             }
            },
            "type": "scattermap"
           }
          ],
          "scattermapbox": [
           {
            "marker": {
             "colorbar": {
              "outlinewidth": 0,
              "ticks": ""
             }
            },
            "type": "scattermapbox"
           }
          ],
          "scatterpolar": [
           {
            "marker": {
             "colorbar": {
              "outlinewidth": 0,
              "ticks": ""
             }
            },
            "type": "scatterpolar"
           }
          ],
          "scatterpolargl": [
           {
            "marker": {
             "colorbar": {
              "outlinewidth": 0,
              "ticks": ""
             }
            },
            "type": "scatterpolargl"
           }
          ],
          "scatterternary": [
           {
            "marker": {
             "colorbar": {
              "outlinewidth": 0,
              "ticks": ""
             }
            },
            "type": "scatterternary"
           }
          ],
          "surface": [
           {
            "colorbar": {
             "outlinewidth": 0,
             "ticks": ""
            },
            "colorscale": [
             [
              0,
              "#0d0887"
             ],
             [
              0.1111111111111111,
              "#46039f"
             ],
             [
              0.2222222222222222,
              "#7201a8"
             ],
             [
              0.3333333333333333,
              "#9c179e"
             ],
             [
              0.4444444444444444,
              "#bd3786"
             ],
             [
              0.5555555555555556,
              "#d8576b"
             ],
             [
              0.6666666666666666,
              "#ed7953"
             ],
             [
              0.7777777777777778,
              "#fb9f3a"
             ],
             [
              0.8888888888888888,
              "#fdca26"
             ],
             [
              1,
              "#f0f921"
             ]
            ],
            "type": "surface"
           }
          ],
          "table": [
           {
            "cells": {
             "fill": {
              "color": "#EBF0F8"
             },
             "line": {
              "color": "white"
             }
            },
            "header": {
             "fill": {
              "color": "#C8D4E3"
             },
             "line": {
              "color": "white"
             }
            },
            "type": "table"
           }
          ]
         },
         "layout": {
          "annotationdefaults": {
           "arrowcolor": "#2a3f5f",
           "arrowhead": 0,
           "arrowwidth": 1
          },
          "autotypenumbers": "strict",
          "coloraxis": {
           "colorbar": {
            "outlinewidth": 0,
            "ticks": ""
           }
          },
          "colorscale": {
           "diverging": [
            [
             0,
             "#8e0152"
            ],
            [
             0.1,
             "#c51b7d"
            ],
            [
             0.2,
             "#de77ae"
            ],
            [
             0.3,
             "#f1b6da"
            ],
            [
             0.4,
             "#fde0ef"
            ],
            [
             0.5,
             "#f7f7f7"
            ],
            [
             0.6,
             "#e6f5d0"
            ],
            [
             0.7,
             "#b8e186"
            ],
            [
             0.8,
             "#7fbc41"
            ],
            [
             0.9,
             "#4d9221"
            ],
            [
             1,
             "#276419"
            ]
           ],
           "sequential": [
            [
             0,
             "#0d0887"
            ],
            [
             0.1111111111111111,
             "#46039f"
            ],
            [
             0.2222222222222222,
             "#7201a8"
            ],
            [
             0.3333333333333333,
             "#9c179e"
            ],
            [
             0.4444444444444444,
             "#bd3786"
            ],
            [
             0.5555555555555556,
             "#d8576b"
            ],
            [
             0.6666666666666666,
             "#ed7953"
            ],
            [
             0.7777777777777778,
             "#fb9f3a"
            ],
            [
             0.8888888888888888,
             "#fdca26"
            ],
            [
             1,
             "#f0f921"
            ]
           ],
           "sequentialminus": [
            [
             0,
             "#0d0887"
            ],
            [
             0.1111111111111111,
             "#46039f"
            ],
            [
             0.2222222222222222,
             "#7201a8"
            ],
            [
             0.3333333333333333,
             "#9c179e"
            ],
            [
             0.4444444444444444,
             "#bd3786"
            ],
            [
             0.5555555555555556,
             "#d8576b"
            ],
            [
             0.6666666666666666,
             "#ed7953"
            ],
            [
             0.7777777777777778,
             "#fb9f3a"
            ],
            [
             0.8888888888888888,
             "#fdca26"
            ],
            [
             1,
             "#f0f921"
            ]
           ]
          },
          "colorway": [
           "#636efa",
           "#EF553B",
           "#00cc96",
           "#ab63fa",
           "#FFA15A",
           "#19d3f3",
           "#FF6692",
           "#B6E880",
           "#FF97FF",
           "#FECB52"
          ],
          "font": {
           "color": "#2a3f5f"
          },
          "geo": {
           "bgcolor": "white",
           "lakecolor": "white",
           "landcolor": "#E5ECF6",
           "showlakes": true,
           "showland": true,
           "subunitcolor": "white"
          },
          "hoverlabel": {
           "align": "left"
          },
          "hovermode": "closest",
          "mapbox": {
           "style": "light"
          },
          "paper_bgcolor": "white",
          "plot_bgcolor": "#E5ECF6",
          "polar": {
           "angularaxis": {
            "gridcolor": "white",
            "linecolor": "white",
            "ticks": ""
           },
           "bgcolor": "#E5ECF6",
           "radialaxis": {
            "gridcolor": "white",
            "linecolor": "white",
            "ticks": ""
           }
          },
          "scene": {
           "xaxis": {
            "backgroundcolor": "#E5ECF6",
            "gridcolor": "white",
            "gridwidth": 2,
            "linecolor": "white",
            "showbackground": true,
            "ticks": "",
            "zerolinecolor": "white"
           },
           "yaxis": {
            "backgroundcolor": "#E5ECF6",
            "gridcolor": "white",
            "gridwidth": 2,
            "linecolor": "white",
            "showbackground": true,
            "ticks": "",
            "zerolinecolor": "white"
           },
           "zaxis": {
            "backgroundcolor": "#E5ECF6",
            "gridcolor": "white",
            "gridwidth": 2,
            "linecolor": "white",
            "showbackground": true,
            "ticks": "",
            "zerolinecolor": "white"
           }
          },
          "shapedefaults": {
           "line": {
            "color": "#2a3f5f"
           }
          },
          "ternary": {
           "aaxis": {
            "gridcolor": "white",
            "linecolor": "white",
            "ticks": ""
           },
           "baxis": {
            "gridcolor": "white",
            "linecolor": "white",
            "ticks": ""
           },
           "bgcolor": "#E5ECF6",
           "caxis": {
            "gridcolor": "white",
            "linecolor": "white",
            "ticks": ""
           }
          },
          "title": {
           "x": 0.05
          },
          "xaxis": {
           "automargin": true,
           "gridcolor": "white",
           "linecolor": "white",
           "ticks": "",
           "title": {
            "standoff": 15
           },
           "zerolinecolor": "white",
           "zerolinewidth": 2
          },
          "yaxis": {
           "automargin": true,
           "gridcolor": "white",
           "linecolor": "white",
           "ticks": "",
           "title": {
            "standoff": 15
           },
           "zerolinecolor": "white",
           "zerolinewidth": 2
          }
         }
        },
        "title": {
         "text": "RDPM Clustering with Constraints"
        },
        "xaxis": {
         "anchor": "y",
         "domain": [
          0,
          1
         ],
         "title": {
          "text": "x"
         }
        },
        "yaxis": {
         "anchor": "x",
         "domain": [
          0,
          1
         ],
         "title": {
          "text": "y"
         }
        }
       }
      }
     },
     "metadata": {},
     "output_type": "display_data"
    }
   ],
   "source": [
    "rdpm_centroids = rdpm.centroids\n",
    "df = pd.DataFrame(X, columns=['x', 'y'])\n",
    "df['label'] = rdpm._labels\n",
    "fig = plot_dataframe(df, title='RDPM Clustering with Constraints', x='x', y='y', label='label')\n",
    "for i, centroid in enumerate(rdpm_centroids):\n",
    "    fig = plot_centroid(fig, centroid, colors=[\"#34495e\"], marker_size=10, symbol='star', name=f'Centroid {i+1}')\n",
    "fig.show()"
   ]
  }
 ],
 "metadata": {
  "kernelspec": {
   "display_name": "clustlib-5JQ_NFw--py3.13",
   "language": "python",
   "name": "python3"
  },
  "language_info": {
   "codemirror_mode": {
    "name": "ipython",
    "version": 3
   },
   "file_extension": ".py",
   "mimetype": "text/x-python",
   "name": "python",
   "nbconvert_exporter": "python",
   "pygments_lexer": "ipython3",
   "version": "3.13.2"
  }
 },
 "nbformat": 4,
 "nbformat_minor": 5
}
