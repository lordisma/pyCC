{
 "cells": [
  {
   "cell_type": "code",
   "execution_count": 73,
   "id": "1e2ea0a0",
   "metadata": {},
   "outputs": [],
   "source": [
    "import numpy as np\n",
    "import math as m\n",
    "import scipy as sc\n",
    "import pandas as pd\n",
    "from sklearn.datasets import make_blobs\n",
    "import plotly.express as px\n",
    "\n",
    "import logging\n",
    "import sys\n",
    "\n",
    "logging.basicConfig(\n",
    "    level=logging.DEBUG,\n",
    "    format='%(asctime)s - %(levelname)s - %(message)s',\n",
    "    handlers=[\n",
    "        logging.StreamHandler(sys.stdout)\n",
    "    ]\n",
    ")"
   ]
  },
  {
   "cell_type": "code",
   "execution_count": 74,
   "id": "4c1fd241",
   "metadata": {},
   "outputs": [],
   "source": [
    "COLORS = [\n",
    "    \"#f7dc6f\",\n",
    "    \"#82e0aa\",\n",
    "    \"#f1948a\",\n",
    "    \"#499cef\",\n",
    "    \"#f5b041\",\n",
    "    \"#a569bd\",\n",
    "    \"#e74c3c\",\n",
    "    \"#2ecc71\",\n",
    "    \"#3498db\",\n",
    "    \"#e67e22\",\n",
    "    \"#9b59b6\",\n",
    "    \"#1abc9c\",\n",
    "    \"#34495e\",\n",
    "    \"#d35400\",\n",
    "    \"#c0392b\",\n",
    "    \"#16a085\",\n",
    "    \"#2980b9\",\n",
    "    \"#8e44ad\",\n",
    "]\n",
    "\n",
    "def twospirals(n_points, noise=.5):\n",
    "    n = np.sqrt(np.random.rand(n_points,1)) * 780 * (2*np.pi)/360\n",
    "    d1x = -np.cos(n)*n + np.random.rand(n_points,1) * noise\n",
    "    d1y = np.sin(n)*n + np.random.rand(n_points,1) * noise\n",
    "    return (np.vstack((np.hstack((d1x,d1y)),np.hstack((-d1x,-d1y)))), np.hstack((np.zeros(n_points, dtype=int),np.ones(n_points, dtype=int))))\n",
    "\n",
    "def plot_dataframe(df, title='', x='x', y='y', label='label'):\n",
    "    df[label] = df[label].astype(str)\n",
    "    fig = px.scatter(\n",
    "        df, \n",
    "        x=x, \n",
    "        y=y, \n",
    "        symbol=label,\n",
    "        color=label,\n",
    "        color_discrete_sequence= COLORS, \n",
    "        title=title\n",
    "    )\n",
    "    fig.update_traces(marker=dict(size=5, symbol='circle'))\n",
    "\n",
    "    return fig\n",
    "\n",
    "def plot_centroid(fig, centroid, colors = ['#a569bd'], marker_size=10, symbol = 'star', name = 'Centroid'):\n",
    "    fig.add_scatter(\n",
    "        x=[centroid[0]], \n",
    "        y=[centroid[1]], \n",
    "        mode='markers',\n",
    "        marker=dict(\n",
    "            size = marker_size,\n",
    "            color = colors,\n",
    "            symbol = symbol,\n",
    "        ), \n",
    "        name=name\n",
    "    )\n",
    "    return fig\n",
    "\n",
    "def create_constraints(labels, probability=0.01, seed=0):\n",
    "    n_points = len(labels)\n",
    "    constraints = np.zeros((n_points, n_points), dtype=int)\n",
    "    state = np.random.RandomState(seed=seed)\n",
    "    for i in range(n_points):\n",
    "        for j in range(i +1, n_points):\n",
    "            if state.rand() < probability:\n",
    "                if labels[i] == labels[j]:\n",
    "                    constraints[i, j] = 1\n",
    "                    constraints[j, i] = 1\n",
    "                elif labels[i] != labels[j]:\n",
    "                    constraints[i, j] = -1\n",
    "                    constraints[j, i] = -1\n",
    "    return constraints"
   ]
  },
  {
   "cell_type": "code",
   "execution_count": 75,
   "id": "b3cae0cf",
   "metadata": {},
   "outputs": [],
   "source": [
    "X, y = make_blobs(n_samples=300, centers=10, cluster_std=1.0, random_state=42)\n",
    "constraints = create_constraints(y, probability=0.01, seed=42)\n",
    "# df = pd.DataFrame(X, columns=['x', 'y'])\n",
    "# df['label'] = y\n",
    "# fig = plot_dataframe(df, title='Data with Constraints', x='x', y='y', label='label')\n",
    "# fig = plot_centroid(fig, np.mean(X, axis=0), colors=['#a569bd'], marker_size=10, symbol='star', name='Centroid')\n",
    "# fig.show()"
   ]
  },
  {
   "cell_type": "code",
   "execution_count": 79,
   "id": "0104b705",
   "metadata": {},
   "outputs": [
    {
     "name": "stdout",
     "output_type": "stream",
     "text": [
      "2025-05-31 17:02:37,061 - DEBUG - Fitting RDPM model\n",
      "2025-05-31 17:02:37,062 - DEBUG - Delta is None, convergence cannot be checked.\n",
      "2025-05-31 17:02:37,065 - DEBUG - Instance 1 exceeds limit, creating new cluster\n",
      "2025-05-31 17:02:37,067 - DEBUG - Instance 2 exceeds limit, creating new cluster\n",
      "2025-05-31 17:02:37,069 - DEBUG - Instance 3 exceeds limit, creating new cluster\n",
      "2025-05-31 17:02:37,071 - DEBUG - Instance 4 exceeds limit, creating new cluster\n",
      "2025-05-31 17:02:37,073 - DEBUG - Instance 5 exceeds limit, creating new cluster\n",
      "2025-05-31 17:02:37,075 - DEBUG - Instance 6 exceeds limit, creating new cluster\n",
      "2025-05-31 17:02:37,077 - DEBUG - Instance 7 exceeds limit, creating new cluster\n",
      "2025-05-31 17:02:37,081 - DEBUG - Instance 10 exceeds limit, creating new cluster\n",
      "2025-05-31 17:02:37,085 - DEBUG - Instance 13 exceeds limit, creating new cluster\n",
      "2025-05-31 17:02:37,087 - DEBUG - Instance 14 exceeds limit, creating new cluster\n",
      "2025-05-31 17:02:37,089 - DEBUG - Instance 15 exceeds limit, creating new cluster\n",
      "2025-05-31 17:02:37,094 - DEBUG - Instance 19 exceeds limit, creating new cluster\n",
      "2025-05-31 17:02:37,095 - DEBUG - Instance 20 exceeds limit, creating new cluster\n",
      "2025-05-31 17:02:37,100 - DEBUG - Instance 24 exceeds limit, creating new cluster\n",
      "2025-05-31 17:02:37,106 - DEBUG - Instance 27 exceeds limit, creating new cluster\n",
      "2025-05-31 17:02:37,117 - DEBUG - Instance 37 exceeds limit, creating new cluster\n",
      "2025-05-31 17:02:37,119 - DEBUG - Instance 38 exceeds limit, creating new cluster\n",
      "2025-05-31 17:02:37,124 - DEBUG - Instance 42 exceeds limit, creating new cluster\n",
      "2025-05-31 17:02:37,127 - DEBUG - Instance 44 exceeds limit, creating new cluster\n",
      "2025-05-31 17:02:37,129 - DEBUG - Instance 46 exceeds limit, creating new cluster\n",
      "2025-05-31 17:02:37,133 - DEBUG - Instance 48 exceeds limit, creating new cluster\n",
      "2025-05-31 17:02:37,143 - DEBUG - Instance 56 exceeds limit, creating new cluster\n",
      "2025-05-31 17:02:37,145 - DEBUG - Instance 57 exceeds limit, creating new cluster\n",
      "2025-05-31 17:02:37,160 - DEBUG - Instance 67 exceeds limit, creating new cluster\n",
      "2025-05-31 17:02:37,189 - DEBUG - Instance 89 exceeds limit, creating new cluster\n",
      "2025-05-31 17:02:37,196 - DEBUG - Instance 94 exceeds limit, creating new cluster\n",
      "2025-05-31 17:02:37,218 - DEBUG - Instance 110 exceeds limit, creating new cluster\n",
      "2025-05-31 17:02:37,230 - DEBUG - Instance 117 exceeds limit, creating new cluster\n",
      "2025-05-31 17:02:37,255 - DEBUG - Instance 132 exceeds limit, creating new cluster\n",
      "2025-05-31 17:02:37,270 - DEBUG - Instance 141 exceeds limit, creating new cluster\n",
      "2025-05-31 17:02:37,291 - DEBUG - Instance 153 exceeds limit, creating new cluster\n",
      "2025-05-31 17:02:37,336 - DEBUG - Instance 179 exceeds limit, creating new cluster\n",
      "2025-05-31 17:02:37,339 - DEBUG - Instance 180 exceeds limit, creating new cluster\n",
      "2025-05-31 17:02:37,343 - DEBUG - Instance 182 exceeds limit, creating new cluster\n",
      "2025-05-31 17:02:37,346 - DEBUG - Instance 183 exceeds limit, creating new cluster\n",
      "2025-05-31 17:02:37,366 - DEBUG - Instance 193 exceeds limit, creating new cluster\n",
      "2025-05-31 17:02:37,371 - DEBUG - Instance 195 exceeds limit, creating new cluster\n",
      "2025-05-31 17:02:37,384 - DEBUG - Instance 201 exceeds limit, creating new cluster\n",
      "2025-05-31 17:02:37,415 - DEBUG - Instance 207 exceeds limit, creating new cluster\n",
      "2025-05-31 17:02:37,420 - DEBUG - Instance 209 exceeds limit, creating new cluster\n",
      "2025-05-31 17:02:37,446 - DEBUG - Instance 221 exceeds limit, creating new cluster\n",
      "2025-05-31 17:02:37,463 - DEBUG - Instance 229 exceeds limit, creating new cluster\n",
      "2025-05-31 17:02:37,466 - DEBUG - Instance 230 exceeds limit, creating new cluster\n",
      "2025-05-31 17:02:37,564 - DEBUG - Instance 276 exceeds limit, creating new cluster\n",
      "2025-05-31 17:02:37,576 - DEBUG - Instance 281 exceeds limit, creating new cluster\n",
      "2025-05-31 17:02:37,618 - DEBUG - Instance 298 exceeds limit, creating new cluster\n",
      "2025-05-31 17:02:37,621 - DEBUG - Iteration 1 completed with clusters: 50\n",
      "2025-05-31 17:02:37,621 - DEBUG - Centroid 0 is empty, marking for removal\n",
      "2025-05-31 17:02:37,622 - DEBUG - Checking convergence with delta: [0. 0.]\n",
      "2025-05-31 17:02:37,622 - DEBUG - Tolerance: 1e-10\n",
      "2025-05-31 17:02:37,623 - DEBUG - Convergence reached, stopping criteria met.\n"
     ]
    }
   ],
   "source": [
    "from clustlib.kmean.rdpmean import RDPM\n",
    "from clustlib.utils.simpleconstraints import SimpleConstraints\n",
    "\n",
    "rdpm = RDPM(constraints=SimpleConstraints(constraints), n_clusters = 4, max_iter = 1000, tol = 1e-10, limit=1.5, rate = 1.2)\n",
    "rdpm.fit(X)\n"
   ]
  },
  {
   "cell_type": "code",
   "execution_count": 77,
   "id": "1ff13b58",
   "metadata": {},
   "outputs": [
    {
     "data": {
      "text/plain": [
       "array([[-3.62326991, -7.7983809 ],\n",
       "       [ 1.99931164,  3.4609919 ],\n",
       "       [-9.90777643,  9.33736188],\n",
       "       [-4.42748779,  9.91766874],\n",
       "       [ 7.52117345, -5.56987578],\n",
       "       [-8.0668831 , -6.3874575 ],\n",
       "       [-4.15410319, -0.41243503],\n",
       "       [-0.1598857 , -4.58349257],\n",
       "       [ 6.11777288,  1.45489947],\n",
       "       [-6.52366919,  5.45625772]])"
      ]
     },
     "execution_count": 77,
     "metadata": {},
     "output_type": "execute_result"
    }
   ],
   "source": [
    "rdpm_centroids = rdpm.centroids\n",
    "labels = rdpm._labels\n",
    "rdpm_centroids"
   ]
  },
  {
   "cell_type": "code",
   "execution_count": 78,
   "id": "de029c00",
   "metadata": {},
   "outputs": [
    {
     "data": {
      "application/vnd.plotly.v1+json": {
       "config": {
        "plotlyServerURL": "https://plot.ly"
       },
       "data": [
        {
         "hovertemplate": "label=3<br>x=%{x}<br>y=%{y}<extra></extra>",
         "legendgroup": "3",
         "marker": {
          "color": "#f7dc6f",
          "size": 5,
          "symbol": "circle"
         },
         "mode": "markers",
         "name": "3",
         "orientation": "v",
         "showlegend": true,
         "type": "scatter",
         "x": {
          "bdata": "hRf/EupU/L8AFv3Ssi4BwA0JVpU5wgfANQ9qitnmD8D9v5aBL+gHwCNZhEhgsvC/h3hV4Y3JCsCy4Ok19rIOwLwt+VISSA3Aqp5sxjQuAcBSDPs+UKYEwIQp3PmJiAPAocnvwmhsAcC2Y+iiei4EwL1ExzWv/wTASuqvWpzsDMC8cYSIu20IwJBpLg2zpve/gaHLE1zdGsCXvOKGFWcCwDF0dFR4VgvAJgJh3PHgCMBIz5ONh/z6v5wyfMIh4wjAKwgE3hx7AcCFwftILH0JwEiJ8I8JhBTAAavxQRtTAcCM+31UkSX7v+5b42cdLQzAl0ekXTVcBMA=",
          "dtype": "f8"
         },
         "xaxis": "x",
         "y": {
          "bdata": "oVxBGA5fIkDt10wKyholQDXExaKPJCRAh0FgF8GWIEAx1mjRQaghQIYxZY+3kyFAmzJHbf9oIUDSnN6BG2wiQNi6hgCsxyJAPrv6XwO9IED2m0yTHwkkQPpNktWvWx5AaVKMKcv6I0DBpPNyiNMfQGpGcD8mbSFAVdouorZFH0D1LWlbG0AiQKvVWEIh5CNAKcsLFUS2IEChiwFC7TccQOCS0BRuaB5AVC3ToPdxIUBL+VwvfCwfQLTqTVGuuyVAb3u5ASdCIUC5alslfkAjQHVhnOogrCNAflLSn0YBHUCpRbuatb0kQBqAq4k1qCJAzwYSfGkoJUA=",
          "dtype": "f8"
         },
         "yaxis": "y"
        },
        {
         "hovertemplate": "label=4<br>x=%{x}<br>y=%{y}<extra></extra>",
         "legendgroup": "4",
         "marker": {
          "color": "#82e0aa",
          "size": 5,
          "symbol": "circle"
         },
         "mode": "markers",
         "name": "4",
         "orientation": "v",
         "showlegend": true,
         "type": "scatter",
         "x": {
          "bdata": "TQ9cfq4VHkCR5tfMEo8XQHGpxXyNhBlAbrwvlS5TFkA9DAsGLFAfQIlRNGp8mRlAFT7IwMTcFUDrFHvUjDwXQDzmfPAiIxpAxulTgEDUHkBoVi0HZ2YgQJzxY9tyABdAIhZ8x6hlHkD5UULvLL4TQD1y3uiOyxhALVsZ+le8FkCeQXk6uzcUQHnpkqabExtAlWWvJmL2G0BLETdOSi0dQLiDOP+27BtA+K7OyVBrIUC85B16y50aQHSYElqOGRJAH7WlqIFQFUDkIiQMfnUUQHGmdXEecR1Aqq48YWtNIECW+LmNBlAfQJgOT0lkrSFA",
          "dtype": "f8"
         },
         "xaxis": "x",
         "y": {
          "bdata": "Q31DhI1HFsA5QtSxSmkWwIFwVSCIJBTAUCh9cxeVF8CsewUbu+MYwNWiLQdoIBPAdLrfAHgrH8AcloS1EmkZwCB7dGfFDxLApn3/hj4MHsCx8rAc2IwWwEVsNt2RCxXAzg72WgtSGcBYA/YA7pgRwFoDlyZ/hRTAsL3dP8dEFMBaguQWDmkZwCO1PXiC9BTARuKaMDEED8Cmge740IkRwH8ILse+ARrA4P8+6Kb7D8AD8bbXL9MWwBxQPQyrHRnAGnqBMcNfD8ByXOo19OYRwOCZLrPtghvAay1zBWy3FsDc4Gf1J74WwDMPshH+PhrA",
          "dtype": "f8"
         },
         "yaxis": "y"
        },
        {
         "hovertemplate": "label=5<br>x=%{x}<br>y=%{y}<extra></extra>",
         "legendgroup": "5",
         "marker": {
          "color": "#f1948a",
          "size": 5,
          "symbol": "circle"
         },
         "mode": "markers",
         "name": "5",
         "orientation": "v",
         "showlegend": true,
         "type": "scatter",
         "x": {
          "bdata": "ADFFgD4iIMDgMurKO4QawN3nPgMEgBzAHFLjoz/nGcAFZpWZgakawMckYVO6ehzAp8QlpWyCG8AWw1EoaGkawOlDrL2w0xvAKvE2JMqmHsCePkOvm2UdwM5FGWQVPR7Ael2XDA4EGcAbhEGR1CUXwJ7zp4lm+SDAi0YBw8eDH8CckNfg/yQZwIgl1bdQChzAsZUQ2vI6GMBj2XE1dZMbwKmpF3dotBnAK/fJzKFYGsBYNzHxz2ofwAJOSRmwOyDA6hS1xznhH8AVWfgwv5McwP8FiGZR/xbA/w42a5BpHMAm6Tz80/wXwDDhuzT4TR3AlIb1BlEkIMCArf8jRW4ZwNFOckaeehrAluoA4trnHsBD1wOr4I0awA3pU1g29xnAQOps3JkTH8ASz/p+Y3wZwJas8uHS4RnAMCFhXgCsHsCRnQNcKasbwIH1B1y+QBzAeGV5XjWTG8A7jCeWJKAZwC18jQhVzR/ArQ9Zn2x3G8AgERkQ8eoXwDBD57c9qhfAgWFXpmbTGsBrkbm70ZsawBIPZoek3CDA",
          "dtype": "f8"
         },
         "xaxis": "x",
         "y": {
          "bdata": "dMPLqMGMGcAJ4DkheCIawM75vtwOiR7Adt6gBCY2GsDU4qMyb0AgwBmYmHBDBB/ANTkDooKQHcDibdZSMjYYwNzZhIHkJxrArK198QXPHMDx/8Nku08XwHtWOYlnlxrAgF/hKPbyHsCLsIjNJxUYwMSKf8oqyBrAGZOBRjLcE8AXUCim1MUcwByPtXthpx3AsvCwjOruE8C0SNN1g6EbwBPvvFXPgRXAgCkpY7pgHsBGB1/xQV8YwPn/IZ2wZiDA81hbZIeDGMBKtFdsx6MQwGXD7g8wTBbALkDygBiqGMCGCZUCUBYdwGtAyKRHGBjArnMr3OvkGMDdQ/SyHlUawO7eOUalZBjA1/SwxzfKIMCPpBp+hUQhwM7ITFtZJh3Acrt2OJ/IHsA7feGvaWgTwA4nDLr2dx3AQDvShSGmFsBSVGiqgB4ewFbUGJ3CeBjA4A/lBMd/HMB/Upgcz88bwDpMTTMulxnA7gNMNtC0FcD5gTrlWnUZwBml6WeL3hnASwBez6r6GcC7razRt0oWwP6/b3IirxnA",
          "dtype": "f8"
         },
         "yaxis": "y"
        },
        {
         "hovertemplate": "label=6<br>x=%{x}<br>y=%{y}<extra></extra>",
         "legendgroup": "6",
         "marker": {
          "color": "#499cef",
          "size": 5,
          "symbol": "circle"
         },
         "mode": "markers",
         "name": "6",
         "orientation": "v",
         "showlegend": true,
         "type": "scatter",
         "x": {
          "bdata": "7BrdOc2dEMCGky2DvaIIwK331H5mNgrAppt+BaJ037+BGv1IQs8TwDW1fzQVjBnA3Gmqkrv3EcCM0Zv4RFPuv0ya8abj4vy/a7MWl1coDcC8aADquCsWwILy9t1ktArAI0xqH86GDsCgIhjiWR4JwHQXf9XTngzAwiA2nVlFB8D1/C3xugcSwLjkuOIyFQvAe9ymvJ76BcAjbTnf5qAOwP04kXlgQxLAUvYajd3uDsBV6WWhLhoTwGQRm0WlTxLAznAqgMApE8BocBk6rbcGwDLVnBVt6QfA/g7RPLK2EsBv6doBl1YWwI5ENbSR2Q/A5J2XWplEEsAdh+38W1ALwHRd/YZAQRXAQeesd1M+DcBS7+KHIVoMwA==",
          "dtype": "f8"
         },
         "xaxis": "x",
         "y": {
          "bdata": "pP2+5FVl2r/0kcn8dk7kv1UhSQ+KqfK/I9waeOiOBsBOU7+5rYHTP7bkA/QkUNO/BxJyHCEC9D8qgJ+bk2MCwOYDjgKLYg7AqjvbGRZ53D9wnbtxAWLhPxZN9+19sdI/8KJggbrx8z9icwcNW28FwLj8DDH7T7U/OGVofG/utL+GFtPvb5vXv84BU0K2/P4/CoC9Lk/85z9ACHJakrnVPyDlnOEBZIA/+ICEZBl+1b8kUo+WhE68P8xWFBI4DfE/QmIcOM1n7L+0OG+c2EAIwBc9bjuCPANAuHpvDcD09L9a4Ut1pp3wP9ZFDAuN6Oa/smh2OGJc4T9663reE+Dev0IzDAj47fA/JO1h1SIw2r/wwrDrBd67vw==",
          "dtype": "f8"
         },
         "yaxis": "y"
        },
        {
         "hovertemplate": "label=2<br>x=%{x}<br>y=%{y}<extra></extra>",
         "legendgroup": "2",
         "marker": {
          "color": "#f5b041",
          "size": 5,
          "symbol": "circle"
         },
         "mode": "markers",
         "name": "2",
         "orientation": "v",
         "showlegend": true,
         "type": "scatter",
         "x": {
          "bdata": "ps/ZU2WgIsAlvpC5yq8iwMYA0zRnBR/Al3vGu3q6IsAvyPFBwnEjwJhQ1CyXbiTAfN3FefM2I8AdWnznDp0kwMBa3d26pSLA+kC5ZOZkI8DaSTbSF3YhwF3RNIeN+yLANiLTIGcGI8DCfSJEpE4iwM7qEQ4x0iTAGB3iiO2IIMBuSomxSzAlwJoeYJV1GyPAjCaAGuSVIcBX3bqd+4ciwH7KLukrIyPATjTOwIyJH8DCXe4W9DkhwI5kovgOACPApowdCw7QIcCQYYPqYh4kwHPB6CcktyTAC0Tal4alIMATCCP3hKUgwOPsDGQJ9iDAAxK+YqogI8AOllA7y1kiwIK+wVmq7SHAYfRIS6ISJsAUGu6S/kIjwNbuE27cyyHAfMjfi8YTJMD9JfO0B44iwNrgazJPIyLA44I5MXwzI8B0AJzgyzIkwFUsZ1naniLAYO1jmquqIMDFJCoTQ9wgwJcOtmE0+yLAxx5Gjd7TJMAUQboakr0dwIL94tk9hyLAIjw1sDpGIMAcl/7NJNAkwGgW0ArpOCPAhQ97ibE2I8AiBuvIGLolwA==",
          "dtype": "f8"
         },
         "xaxis": "x",
         "y": {
          "bdata": "M5i4QEeuGkAQ3E1tUsghQM4K97wwwSBA9Dp3/lLSIkAWvJC0s+gdQJcSR2L0ihlAPlw39JTKIEDeGqyJl14iQO2A0mcgnx1A+NNFpI2ZI0AuCBUF/XkiQHuhjOeY/CNABxACiytxIUCAhsRoPCogQOPHkw2lSCNAkDi5pw3rIEDp9V1aNl4gQMZdHwiZASBAWS06eAywGkDGkCqrVSQhQMMQY+nwKB5AZlQ75k/mH0DFyLNglYAiQEYWCfAWWiBA2vLSMgUtIkBiI3S7r0IjQCsEzIhuWxtA9YrXfmdZH0DjaHwEPlomQDC22eOHiR9AdeJoHdrKI0D2qm/6P6shQF/qRfyWDSRACE8zyIL2H0BIQRcfzNUcQA6wkbZz/iFAAqlkGcL0G0DXp3dfQr8lQLh2PaOj3CVAhbXQjnsAIUBT1fTLlnsgQBsEbbov0yBAq8B1D+lgIED/OaRLNWEkQCndYYsYQCFAeJA9zFMnIkCVnv2z/kIhQHOJV18+iSJAgT5QBwa3JED6bSveLfsmQNwpqgPJWBxAL2vwahU4IkA805Z4NwoeQA==",
          "dtype": "f8"
         },
         "yaxis": "y"
        },
        {
         "hovertemplate": "label=1<br>x=%{x}<br>y=%{y}<extra></extra>",
         "legendgroup": "1",
         "marker": {
          "color": "#a569bd",
          "size": 5,
          "symbol": "circle"
         },
         "mode": "markers",
         "name": "1",
         "orientation": "v",
         "showlegend": true,
         "type": "scatter",
         "x": {
          "bdata": "CZ/q10swEUDENyXynLoDQAxJiX7fBv0/+oaIfNoxDUCwi86zfcMNQBP2+B9CyhFADr9QHlRmCkAh3qGKfCEXQGrJg0ih7f0/HkuGEtTEBUCScVHmyssJQFBlZ0rdAgBA5I7zukquEUBaCOEOTlAKQHbyZciqgA9AD3t9VNXdDECsVuhQFOoRQAMxqUNf6BJAKxxvwE3t9j/8ou83xxfzP+aIO2fZPA1Ap8L7kLa2CEC+CLG0354MQLuPPq7WCANAbBVnExWn8D8OCtOW0lD8P2tMWlYgjgRA9wqgmWmuBkDAE7ym44Dzvwf/7lpYxQFA5an2itR7CUCnRh0koLwAQMOXr9AgKAZA3nTlcaKG8T/7Pz8qDWAHQCvrqTS43/w/e7jDYunMEkD/RE6eSp8KQJyTJAlmtQtAsmPuaCRtAkBkYN+hH8gGQOGTRGfrUPk/dYoGhycWAUA=",
          "dtype": "f8"
         },
         "xaxis": "x",
         "y": {
          "bdata": "IqZFr/m78j+Eqdk5jb4TQPR9qqP8WA1AhqiYKoyC9j9U1lMyUS8MQH4FHNeeMgJAzSdCVR2PDEBGPzGnAs0FQDZg6GHD/xJAx6Ggj4Al/z9D3dfII9f4P2s46zl4HRFAqvDsBWukAkCE3SqBWKELQDpaI7b/U/o/xwAVTZtjB0D2Yu8zjAQDQG6DZ3Feyfo/O4wXplELFEDBqojqZs8MQBaSjCa52QVAj/Cj7ndVAEAWkPkD+JIDQFS3bu2SvwtA4pa3NYV+EkAIP0xdMU8HQAn9lu6PrA9A3f7U+hAqE0Di4zT3tBgJQJdQdZtofQxAYfGbF86vEEDyvnrRhzUOQIs5pHVYFhNAcgB8V19oEECSPUNIAOARQF7S1VB5ChVAFPTku+K+EUAC43WW1boQQIGCXdEBzgVAV6I9Ol1PDEBdsAg6XOYTQBYXIWo0KxFAf0LlI1lLE0A=",
          "dtype": "f8"
         },
         "yaxis": "y"
        },
        {
         "hovertemplate": "label=0<br>x=%{x}<br>y=%{y}<extra></extra>",
         "legendgroup": "0",
         "marker": {
          "color": "#e74c3c",
          "size": 5,
          "symbol": "circle"
         },
         "mode": "markers",
         "name": "0",
         "orientation": "v",
         "showlegend": true,
         "type": "scatter",
         "x": {
          "bdata": "DIOKdZe0EsA8GUPF5kYKwDIVghnH3xLABilmHFbiFsD46lWcWJgRwOxxha2LXBPAWFM9VbJDGMCu/uu4hfASwBZcnmUvDhTAdwgIcJwxC8A=",
          "dtype": "f8"
         },
         "xaxis": "x",
         "y": {
          "bdata": "N3FHlxPNFcDqHFtRbtkUwGntiHfjUhrA7PcWZZzNHsDuaOkIxC8ZwBvN/iAILBfAmtOBktE4IMDfBuR6GdkewCK68/0GoBnArFHkV+i7FMA=",
          "dtype": "f8"
         },
         "yaxis": "y"
        },
        {
         "hovertemplate": "label=7<br>x=%{x}<br>y=%{y}<extra></extra>",
         "legendgroup": "7",
         "marker": {
          "color": "#2ecc71",
          "size": 5,
          "symbol": "circle"
         },
         "mode": "markers",
         "name": "7",
         "orientation": "v",
         "showlegend": true,
         "type": "scatter",
         "x": {
          "bdata": "4OMFgSJ3xL+GqzpxJSTxv3w8u6H8AfK/hOVGTlM67L+LXHKPkJ3mvwycD1Wfe/W/gTmdN5sg/b+ydtVsvFrxP41rvLTG7u6/xBdsNPiL8L+l/F07owPhv75RL5ZMlP2/ehrLl0AUAcD2XGXIeBj6v/xI+M8j3vK/FPUWrDO11L/iKI7D7aH0vw/PkzGVXPC/YqU0BVBM8b9AVr306doJwMrYUMi/W9+/ffmZDGFO57+ahQ9jBPzgvzi6KZ3gVOO/",
          "dtype": "f8"
         },
         "xaxis": "x",
         "y": {
          "bdata": "lEx2E39VEsBP9Z5l1cwAwDIzlsKFPAvAmi3QF+q7DsBFdN/Ai+wQwJwFUSrp/QPAsL32Kt4ZFMDMcAYCTi8QwCqQBR+3YhLAjKhXdPyTEcCsdH1r1IsZwDvJWRmRbhLApLf2UyeuFcA+w9eZ4Z0UwJhSXg7mag/AoJjmTeK9EsDYw2KZv5wSwMIW48zhXBLAEjApxCA0FcCS0Vi3kxsSwEIgoq15ARLAJNFJOsB5/r+9OszNQSAUwC34E6zsYxTA",
          "dtype": "f8"
         },
         "yaxis": "y"
        },
        {
         "hovertemplate": "label=8<br>x=%{x}<br>y=%{y}<extra></extra>",
         "legendgroup": "8",
         "marker": {
          "color": "#3498db",
          "size": 5,
          "symbol": "circle"
         },
         "mode": "markers",
         "name": "8",
         "orientation": "v",
         "showlegend": true,
         "type": "scatter",
         "x": {
          "bdata": "GHtAdJl4GED3gtqxpPISQEy1Mo12vhNAWTQQ3HiUEkD4NxOZt/0QQMSSJq1AuRVA7GZU8MJwEEAD6vCv95YTQBzjBJKbOBZA0YLrtrAaGkABaBxNraYOQFfzbYKyKxhAvji0Z0f1EkCTcBPGD58QQHMcRe8y7RJAMzOxdi3oFEDmU13qsGsSQA==",
          "dtype": "f8"
         },
         "xaxis": "x",
         "y": {
          "bdata": "yCCAqURH9z+FDs4h1ogHQJKPc1Wx3wFADTXB7zvR+z+gldFyF0/gP+L3w4NABfE/cXaqJDnkA0CKKYcsLGH+PyD483JVagJA6aFVPZYuAUCQAxT754r3P4y1Lf09SOI/qJAT492D9z9Kl7XnxqwBQAABLwZYfY2/bLWoZI2nEEAiWttDZb7pPw==",
          "dtype": "f8"
         },
         "yaxis": "y"
        },
        {
         "hovertemplate": "label=9<br>x=%{x}<br>y=%{y}<extra></extra>",
         "legendgroup": "9",
         "marker": {
          "color": "#e67e22",
          "size": 5,
          "symbol": "circle"
         },
         "mode": "markers",
         "name": "9",
         "orientation": "v",
         "showlegend": true,
         "type": "scatter",
         "x": {
          "bdata": "PT9zvDwYGsCc9OVan0ocwFznF4MMxxrAsQY4w2uPIcATjyz8T4whwDrAz8zbTSDA",
          "dtype": "f8"
         },
         "xaxis": "x",
         "y": {
          "bdata": "MLt5OTXTFUAGhOYd/ekeQHT3yqhr1B9Ay10QyeK4GEC6uptDrfsYQJJLRM3d1xZA",
          "dtype": "f8"
         },
         "yaxis": "y"
        },
        {
         "marker": {
          "color": [
           "#f7dc6f"
          ],
          "size": 10,
          "symbol": "star"
         },
         "mode": "markers",
         "name": "Centroid 1",
         "type": "scatter",
         "x": [
          -3.6232699115486118
         ],
         "y": [
          -7.79838090106021
         ]
        },
        {
         "marker": {
          "color": [
           "#82e0aa"
          ],
          "size": 10,
          "symbol": "star"
         },
         "mode": "markers",
         "name": "Centroid 2",
         "type": "scatter",
         "x": [
          1.9993116424080333
         ],
         "y": [
          3.4609919044422957
         ]
        },
        {
         "marker": {
          "color": [
           "#f1948a"
          ],
          "size": 10,
          "symbol": "star"
         },
         "mode": "markers",
         "name": "Centroid 3",
         "type": "scatter",
         "x": [
          -9.907776433025543
         ],
         "y": [
          9.337361881845878
         ]
        },
        {
         "marker": {
          "color": [
           "#499cef"
          ],
          "size": 10,
          "symbol": "star"
         },
         "mode": "markers",
         "name": "Centroid 4",
         "type": "scatter",
         "x": [
          -4.427487786065903
         ],
         "y": [
          9.917668738684268
         ]
        },
        {
         "marker": {
          "color": [
           "#f5b041"
          ],
          "size": 10,
          "symbol": "star"
         },
         "mode": "markers",
         "name": "Centroid 5",
         "type": "scatter",
         "x": [
          7.521173452729113
         ],
         "y": [
          -5.569875780696125
         ]
        },
        {
         "marker": {
          "color": [
           "#a569bd"
          ],
          "size": 10,
          "symbol": "star"
         },
         "mode": "markers",
         "name": "Centroid 6",
         "type": "scatter",
         "x": [
          -8.066883095213143
         ],
         "y": [
          -6.387457501827942
         ]
        },
        {
         "marker": {
          "color": [
           "#e74c3c"
          ],
          "size": 10,
          "symbol": "star"
         },
         "mode": "markers",
         "name": "Centroid 7",
         "type": "scatter",
         "x": [
          -4.154103187675656
         ],
         "y": [
          -0.41243502939684107
         ]
        },
        {
         "marker": {
          "color": [
           "#2ecc71"
          ],
          "size": 10,
          "symbol": "star"
         },
         "mode": "markers",
         "name": "Centroid 8",
         "type": "scatter",
         "x": [
          -0.15988570499373989
         ],
         "y": [
          -4.583492569060713
         ]
        },
        {
         "marker": {
          "color": [
           "#3498db"
          ],
          "size": 10,
          "symbol": "star"
         },
         "mode": "markers",
         "name": "Centroid 9",
         "type": "scatter",
         "x": [
          6.117772880969618
         ],
         "y": [
          1.4548994656670846
         ]
        },
        {
         "marker": {
          "color": [
           "#e67e22"
          ],
          "size": 10,
          "symbol": "star"
         },
         "mode": "markers",
         "name": "Centroid 10",
         "type": "scatter",
         "x": [
          -6.523669189962502
         ],
         "y": [
          5.456257722906955
         ]
        }
       ],
       "layout": {
        "legend": {
         "title": {
          "text": "label"
         },
         "tracegroupgap": 0
        },
        "template": {
         "data": {
          "bar": [
           {
            "error_x": {
             "color": "#2a3f5f"
            },
            "error_y": {
             "color": "#2a3f5f"
            },
            "marker": {
             "line": {
              "color": "#E5ECF6",
              "width": 0.5
             },
             "pattern": {
              "fillmode": "overlay",
              "size": 10,
              "solidity": 0.2
             }
            },
            "type": "bar"
           }
          ],
          "barpolar": [
           {
            "marker": {
             "line": {
              "color": "#E5ECF6",
              "width": 0.5
             },
             "pattern": {
              "fillmode": "overlay",
              "size": 10,
              "solidity": 0.2
             }
            },
            "type": "barpolar"
           }
          ],
          "carpet": [
           {
            "aaxis": {
             "endlinecolor": "#2a3f5f",
             "gridcolor": "white",
             "linecolor": "white",
             "minorgridcolor": "white",
             "startlinecolor": "#2a3f5f"
            },
            "baxis": {
             "endlinecolor": "#2a3f5f",
             "gridcolor": "white",
             "linecolor": "white",
             "minorgridcolor": "white",
             "startlinecolor": "#2a3f5f"
            },
            "type": "carpet"
           }
          ],
          "choropleth": [
           {
            "colorbar": {
             "outlinewidth": 0,
             "ticks": ""
            },
            "type": "choropleth"
           }
          ],
          "contour": [
           {
            "colorbar": {
             "outlinewidth": 0,
             "ticks": ""
            },
            "colorscale": [
             [
              0,
              "#0d0887"
             ],
             [
              0.1111111111111111,
              "#46039f"
             ],
             [
              0.2222222222222222,
              "#7201a8"
             ],
             [
              0.3333333333333333,
              "#9c179e"
             ],
             [
              0.4444444444444444,
              "#bd3786"
             ],
             [
              0.5555555555555556,
              "#d8576b"
             ],
             [
              0.6666666666666666,
              "#ed7953"
             ],
             [
              0.7777777777777778,
              "#fb9f3a"
             ],
             [
              0.8888888888888888,
              "#fdca26"
             ],
             [
              1,
              "#f0f921"
             ]
            ],
            "type": "contour"
           }
          ],
          "contourcarpet": [
           {
            "colorbar": {
             "outlinewidth": 0,
             "ticks": ""
            },
            "type": "contourcarpet"
           }
          ],
          "heatmap": [
           {
            "colorbar": {
             "outlinewidth": 0,
             "ticks": ""
            },
            "colorscale": [
             [
              0,
              "#0d0887"
             ],
             [
              0.1111111111111111,
              "#46039f"
             ],
             [
              0.2222222222222222,
              "#7201a8"
             ],
             [
              0.3333333333333333,
              "#9c179e"
             ],
             [
              0.4444444444444444,
              "#bd3786"
             ],
             [
              0.5555555555555556,
              "#d8576b"
             ],
             [
              0.6666666666666666,
              "#ed7953"
             ],
             [
              0.7777777777777778,
              "#fb9f3a"
             ],
             [
              0.8888888888888888,
              "#fdca26"
             ],
             [
              1,
              "#f0f921"
             ]
            ],
            "type": "heatmap"
           }
          ],
          "histogram": [
           {
            "marker": {
             "pattern": {
              "fillmode": "overlay",
              "size": 10,
              "solidity": 0.2
             }
            },
            "type": "histogram"
           }
          ],
          "histogram2d": [
           {
            "colorbar": {
             "outlinewidth": 0,
             "ticks": ""
            },
            "colorscale": [
             [
              0,
              "#0d0887"
             ],
             [
              0.1111111111111111,
              "#46039f"
             ],
             [
              0.2222222222222222,
              "#7201a8"
             ],
             [
              0.3333333333333333,
              "#9c179e"
             ],
             [
              0.4444444444444444,
              "#bd3786"
             ],
             [
              0.5555555555555556,
              "#d8576b"
             ],
             [
              0.6666666666666666,
              "#ed7953"
             ],
             [
              0.7777777777777778,
              "#fb9f3a"
             ],
             [
              0.8888888888888888,
              "#fdca26"
             ],
             [
              1,
              "#f0f921"
             ]
            ],
            "type": "histogram2d"
           }
          ],
          "histogram2dcontour": [
           {
            "colorbar": {
             "outlinewidth": 0,
             "ticks": ""
            },
            "colorscale": [
             [
              0,
              "#0d0887"
             ],
             [
              0.1111111111111111,
              "#46039f"
             ],
             [
              0.2222222222222222,
              "#7201a8"
             ],
             [
              0.3333333333333333,
              "#9c179e"
             ],
             [
              0.4444444444444444,
              "#bd3786"
             ],
             [
              0.5555555555555556,
              "#d8576b"
             ],
             [
              0.6666666666666666,
              "#ed7953"
             ],
             [
              0.7777777777777778,
              "#fb9f3a"
             ],
             [
              0.8888888888888888,
              "#fdca26"
             ],
             [
              1,
              "#f0f921"
             ]
            ],
            "type": "histogram2dcontour"
           }
          ],
          "mesh3d": [
           {
            "colorbar": {
             "outlinewidth": 0,
             "ticks": ""
            },
            "type": "mesh3d"
           }
          ],
          "parcoords": [
           {
            "line": {
             "colorbar": {
              "outlinewidth": 0,
              "ticks": ""
             }
            },
            "type": "parcoords"
           }
          ],
          "pie": [
           {
            "automargin": true,
            "type": "pie"
           }
          ],
          "scatter": [
           {
            "fillpattern": {
             "fillmode": "overlay",
             "size": 10,
             "solidity": 0.2
            },
            "type": "scatter"
           }
          ],
          "scatter3d": [
           {
            "line": {
             "colorbar": {
              "outlinewidth": 0,
              "ticks": ""
             }
            },
            "marker": {
             "colorbar": {
              "outlinewidth": 0,
              "ticks": ""
             }
            },
            "type": "scatter3d"
           }
          ],
          "scattercarpet": [
           {
            "marker": {
             "colorbar": {
              "outlinewidth": 0,
              "ticks": ""
             }
            },
            "type": "scattercarpet"
           }
          ],
          "scattergeo": [
           {
            "marker": {
             "colorbar": {
              "outlinewidth": 0,
              "ticks": ""
             }
            },
            "type": "scattergeo"
           }
          ],
          "scattergl": [
           {
            "marker": {
             "colorbar": {
              "outlinewidth": 0,
              "ticks": ""
             }
            },
            "type": "scattergl"
           }
          ],
          "scattermap": [
           {
            "marker": {
             "colorbar": {
              "outlinewidth": 0,
              "ticks": ""
             }
            },
            "type": "scattermap"
           }
          ],
          "scattermapbox": [
           {
            "marker": {
             "colorbar": {
              "outlinewidth": 0,
              "ticks": ""
             }
            },
            "type": "scattermapbox"
           }
          ],
          "scatterpolar": [
           {
            "marker": {
             "colorbar": {
              "outlinewidth": 0,
              "ticks": ""
             }
            },
            "type": "scatterpolar"
           }
          ],
          "scatterpolargl": [
           {
            "marker": {
             "colorbar": {
              "outlinewidth": 0,
              "ticks": ""
             }
            },
            "type": "scatterpolargl"
           }
          ],
          "scatterternary": [
           {
            "marker": {
             "colorbar": {
              "outlinewidth": 0,
              "ticks": ""
             }
            },
            "type": "scatterternary"
           }
          ],
          "surface": [
           {
            "colorbar": {
             "outlinewidth": 0,
             "ticks": ""
            },
            "colorscale": [
             [
              0,
              "#0d0887"
             ],
             [
              0.1111111111111111,
              "#46039f"
             ],
             [
              0.2222222222222222,
              "#7201a8"
             ],
             [
              0.3333333333333333,
              "#9c179e"
             ],
             [
              0.4444444444444444,
              "#bd3786"
             ],
             [
              0.5555555555555556,
              "#d8576b"
             ],
             [
              0.6666666666666666,
              "#ed7953"
             ],
             [
              0.7777777777777778,
              "#fb9f3a"
             ],
             [
              0.8888888888888888,
              "#fdca26"
             ],
             [
              1,
              "#f0f921"
             ]
            ],
            "type": "surface"
           }
          ],
          "table": [
           {
            "cells": {
             "fill": {
              "color": "#EBF0F8"
             },
             "line": {
              "color": "white"
             }
            },
            "header": {
             "fill": {
              "color": "#C8D4E3"
             },
             "line": {
              "color": "white"
             }
            },
            "type": "table"
           }
          ]
         },
         "layout": {
          "annotationdefaults": {
           "arrowcolor": "#2a3f5f",
           "arrowhead": 0,
           "arrowwidth": 1
          },
          "autotypenumbers": "strict",
          "coloraxis": {
           "colorbar": {
            "outlinewidth": 0,
            "ticks": ""
           }
          },
          "colorscale": {
           "diverging": [
            [
             0,
             "#8e0152"
            ],
            [
             0.1,
             "#c51b7d"
            ],
            [
             0.2,
             "#de77ae"
            ],
            [
             0.3,
             "#f1b6da"
            ],
            [
             0.4,
             "#fde0ef"
            ],
            [
             0.5,
             "#f7f7f7"
            ],
            [
             0.6,
             "#e6f5d0"
            ],
            [
             0.7,
             "#b8e186"
            ],
            [
             0.8,
             "#7fbc41"
            ],
            [
             0.9,
             "#4d9221"
            ],
            [
             1,
             "#276419"
            ]
           ],
           "sequential": [
            [
             0,
             "#0d0887"
            ],
            [
             0.1111111111111111,
             "#46039f"
            ],
            [
             0.2222222222222222,
             "#7201a8"
            ],
            [
             0.3333333333333333,
             "#9c179e"
            ],
            [
             0.4444444444444444,
             "#bd3786"
            ],
            [
             0.5555555555555556,
             "#d8576b"
            ],
            [
             0.6666666666666666,
             "#ed7953"
            ],
            [
             0.7777777777777778,
             "#fb9f3a"
            ],
            [
             0.8888888888888888,
             "#fdca26"
            ],
            [
             1,
             "#f0f921"
            ]
           ],
           "sequentialminus": [
            [
             0,
             "#0d0887"
            ],
            [
             0.1111111111111111,
             "#46039f"
            ],
            [
             0.2222222222222222,
             "#7201a8"
            ],
            [
             0.3333333333333333,
             "#9c179e"
            ],
            [
             0.4444444444444444,
             "#bd3786"
            ],
            [
             0.5555555555555556,
             "#d8576b"
            ],
            [
             0.6666666666666666,
             "#ed7953"
            ],
            [
             0.7777777777777778,
             "#fb9f3a"
            ],
            [
             0.8888888888888888,
             "#fdca26"
            ],
            [
             1,
             "#f0f921"
            ]
           ]
          },
          "colorway": [
           "#636efa",
           "#EF553B",
           "#00cc96",
           "#ab63fa",
           "#FFA15A",
           "#19d3f3",
           "#FF6692",
           "#B6E880",
           "#FF97FF",
           "#FECB52"
          ],
          "font": {
           "color": "#2a3f5f"
          },
          "geo": {
           "bgcolor": "white",
           "lakecolor": "white",
           "landcolor": "#E5ECF6",
           "showlakes": true,
           "showland": true,
           "subunitcolor": "white"
          },
          "hoverlabel": {
           "align": "left"
          },
          "hovermode": "closest",
          "mapbox": {
           "style": "light"
          },
          "paper_bgcolor": "white",
          "plot_bgcolor": "#E5ECF6",
          "polar": {
           "angularaxis": {
            "gridcolor": "white",
            "linecolor": "white",
            "ticks": ""
           },
           "bgcolor": "#E5ECF6",
           "radialaxis": {
            "gridcolor": "white",
            "linecolor": "white",
            "ticks": ""
           }
          },
          "scene": {
           "xaxis": {
            "backgroundcolor": "#E5ECF6",
            "gridcolor": "white",
            "gridwidth": 2,
            "linecolor": "white",
            "showbackground": true,
            "ticks": "",
            "zerolinecolor": "white"
           },
           "yaxis": {
            "backgroundcolor": "#E5ECF6",
            "gridcolor": "white",
            "gridwidth": 2,
            "linecolor": "white",
            "showbackground": true,
            "ticks": "",
            "zerolinecolor": "white"
           },
           "zaxis": {
            "backgroundcolor": "#E5ECF6",
            "gridcolor": "white",
            "gridwidth": 2,
            "linecolor": "white",
            "showbackground": true,
            "ticks": "",
            "zerolinecolor": "white"
           }
          },
          "shapedefaults": {
           "line": {
            "color": "#2a3f5f"
           }
          },
          "ternary": {
           "aaxis": {
            "gridcolor": "white",
            "linecolor": "white",
            "ticks": ""
           },
           "baxis": {
            "gridcolor": "white",
            "linecolor": "white",
            "ticks": ""
           },
           "bgcolor": "#E5ECF6",
           "caxis": {
            "gridcolor": "white",
            "linecolor": "white",
            "ticks": ""
           }
          },
          "title": {
           "x": 0.05
          },
          "xaxis": {
           "automargin": true,
           "gridcolor": "white",
           "linecolor": "white",
           "ticks": "",
           "title": {
            "standoff": 15
           },
           "zerolinecolor": "white",
           "zerolinewidth": 2
          },
          "yaxis": {
           "automargin": true,
           "gridcolor": "white",
           "linecolor": "white",
           "ticks": "",
           "title": {
            "standoff": 15
           },
           "zerolinecolor": "white",
           "zerolinewidth": 2
          }
         }
        },
        "title": {
         "text": "RDPM Clustering with Constraints"
        },
        "xaxis": {
         "anchor": "y",
         "domain": [
          0,
          1
         ],
         "title": {
          "text": "x"
         }
        },
        "yaxis": {
         "anchor": "x",
         "domain": [
          0,
          1
         ],
         "title": {
          "text": "y"
         }
        }
       }
      }
     },
     "metadata": {},
     "output_type": "display_data"
    }
   ],
   "source": [
    "rdpm_centroids = rdpm.centroids\n",
    "df = pd.DataFrame(X, columns=['x', 'y'])\n",
    "df['label'] = rdpm._labels\n",
    "fig = plot_dataframe(df, title='RDPM Clustering with Constraints', x='x', y='y', label='label')\n",
    "for i, centroid in enumerate(rdpm_centroids):\n",
    "    fig = plot_centroid(fig, centroid, colors=[COLORS[i % len(COLORS)]], marker_size=10, symbol='star', name=f'Centroid {i+1}')\n",
    "fig.show()"
   ]
  }
 ],
 "metadata": {
  "kernelspec": {
   "display_name": "clustlib-5JQ_NFw--py3.13",
   "language": "python",
   "name": "python3"
  },
  "language_info": {
   "codemirror_mode": {
    "name": "ipython",
    "version": 3
   },
   "file_extension": ".py",
   "mimetype": "text/x-python",
   "name": "python",
   "nbconvert_exporter": "python",
   "pygments_lexer": "ipython3",
   "version": "3.13.2"
  }
 },
 "nbformat": 4,
 "nbformat_minor": 5
}
